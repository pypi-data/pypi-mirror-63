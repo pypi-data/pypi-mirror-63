{
 "cells": [
  {
   "cell_type": "code",
   "execution_count": 14,
   "metadata": {},
   "outputs": [],
   "source": [
    "import ipycytoscape"
   ]
  },
  {
   "cell_type": "code",
   "execution_count": 15,
   "metadata": {},
   "outputs": [],
   "source": [
    "data = {\n",
    "    'nodes': [\n",
    "      { 'data': { 'id': 'desktop', 'name': 'Cytoscape', 'href': 'http://cytoscape.org' } },\n",
    "      { 'data': { 'id': 'a', 'name': 'Grid', 'href': 'http://cytoscape.org' } },\n",
    "      { 'data': { 'id': 'b', 'name': 'Cola', 'href': 'http://cytoscape.org' } },\n",
    "      { 'data': { 'id': 'c', 'name': 'Popper', 'href': 'http://cytoscape.org' } },\n",
    "      { 'data': { 'id': 'js', 'name': 'Cytoscape.js', 'href': 'http://js.cytoscape.org' } }\n",
    "    ],\n",
    "    'edges': [\n",
    "            {'data': { 'source': 'desktop', 'target': 'js' }},\n",
    "            {'data': { 'source': 'a', 'target': 'b' }},\n",
    "            {'data': { 'source': 'a', 'target': 'c' }},\n",
    "            {'data': { 'source': 'b', 'target': 'c' }},\n",
    "            {'data': { 'source': 'js', 'target': 'b' }}\n",
    "        ]\n",
    "  }\n"
   ]
  },
  {
   "cell_type": "code",
   "execution_count": 16,
   "metadata": {},
   "outputs": [],
   "source": [
    "cytoscapeobj = ipycytoscape.CytoscapeWidget(elements=data)"
   ]
  },
  {
   "cell_type": "code",
   "execution_count": 20,
   "metadata": {},
   "outputs": [],
   "source": [
    "cytoscapeobj.set_style([{\n",
    "                        'selector': 'node',\n",
    "                        'css': {\n",
    "                            'content': 'data(name)',\n",
    "                            'text-valign': 'center',\n",
    "                            'color': 'white',\n",
    "                            'text-outline-width': 2,\n",
    "                            'text-outline-color': 'green',\n",
    "                            'background-color': 'green'\n",
    "                        }\n",
    "                        },\n",
    "                        {\n",
    "                        'selector': ':selected',\n",
    "                        'css': {\n",
    "                            'background-color': 'black',\n",
    "                            'line-color': 'black',\n",
    "                            'target-arrow-color': 'black',\n",
    "                            'source-arrow-color': 'black',\n",
    "                            'text-outline-color': 'black'\n",
    "                        }}\n",
    "                        ])"
   ]
  },
  {
   "cell_type": "code",
   "execution_count": 23,
   "metadata": {},
   "outputs": [],
   "source": [
    "cytoscapeobj.set_layout(name=\"grid\")"
   ]
  },
  {
   "cell_type": "code",
   "execution_count": 22,
   "metadata": {},
   "outputs": [
    {
     "data": {
      "application/vnd.jupyter.widget-view+json": {
       "model_id": "14320af605394669b54475c077776484",
       "version_major": 2,
       "version_minor": 0
      },
      "text/plain": [
       "CytoscapeWidget(cytoscape_layout={'name': {'name': 'grid'}}, cytoscape_style=[{'selector': 'node', 'css': {'co…"
      ]
     },
     "metadata": {},
     "output_type": "display_data"
    }
   ],
   "source": [
    "cytoscapeobj"
   ]
  }
 ],
 "metadata": {
  "kernelspec": {
   "display_name": "Python 3",
   "language": "python",
   "name": "python3"
  },
  "language_info": {
   "codemirror_mode": {
    "name": "ipython",
    "version": 3
   },
   "file_extension": ".py",
   "mimetype": "text/x-python",
   "name": "python",
   "nbconvert_exporter": "python",
   "pygments_lexer": "ipython3",
   "version": "3.8.1"
  }
 },
 "nbformat": 4,
 "nbformat_minor": 4
}
