{
 "cells": [
  {
   "cell_type": "code",
   "execution_count": null,
   "metadata": {},
   "outputs": [],
   "source": [
    "!pip install cord-19-tools"
   ]
  },
  {
   "cell_type": "code",
   "execution_count": 1,
   "metadata": {},
   "outputs": [],
   "source": [
    "import cotools\n",
    "from pprint import pprint\n",
    "import os\n",
    "import sys"
   ]
  },
  {
   "cell_type": "markdown",
   "metadata": {},
   "source": [
    "First we have to download and extract the data. Currently the download function downloads the 4 sets of json data and puts them, extracted, into a directory:"
   ]
  },
  {
   "cell_type": "code",
   "execution_count": 2,
   "metadata": {},
   "outputs": [
    {
     "name": "stdout",
     "output_type": "stream",
     "text": [
      "['download.sh', 'noncomm_use_subset', 'biorxiv_medrxiv', 'pmc_custom_license', 'comm_use_subset']\n"
     ]
    }
   ],
   "source": [
    "downloaded = True # change me if you havent downloaded the data\n",
    "\n",
    "if not downloaded:\n",
    "    cotools.download(dir = 'data')\n",
    "    \n",
    "print(os.listdir('data'))"
   ]
  },
  {
   "cell_type": "markdown",
   "metadata": {},
   "source": [
    "Next, we can load the data! We will use the `Paperset` class. We initialize it by specifying the directory of JSON data:"
   ]
  },
  {
   "cell_type": "code",
   "execution_count": 3,
   "metadata": {},
   "outputs": [
    {
     "name": "stdout",
     "output_type": "stream",
     "text": [
      "64\n"
     ]
    }
   ],
   "source": [
    "comm_use = cotools.Paperset('data/comm_use_subset')\n",
    "print(sys.getsizeof(comm_use))"
   ]
  },
  {
   "cell_type": "markdown",
   "metadata": {},
   "source": [
    "We access the data through indexing. Indices can either be ints or slices. Integer indices return dicts:"
   ]
  },
  {
   "cell_type": "code",
   "execution_count": 4,
   "metadata": {},
   "outputs": [
    {
     "name": "stdout",
     "output_type": "stream",
     "text": [
      "376\n",
      "<class 'dict'>\n"
     ]
    }
   ],
   "source": [
    "# laziness\n",
    "print(sys.getsizeof(comm_use[0]))\n",
    "# returns dict\n",
    "print(type(comm_use[0]))\n",
    "# dict\n",
    "#pprint(comm_use[0])"
   ]
  },
  {
   "cell_type": "markdown",
   "metadata": {},
   "source": [
    "Slice indices return lists of dicts:"
   ]
  },
  {
   "cell_type": "code",
   "execution_count": 5,
   "metadata": {},
   "outputs": [
    {
     "name": "stdout",
     "output_type": "stream",
     "text": [
      "536\n",
      "<class 'list'>\n",
      "[<class 'dict'>, <class 'dict'>, <class 'dict'>, <class 'dict'>, <class 'dict'>, <class 'dict'>, <class 'dict'>, <class 'dict'>, <class 'dict'>, <class 'dict'>, <class 'dict'>, <class 'dict'>, <class 'dict'>, <class 'dict'>, <class 'dict'>, <class 'dict'>, <class 'dict'>, <class 'dict'>, <class 'dict'>, <class 'dict'>, <class 'dict'>, <class 'dict'>, <class 'dict'>, <class 'dict'>, <class 'dict'>, <class 'dict'>, <class 'dict'>, <class 'dict'>, <class 'dict'>, <class 'dict'>, <class 'dict'>, <class 'dict'>, <class 'dict'>, <class 'dict'>, <class 'dict'>, <class 'dict'>, <class 'dict'>, <class 'dict'>, <class 'dict'>, <class 'dict'>, <class 'dict'>, <class 'dict'>, <class 'dict'>, <class 'dict'>, <class 'dict'>, <class 'dict'>, <class 'dict'>, <class 'dict'>, <class 'dict'>, <class 'dict'>]\n"
     ]
    }
   ],
   "source": [
    "print(sys.getsizeof(comm_use[15:65]))\n",
    "print(type(comm_use[15:65]))\n",
    "print([type(x) for x in comm_use[15:65]])"
   ]
  },
  {
   "cell_type": "markdown",
   "metadata": {},
   "source": [
    "Please make PRs to make this more useful! To be added:\n",
    "\n",
    "* Metadata\n",
    "* Other datasets??"
   ]
  },
  {
   "cell_type": "markdown",
   "metadata": {},
   "source": [
    "Getting the hopkins data with the `get_hopkins` function"
   ]
  },
  {
   "cell_type": "code",
   "execution_count": 6,
   "metadata": {},
   "outputs": [],
   "source": [
    "confirmed, deaths, recoveries = cotools.get_hopkins()"
   ]
  },
  {
   "cell_type": "code",
   "execution_count": 21,
   "metadata": {},
   "outputs": [
    {
     "name": "stdout",
     "output_type": "stream",
     "text": [
      "dict_keys(['Province/State', 'Country/Region', 'Lat', 'Long', '1/22/20', '1/23/20', '1/24/20', '1/25/20', '1/26/20', '1/27/20', '1/28/20', '1/29/20', '1/30/20', '1/31/20', '2/1/20', '2/2/20', '2/3/20', '2/4/20', '2/5/20', '2/6/20', '2/7/20', '2/8/20', '2/9/20', '2/10/20', '2/11/20', '2/12/20', '2/13/20', '2/14/20', '2/15/20', '2/16/20', '2/17/20', '2/18/20', '2/19/20', '2/20/20', '2/21/20', '2/22/20', '2/23/20', '2/24/20', '2/25/20', '2/26/20', '2/27/20', '2/28/20', '2/29/20', '3/1/20', '3/2/20', '3/3/20', '3/4/20', '3/5/20', '3/6/20', '3/7/20', '3/8/20', '3/9/20', '3/10/20', '3/11/20', '3/12/20', '3/13/20', '3/14/20', '3/15/20', '3/16/20'])\n",
      "<class 'dict'>\n",
      "[458, 458, 458, 458, 458, 458, 458, 458, 458, 458, 458, 458, 458, 458, 458, 458, 458, 458, 458, 458, 458, 458, 458, 458, 458, 458, 458, 458, 458, 458, 458, 458, 458, 458, 458, 458, 458, 458, 458, 458, 458, 458, 458, 458, 458, 458, 458, 458, 458, 458, 458, 458, 458, 458, 458, 458, 458, 458, 458]\n"
     ]
    },
    {
     "data": {
      "text/plain": [
       "[str,\n",
       " str,\n",
       " float,\n",
       " float,\n",
       " float,\n",
       " float,\n",
       " float,\n",
       " float,\n",
       " float,\n",
       " float,\n",
       " float,\n",
       " float,\n",
       " float,\n",
       " float,\n",
       " float,\n",
       " float,\n",
       " float,\n",
       " float,\n",
       " float,\n",
       " float,\n",
       " float,\n",
       " float,\n",
       " float,\n",
       " float,\n",
       " float,\n",
       " float,\n",
       " float,\n",
       " float,\n",
       " float,\n",
       " float,\n",
       " float,\n",
       " float,\n",
       " float,\n",
       " float,\n",
       " float,\n",
       " float,\n",
       " float,\n",
       " float,\n",
       " float,\n",
       " float,\n",
       " float,\n",
       " float,\n",
       " float,\n",
       " float,\n",
       " float,\n",
       " float,\n",
       " float,\n",
       " float,\n",
       " float,\n",
       " float,\n",
       " float,\n",
       " float,\n",
       " float,\n",
       " float,\n",
       " float,\n",
       " float,\n",
       " float,\n",
       " float,\n",
       " float]"
      ]
     },
     "execution_count": 21,
     "metadata": {},
     "output_type": "execute_result"
    }
   ],
   "source": [
    "print(confirmed.keys())\n",
    "print(type(confirmed))\n",
    "print([len(x) for x in confirmed.values()])\n",
    "[type(x[0]) for x in confirmed.values()]"
   ]
  }
 ],
 "metadata": {
  "kernelspec": {
   "display_name": "Python 3",
   "language": "python",
   "name": "python3"
  },
  "language_info": {
   "codemirror_mode": {
    "name": "ipython",
    "version": 3
   },
   "file_extension": ".py",
   "mimetype": "text/x-python",
   "name": "python",
   "nbconvert_exporter": "python",
   "pygments_lexer": "ipython3",
   "version": "3.7.6"
  }
 },
 "nbformat": 4,
 "nbformat_minor": 4
}
