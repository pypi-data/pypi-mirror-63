{
 "cells": [
  {
   "cell_type": "markdown",
   "metadata": {},
   "source": [
    "# Regrid xarray Dataset with multiple variables"
   ]
  },
  {
   "cell_type": "code",
   "execution_count": 1,
   "metadata": {},
   "outputs": [],
   "source": [
    "%matplotlib inline\n",
    "import matplotlib.pyplot as plt\n",
    "import numpy as np\n",
    "import xarray as xr\n",
    "import xesmf as xe"
   ]
  },
  {
   "cell_type": "markdown",
   "metadata": {},
   "source": [
    "Starting v0.2.0, xESMF is able to take `xarray.Dataset` as input data, and automatically loop over all variables."
   ]
  },
  {
   "cell_type": "markdown",
   "metadata": {},
   "source": [
    "## A simple example"
   ]
  },
  {
   "cell_type": "markdown",
   "metadata": {},
   "source": [
    "### Prepare input data"
   ]
  },
  {
   "cell_type": "code",
   "execution_count": 2,
   "metadata": {},
   "outputs": [
    {
     "data": {
      "text/plain": [
       "<xarray.Dataset>\n",
       "Dimensions:  (lat: 25, lon: 53, time: 2920)\n",
       "Coordinates:\n",
       "  * lat      (lat) float32 75.0 72.5 70.0 67.5 65.0 ... 25.0 22.5 20.0 17.5 15.0\n",
       "  * lon      (lon) float32 200.0 202.5 205.0 207.5 ... 322.5 325.0 327.5 330.0\n",
       "  * time     (time) datetime64[ns] 2013-01-01 ... 2014-12-31T18:00:00\n",
       "Data variables:\n",
       "    air      (time, lat, lon) float32 ...\n",
       "Attributes:\n",
       "    Conventions:  COARDS\n",
       "    title:        4x daily NMC reanalysis (1948)\n",
       "    description:  Data is from NMC initialized reanalysis\\n(4x/day).  These a...\n",
       "    platform:     Model\n",
       "    references:   http://www.esrl.noaa.gov/psd/data/gridded/data.ncep.reanaly..."
      ]
     },
     "execution_count": 2,
     "metadata": {},
     "output_type": "execute_result"
    }
   ],
   "source": [
    "ds = xr.tutorial.open_dataset('air_temperature')\n",
    "ds  # air temperature in Kelvin"
   ]
  },
  {
   "cell_type": "code",
   "execution_count": 3,
   "metadata": {},
   "outputs": [
    {
     "data": {
      "text/plain": [
       "<xarray.Dataset>\n",
       "Dimensions:  (lat: 25, lon: 53, time: 2920)\n",
       "Coordinates:\n",
       "  * lat      (lat) float32 75.0 72.5 70.0 67.5 65.0 ... 25.0 22.5 20.0 17.5 15.0\n",
       "  * lon      (lon) float32 200.0 202.5 205.0 207.5 ... 322.5 325.0 327.5 330.0\n",
       "  * time     (time) datetime64[ns] 2013-01-01 ... 2014-12-31T18:00:00\n",
       "Data variables:\n",
       "    air      (time, lat, lon) float32 241.2 242.5 243.5 ... 296.49 296.19 295.69\n",
       "    celsius  (time, lat, lon) float32 -31.949997 -30.649994 ... 22.540009\n",
       "    slice    (lat, lon) float32 241.2 242.5 243.5 244.0 ... 296.9 296.79 296.6\n",
       "Attributes:\n",
       "    Conventions:  COARDS\n",
       "    title:        4x daily NMC reanalysis (1948)\n",
       "    description:  Data is from NMC initialized reanalysis\\n(4x/day).  These a...\n",
       "    platform:     Model\n",
       "    references:   http://www.esrl.noaa.gov/psd/data/gridded/data.ncep.reanaly..."
      ]
     },
     "execution_count": 3,
     "metadata": {},
     "output_type": "execute_result"
    }
   ],
   "source": [
    "# input dataset can contain variables of different shapes (e.g. 2D, 3D, 4D), as long as horizontal shapes are the same. \n",
    "ds['celsius'] = ds['air'] - 273.15  # Kelvin -> celsius\n",
    "ds['slice'] = ds['air'].isel(time=0)\n",
    "ds"
   ]
  },
  {
   "cell_type": "markdown",
   "metadata": {},
   "source": [
    "### Build regridder"
   ]
  },
  {
   "cell_type": "code",
   "execution_count": 4,
   "metadata": {},
   "outputs": [
    {
     "name": "stdout",
     "output_type": "stream",
     "text": [
      "Create weight file: bilinear_25x53_59x87.nc\n",
      "Remove file bilinear_25x53_59x87.nc\n"
     ]
    },
    {
     "data": {
      "text/plain": [
       "xESMF Regridder \n",
       "Regridding algorithm:       bilinear \n",
       "Weight filename:            bilinear_25x53_59x87.nc \n",
       "Reuse pre-computed weights? False \n",
       "Input grid shape:           (25, 53) \n",
       "Output grid shape:          (59, 87) \n",
       "Output grid dimension name: ('lat', 'lon') \n",
       "Periodic in longitude?      False"
      ]
     },
     "execution_count": 4,
     "metadata": {},
     "output_type": "execute_result"
    }
   ],
   "source": [
    "ds_out = xr.Dataset({'lat': (['lat'], np.arange(16, 75, 1.0)),\n",
    "                     'lon': (['lon'], np.arange(200, 330, 1.5)),\n",
    "                    }\n",
    "                   )\n",
    "\n",
    "regridder = xe.Regridder(ds, ds_out, 'bilinear')\n",
    "regridder.clean_weight_file()\n",
    "regridder"
   ]
  },
  {
   "cell_type": "markdown",
   "metadata": {},
   "source": [
    "### Apply to data"
   ]
  },
  {
   "cell_type": "code",
   "execution_count": 5,
   "metadata": {},
   "outputs": [
    {
     "name": "stdout",
     "output_type": "stream",
     "text": [
      "using dimensions ('lat', 'lon') from data variable air as the horizontal dimensions for this dataset.\n"
     ]
    },
    {
     "data": {
      "text/plain": [
       "<xarray.Dataset>\n",
       "Dimensions:  (lat: 59, lon: 87, time: 2920)\n",
       "Coordinates:\n",
       "  * time     (time) datetime64[ns] 2013-01-01 ... 2014-12-31T18:00:00\n",
       "  * lon      (lon) float64 200.0 201.5 203.0 204.5 ... 324.5 326.0 327.5 329.0\n",
       "  * lat      (lat) float64 16.0 17.0 18.0 19.0 20.0 ... 70.0 71.0 72.0 73.0 74.0\n",
       "Data variables:\n",
       "    air      (time, lat, lon) float64 296.1 296.4 296.6 ... 240.9 241.0 241.5\n",
       "    celsius  (time, lat, lon) float64 22.98 23.24 23.49 ... -32.24 -32.14 -31.7\n",
       "    slice    (lat, lon) float64 296.1 296.4 296.6 296.9 ... 233.8 235.4 237.5\n",
       "Attributes:\n",
       "    regrid_method:  bilinear"
      ]
     },
     "execution_count": 5,
     "metadata": {},
     "output_type": "execute_result"
    }
   ],
   "source": [
    "# the entire dataset can be processed at once\n",
    "ds_out = regridder(ds)\n",
    "ds_out"
   ]
  },
  {
   "cell_type": "code",
   "execution_count": 6,
   "metadata": {},
   "outputs": [
    {
     "name": "stdout",
     "output_type": "stream",
     "text": [
      "air True\n",
      "celsius True\n",
      "slice True\n"
     ]
    }
   ],
   "source": [
    "# verify that the result is the same as regridding each variable one-by-one\n",
    "for k in ds.data_vars:\n",
    "    print(k, ds_out[k].equals(regridder(ds[k])))"
   ]
  },
  {
   "cell_type": "markdown",
   "metadata": {},
   "source": [
    "## Invalid dimension orderings to avoid"
   ]
  },
  {
   "cell_type": "markdown",
   "metadata": {},
   "source": [
    "xESMF assumes the horizontal dimensions are the last/rightmost dimensions, which matches the convention of most NetCDF data."
   ]
  },
  {
   "cell_type": "code",
   "execution_count": 7,
   "metadata": {},
   "outputs": [
    {
     "data": {
      "text/plain": [
       "<xarray.Dataset>\n",
       "Dimensions:  (lat: 25, lon: 53, time: 2920)\n",
       "Coordinates:\n",
       "  * lat      (lat) float32 75.0 72.5 70.0 67.5 65.0 ... 25.0 22.5 20.0 17.5 15.0\n",
       "  * lon      (lon) float32 200.0 202.5 205.0 207.5 ... 322.5 325.0 327.5 330.0\n",
       "  * time     (time) datetime64[ns] 2013-01-01 ... 2014-12-31T18:00:00\n",
       "Data variables:\n",
       "    air      (lon, lat, time) float32 241.2 242.09999 ... 295.19 295.69\n",
       "    celsius  (time, lat, lon) float32 -31.949997 -30.649994 ... 22.540009\n",
       "    slice    (lat, lon) float32 241.2 242.5 243.5 244.0 ... 296.9 296.79 296.6\n",
       "Attributes:\n",
       "    Conventions:  COARDS\n",
       "    title:        4x daily NMC reanalysis (1948)\n",
       "    description:  Data is from NMC initialized reanalysis\\n(4x/day).  These a...\n",
       "    platform:     Model\n",
       "    references:   http://www.esrl.noaa.gov/psd/data/gridded/data.ncep.reanaly..."
      ]
     },
     "execution_count": 7,
     "metadata": {},
     "output_type": "execute_result"
    }
   ],
   "source": [
    "# xESMF doesn't like horizontal dimensions to be the first/leftmost dimensions\n",
    "ds_bad = ds.copy()\n",
    "ds_bad['air'] = ds_bad['air'].transpose()\n",
    "ds_bad"
   ]
  },
  {
   "cell_type": "code",
   "execution_count": 8,
   "metadata": {},
   "outputs": [],
   "source": [
    "# regridder(ds_bad)  # comment this line to see the error message"
   ]
  },
  {
   "cell_type": "code",
   "execution_count": 9,
   "metadata": {},
   "outputs": [
    {
     "name": "stdout",
     "output_type": "stream",
     "text": [
      "using dimensions ('lat', 'lon') from data variable celsius as the horizontal dimensions for this dataset.\n"
     ]
    },
    {
     "data": {
      "text/plain": [
       "<xarray.Dataset>\n",
       "Dimensions:  (lat: 59, lon: 87, time: 2920)\n",
       "Coordinates:\n",
       "  * time     (time) datetime64[ns] 2013-01-01 ... 2014-12-31T18:00:00\n",
       "  * lon      (lon) float64 200.0 201.5 203.0 204.5 ... 324.5 326.0 327.5 329.0\n",
       "  * lat      (lat) float64 16.0 17.0 18.0 19.0 20.0 ... 70.0 71.0 72.0 73.0 74.0\n",
       "Data variables:\n",
       "    celsius  (time, lat, lon) float64 22.98 23.24 23.49 ... -32.24 -32.14 -31.7\n",
       "    slice    (lat, lon) float64 296.1 296.4 296.6 296.9 ... 233.8 235.4 237.5\n",
       "Attributes:\n",
       "    regrid_method:  bilinear"
      ]
     },
     "execution_count": 9,
     "metadata": {},
     "output_type": "execute_result"
    }
   ],
   "source": [
    "# besides ordering dimensions properly, another simple fix is to drop bad variables\n",
    "regridder(ds_bad.drop('air'))  "
   ]
  }
 ],
 "metadata": {
  "kernelspec": {
   "display_name": "Python 3",
   "language": "python",
   "name": "python3"
  },
  "language_info": {
   "codemirror_mode": {
    "name": "ipython",
    "version": 3
   },
   "file_extension": ".py",
   "mimetype": "text/x-python",
   "name": "python",
   "nbconvert_exporter": "python",
   "pygments_lexer": "ipython3",
   "version": "3.7.3"
  }
 },
 "nbformat": 4,
 "nbformat_minor": 4
}
