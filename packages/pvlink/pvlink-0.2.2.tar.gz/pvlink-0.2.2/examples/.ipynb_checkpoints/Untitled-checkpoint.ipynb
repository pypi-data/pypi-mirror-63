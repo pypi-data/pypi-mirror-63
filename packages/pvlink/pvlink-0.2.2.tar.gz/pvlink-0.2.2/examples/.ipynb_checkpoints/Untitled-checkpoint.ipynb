{
 "cells": [
  {
   "cell_type": "code",
   "execution_count": 1,
   "metadata": {},
   "outputs": [],
   "source": [
    "import sys\n",
    "sys.path.append('/home/grosch/Devel/install/ParaView-5.8.0-MPI-Linux-Python3.7-64bit/lib/python3.7/site-packages/')"
   ]
  },
  {
   "cell_type": "code",
   "execution_count": 2,
   "metadata": {},
   "outputs": [],
   "source": [
    "from pvlink import RemoteRenderer"
   ]
  },
  {
   "cell_type": "code",
   "execution_count": 3,
   "metadata": {},
   "outputs": [
    {
     "name": "stderr",
     "output_type": "stream",
     "text": [
      "INFO:twisted:Creating SP\n",
      "INFO:twisted:Site starting on 8080\n",
      "INFO:twisted:Starting factory <twisted.web.server.Site object at 0x7fc6a1bb4dd8>\n",
      "DEBUG:twisted:Client has reconnected, cancelling reaper\n",
      "DEBUG:twisted:on_connect: connection count = 1\n",
      "WARNING:twisted:dropping connection to peer tcp4:127.0.0.1:42442 with abort=False: None\n",
      "INFO:twisted:client closed, clean: False, code: 1006, reason: connection was closed uncleanly (None)\n",
      "DEBUG:twisted:connection_lost: connection count = 0\n",
      "DEBUG:twisted:Starting timer, process will terminate in: 300sec\n"
     ]
    }
   ],
   "source": [
    "proxied_renderer = RemoteRenderer(baseURL='localhost:8888', port=8080, use_jupyter_server_proxy=True, debug=True)"
   ]
  },
  {
   "cell_type": "code",
   "execution_count": 4,
   "metadata": {},
   "outputs": [
    {
     "data": {
      "text/plain": [
       "'ws://localhost/proxy/8080/ws'"
      ]
     },
     "execution_count": 4,
     "metadata": {},
     "output_type": "execute_result"
    }
   ],
   "source": [
    "proxied_renderer.sessionURL"
   ]
  },
  {
   "cell_type": "code",
   "execution_count": 5,
   "metadata": {},
   "outputs": [
    {
     "data": {
      "application/vnd.jupyter.widget-view+json": {
       "model_id": "4df5693aae8d4164a447acb90cb42557",
       "version_major": 2,
       "version_minor": 0
      },
      "text/plain": [
       "RemoteRenderer(authKey='5f2741b52e7bbf9082418c3b51c9f2b6d37a780bd591521b', sessionURL='ws://localhost/proxy/80…"
      ]
     },
     "metadata": {},
     "output_type": "display_data"
    }
   ],
   "source": [
    "proxied_renderer"
   ]
  },
  {
   "cell_type": "code",
   "execution_count": 6,
   "metadata": {},
   "outputs": [
    {
     "name": "stderr",
     "output_type": "stream",
     "text": [
      "DEBUG:twisted:Client has reconnected, cancelling reaper\n",
      "DEBUG:twisted:on_connect: connection count = 1\n",
      "WARNING:twisted:dropping connection to peer tcp4:127.0.0.1:42448 with abort=False: None\n",
      "INFO:twisted:client closed, clean: False, code: 1006, reason: connection was closed uncleanly (None)\n",
      "DEBUG:twisted:connection_lost: connection count = 0\n",
      "DEBUG:twisted:Starting timer, process will terminate in: 300sec\n",
      "INFO:twisted:\"127.0.0.1\" - - [09/Mar/2020:13:19:56 +0000] \"GET / HTTP/1.1\" 404 153 \"-\" \"Mozilla/5.0 (X11; Ubuntu; Linux x86_64; rv:73.0) Gecko/20100101 Firefox/73.0\"\n",
      "DEBUG:twisted:Client has reconnected, cancelling reaper\n",
      "DEBUG:twisted:on_connect: connection count = 1\n",
      "WARNING:twisted:dropping connection to peer tcp4:127.0.0.1:42452 with abort=False: None\n",
      "INFO:twisted:client closed, clean: False, code: 1006, reason: connection was closed uncleanly (None)\n",
      "DEBUG:twisted:connection_lost: connection count = 0\n",
      "DEBUG:twisted:Starting timer, process will terminate in: 300sec\n"
     ]
    }
   ],
   "source": [
    "from paraview import simple\n",
    "from pvlink.utility import SetRecommendedRenderSettings\n",
    "\n",
    "# Create a view and...\n",
    "view = simple.CreateView('RenderView', 'example')\n",
    "# ...disable interactor-based render calls and\n",
    "# ensure pvserver-side rendering (if applicable)\n",
    "SetRecommendedRenderSettings(view)\n",
    "# Create and show a source\n",
    "source = simple.Cone()\n",
    "simple.Show(source, view)\n",
    "# Update the renderer widget to display the changes\n",
    "proxied_renderer.update_render()"
   ]
  },
  {
   "cell_type": "code",
   "execution_count": null,
   "metadata": {},
   "outputs": [],
   "source": []
  }
 ],
 "metadata": {
  "kernelspec": {
   "display_name": "Python 3",
   "language": "python",
   "name": "python3"
  },
  "language_info": {
   "codemirror_mode": {
    "name": "ipython",
    "version": 3
   },
   "file_extension": ".py",
   "mimetype": "text/x-python",
   "name": "python",
   "nbconvert_exporter": "python",
   "pygments_lexer": "ipython3",
   "version": "3.6.6"
  }
 },
 "nbformat": 4,
 "nbformat_minor": 2
}
