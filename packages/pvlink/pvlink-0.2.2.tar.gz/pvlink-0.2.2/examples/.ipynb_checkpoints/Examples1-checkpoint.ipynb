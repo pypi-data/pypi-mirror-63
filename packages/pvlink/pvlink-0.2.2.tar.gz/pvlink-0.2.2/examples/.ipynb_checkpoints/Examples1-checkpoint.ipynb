{
 "cells": [
  {
   "cell_type": "markdown",
   "metadata": {},
   "source": [
    "## Content\n",
    "- [SimpleRenderer](#SimpleRenderer)\n",
    "- [Sizing](#Sizing)\n",
    "- [RemoteRenderer](#RemoteRenderer)\n",
    "    - [Default Usage](#Usage)\n",
    "    - [Fixed views](#Fixed-views)\n",
    "    - [Using Jupyter Server Proxy](#Using-Jupyter-Server-Proxy)\n",
    "    - [Using a custom protocol](#Using-a-custom-protocol)\n",
    "    - [Usage with a pvserver and choosen port](#Usage-with-a-pvserver-and-choosen-port)"
   ]
  },
  {
   "cell_type": "markdown",
   "metadata": {},
   "source": [
    "# SimpleRenderer"
   ]
  },
  {
   "cell_type": "markdown",
   "metadata": {},
   "source": [
    "Does nothing more than show the ParaViewWeb server application in the Output Area."
   ]
  },
  {
   "cell_type": "markdown",
   "metadata": {},
   "source": [
    "Start a ParaViewWeb server application over the command line (see the [ParaView example](https://kitware.github.io/paraviewweb/examples/RemoteRenderer.html#Using-ParaView-as-server))\n",
    "```bash\n",
    "pvpython pv_server.py --port 1234 --authKey wslink-secret \n",
    "```"
   ]
  },
  {
   "cell_type": "code",
   "execution_count": 1,
   "metadata": {},
   "outputs": [
    {
     "data": {
      "application/vnd.jupyter.widget-view+json": {
       "model_id": "54ae0582dd2548478a1daab5c442c20f",
       "version_major": 2,
       "version_minor": 0
      },
      "text/plain": [
       "SimpleRenderer(sessionURL='ws://localhost:1234/ws')"
      ]
     },
     "metadata": {},
     "output_type": "display_data"
    }
   ],
   "source": [
    "from pvlink import SimpleRenderer\n",
    "\n",
    "simple = SimpleRenderer(sessionURL='ws://localhost:1234/ws', authKey='wslink-secret')\n",
    "display(simple)"
   ]
  },
  {
   "cell_type": "markdown",
   "metadata": {},
   "source": [
    "# Sizing\n",
    "Widgets scales with container size."
   ]
  },
  {
   "cell_type": "code",
   "execution_count": null,
   "metadata": {},
   "outputs": [],
   "source": [
    "from ipywidgets import Box\n",
    "\n",
    "Box(children=[simple], layout={'height':'500px'})"
   ]
  },
  {
   "cell_type": "markdown",
   "metadata": {},
   "source": [
    "# RemoteRenderer\n",
    "\n",
    "This renderer requires the `paraview.simple` and `paraview.web` modules.\n",
    "\n",
    "Upon initialization, the RemoteRenderer starts a webserver for you. If nothing is specified, the webserver will try to start on port 8080 or the next free port thereafter and create a random authentication key. You can pass your own arguments to the webserver. To display help on the possible arguments, you can call `<yourRenderer>.webserver_arguments_help()`.\n",
    "\n",
    "If `pvserver_host` and `pvserver_port` (default 11111) are specified, the webserver will try to establish a connection to the ParaView server (pvserver) at the given host and port. The pvserver can then take over the heavy lifting and handle very large geometries. Locally, only the image data of the processed data is recieved. To prevent data from being rendered locally, we recommend using the `SetRecommendedRenderSettings` function from `pvlink.utilities` on your displayed view."
   ]
  },
  {
   "cell_type": "markdown",
   "metadata": {},
   "source": [
    "## Usage \n",
    "### Default"
   ]
  },
  {
   "cell_type": "code",
   "execution_count": 1,
   "metadata": {},
   "outputs": [],
   "source": [
    "import sys\n",
    "sys.path.append('/home/grosch/Devel/install/ParaView-5.8.0-MPI-Linux-Python3.7-64bit/lib/python3.7/site-packages/')"
   ]
  },
  {
   "cell_type": "code",
   "execution_count": 2,
   "metadata": {},
   "outputs": [],
   "source": [
    "from pvlink import RemoteRenderer\n"
   ]
  },
  {
   "cell_type": "code",
   "execution_count": 2,
   "metadata": {},
   "outputs": [
    {
     "data": {
      "application/vnd.jupyter.widget-view+json": {
       "model_id": "9a7e170aba6f449c85801cd0a6392c71",
       "version_major": 2,
       "version_minor": 0
      },
      "text/plain": [
       "RemoteRenderer(authKey='cc7e2bb14bb03a4f29e51801f6f76f68fc5b471660bd90e8', sessionURL='ws://localhost:8080/ws'…"
      ]
     },
     "metadata": {},
     "output_type": "display_data"
    }
   ],
   "source": [
    "from pvlink import RemoteRenderer\n",
    "\n",
    "active_renderer = RemoteRenderer(port=8080)\n",
    "# Alternatively, if you want to render your data with a ParaView server:\n",
    "# Start a pvserver over the command line and run the following line\n",
    "# renderer = RemoteRenderer(pvserver_host='localhost', pvserver_port=11111, p=8082)\n",
    "display(active_renderer)"
   ]
  },
  {
   "cell_type": "markdown",
   "metadata": {},
   "source": [
    "At this point, there is no view or sources, so the output will be a blank canvas."
   ]
  },
  {
   "cell_type": "code",
   "execution_count": 3,
   "metadata": {},
   "outputs": [
    {
     "data": {
      "text/plain": [
       "<paraview.servermanager.GeometryRepresentation at 0x7ff67d3f1630>"
      ]
     },
     "execution_count": 3,
     "metadata": {},
     "output_type": "execute_result"
    }
   ],
   "source": [
    "from paraview import simple\n",
    "from pvlink.utility import SetRecommendedRenderSettings\n",
    "\n",
    "# Create a view and...\n",
    "view1 = simple.CreateView('RenderView', 'view1')\n",
    "# ...disable interactor-based render calls and\n",
    "# ensure pvserver-side rendering (if applicable)\n",
    "SetRecommendedRenderSettings(view1)\n",
    "# Create and show a source\n",
    "source = simple.Cone()\n",
    "simple.Show(source, view1)\n",
    "# Update the renderer widget to display the changes\n",
    "# active_renderer.update_render()"
   ]
  },
  {
   "cell_type": "markdown",
   "metadata": {},
   "source": [
    "### Fixed views\n",
    "\n",
    "By default, the active view (`viewID = '-1'`) will be shown in the render widget. To set the output of the widget to a fixed view, we can specify the viewID as string."
   ]
  },
  {
   "cell_type": "code",
   "execution_count": 4,
   "metadata": {},
   "outputs": [
    {
     "name": "stdout",
     "output_type": "stream",
     "text": [
      "319\n"
     ]
    }
   ],
   "source": [
    "view1_ID = view1.GetGlobalIDAsString()\n",
    "print(view1_ID)"
   ]
  },
  {
   "cell_type": "code",
   "execution_count": 5,
   "metadata": {},
   "outputs": [
    {
     "data": {
      "application/vnd.jupyter.widget-view+json": {
       "model_id": "d831cb0072fa4dc08b5a29e62ff5f75e",
       "version_major": 2,
       "version_minor": 0
      },
      "text/plain": [
       "RemoteRenderer(authKey='1d73c548b8ae796ad303a8e306f47e2b8d651b556a3d320e', sessionURL='ws://localhost:8083/ws'…"
      ]
     },
     "metadata": {},
     "output_type": "display_data"
    }
   ],
   "source": [
    "view1_renderer = RemoteRenderer(port=8083, viewID=view1_ID)\n",
    "display(view1_renderer)"
   ]
  },
  {
   "cell_type": "markdown",
   "metadata": {},
   "source": [
    "If we now create a second view, the view will only change in `active_renderer`."
   ]
  },
  {
   "cell_type": "code",
   "execution_count": 6,
   "metadata": {
    "scrolled": true
   },
   "outputs": [
    {
     "data": {
      "application/vnd.jupyter.widget-view+json": {
       "model_id": "9a7e170aba6f449c85801cd0a6392c71",
       "version_major": 2,
       "version_minor": 0
      },
      "text/plain": [
       "RemoteRenderer(authKey='cc7e2bb14bb03a4f29e51801f6f76f68fc5b471660bd90e8', sessionURL='ws://localhost:8080/ws'…"
      ]
     },
     "metadata": {},
     "output_type": "display_data"
    }
   ],
   "source": [
    "view2 = simple.CreateView('RenderView', 'view2')\n",
    "view2.Background = [0,0,0]\n",
    "SetRecommendedRenderSettings(view2)\n",
    "active_renderer.update_render()\n",
    "display(active_renderer)"
   ]
  },
  {
   "cell_type": "markdown",
   "metadata": {},
   "source": [
    "### Using Jupyter Server Proxy\n",
    "\n",
    "If you want to access your webserver using Jupyter Server Proxy, you need to set `use_jupyter_server_proxy` to True and specify the baseURL.\n",
    "\n",
    "**Example:** If your notebook url is `http://localhost:8888` and you would access a process using `http://localhost:88888/proxy/8080`, the baseURL would be the part before \"proxy\", `localhost:8888`.\n",
    "\n",
    "If your notebook is running on HTTPS, set `use_jupyter_server_proxy_https` to True to use the HTTPS certificates of the notebook server to keep the connection between the client browser and the jupyter Server Proxy encrypted."
   ]
  },
  {
   "cell_type": "code",
   "execution_count": 4,
   "metadata": {
    "scrolled": true
   },
   "outputs": [
    {
     "name": "stdout",
     "output_type": "stream",
     "text": [
      "########################################\n",
      "########################################\n",
      "True\n",
      "None\n",
      "########################################\n",
      "########################################\n"
     ]
    }
   ],
   "source": [
    "proxied_renderer = RemoteRenderer(baseURL='localhost:8888', disableExternalPort=True, use_jupyter_server_proxy=True, \n",
    "                                  port=8088)"
   ]
  },
  {
   "cell_type": "code",
   "execution_count": 5,
   "metadata": {},
   "outputs": [
    {
     "data": {
      "text/plain": [
       "'319'"
      ]
     },
     "execution_count": 5,
     "metadata": {},
     "output_type": "execute_result"
    }
   ],
   "source": [
    "view1.GetGlobalIDAsString()"
   ]
  },
  {
   "cell_type": "code",
   "execution_count": 6,
   "metadata": {},
   "outputs": [
    {
     "data": {
      "application/vnd.jupyter.widget-view+json": {
       "model_id": "6c60d5a298f24a9fb2b71f8ef20ebfe5",
       "version_major": 2,
       "version_minor": 0
      },
      "text/plain": [
       "RemoteRenderer(authKey='8a3d67b849aace1020f71fb41a6712f39288ca2ca8a2fdb0', sessionURL='ws://localhost:8888/pro…"
      ]
     },
     "metadata": {},
     "output_type": "display_data"
    }
   ],
   "source": [
    "proxied_renderer.viewID = view1.GetGlobalIDAsString()\n",
    "display(proxied_renderer)"
   ]
  },
  {
   "cell_type": "code",
   "execution_count": null,
   "metadata": {},
   "outputs": [],
   "source": []
  },
  {
   "cell_type": "markdown",
   "metadata": {},
   "source": [
    "You can display help for the possible webserver arugments."
   ]
  },
  {
   "cell_type": "code",
   "execution_count": 13,
   "metadata": {},
   "outputs": [
    {
     "name": "stdout",
     "output_type": "stream",
     "text": [
      "ParaView Web Server\n",
      "\n",
      "optional arguments:\n",
      "  -h, --help            show this help message and exit\n",
      "  -d, --debug           log debugging messages to stdout\n",
      "  -s, --nosignalhandlers\n",
      "                        Prevent Twisted to install the signal handlers so it\n",
      "                        can be started inside a thread.\n",
      "  -i HOST, --host HOST  the interface for the web-server to listen on\n",
      "                        (default: localhost)\n",
      "  -p PORT, --port PORT  port number for the web-server to listen on (default:\n",
      "                        8080)\n",
      "  -t TIMEOUT, --timeout TIMEOUT\n",
      "                        timeout for reaping process on idle in seconds\n",
      "                        (default: 300s)\n",
      "  -c CONTENT, --content CONTENT\n",
      "                        root for web-pages to serve (default: none)\n",
      "  -a AUTHKEY, --authKey AUTHKEY\n",
      "                        Authentication key for clients to connect to the\n",
      "                        WebSocket.\n",
      "  -f, --force-flush     If provided, this option will force additional padding\n",
      "                        content to the output. Useful when application is\n",
      "                        triggered by a session manager.\n",
      "  -k SSLKEY, --sslKey SSLKEY\n",
      "                        SSL key. Use this and --sslCert to start the server on\n",
      "                        https.\n",
      "  -j SSLCERT, --sslCert SSLCERT\n",
      "                        SSL certificate. Use this and --sslKey to start the\n",
      "                        server on https.\n",
      "  -ws WS, --ws-endpoint WS\n",
      "                        Specify WebSocket endpoint. (e.g. foo/bar/ws, Default:\n",
      "                        ws)\n",
      "  --no-ws-endpoint      If provided, disables the websocket endpoint\n",
      "  --fs-endpoints FSENDPOINTS\n",
      "                        add another fs location to a specific endpoint (i.e:\n",
      "                        data=/Users/seb/Download|images=/Users/seb/Pictures)\n",
      "  --upload-directory UPLOADPATH\n",
      "                        path to root upload directory\n",
      "\n"
     ]
    }
   ],
   "source": [
    "print(RemoteRenderer.webserver_arguments_help())"
   ]
  },
  {
   "cell_type": "markdown",
   "metadata": {},
   "source": [
    "## Using a custom protocol\n",
    "You can define your own pipeline which should be run when the webserver starts up.\n",
    "\n",
    "First, define a class which inherits from `pv_wslink.PVServerProtocol` and add your pipeline there. Per default, the RemoteRenderer shows the active view.\n",
    "\n",
    "To ensure that the view you created in the pipeline is the one shown in the rendering widget and does not get replaced by a new active view, we need to make it available to the outside and later on bind the viewID to the rendering widget. "
   ]
  },
  {
   "cell_type": "code",
   "execution_count": 12,
   "metadata": {},
   "outputs": [],
   "source": [
    "from paraview import simple\n",
    "from paraview.web import pv_wslink\n",
    "from paraview.web import protocols as pv_protocols\n",
    "\n",
    "from pvlink.utility import SetRecommendedRenderSettings\n",
    "\n",
    "\n",
    "class DemoServer(pv_wslink.PVServerProtocol):\n",
    "    authKey = 'wslink-secret'\n",
    "\n",
    "    def initialize(self):\n",
    "        # Bring used components\n",
    "        self.registerVtkWebProtocol(pv_protocols.ParaViewWebMouseHandler())\n",
    "        self.registerVtkWebProtocol(pv_protocols.ParaViewWebViewPort())\n",
    "        self.registerVtkWebProtocol(pv_protocols.ParaViewWebViewPortImageDelivery())\n",
    "        # Update authentication key to use\n",
    "        self.updateSecret(DemoServer.authKey)\n",
    "\n",
    "        # Your pipeline\n",
    "        demo_view = simple.CreateView('RenderView', 'SphereView')\n",
    "        SetRecommendedRenderSettings(demo_view)\n",
    "        demo_viewID = demo_view.GetGlobalIDAsString()\n",
    "        # Make the viewID available so we can bind our widget to the correct view\n",
    "        self.setSharedObject('viewID', demo_viewID)\n",
    "        sphere = simple.Sphere()\n",
    "        simple.Show(sphere, demo_view)"
   ]
  },
  {
   "cell_type": "code",
   "execution_count": 13,
   "metadata": {},
   "outputs": [
    {
     "data": {
      "application/vnd.jupyter.widget-view+json": {
       "model_id": "46a026f103a443a3b276ab187b6cf973",
       "version_major": 2,
       "version_minor": 0
      },
      "text/plain": [
       "RemoteRenderer(authKey='mysecretkey', sessionURL='ws://localhost:8082/ws', viewID='566')"
      ]
     },
     "metadata": {},
     "output_type": "display_data"
    }
   ],
   "source": [
    "custom_renderer = RemoteRenderer(protocol=DemoServer, a='mysecretkey')\n",
    "# Bind the viewID to the widget to avoid it showing a different view\n",
    "# when a different view is set to the active view\n",
    "custom_renderer.viewID = custom_renderer.protocol.getSharedObject('viewID')\n",
    "display(custom_renderer)"
   ]
  },
  {
   "cell_type": "code",
   "execution_count": 16,
   "metadata": {
    "scrolled": false
   },
   "outputs": [
    {
     "data": {
      "text/plain": [
       "[sconn(fd=290, family=<AddressFamily.AF_INET: 2>, type=<SocketKind.SOCK_STREAM: 1>, laddr=addr(ip='134.94.171.62', port=37866), raddr=addr(ip='172.217.23.106', port=443), status='CLOSE_WAIT', pid=13436),\n",
       " sconn(fd=11, family=<AddressFamily.AF_INET: 2>, type=<SocketKind.SOCK_STREAM: 1>, laddr=addr(ip='134.94.171.62', port=37850), raddr=addr(ip='134.94.171.71', port=139), status='ESTABLISHED', pid=12634),\n",
       " sconn(fd=24, family=<AddressFamily.AF_INET: 2>, type=<SocketKind.SOCK_STREAM: 1>, laddr=addr(ip='127.0.0.1', port=51921), raddr=(), status='LISTEN', pid=18652),\n",
       " sconn(fd=79, family=<AddressFamily.AF_INET: 2>, type=<SocketKind.SOCK_STREAM: 1>, laddr=addr(ip='127.0.0.1', port=58340), raddr=addr(ip='127.0.0.1', port=41721), status='ESTABLISHED', pid=18594),\n",
       " sconn(fd=10, family=<AddressFamily.AF_INET: 2>, type=<SocketKind.SOCK_STREAM: 1>, laddr=addr(ip='134.94.171.62', port=33572), raddr=addr(ip='134.94.171.71', port=139), status='ESTABLISHED', pid=12634),\n",
       " sconn(fd=-1, family=<AddressFamily.AF_INET: 2>, type=<SocketKind.SOCK_STREAM: 1>, laddr=addr(ip='134.94.171.62', port=49346), raddr=addr(ip='132.252.183.1', port=443), status='LAST_ACK', pid=None),\n",
       " sconn(fd=-1, family=<AddressFamily.AF_INET: 2>, type=<SocketKind.SOCK_STREAM: 1>, laddr=addr(ip='134.94.171.62', port=49348), raddr=addr(ip='132.252.183.1', port=443), status='LAST_ACK', pid=None),\n",
       " sconn(fd=268, family=<AddressFamily.AF_INET: 2>, type=<SocketKind.SOCK_STREAM: 1>, laddr=addr(ip='134.94.171.62', port=40692), raddr=addr(ip='185.199.109.154', port=443), status='CLOSE_WAIT', pid=13436),\n",
       " sconn(fd=-1, family=<AddressFamily.AF_INET: 2>, type=<SocketKind.SOCK_DGRAM: 2>, laddr=addr(ip='127.0.0.53', port=53), raddr=(), status='NONE', pid=None),\n",
       " sconn(fd=90, family=<AddressFamily.AF_INET: 2>, type=<SocketKind.SOCK_STREAM: 1>, laddr=addr(ip='0.0.0.0', port=8080), raddr=(), status='LISTEN', pid=18652),\n",
       " sconn(fd=30, family=<AddressFamily.AF_INET: 2>, type=<SocketKind.SOCK_STREAM: 1>, laddr=addr(ip='127.0.0.1', port=37131), raddr=(), status='LISTEN', pid=18652),\n",
       " sconn(fd=60, family=<AddressFamily.AF_INET: 2>, type=<SocketKind.SOCK_STREAM: 1>, laddr=addr(ip='0.0.0.0', port=8082), raddr=(), status='LISTEN', pid=18652),\n",
       " sconn(fd=366, family=<AddressFamily.AF_INET: 2>, type=<SocketKind.SOCK_STREAM: 1>, laddr=addr(ip='127.0.0.1', port=54048), raddr=addr(ip='127.0.0.1', port=8083), status='ESTABLISHED', pid=13436),\n",
       " sconn(fd=311, family=<AddressFamily.AF_INET: 2>, type=<SocketKind.SOCK_STREAM: 1>, laddr=addr(ip='134.94.171.62', port=53254), raddr=addr(ip='134.94.199.183', port=443), status='ESTABLISHED', pid=13436),\n",
       " sconn(fd=-1, family=<AddressFamily.AF_INET: 2>, type=<SocketKind.SOCK_STREAM: 1>, laddr=addr(ip='127.0.0.1', port=631), raddr=(), status='LISTEN', pid=None),\n",
       " sconn(fd=18, family=<AddressFamily.AF_INET: 2>, type=<SocketKind.SOCK_STREAM: 1>, laddr=addr(ip='127.0.0.1', port=52299), raddr=(), status='LISTEN', pid=18652),\n",
       " sconn(fd=142, family=<AddressFamily.AF_INET: 2>, type=<SocketKind.SOCK_STREAM: 1>, laddr=addr(ip='127.0.0.1', port=52430), raddr=addr(ip='127.0.0.1', port=8888), status='ESTABLISHED', pid=13436),\n",
       " sconn(fd=414, family=<AddressFamily.AF_INET: 2>, type=<SocketKind.SOCK_STREAM: 1>, laddr=addr(ip='127.0.0.1', port=52416), raddr=addr(ip='127.0.0.1', port=8888), status='ESTABLISHED', pid=13436),\n",
       " sconn(fd=-1, family=<AddressFamily.AF_INET6: 10>, type=<SocketKind.SOCK_DGRAM: 2>, laddr=addr(ip='::', port=5353), raddr=(), status='NONE', pid=None),\n",
       " sconn(fd=73, family=<AddressFamily.AF_INET: 2>, type=<SocketKind.SOCK_STREAM: 1>, laddr=addr(ip='134.94.171.62', port=34376), raddr=addr(ip='134.94.4.47', port=993), status='ESTABLISHED', pid=12250),\n",
       " sconn(fd=87, family=<AddressFamily.AF_INET: 2>, type=<SocketKind.SOCK_STREAM: 1>, laddr=addr(ip='127.0.0.1', port=39412), raddr=addr(ip='127.0.0.1', port=51921), status='ESTABLISHED', pid=18594),\n",
       " sconn(fd=15, family=<AddressFamily.AF_INET: 2>, type=<SocketKind.SOCK_STREAM: 1>, laddr=addr(ip='127.0.0.1', port=54655), raddr=(), status='LISTEN', pid=18652),\n",
       " sconn(fd=54, family=<AddressFamily.AF_INET: 2>, type=<SocketKind.SOCK_STREAM: 1>, laddr=addr(ip='127.0.0.1', port=52299), raddr=addr(ip='127.0.0.1', port=40602), status='ESTABLISHED', pid=18652),\n",
       " sconn(fd=65, family=<AddressFamily.AF_INET: 2>, type=<SocketKind.SOCK_STREAM: 1>, laddr=addr(ip='127.0.0.1', port=8888), raddr=addr(ip='127.0.0.1', port=52430), status='ESTABLISHED', pid=18594),\n",
       " sconn(fd=43, family=<AddressFamily.AF_INET: 2>, type=<SocketKind.SOCK_STREAM: 1>, laddr=addr(ip='127.0.0.1', port=59487), raddr=(), status='LISTEN', pid=18652),\n",
       " sconn(fd=-1, family=<AddressFamily.AF_INET: 2>, type=<SocketKind.SOCK_STREAM: 1>, laddr=addr(ip='127.0.0.1', port=52420), raddr=addr(ip='127.0.0.1', port=8888), status='TIME_WAIT', pid=None),\n",
       " sconn(fd=21, family=<AddressFamily.AF_INET: 2>, type=<SocketKind.SOCK_STREAM: 1>, laddr=addr(ip='127.0.0.1', port=8888), raddr=addr(ip='127.0.0.1', port=52416), status='ESTABLISHED', pid=18594),\n",
       " sconn(fd=-1, family=<AddressFamily.AF_INET: 2>, type=<SocketKind.SOCK_DGRAM: 2>, laddr=addr(ip='0.0.0.0', port=631), raddr=(), status='NONE', pid=None),\n",
       " sconn(fd=50, family=<AddressFamily.AF_INET: 2>, type=<SocketKind.SOCK_STREAM: 1>, laddr=addr(ip='127.0.0.1', port=54655), raddr=addr(ip='127.0.0.1', port=48370), status='ESTABLISHED', pid=18652),\n",
       " sconn(fd=-1, family=<AddressFamily.AF_INET: 2>, type=<SocketKind.SOCK_STREAM: 1>, laddr=addr(ip='127.0.0.1', port=52422), raddr=addr(ip='127.0.0.1', port=8888), status='TIME_WAIT', pid=None),\n",
       " sconn(fd=104, family=<AddressFamily.AF_INET: 2>, type=<SocketKind.SOCK_STREAM: 1>, laddr=addr(ip='134.94.171.62', port=53250), raddr=addr(ip='134.94.199.183', port=443), status='ESTABLISHED', pid=13436),\n",
       " sconn(fd=-1, family=<AddressFamily.AF_INET: 2>, type=<SocketKind.SOCK_STREAM: 1>, laddr=addr(ip='127.0.0.1', port=52418), raddr=addr(ip='127.0.0.1', port=8888), status='TIME_WAIT', pid=None),\n",
       " sconn(fd=-1, family=<AddressFamily.AF_INET: 2>, type=<SocketKind.SOCK_DGRAM: 2>, laddr=addr(ip='0.0.0.0', port=5353), raddr=(), status='NONE', pid=None),\n",
       " sconn(fd=386, family=<AddressFamily.AF_INET: 2>, type=<SocketKind.SOCK_STREAM: 1>, laddr=addr(ip='127.0.0.1', port=42012), raddr=addr(ip='127.0.0.1', port=8082), status='ESTABLISHED', pid=13436),\n",
       " sconn(fd=-1, family=<AddressFamily.AF_INET: 2>, type=<SocketKind.SOCK_STREAM: 1>, laddr=addr(ip='127.0.0.1', port=52414), raddr=addr(ip='127.0.0.1', port=8888), status='TIME_WAIT', pid=None),\n",
       " sconn(fd=-1, family=<AddressFamily.AF_INET6: 10>, type=<SocketKind.SOCK_DGRAM: 2>, laddr=addr(ip='::', port=40319), raddr=(), status='NONE', pid=None),\n",
       " sconn(fd=58, family=<AddressFamily.AF_INET: 2>, type=<SocketKind.SOCK_STREAM: 1>, laddr=addr(ip='134.94.171.62', port=49660), raddr=addr(ip='34.210.150.241', port=443), status='ESTABLISHED', pid=13436),\n",
       " sconn(fd=8, family=<AddressFamily.AF_INET: 2>, type=<SocketKind.SOCK_STREAM: 1>, laddr=addr(ip='127.0.0.1', port=8888), raddr=(), status='LISTEN', pid=18594),\n",
       " sconn(fd=61, family=<AddressFamily.AF_INET: 2>, type=<SocketKind.SOCK_STREAM: 1>, laddr=addr(ip='127.0.0.1', port=8082), raddr=addr(ip='127.0.0.1', port=42008), status='ESTABLISHED', pid=18652),\n",
       " sconn(fd=49, family=<AddressFamily.AF_INET: 2>, type=<SocketKind.SOCK_STREAM: 1>, laddr=addr(ip='127.0.0.1', port=41721), raddr=addr(ip='127.0.0.1', port=58340), status='ESTABLISHED', pid=18652),\n",
       " sconn(fd=-1, family=<AddressFamily.AF_INET: 2>, type=<SocketKind.SOCK_STREAM: 1>, laddr=addr(ip='127.0.0.1', port=52424), raddr=addr(ip='127.0.0.1', port=8888), status='TIME_WAIT', pid=None),\n",
       " sconn(fd=-1, family=<AddressFamily.AF_INET: 2>, type=<SocketKind.SOCK_DGRAM: 2>, laddr=addr(ip='0.0.0.0', port=68), raddr=(), status='NONE', pid=None),\n",
       " sconn(fd=86, family=<AddressFamily.AF_INET: 2>, type=<SocketKind.SOCK_STREAM: 1>, laddr=addr(ip='127.0.0.1', port=40602), raddr=addr(ip='127.0.0.1', port=52299), status='ESTABLISHED', pid=18594),\n",
       " sconn(fd=314, family=<AddressFamily.AF_INET: 2>, type=<SocketKind.SOCK_STREAM: 1>, laddr=addr(ip='134.94.171.62', port=53256), raddr=addr(ip='134.94.199.183', port=443), status='ESTABLISHED', pid=13436),\n",
       " sconn(fd=80, family=<AddressFamily.AF_INET: 2>, type=<SocketKind.SOCK_STREAM: 1>, laddr=addr(ip='127.0.0.1', port=48370), raddr=addr(ip='127.0.0.1', port=54655), status='ESTABLISHED', pid=18594),\n",
       " sconn(fd=83, family=<AddressFamily.AF_INET: 2>, type=<SocketKind.SOCK_STREAM: 1>, laddr=addr(ip='127.0.0.1', port=8083), raddr=addr(ip='127.0.0.1', port=54048), status='ESTABLISHED', pid=18652),\n",
       " sconn(fd=105, family=<AddressFamily.AF_INET: 2>, type=<SocketKind.SOCK_STREAM: 1>, laddr=addr(ip='134.94.171.62', port=36606), raddr=addr(ip='134.94.130.57', port=443), status='ESTABLISHED', pid=13436),\n",
       " sconn(fd=87, family=<AddressFamily.AF_INET: 2>, type=<SocketKind.SOCK_STREAM: 1>, laddr=addr(ip='127.0.0.1', port=8082), raddr=addr(ip='127.0.0.1', port=42012), status='ESTABLISHED', pid=18652),\n",
       " sconn(fd=53, family=<AddressFamily.AF_INET: 2>, type=<SocketKind.SOCK_STREAM: 1>, laddr=addr(ip='127.0.0.1', port=51921), raddr=addr(ip='127.0.0.1', port=39408), status='ESTABLISHED', pid=18652),\n",
       " sconn(fd=341, family=<AddressFamily.AF_INET: 2>, type=<SocketKind.SOCK_STREAM: 1>, laddr=addr(ip='127.0.0.1', port=42008), raddr=addr(ip='127.0.0.1', port=8082), status='ESTABLISHED', pid=13436),\n",
       " sconn(fd=210, family=<AddressFamily.AF_INET: 2>, type=<SocketKind.SOCK_STREAM: 1>, laddr=addr(ip='134.94.171.62', port=53252), raddr=addr(ip='134.94.199.183', port=443), status='ESTABLISHED', pid=13436),\n",
       " sconn(fd=83, family=<AddressFamily.AF_INET: 2>, type=<SocketKind.SOCK_STREAM: 1>, laddr=addr(ip='127.0.0.1', port=39408), raddr=addr(ip='127.0.0.1', port=51921), status='ESTABLISHED', pid=18594),\n",
       " sconn(fd=250, family=<AddressFamily.AF_INET: 2>, type=<SocketKind.SOCK_STREAM: 1>, laddr=addr(ip='134.94.171.62', port=40684), raddr=addr(ip='185.199.109.154', port=443), status='CLOSE_WAIT', pid=13436),\n",
       " sconn(fd=86, family=<AddressFamily.AF_INET: 2>, type=<SocketKind.SOCK_STREAM: 1>, laddr=addr(ip='0.0.0.0', port=8083), raddr=(), status='LISTEN', pid=18652),\n",
       " sconn(fd=-1, family=<AddressFamily.AF_INET: 2>, type=<SocketKind.SOCK_STREAM: 1>, laddr=addr(ip='134.94.171.62', port=49354), raddr=addr(ip='132.252.183.1', port=443), status='LAST_ACK', pid=None),\n",
       " sconn(fd=-1, family=<AddressFamily.AF_INET: 2>, type=<SocketKind.SOCK_DGRAM: 2>, laddr=addr(ip='0.0.0.0', port=33242), raddr=(), status='NONE', pid=None),\n",
       " sconn(fd=21, family=<AddressFamily.AF_INET: 2>, type=<SocketKind.SOCK_STREAM: 1>, laddr=addr(ip='127.0.0.1', port=41721), raddr=(), status='LISTEN', pid=18652),\n",
       " sconn(fd=55, family=<AddressFamily.AF_INET: 2>, type=<SocketKind.SOCK_STREAM: 1>, laddr=addr(ip='127.0.0.1', port=51921), raddr=addr(ip='127.0.0.1', port=39412), status='ESTABLISHED', pid=18652),\n",
       " sconn(fd=-1, family=<AddressFamily.AF_INET: 2>, type=<SocketKind.SOCK_STREAM: 1>, laddr=addr(ip='134.94.171.62', port=49352), raddr=addr(ip='132.252.183.1', port=443), status='LAST_ACK', pid=None),\n",
       " sconn(fd=319, family=<AddressFamily.AF_INET: 2>, type=<SocketKind.SOCK_STREAM: 1>, laddr=addr(ip='134.94.171.62', port=53258), raddr=addr(ip='134.94.199.183', port=443), status='ESTABLISHED', pid=13436),\n",
       " sconn(fd=-1, family=<AddressFamily.AF_INET: 2>, type=<SocketKind.SOCK_STREAM: 1>, laddr=addr(ip='127.0.0.53', port=53), raddr=(), status='LISTEN', pid=None),\n",
       " sconn(fd=-1, family=<AddressFamily.AF_INET: 2>, type=<SocketKind.SOCK_STREAM: 1>, laddr=addr(ip='127.0.0.1', port=52482), raddr=addr(ip='127.0.0.1', port=8888), status='TIME_WAIT', pid=None)]"
      ]
     },
     "execution_count": 16,
     "metadata": {},
     "output_type": "execute_result"
    }
   ],
   "source": [
    "import psutil \n",
    "psutil.net_connections()"
   ]
  },
  {
   "cell_type": "markdown",
   "metadata": {},
   "source": [
    "Since we did not bind a view to `renderer`, the sphere should now also be visible in the `renderer` [output](#Default) after an update call."
   ]
  },
  {
   "cell_type": "code",
   "execution_count": null,
   "metadata": {},
   "outputs": [],
   "source": [
    "active_renderer.update_render()"
   ]
  },
  {
   "cell_type": "markdown",
   "metadata": {},
   "source": [
    "## Usage with a pvserver and chosen port\n",
    "This shows how to connect to a pvserver on startup and open a specific port. Additionaly debug outpout is enabled, in case an error is searched. The pvserver adress and port can be specified. This only works with the default protocol, as the connection is established there. So in case of a custom protocol, the connection to the pvserver has to be started by the user (or in the custom protocol)."
   ]
  },
  {
   "cell_type": "code",
   "execution_count": null,
   "metadata": {},
   "outputs": [],
   "source": [
    "renderer = RemoteRenderer(pvserver_host=\"localhost\", pvserver_port = 11111, baseURL=\"localhost\", ws=\"pvwebserver/ws\",\n",
    "                          debug=True, port = 1234)"
   ]
  }
 ],
 "metadata": {
  "kernelspec": {
   "display_name": "Python 3",
   "language": "python",
   "name": "python3"
  },
  "language_info": {
   "codemirror_mode": {
    "name": "ipython",
    "version": 3
   },
   "file_extension": ".py",
   "mimetype": "text/x-python",
   "name": "python",
   "nbconvert_exporter": "python",
   "pygments_lexer": "ipython3",
   "version": "3.6.6"
  }
 },
 "nbformat": 4,
 "nbformat_minor": 4
}
