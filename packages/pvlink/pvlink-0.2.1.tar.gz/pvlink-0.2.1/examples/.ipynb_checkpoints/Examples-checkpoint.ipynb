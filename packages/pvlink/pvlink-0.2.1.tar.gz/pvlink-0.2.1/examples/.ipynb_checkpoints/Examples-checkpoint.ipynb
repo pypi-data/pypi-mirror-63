{
 "cells": [
  {
   "cell_type": "markdown",
   "metadata": {},
   "source": [
    "# SimpleRenderer"
   ]
  },
  {
   "cell_type": "markdown",
   "metadata": {},
   "source": [
    "Does nothing more than show the ParaViewWeb server application in the Output Area."
   ]
  },
  {
   "cell_type": "markdown",
   "metadata": {},
   "source": [
    "## Usage"
   ]
  },
  {
   "cell_type": "markdown",
   "metadata": {},
   "source": [
    "Start a ParaViewWeb server application over the command line (see the [ParaView example](https://kitware.github.io/paraviewweb/examples/RemoteRenderer.html#Using-ParaView-as-server))\n",
    "```bash\n",
    "pvpython pv_server.py --port 1234 --authKey wslink-secret \n",
    "```"
   ]
  },
  {
   "cell_type": "code",
   "execution_count": 1,
   "metadata": {},
   "outputs": [
    {
     "data": {
      "application/vnd.jupyter.widget-view+json": {
       "model_id": "1b7145fe486c4a3b8f99fe3f59fe840b",
       "version_major": 2,
       "version_minor": 0
      },
      "text/plain": [
       "SimpleRenderer(sessionURL='ws://localhost:1234/ws')"
      ]
     },
     "metadata": {},
     "output_type": "display_data"
    }
   ],
   "source": [
    "from pvlink import SimpleRenderer\n",
    "\n",
    "simple = SimpleRenderer(sessionURL='ws://localhost:1234/ws', authKey='wslink-secret')\n",
    "display(simple)"
   ]
  },
  {
   "cell_type": "markdown",
   "metadata": {},
   "source": [
    "## Sizing\n",
    "Widgets scales with container size."
   ]
  },
  {
   "cell_type": "code",
   "execution_count": 2,
   "metadata": {},
   "outputs": [
    {
     "data": {
      "application/vnd.jupyter.widget-view+json": {
       "model_id": "16ccf845baec4bc49832d3c39c639a7e",
       "version_major": 2,
       "version_minor": 0
      },
      "text/plain": [
       "Box(children=(SimpleRenderer(sessionURL='ws://localhost:1234/ws'),), layout=Layout(height='500px'))"
      ]
     },
     "metadata": {},
     "output_type": "display_data"
    }
   ],
   "source": [
    "from ipywidgets import Box\n",
    "\n",
    "Box(children=[simple], layout={'height':'500px'})"
   ]
  },
  {
   "cell_type": "markdown",
   "metadata": {},
   "source": [
    "# RemoteRenderer\n",
    "\n",
    "This renderer requires the `paraview.simple` and `paraview.web` modules.\n",
    "\n",
    "Upon initialization, the RemoteRenderer starts a webserver for you. If nothing is specified, the webserver will try to start on port 8080 or the next free port thereafter and create a random authentication key. You can pass your own arguments to the webserver. To display help on the possible arguments, you can call `<yourRenderer>.webserver_arguments_help()`.\n",
    "\n",
    "If `pvserver_host` and `pvserver_port` (default 11111) are specified, the webserver will try to establish a connection to the ParaView server (pvserver) at the given host and port. The pvserver can then take over the heavy lifting and handle very large geometries. Locally, only the image data of the processed data is recieved. To prevent data from being rendered locally, we recommend using the `SetRecommendedRenderSettings` function from `pvlink.utilities` on your displayed view."
   ]
  },
  {
   "cell_type": "markdown",
   "metadata": {},
   "source": [
    "## Usage \n",
    "### Default"
   ]
  },
  {
   "cell_type": "code",
   "execution_count": 3,
   "metadata": {},
   "outputs": [
    {
     "data": {
      "application/vnd.jupyter.widget-view+json": {
       "model_id": "a7598ebbced145e5886f9e997b6e0c2d",
       "version_major": 2,
       "version_minor": 0
      },
      "text/plain": [
       "RemoteRenderer(authKey='1412e786544799a40e7231cd3e06d7bc22ecb0d6d16b978c', sessionURL='ws://localhost:8082/ws'…"
      ]
     },
     "metadata": {},
     "output_type": "display_data"
    }
   ],
   "source": [
    "import sys\n",
    "sys.path.append('/home/grosch/Devel/install/ParaView-5.8.0-MPI-Linux-Python3.7-64bit/lib/python3.7/site-packages')\n",
    "\n",
    "from pvlink import RemoteRenderer\n",
    "\n",
    "renderer = RemoteRenderer(port=8082)\n",
    "# Alternatively, if you want to render your data with a ParaView server:\n",
    "# Start a pvserver over the command line and run the following line\n",
    "# renderer = RemoteRenderer(pvserver_host='localhost', pvserver_port=11111, p=8082)\n",
    "display(renderer)"
   ]
  },
  {
   "cell_type": "markdown",
   "metadata": {},
   "source": [
    "At this point, there is no view or sources, so the output will be a blank canvas."
   ]
  },
  {
   "cell_type": "code",
   "execution_count": 4,
   "metadata": {},
   "outputs": [],
   "source": [
    "from paraview import simple\n",
    "from pvlink.utility import SetRecommendedRenderSettings\n",
    "\n",
    "# Create a view and...\n",
    "view = simple.CreateView('RenderView', 'example')\n",
    "# ...disable interactor-based render calls and\n",
    "# ensure pvserver-side rendering (if applicable)\n",
    "SetRecommendedRenderSettings(view)\n",
    "# Create and show a source\n",
    "source = simple.Cone()\n",
    "simple.Show(source, view)\n",
    "# Update the renderer widget to display the changes\n",
    "renderer.update_render()"
   ]
  },
  {
   "cell_type": "markdown",
   "metadata": {},
   "source": [
    "### Using Jupyter Server Proxy\n",
    "\n",
    "If you want to access your webserver using Jupyter Server Proxy, you need to set `use_jupyter_server_proxy` to True and specify the baseURL. \n",
    "\n",
    "Example: If your notebook url is `http://localhost:8888` and you would access a process using `http://localhost:88888/proxy/8080`, the baseURL would be the part before 'proxy, `localhost:8888`."
   ]
  },
  {
   "cell_type": "code",
   "execution_count": 5,
   "metadata": {
    "scrolled": true
   },
   "outputs": [],
   "source": [
    "proxied_renderer = RemoteRenderer(baseURL='localhost:8888', use_jupyter_server_proxy=True, \n",
    "                                  port=8080, ws='pvwebserver/ws')"
   ]
  },
  {
   "cell_type": "markdown",
   "metadata": {},
   "source": [
    "If no `viewID` is specified, the widget will always show the active view. To bind it to a view, we need the GlobalID of the view and pass it to the renderer."
   ]
  },
  {
   "cell_type": "code",
   "execution_count": 6,
   "metadata": {},
   "outputs": [
    {
     "data": {
      "application/vnd.jupyter.widget-view+json": {
       "model_id": "14e4c3f7ba9f4a29b4d15475f3c9165c",
       "version_major": 2,
       "version_minor": 0
      },
      "text/plain": [
       "RemoteRenderer(authKey='2d94f211be34b2c58ea069de4182f23f5d3986b9732ebed0', sessionURL='ws://localhost:8888/pro…"
      ]
     },
     "metadata": {},
     "output_type": "display_data"
    }
   ],
   "source": [
    "proxied_renderer.viewID = view.GetGlobalIDAsString()\n",
    "display(proxied_renderer)"
   ]
  },
  {
   "cell_type": "markdown",
   "metadata": {},
   "source": [
    "You can display help for the possible webserver arugments."
   ]
  },
  {
   "cell_type": "code",
   "execution_count": 7,
   "metadata": {},
   "outputs": [
    {
     "name": "stdout",
     "output_type": "stream",
     "text": [
      "ParaView Web Server\n",
      "\n",
      "optional arguments:\n",
      "  -h, --help            show this help message and exit\n",
      "  -d, --debug           log debugging messages to stdout\n",
      "  -s, --nosignalhandlers\n",
      "                        Prevent Twisted to install the signal handlers so it\n",
      "                        can be started inside a thread.\n",
      "  -i HOST, --host HOST  the interface for the web-server to listen on\n",
      "                        (default: localhost)\n",
      "  -p PORT, --port PORT  port number for the web-server to listen on (default:\n",
      "                        8080)\n",
      "  -t TIMEOUT, --timeout TIMEOUT\n",
      "                        timeout for reaping process on idle in seconds\n",
      "                        (default: 300s)\n",
      "  -c CONTENT, --content CONTENT\n",
      "                        root for web-pages to serve (default: none)\n",
      "  -a AUTHKEY, --authKey AUTHKEY\n",
      "                        Authentication key for clients to connect to the\n",
      "                        WebSocket.\n",
      "  -f, --force-flush     If provided, this option will force additional padding\n",
      "                        content to the output. Useful when application is\n",
      "                        triggered by a session manager.\n",
      "  -k SSLKEY, --sslKey SSLKEY\n",
      "                        SSL key. Use this and --sslCert to start the server on\n",
      "                        https.\n",
      "  -j SSLCERT, --sslCert SSLCERT\n",
      "                        SSL certificate. Use this and --sslKey to start the\n",
      "                        server on https.\n",
      "  -ws WS, --ws-endpoint WS\n",
      "                        Specify WebSocket endpoint. (e.g. foo/bar/ws, Default:\n",
      "                        ws)\n",
      "  --no-ws-endpoint      If provided, disables the websocket endpoint\n",
      "  --fs-endpoints FSENDPOINTS\n",
      "                        add another fs location to a specific endpoint (i.e:\n",
      "                        data=/Users/seb/Download|images=/Users/seb/Pictures)\n",
      "  --upload-directory UPLOADPATH\n",
      "                        path to root upload directory\n",
      "\n"
     ]
    }
   ],
   "source": [
    "proxied_renderer.webserver_arguments_help()"
   ]
  },
  {
   "cell_type": "markdown",
   "metadata": {},
   "source": [
    "## Using a custom protocol\n",
    "You can define your own pipeline which should be run when the webserver starts up.\n",
    "\n",
    "First, define a class which inherits from `pv_wslink.PVServerProtocol` and add your pipeline there. Per default, the RemoteRenderer shows the active view.\n",
    "\n",
    "To ensure that the view you created in the pipeline is the one shown in the rendering widget and does not get replaced by a new active view, we need to make it available to the outside and later on bind the viewID to the rendering widget. "
   ]
  },
  {
   "cell_type": "code",
   "execution_count": 8,
   "metadata": {},
   "outputs": [],
   "source": [
    "from paraview import simple\n",
    "from paraview.web import pv_wslink\n",
    "from paraview.web import protocols as pv_protocols\n",
    "\n",
    "from pvlink.utility import SetRecommendedRenderSettings\n",
    "\n",
    "\n",
    "class DemoServer(pv_wslink.PVServerProtocol):\n",
    "    authKey = 'wslink-secret'\n",
    "\n",
    "    def initialize(self):\n",
    "        # Bring used components\n",
    "        self.registerVtkWebProtocol(pv_protocols.ParaViewWebMouseHandler())\n",
    "        self.registerVtkWebProtocol(pv_protocols.ParaViewWebViewPort())\n",
    "        self.registerVtkWebProtocol(pv_protocols.ParaViewWebViewPortImageDelivery())\n",
    "        # Update authentication key to use\n",
    "        self.updateSecret(DemoServer.authKey)\n",
    "\n",
    "        # Your pipeline\n",
    "        demo_view = simple.CreateView('RenderView', 'SphereView')\n",
    "        SetRecommendedRenderSettings(demo_view)\n",
    "        demo_viewID = demo_view.GetGlobalIDAsString()\n",
    "        # Make the viewID available so we can bind our widget to the correct view\n",
    "        self.setSharedObject('viewID', demo_viewID)\n",
    "        sphere = simple.Sphere()\n",
    "        simple.Show(sphere, demo_view)"
   ]
  },
  {
   "cell_type": "code",
   "execution_count": 9,
   "metadata": {},
   "outputs": [
    {
     "data": {
      "application/vnd.jupyter.widget-view+json": {
       "model_id": "a631c61900784286872fcf391bedc7c6",
       "version_major": 2,
       "version_minor": 0
      },
      "text/plain": [
       "RemoteRenderer(authKey='mysecretkey', sessionURL='ws://localhost:8081/ws', viewID='555')"
      ]
     },
     "metadata": {},
     "output_type": "display_data"
    }
   ],
   "source": [
    "custom_renderer = RemoteRenderer(protocol=DemoServer, a='mysecretkey')\n",
    "# Bind the viewID to the widget to avoid it showing a different view\n",
    "# when a different view is set to the active view\n",
    "custom_renderer.viewID = custom_renderer.protocol.getSharedObject('viewID')\n",
    "display(custom_renderer)"
   ]
  },
  {
   "cell_type": "markdown",
   "metadata": {},
   "source": [
    "Since we did not bind a view to `renderer`, the sphere should now also be visible in the `renderer` [output](#Default) after an update call."
   ]
  },
  {
   "cell_type": "code",
   "execution_count": 10,
   "metadata": {},
   "outputs": [],
   "source": [
    "renderer.update_render()"
   ]
  }
 ],
 "metadata": {
  "kernelspec": {
   "display_name": "Python 3",
   "language": "python",
   "name": "python3"
  },
  "language_info": {
   "codemirror_mode": {
    "name": "ipython",
    "version": 3
   },
   "file_extension": ".py",
   "mimetype": "text/x-python",
   "name": "python",
   "nbconvert_exporter": "python",
   "pygments_lexer": "ipython3",
   "version": "3.6.6"
  }
 },
 "nbformat": 4,
 "nbformat_minor": 4
}
