{
 "cells": [
  {
   "cell_type": "markdown",
   "metadata": {},
   "source": [
    "# Content\n",
    "1. [SimpleRenderer](#SimpleRenderer)\n",
    "2. [Sizing](#Sizing)\n",
    "3. [RemoteRenderer](#RemoteRenderer)\n",
    "    1. [Default Behaviour](#Default-Behaviour)\n",
    "    2. [Reset Camera](#Reset-Camera)\n",
    "    3. [Fixed views](#Fixed-views)\n",
    "    4. [Using Jupyter Server Proxy](#Using-Jupyter-Server-Proxy)\n",
    "    5. [Using a custom protocol](#Using-a-custom-protocol)\n",
    "    6. [Using the webserver with a pvserver](#Using-the-webserver-with-a-pvserver)"

   ]
  },
  {
   "cell_type": "markdown",
   "metadata": {},
   "source": [
    "# SimpleRenderer"
   ]
  },
  {
   "cell_type": "markdown",
   "metadata": {},
   "source": [
    "Does nothing more than show the ParaViewWeb server application in the Output Area."
   ]
  },
  {
   "cell_type": "markdown",
   "metadata": {},
   "source": [
    "Start a ParaViewWeb server application over the command line (see the [official ParaViewWeb example](https://kitware.github.io/paraviewweb/examples/RemoteRenderer.html#Using-ParaView-as-server))\n",
    "```bash\n",
    "pvpython pv_server.py --port 1234 --authKey wslink-secret \n",
    "```"
   ]
  },
  {
   "cell_type": "code",
   "execution_count": null,
   "metadata": {},
   "outputs": [],
   "source": [
    "from pvlink import SimpleRenderer\n",
    "\n",
    "simple = SimpleRenderer(sessionURL='ws://localhost:1234/ws', authKey='wslink-secret')\n",
    "display(simple)"
   ]
  },
  {
   "cell_type": "markdown",
   "metadata": {},
   "source": [
    "# Sizing\n",
    "Widgets scale with container size."
   ]
  },
  {
   "cell_type": "code",
   "execution_count": null,
   "metadata": {},
   "outputs": [],
   "source": [
    "from ipywidgets import Box\n",
    "\n",
    "Box(children=[simple], layout={'height':'800px'})"
   ]
  },
  {
   "cell_type": "markdown",
   "metadata": {},
   "source": [
    "# RemoteRenderer\n",
    "\n",
    "This renderer requires the `paraview.simple` and `paraview.web` modules.\n",
    "\n",
    "## Default Behaviour\n",
    "\n",
    "Upon initialization, the RemoteRenderer starts a webserver for you. If nothing is specified, the webserver will try to start on port 8080 or the next free port thereafter and create a random authentication key. You can pass your own arguments to the webserver. To display help on the possible arguments, you can call `RemoteRenderer.webserver_arguments_help()`.\n",
    "\n",
    "Arguments that do not take a value need to be set to True.  \n",
    "\n",
    "**Example:** `debug=True` corresponds to `--debug`"
   ]
  },
  {
   "cell_type": "code",
   "execution_count": 1,
   "metadata": {},
   "outputs": [
    {
     "name": "stdout",
     "output_type": "stream",
     "text": [
      "ParaView Web Server\n",
      "\n",
      "optional arguments:\n",
      "  -h, --help            show this help message and exit\n",
      "  -d, --debug           log debugging messages to stdout\n",
      "  -s, --nosignalhandlers\n",
      "                        Prevent Twisted to install the signal handlers so it\n",
      "                        can be started inside a thread.\n",
      "  -i HOST, --host HOST  the interface for the web-server to listen on\n",
      "                        (default: localhost)\n",
      "  -p PORT, --port PORT  port number for the web-server to listen on (default:\n",
      "                        8080)\n",
      "  -t TIMEOUT, --timeout TIMEOUT\n",
      "                        timeout for reaping process on idle in seconds\n",
      "                        (default: 300s)\n",
      "  -c CONTENT, --content CONTENT\n",
      "                        root for web-pages to serve (default: none)\n",
      "  -a AUTHKEY, --authKey AUTHKEY\n",
      "                        Authentication key for clients to connect to the\n",
      "                        WebSocket.\n",
      "  -f, --force-flush     If provided, this option will force additional padding\n",
      "                        content to the output. Useful when application is\n",
      "                        triggered by a session manager.\n",
      "  -k SSLKEY, --sslKey SSLKEY\n",
      "                        SSL key. Use this and --sslCert to start the server on\n",
      "                        https.\n",
      "  -j SSLCERT, --sslCert SSLCERT\n",
      "                        SSL certificate. Use this and --sslKey to start the\n",
      "                        server on https.\n",
      "  -ws WS, --ws-endpoint WS\n",
      "                        Specify WebSocket endpoint. (e.g. foo/bar/ws, Default:\n",
      "                        ws)\n",
      "  --no-ws-endpoint      If provided, disables the websocket endpoint\n",
      "  --fs-endpoints FSENDPOINTS\n",
      "                        add another fs location to a specific endpoint (i.e:\n",
      "                        data=/Users/seb/Download|images=/Users/seb/Pictures)\n",
      "  --upload-directory UPLOADPATH\n",
      "                        path to root upload directory\n",
      "\n"
     ]
    }
   ],
   "source": [
    "from pvlink import RemoteRenderer\n",
    "\n",
    "print(RemoteRenderer.webserver_arguments_help())"
   ]
  },
  {
   "cell_type": "code",
   "execution_count": null,
   "metadata": {},
   "outputs": [],
   "source": [
    "from pvlink import RemoteRenderer\n",
    "\n",
    "active_renderer = RemoteRenderer(port=8080)\n",
    "display(active_renderer)"
   ]
  },
  {
   "cell_type": "markdown",
   "metadata": {},
   "source": [
    "At this point, there is no view or sources, so the output will be a blank canvas."
   ]
  },
  {
   "cell_type": "code",
   "execution_count": null,
   "metadata": {},
   "outputs": [],
   "source": [
    "from paraview import simple\n",
    "from pvlink.utility import SetRecommendedRenderSettings\n",
    "\n",
    "# Create a view and...\n",
    "view1 = simple.CreateView('RenderView', 'view1')\n",
    "# ...disable interactor-based render calls and\n",
    "# ensure pvserver-side rendering (if applicable)\n",
    "SetRecommendedRenderSettings(view1)\n",
    "# Create and show a source\n",
    "source = simple.Cone()\n",
    "simple.Show(source, view1)\n",
    "# Update the renderer widget to display the changes\n",
    "active_renderer.update_render()"
   ]
  },
  {
   "cell_type": "markdown",
   "metadata": {},
   "source": [
    "## Reset Camera\n",
    "\n",
    "Function to reset the camera and set the center point to be in the middle of the visible view. Chaning the focal point to the middle of the new view is important, otherwise rotating the view will be done around the old center point."
   ]
  },
  {
   "cell_type": "code",
   "execution_count": null,
   "metadata": {},
   "outputs": [],
   "source": [
    "from pvlink.utility import ResetCamera\n",
    "ResetCamera(view1, active_renderer)"
   ]
  },
  {
   "cell_type": "markdown",
   "metadata": {},
   "source": [
    "## Fixed views\n",
    "\n",
    "By default, the active view (`viewID = \"-1\"`) will be shown in the render widget. To set the output of the widget to a fixed view, we can specify the viewID as string."
   ]
  },
  {
   "cell_type": "code",
   "execution_count": null,
   "metadata": {},
   "outputs": [],
   "source": [
    "view1_ID = view1.GetGlobalIDAsString()\n",
    "print(view1_ID)"
   ]
  },
  {
   "cell_type": "code",
   "execution_count": null,
   "metadata": {},
   "outputs": [],
   "source": [
    "view1_renderer = RemoteRenderer(port=8083, viewID=view1_ID)\n",
    "display(view1_renderer)"
   ]
  },
  {
   "cell_type": "markdown",
   "metadata": {},
   "source": [
    "If we now create a second view, the view will only change in `active_renderer`."
   ]
  },
  {
   "cell_type": "code",
   "execution_count": null,
   "metadata": {
    "scrolled": true
   },
   "outputs": [],
   "source": [
    "view2 = simple.CreateView('RenderView', 'view2')\n",
    "view2.Background = [0,0,0]\n",
    "SetRecommendedRenderSettings(view2)\n",
    "active_renderer.update_render()\n",
    "display(active_renderer)"
   ]
  },
  {
   "cell_type": "markdown",
   "metadata": {},
   "source": [
    "## Using Jupyter Server Proxy\n",
    "\n",
    "If you want to access your webserver using Jupyter Server Proxy, you need to set `useJupyterServerProxy` to True and specify the baseURL.\n",
    "\n",
    "**Example:** If your notebook url is `http://localhost:8888` and you would access a process using `http://localhost:88888/proxy/8080`, the baseURL would be the part before \"proxy\", `localhost:8888`.\n",
    "\n",
    "If your notebook is running on HTTPS, set `useJupyterServerProxyHttps` to True to use the HTTPS certificates of the notebook server to keep the connection between the client browser and the Jupyter Server Proxy encrypted.\n",
    "\n",
    "In both cases, `disableExternalPort` needs to be set to disable port checking during the WebSocket opening handshake. Otherwise, the connection will fail with a port mismatch error since the notebook and the webserver do not run on the same port."
   ]
  },
  {
   "cell_type": "code",
   "execution_count": null,
   "metadata": {
    "scrolled": true
   },
   "outputs": [],
   "source": [
    "proxied_renderer = RemoteRenderer(baseURL='localhost:8888', \n",
    "                                  disableExternalPort=True,\n",
    "                                  useJupyterServerProxy=True, # or useJupyterServerProxyHttps\n",
    "                                  port=8088)"
   ]
  },
  {
   "cell_type": "code",
   "execution_count": null,
   "metadata": {},
   "outputs": [],
   "source": [
    "view1.GetGlobalIDAsString()"
   ]
  },
  {
   "cell_type": "code",
   "execution_count": null,
   "metadata": {},
   "outputs": [],
   "source": [
    "proxied_renderer.viewID = view1.GetGlobalIDAsString()\n",
    "display(proxied_renderer)"
   ]
  },
  {
   "cell_type": "markdown",
   "metadata": {},
   "source": [
    "## Using a custom protocol\n",
    "You can define your own pipeline which should be run when the webserver starts up.\n",
    "\n",
    "First, define a class which inherits from `pv_wslink.PVServerProtocol` and add your pipeline there. Per default, the RemoteRenderer shows the active view.\n",
    "\n",
    "To ensure that the view you created in the pipeline is the one shown in the rendering widget and does not get replaced by a new active view, we need to make it available to the outside and later on bind the viewID to the rendering widget. "
   ]
  },
  {
   "cell_type": "code",
   "execution_count": null,
   "metadata": {},
   "outputs": [],
   "source": [
    "from paraview import simple\n",
    "from paraview.web import pv_wslink\n",
    "from paraview.web import protocols as pv_protocols\n",
    "\n",
    "from pvlink.utility import SetRecommendedRenderSettings\n",
    "\n",
    "\n",
    "class DemoServer(pv_wslink.PVServerProtocol):\n",
    "    authKey = 'wslink-secret'\n",
    "\n",
    "    def initialize(self):\n",
    "        # Bring used components\n",
    "        self.registerVtkWebProtocol(pv_protocols.ParaViewWebMouseHandler())\n",
    "        self.registerVtkWebProtocol(pv_protocols.ParaViewWebViewPort())\n",
    "        self.registerVtkWebProtocol(pv_protocols.ParaViewWebViewPortImageDelivery())\n",
    "        # Update authentication key to use\n",
    "        self.updateSecret(DemoServer.authKey)\n",
    "\n",
    "        # Your pipeline\n",
    "        demo_view = simple.CreateView('RenderView', 'SphereView')\n",
    "        SetRecommendedRenderSettings(demo_view)\n",
    "        demo_viewID = demo_view.GetGlobalIDAsString()\n",
    "        # Make the viewID available so we can bind our widget to the correct view\n",
    "        self.setSharedObject('viewID', demo_viewID)\n",
    "        sphere = simple.Sphere()\n",
    "        simple.Show(sphere, demo_view)"
   ]
  },
  {
   "cell_type": "code",
   "execution_count": null,
   "metadata": {},
   "outputs": [],
   "source": [
    "from pvlink import RemoteRenderer\n",
    "\n",
    "custom_renderer = RemoteRenderer(protocol=DemoServer, a='mysecretkey')\n",
    "# Bind the viewID to the widget to avoid it showing a different view\n",
    "# when a different view is set to the active view\n",
    "custom_renderer.viewID = custom_renderer.protocol.getSharedObject('viewID')\n",
    "display(custom_renderer)"
   ]
  },
  {
   "cell_type": "markdown",
   "metadata": {},
   "source": [
    "Since we did not bind a view to `renderer`, the sphere should now also be visible in the `renderer` [output](#Default-Behaviour) after an update call."
   ]
  },
  {
   "cell_type": "code",
   "execution_count": null,
   "metadata": {},
   "outputs": [],
   "source": [
    "active_renderer.update_render()"
   ]
  },
  {
   "cell_type": "markdown",
   "metadata": {},
   "source": [
    "## Using the webserver with a pvserver\n",
    "\n",
    "If `pvserverHost` and `pvserverPort` (default 11111) are specified, the webserver will try to establish a connection to a ParaView server (pvserver) at the given host and port. The pvserver can then take over the heavy lifting and handle very large geometries. Locally, only the image data of the processed data is recieved. To prevent data from being rendered locally, we recommend using the `SetRecommendedRenderSettings` function from `pvlink.utilities` on your displayed view.\n",
    "\n",
    "If using a custom protocol, the connection has to be created in the protocol or later on manually in the notebook by the user."
   ]
  },
  {
   "cell_type": "code",
   "execution_count": null,
   "metadata": {},
   "outputs": [],
   "source": [
    "renderer = RemoteRenderer(pvserverHost=\"localhost\", pvserverPort=11111, port=1234)"
   ]
  }
 ],
 "metadata": {
  "kernelspec": {
   "display_name": "Python 3",
   "language": "python",
   "name": "python3"
  },
  "language_info": {
   "codemirror_mode": {
    "name": "ipython",
    "version": 3
   },
   "file_extension": ".py",
   "mimetype": "text/x-python",
   "name": "python",
   "nbconvert_exporter": "python",
   "pygments_lexer": "ipython3",
   "version": "3.6.6"
  }
 },
 "nbformat": 4,
 "nbformat_minor": 4
}
