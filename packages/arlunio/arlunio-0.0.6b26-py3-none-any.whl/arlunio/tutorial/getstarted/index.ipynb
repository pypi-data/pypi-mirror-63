{
  "nbformat": 4,
  "nbformat_minor": 2,
  "metadata": {},
  "cells": [
    {
      "cell_type": "markdown",
      "metadata": {},
      "source": [
        "\n",
        "# Getting Started\n",
        "\n",
        "Are you new to stylo? Not sure what this is all about yet? Well not to worry\n",
        "that is what this section is all about! Hopefully after you work your way\n",
        "through the next few pages you will have a much better idea about stylo, what\n",
        "it is and how to use it.\n",
        "\n",
        "- \n",
        "Shapes and Images(shapes-and-images.ipynb)\n",
        "\n",
        "Code References-- ShapesDocs ReferencesExternal Code ReferencesExternal Doc References\n"
      ]
    }
  ]
}