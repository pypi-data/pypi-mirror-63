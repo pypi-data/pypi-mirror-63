{
 "cells": [
  {
   "cell_type": "markdown",
   "metadata": {},
   "source": [
    "# Quickstart"
   ]
  },
  {
   "cell_type": "code",
   "execution_count": 1,
   "metadata": {},
   "outputs": [],
   "source": [
    "import sys\n",
    "#sys.path.insert(0, \"/opt/simtool\")\n",
    "sys.path.insert(0, \"/home/nanohub/mmh/simtool\")\n",
    "from simtool import Run, get_inputs, get_outputs\n",
    "import numpy as np"
   ]
  },
  {
   "cell_type": "code",
   "execution_count": 2,
   "metadata": {},
   "outputs": [],
   "source": [
    "# specify a local simtool\n",
    "#nb = 'test_simtool/test_simtool.ipynb'\n",
    "\n",
    "# use the installed one\n",
    "nb = 'test_simtool'"
   ]
  },
  {
   "cell_type": "markdown",
   "metadata": {},
   "source": [
    "## Setting Inputs"
   ]
  },
  {
   "cell_type": "code",
   "execution_count": 3,
   "metadata": {},
   "outputs": [
    {
     "data": {
      "text/plain": [
       "some_text:\n",
       "    desc: Text to Write in Output Image\n",
       "    type: Text\n",
       "    maxlen: 20\n",
       "    value: Default Text\n",
       "\n",
       "volts:\n",
       "    desc: Value to Write in Output Image\n",
       "    type: Number\n",
       "    units: millivolt\n",
       "    max: 1000\n",
       "    value: 0\n",
       "\n",
       "width:\n",
       "    desc: Width of Output Image in pixels\n",
       "    type: Integer\n",
       "    min: 100\n",
       "    max: 2000\n",
       "    value: 400\n",
       "\n",
       "height:\n",
       "    desc: Height of Output Image in pixels\n",
       "    type: Integer\n",
       "    min: 50\n",
       "    max: 1000\n",
       "    value: 200\n",
       "\n",
       "position:\n",
       "    desc: Position of text in image [x, y] in pixels\n",
       "    type: List\n",
       "    value: [20, 20]\n",
       "\n",
       "options:\n",
       "    desc: Color and Font Size Options.\n",
       "    type: Dict\n",
       "    value: {'FontSize': 28, 'FontColor': 'red', 'Background': 'black'}\n",
       "\n",
       "myarray:\n",
       "    type: Array\n",
       "    dim: 1"
      ]
     },
     "execution_count": 3,
     "metadata": {},
     "output_type": "execute_result"
    }
   ],
   "source": [
    "# get the list of inputs for the simtool.\n",
    "inputs = get_inputs(nb)\n",
    "inputs"
   ]
  },
  {
   "cell_type": "code",
   "execution_count": 4,
   "metadata": {},
   "outputs": [
    {
     "data": {
      "text/plain": [
       "volts:\n",
       "    desc: Input 'volts' returned from SimTool\n",
       "    type: Number\n",
       "    units: millivolt\n",
       "\n",
       "myarray:\n",
       "    desc: The array that was input, doubled.\n",
       "    type: Array\n",
       "\n",
       "PNG:\n",
       "    desc: Image as a PNG\n",
       "    type: Image\n",
       "\n",
       "JPG:\n",
       "    desc: Image as a JPG\n",
       "    type: Image\n",
       "\n",
       "GIF:\n",
       "    desc: Image as a GIF\n",
       "    type: Image\n",
       "\n",
       "nanohub:\n",
       "    desc: Our logo!\n",
       "    type: Image"
      ]
     },
     "execution_count": 4,
     "metadata": {},
     "output_type": "execute_result"
    }
   ],
   "source": [
    "# get the outputs, if we are curious\n",
    "get_outputs(nb)"
   ]
  },
  {
   "cell_type": "code",
   "execution_count": 5,
   "metadata": {},
   "outputs": [],
   "source": [
    "# set the input array\n",
    "inputs.myarray.value = np.array([[1, 2.0, 3.14],[4,5,6]])"
   ]
  },
  {
   "cell_type": "code",
   "execution_count": 6,
   "metadata": {},
   "outputs": [
    {
     "data": {
      "text/plain": [
       "    desc: Value to Write in Output Image\n",
       "    type: Number\n",
       "    units: millivolt\n",
       "    max: 1000\n",
       "    value: 0"
      ]
     },
     "execution_count": 6,
     "metadata": {},
     "output_type": "execute_result"
    }
   ],
   "source": [
    "# check the input volts\n",
    "inputs.volts"
   ]
  },
  {
   "cell_type": "code",
   "execution_count": 7,
   "metadata": {},
   "outputs": [
    {
     "data": {
      "text/plain": [
       "    desc: Value to Write in Output Image\n",
       "    type: Number\n",
       "    units: millivolt\n",
       "    max: 1000\n",
       "    value: 20"
      ]
     },
     "execution_count": 7,
     "metadata": {},
     "output_type": "execute_result"
    }
   ],
   "source": [
    "# try setting it to something bad.  it will fail\n",
    "#inputs.volts.value = '20g'\n",
    "inputs.volts.value = 20\n",
    "inputs.volts"
   ]
  },
  {
   "cell_type": "code",
   "execution_count": 8,
   "metadata": {},
   "outputs": [
    {
     "data": {
      "text/plain": [
       "82.0"
      ]
     },
     "execution_count": 8,
     "metadata": {},
     "output_type": "execute_result"
    }
   ],
   "source": [
    "# use units, if you want\n",
    "inputs.volts.value = '.082 V'\n",
    "inputs.volts.value"
   ]
  },
  {
   "cell_type": "markdown",
   "metadata": {},
   "source": [
    "## Running the Simtool"
   ]
  },
  {
   "cell_type": "code",
   "execution_count": 9,
   "metadata": {},
   "outputs": [
    {
     "name": "stdout",
     "output_type": "stream",
     "text": [
      "cmd= submit -i images anaconda-6_papermill -f inputs.yaml test_simtool.ipynb test_simtool.ipynb\n"
     ]
    }
   ],
   "source": [
    "# Do a single run with those inputs\n",
    "# Default is to put the run in RUNS/uuid.\n",
    "#r = Run(nb, inputs, cache=False)\n",
    "#r = Run(nb, inputs, cache=False, venue='local')\n",
    "r = Run(nb, inputs, cache=False, venue='submit')"
   ]
  },
  {
   "cell_type": "markdown",
   "metadata": {},
   "source": [
    "## Visualizing the Outputs"
   ]
  },
  {
   "cell_type": "code",
   "execution_count": 10,
   "metadata": {},
   "outputs": [
    {
     "data": {
      "text/plain": [
       "[[1.0, 2.0, 3.14], [4.0, 5.0, 6.0]]"
      ]
     },
     "execution_count": 10,
     "metadata": {},
     "output_type": "execute_result"
    }
   ],
   "source": [
    "# we can see the inputs used\n",
    "r.inputs.myarray.value"
   ]
  },
  {
   "cell_type": "code",
   "execution_count": 11,
   "metadata": {},
   "outputs": [
    {
     "data": {
      "text/plain": [
       "82.0"
      ]
     },
     "execution_count": 11,
     "metadata": {},
     "output_type": "execute_result"
    }
   ],
   "source": [
    "r.inputs.volts.value"
   ]
  },
  {
   "cell_type": "code",
   "execution_count": 12,
   "metadata": {
    "scrolled": true
   },
   "outputs": [
    {
     "data": {
      "image/png": "[encoded data removed]",
      "text/plain": [
       "<PIL.PngImagePlugin.PngImageFile image mode=RGB size=400x200 at 0x7EFC4C17DB38>"
      ]
     },
     "execution_count": 12,
     "metadata": {},
     "output_type": "execute_result"
    }
   ],
   "source": [
    "# output database is accessed from the Run object\n",
    "db = r.db\n",
    "db.read('PNG')"
   ]
  },
  {
   "cell_type": "code",
   "execution_count": 13,
   "metadata": {},
   "outputs": [
    {
     "data": {
      "text/html": [
       "<div>\n",
       "<style scoped>\n",
       "    .dataframe tbody tr th:only-of-type {\n",
       "        vertical-align: middle;\n",
       "    }\n",
       "\n",
       "    .dataframe tbody tr th {\n",
       "        vertical-align: top;\n",
       "    }\n",
       "\n",
       "    .dataframe thead th {\n",
       "        text-align: right;\n",
       "    }\n",
       "</style>\n",
       "<table border=\"1\" class=\"dataframe\">\n",
       "  <thead>\n",
       "    <tr style=\"text-align: right;\">\n",
       "      <th></th>\n",
       "      <th>name</th>\n",
       "      <th>data</th>\n",
       "      <th>encoder</th>\n",
       "      <th>display</th>\n",
       "      <th>filename</th>\n",
       "    </tr>\n",
       "  </thead>\n",
       "  <tbody>\n",
       "    <tr>\n",
       "      <th>0</th>\n",
       "      <td>volts</td>\n",
       "      <td>82.0</td>\n",
       "      <td>text</td>\n",
       "      <td>None</td>\n",
       "      <td>test_simtool.ipynb</td>\n",
       "    </tr>\n",
       "    <tr>\n",
       "      <th>1</th>\n",
       "      <td>myarray</td>\n",
       "      <td>{\"py/reduce\": [{\"py/function\": \"numpy.core.mul...</td>\n",
       "      <td>text</td>\n",
       "      <td>None</td>\n",
       "      <td>test_simtool.ipynb</td>\n",
       "    </tr>\n",
       "    <tr>\n",
       "      <th>2</th>\n",
       "      <td>PNG</td>\n",
       "      <td>file://foo.png</td>\n",
       "      <td>text</td>\n",
       "      <td>None</td>\n",
       "      <td>test_simtool.ipynb</td>\n",
       "    </tr>\n",
       "    <tr>\n",
       "      <th>3</th>\n",
       "      <td>JPG</td>\n",
       "      <td>{\"py/object\": \"PIL.Image.Image\", \"py/state\": [...</td>\n",
       "      <td>text</td>\n",
       "      <td>None</td>\n",
       "      <td>test_simtool.ipynb</td>\n",
       "    </tr>\n",
       "    <tr>\n",
       "      <th>4</th>\n",
       "      <td>GIF</td>\n",
       "      <td>file://foo.gif</td>\n",
       "      <td>text</td>\n",
       "      <td>None</td>\n",
       "      <td>test_simtool.ipynb</td>\n",
       "    </tr>\n",
       "    <tr>\n",
       "      <th>5</th>\n",
       "      <td>nanohub</td>\n",
       "      <td>file://images/nanohub.png</td>\n",
       "      <td>text</td>\n",
       "      <td>None</td>\n",
       "      <td>test_simtool.ipynb</td>\n",
       "    </tr>\n",
       "  </tbody>\n",
       "</table>\n",
       "</div>"
      ],
      "text/plain": [
       "      name                                               data encoder display  \\\n",
       "0    volts                                               82.0    text    None   \n",
       "1  myarray  {\"py/reduce\": [{\"py/function\": \"numpy.core.mul...    text    None   \n",
       "2      PNG                                     file://foo.png    text    None   \n",
       "3      JPG  {\"py/object\": \"PIL.Image.Image\", \"py/state\": [...    text    None   \n",
       "4      GIF                                     file://foo.gif    text    None   \n",
       "5  nanohub                          file://images/nanohub.png    text    None   \n",
       "\n",
       "             filename  \n",
       "0  test_simtool.ipynb  \n",
       "1  test_simtool.ipynb  \n",
       "2  test_simtool.ipynb  \n",
       "3  test_simtool.ipynb  \n",
       "4  test_simtool.ipynb  \n",
       "5  test_simtool.ipynb  "
      ]
     },
     "execution_count": 13,
     "metadata": {},
     "output_type": "execute_result"
    }
   ],
   "source": [
    "# see raw results database\n",
    "db.nb.scrap_dataframe"
   ]
  },
  {
   "cell_type": "code",
   "execution_count": 14,
   "metadata": {},
   "outputs": [
    {
     "name": "stdout",
     "output_type": "stream",
     "text": [
      "RUNS/48c2f306e9414524955ff6d8e6b5b6e4\n",
      "RUNS/48c2f306e9414524955ff6d8e6b5b6e4\n"
     ]
    }
   ],
   "source": [
    "# where is my output?  either of these work\n",
    "print(db.dir)\n",
    "print(r.outdir)"
   ]
  },
  {
   "cell_type": "code",
   "execution_count": 15,
   "metadata": {},
   "outputs": [
    {
     "data": {
      "image/png": "[encoded data removed]",
      "text/plain": [
       "<PIL.GifImagePlugin.GifImageFile image mode=P size=400x200 at 0x7EFC4C12E358>"
      ]
     },
     "execution_count": 15,
     "metadata": {},
     "output_type": "execute_result"
    }
   ],
   "source": [
    "db.read('GIF')"
   ]
  },
  {
   "cell_type": "code",
   "execution_count": 16,
   "metadata": {},
   "outputs": [
    {
     "data": {
      "text/plain": [
       "82.0"
      ]
     },
     "execution_count": 16,
     "metadata": {},
     "output_type": "execute_result"
    }
   ],
   "source": [
    "db.read('volts')"
   ]
  },
  {
   "cell_type": "code",
   "execution_count": 17,
   "metadata": {},
   "outputs": [
    {
     "data": {
      "text/plain": [
       "array([[ 4.1  ,  8.2  , 12.874],\n",
       "       [16.4  , 20.5  , 24.6  ]])"
      ]
     },
     "execution_count": 17,
     "metadata": {},
     "output_type": "execute_result"
    }
   ],
   "source": [
    "db.read('myarray')"
   ]
  },
  {
   "cell_type": "code",
   "execution_count": 18,
   "metadata": {},
   "outputs": [],
   "source": [
    "x = db.read('JPG')"
   ]
  },
  {
   "cell_type": "code",
   "execution_count": 19,
   "metadata": {},
   "outputs": [
    {
     "data": {
      "image/png": "[encoded data removed]",
      "text/plain": [
       "<PIL.Image.Image image mode=RGB size=400x200 at 0x7EFC4C1BAC88>"
      ]
     },
     "execution_count": 19,
     "metadata": {},
     "output_type": "execute_result"
    }
   ],
   "source": [
    "x"
   ]
  },
  {
   "cell_type": "code",
   "execution_count": 20,
   "metadata": {},
   "outputs": [
    {
     "data": {
      "image/png": "[encoded data removed]",
      "text/plain": [
       "<PIL.PngImagePlugin.PngImageFile image mode=RGBA size=500x168 at 0x7EFC4C0C1048>"
      ]
     },
     "metadata": {},
     "output_type": "display_data"
    }
   ],
   "source": [
    "hublogo = db.read('nanohub', display=True)"
   ]
  },
  {
   "cell_type": "code",
   "execution_count": 21,
   "metadata": {},
   "outputs": [
    {
     "name": "stdout",
     "output_type": "stream",
     "text": [
      "<class 'PIL.PngImagePlugin.PngImageFile'>\n"
     ]
    },
    {
     "data": {
      "image/png": "[encoded data removed]",
      "text/plain": [
       "<PIL.PngImagePlugin.PngImageFile image mode=RGBA size=500x168 at 0x7EFC4C0C1048>"
      ]
     },
     "execution_count": 21,
     "metadata": {},
     "output_type": "execute_result"
    }
   ],
   "source": [
    "print(type(hublogo))\n",
    "hublogo"
   ]
  },
  {
   "cell_type": "markdown",
   "metadata": {},
   "source": [
    "## Extras"
   ]
  },
  {
   "cell_type": "code",
   "execution_count": 22,
   "metadata": {},
   "outputs": [
    {
     "data": {
      "text/html": [
       "<div>\n",
       "<style scoped>\n",
       "    .dataframe tbody tr th:only-of-type {\n",
       "        vertical-align: middle;\n",
       "    }\n",
       "\n",
       "    .dataframe tbody tr th {\n",
       "        vertical-align: top;\n",
       "    }\n",
       "\n",
       "    .dataframe thead th {\n",
       "        text-align: right;\n",
       "    }\n",
       "</style>\n",
       "<table border=\"1\" class=\"dataframe\">\n",
       "  <thead>\n",
       "    <tr style=\"text-align: right;\">\n",
       "      <th></th>\n",
       "      <th>filename</th>\n",
       "      <th>cell</th>\n",
       "      <th>value</th>\n",
       "      <th>type</th>\n",
       "    </tr>\n",
       "  </thead>\n",
       "  <tbody>\n",
       "    <tr>\n",
       "      <th>1</th>\n",
       "      <td>test_simtool.ipynb</td>\n",
       "      <td>Out [1]</td>\n",
       "      <td>11.020410</td>\n",
       "      <td>time (s)</td>\n",
       "    </tr>\n",
       "    <tr>\n",
       "      <th>2</th>\n",
       "      <td>test_simtool.ipynb</td>\n",
       "      <td>Out [2]</td>\n",
       "      <td>0.026727</td>\n",
       "      <td>time (s)</td>\n",
       "    </tr>\n",
       "    <tr>\n",
       "      <th>3</th>\n",
       "      <td>test_simtool.ipynb</td>\n",
       "      <td>Out [3]</td>\n",
       "      <td>0.018060</td>\n",
       "      <td>time (s)</td>\n",
       "    </tr>\n",
       "    <tr>\n",
       "      <th>4</th>\n",
       "      <td>test_simtool.ipynb</td>\n",
       "      <td>Out [4]</td>\n",
       "      <td>0.015260</td>\n",
       "      <td>time (s)</td>\n",
       "    </tr>\n",
       "    <tr>\n",
       "      <th>5</th>\n",
       "      <td>test_simtool.ipynb</td>\n",
       "      <td>Out [5]</td>\n",
       "      <td>0.015025</td>\n",
       "      <td>time (s)</td>\n",
       "    </tr>\n",
       "    <tr>\n",
       "      <th>7</th>\n",
       "      <td>test_simtool.ipynb</td>\n",
       "      <td>Out [6]</td>\n",
       "      <td>0.018299</td>\n",
       "      <td>time (s)</td>\n",
       "    </tr>\n",
       "    <tr>\n",
       "      <th>8</th>\n",
       "      <td>test_simtool.ipynb</td>\n",
       "      <td>Out [7]</td>\n",
       "      <td>0.018890</td>\n",
       "      <td>time (s)</td>\n",
       "    </tr>\n",
       "    <tr>\n",
       "      <th>9</th>\n",
       "      <td>test_simtool.ipynb</td>\n",
       "      <td>Out [8]</td>\n",
       "      <td>0.023691</td>\n",
       "      <td>time (s)</td>\n",
       "    </tr>\n",
       "    <tr>\n",
       "      <th>10</th>\n",
       "      <td>test_simtool.ipynb</td>\n",
       "      <td>Out [9]</td>\n",
       "      <td>0.101506</td>\n",
       "      <td>time (s)</td>\n",
       "    </tr>\n",
       "    <tr>\n",
       "      <th>11</th>\n",
       "      <td>test_simtool.ipynb</td>\n",
       "      <td>Out [10]</td>\n",
       "      <td>0.036276</td>\n",
       "      <td>time (s)</td>\n",
       "    </tr>\n",
       "    <tr>\n",
       "      <th>12</th>\n",
       "      <td>test_simtool.ipynb</td>\n",
       "      <td>Out [11]</td>\n",
       "      <td>0.029073</td>\n",
       "      <td>time (s)</td>\n",
       "    </tr>\n",
       "    <tr>\n",
       "      <th>13</th>\n",
       "      <td>test_simtool.ipynb</td>\n",
       "      <td>Out [12]</td>\n",
       "      <td>0.034717</td>\n",
       "      <td>time (s)</td>\n",
       "    </tr>\n",
       "  </tbody>\n",
       "</table>\n",
       "</div>"
      ],
      "text/plain": [
       "              filename      cell      value      type\n",
       "1   test_simtool.ipynb   Out [1]  11.020410  time (s)\n",
       "2   test_simtool.ipynb   Out [2]   0.026727  time (s)\n",
       "3   test_simtool.ipynb   Out [3]   0.018060  time (s)\n",
       "4   test_simtool.ipynb   Out [4]   0.015260  time (s)\n",
       "5   test_simtool.ipynb   Out [5]   0.015025  time (s)\n",
       "7   test_simtool.ipynb   Out [6]   0.018299  time (s)\n",
       "8   test_simtool.ipynb   Out [7]   0.018890  time (s)\n",
       "9   test_simtool.ipynb   Out [8]   0.023691  time (s)\n",
       "10  test_simtool.ipynb   Out [9]   0.101506  time (s)\n",
       "11  test_simtool.ipynb  Out [10]   0.036276  time (s)\n",
       "12  test_simtool.ipynb  Out [11]   0.029073  time (s)\n",
       "13  test_simtool.ipynb  Out [12]   0.034717  time (s)"
      ]
     },
     "execution_count": 22,
     "metadata": {},
     "output_type": "execute_result"
    }
   ],
   "source": [
    "# cell execution stats\n",
    "db.nb.papermill_metrics"
   ]
  },
  {
   "cell_type": "code",
   "execution_count": 23,
   "metadata": {},
   "outputs": [
    {
     "data": {
      "text/plain": [
       "{'celltoolbar': 'Tags',\n",
       " 'kernelspec': {'display_name': 'Python 3',\n",
       "  'language': 'python',\n",
       "  'name': 'python3'},\n",
       " 'language_info': {'codemirror_mode': {'name': 'ipython', 'version': 3},\n",
       "  'file_extension': '.py',\n",
       "  'mimetype': 'text/x-python',\n",
       "  'name': 'python',\n",
       "  'nbconvert_exporter': 'python',\n",
       "  'pygments_lexer': 'ipython3',\n",
       "  'version': '3.7.3'},\n",
       " 'papermill': {'duration': 15.101523,\n",
       "  'end_time': '2019-08-29T17:11:27.534645',\n",
       "  'environment_variables': {},\n",
       "  'exception': None,\n",
       "  'input_path': './test_simtool.ipynb',\n",
       "  'output_path': './test_simtool.ipynb',\n",
       "  'parameters': {'height': 200,\n",
       "   'myarray': [[1.0, 2.0, 3.14], [4.0, 5.0, 6.0]],\n",
       "   'options': {'Background': 'black', 'FontColor': 'red', 'FontSize': 28},\n",
       "   'position': [20, 20],\n",
       "   'some_text': 'Default Text',\n",
       "   'volts': 82.0,\n",
       "   'width': 400},\n",
       "  'start_time': '2019-08-29T17:11:12.433122',\n",
       "  'version': '1.1.0'}}"
      ]
     },
     "execution_count": 23,
     "metadata": {},
     "output_type": "execute_result"
    }
   ],
   "source": [
    "# notebook metadata\n",
    "r.db.nb.metadata"
   ]
  },
  {
   "cell_type": "code",
   "execution_count": 24,
   "metadata": {},
   "outputs": [
    {
     "data": {
      "text/plain": [
       "{'some_text': 'Default Text',\n",
       " 'volts': 82.0,\n",
       " 'width': 400,\n",
       " 'height': 200,\n",
       " 'position': [20, 20],\n",
       " 'options': {'FontSize': 28, 'FontColor': 'red', 'Background': 'black'},\n",
       " 'myarray': [[1.0, 2.0, 3.14], [4.0, 5.0, 6.0]]}"
      ]
     },
     "execution_count": 24,
     "metadata": {},
     "output_type": "execute_result"
    }
   ],
   "source": [
    "# for debugging, the inputs as passed to papermill\n",
    "r.input_dict"
   ]
  }
 ],
 "metadata": {
  "kernelspec": {
   "display_name": "Python 3",
   "language": "python",
   "name": "python3"
  },
  "language_info": {
   "codemirror_mode": {
    "name": "ipython",
    "version": 3
   },
   "file_extension": ".py",
   "mimetype": "text/x-python",
   "name": "python",
   "nbconvert_exporter": "python",
   "pygments_lexer": "ipython3",
   "version": "3.7.3"
  }
 },
 "nbformat": 4,
 "nbformat_minor": 2
}
