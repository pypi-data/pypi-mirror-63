{
 "cells": [
  {
   "cell_type": "code",
   "execution_count": 1,
   "metadata": {},
   "outputs": [
    {
     "data": {
      "text/markdown": [
       "    from IPython import get_ipython\n",
       "    ip = get_ipython()"
      ],
      "text/plain": [
       "<IPython.core.display.Markdown object>"
      ]
     },
     "metadata": {},
     "output_type": "display_data"
    }
   ],
   "source": [
    "    from IPython import get_ipython\n",
    "    ip = get_ipython()"
   ]
  },
  {
   "cell_type": "code",
   "execution_count": 2,
   "metadata": {},
   "outputs": [
    {
     "name": "stdout",
     "output_type": "stream",
     "text": [
      "Usage: pidgy [OPTIONS] COMMAND [ARGS]...\n",
      "\n",
      "Options:\n",
      "  --help  Show this message and exit.\n",
      "\n",
      "Commands:\n",
      "  convert\n",
      "  kernel\n",
      "  render\n",
      "  run      `pidgy` `run` makes it possible to execute `pidgy` documents as...\n",
      "  test     Formally test markdown documents, notebooks, and python files.\n"
     ]
    },
    {
     "data": {
      "text/markdown": [
       "    if ip:\n",
       "        !pidgy"
      ],
      "text/plain": [
       "<IPython.core.display.Markdown object>"
      ]
     },
     "metadata": {},
     "output_type": "display_data"
    }
   ],
   "source": [
    "    if ip:\n",
    "        !pidgy"
   ]
  },
  {
   "cell_type": "code",
   "execution_count": 3,
   "metadata": {},
   "outputs": [
    {
     "name": "stdout",
     "output_type": "stream",
     "text": [
      "Usage: pidgy run [OPTIONS] REF\n",
      "\n",
      "  `pidgy` `run` makes it possible to execute `pidgy` documents as programs,\n",
      "  and view their pubished results.\n",
      "\n",
      "Options:\n",
      "  --help  Show this message and exit.\n"
     ]
    },
    {
     "data": {
      "text/markdown": [
       "    if ip:\n",
       "        !pidgy run --help"
      ],
      "text/plain": [
       "<IPython.core.display.Markdown object>"
      ]
     },
     "metadata": {},
     "output_type": "display_data"
    }
   ],
   "source": [
    "    if ip:\n",
    "        !pidgy run --help"
   ]
  },
  {
   "cell_type": "code",
   "execution_count": 4,
   "metadata": {},
   "outputs": [
    {
     "name": "stdout",
     "output_type": "stream",
     "text": [
      "Usage: pidgy test [OPTIONS] [FILES]...\n",
      "\n",
      "  Formally test markdown documents, notebooks, and python files.\n",
      "\n",
      "Options:\n",
      "  --help  Show this message and exit.\n"
     ]
    },
    {
     "data": {
      "text/markdown": [
       "    if ip:\n",
       "        !pidgy test --help"
      ],
      "text/plain": [
       "<IPython.core.display.Markdown object>"
      ]
     },
     "metadata": {},
     "output_type": "display_data"
    }
   ],
   "source": [
    "    if ip:\n",
    "        !pidgy test --help"
   ]
  },
  {
   "cell_type": "code",
   "execution_count": 5,
   "metadata": {},
   "outputs": [
    {
     "name": "stdout",
     "output_type": "stream",
     "text": [
      "Usage: pidgy kernel [OPTIONS] COMMAND [ARGS]...\n",
      "\n",
      "Options:\n",
      "  --help  Show this message and exit.\n",
      "\n",
      "Commands:\n",
      "  install    `install` the pidgy kernel.\n",
      "  start      Launch a `pidgy` kernel applications.\n",
      "  uninstall  `uninstall` the kernel.\n"
     ]
    },
    {
     "data": {
      "text/markdown": [
       "    if ip:\n",
       "        !pidgy kernel --help"
      ],
      "text/plain": [
       "<IPython.core.display.Markdown object>"
      ]
     },
     "metadata": {},
     "output_type": "display_data"
    }
   ],
   "source": [
    "    if ip:\n",
    "        !pidgy kernel --help"
   ]
  },
  {
   "cell_type": "code",
   "execution_count": 6,
   "metadata": {},
   "outputs": [
    {
     "name": "stdout",
     "output_type": "stream",
     "text": [
      "Running templating_document.md.\n",
      "__main__\n",
      "The document was run as a CLI!\n"
     ]
    },
    {
     "data": {
      "text/markdown": [
       "    if ip:\n",
       "        !pidgy run templating_document.md"
      ],
      "text/plain": [
       "<IPython.core.display.Markdown object>"
      ]
     },
     "metadata": {},
     "output_type": "display_data"
    }
   ],
   "source": [
    "    if ip:\n",
    "        !pidgy run templating_document.md"
   ]
  },
  {
   "cell_type": "code",
   "execution_count": 7,
   "metadata": {},
   "outputs": [
    {
     "name": "stdout",
     "output_type": "stream",
     "text": [
      "__main__\n",
      "The document was run as a CLI!\n"
     ]
    },
    {
     "data": {
      "text/markdown": [
       "    if ip:\n",
       "        !pidgy render templating_document.md"
      ],
      "text/plain": [
       "<IPython.core.display.Markdown object>"
      ]
     },
     "metadata": {},
     "output_type": "display_data"
    }
   ],
   "source": [
    "    if ip:\n",
    "        !pidgy render templating_document.md"
   ]
  },
  {
   "cell_type": "code",
   "execution_count": 8,
   "metadata": {},
   "outputs": [
    {
     "name": "stdout",
     "output_type": "stream",
     "text": [
      "__main__\n",
      "The document was run as a CLI!\n"
     ]
    },
    {
     "data": {
      "text/markdown": [
       "    # NBVAL_SKIP\n",
       "    if ip:\n",
       "        !chmod u+x templating_document.md\n",
       "        !./templating_document.md"
      ],
      "text/plain": [
       "<IPython.core.display.Markdown object>"
      ]
     },
     "metadata": {},
     "output_type": "display_data"
    }
   ],
   "source": [
    "    # NBVAL_SKIP\n",
    "    if ip:\n",
    "        !chmod u+x templating_document.md\n",
    "        !./templating_document.md"
   ]
  },
  {
   "cell_type": "code",
   "execution_count": null,
   "metadata": {},
   "outputs": [],
   "source": []
  }
 ],
 "metadata": {
  "kernelspec": {
   "display_name": "pidgy 3",
   "language": "python",
   "name": "pidgy"
  },
  "language_info": {
   "codemirror_mode": {
    "name": "ipython",
    "version": 3
   },
   "file_extension": ".py",
   "mimetype": "text/x-python",
   "name": "python",
   "nbconvert_exporter": "python",
   "pygments_lexer": "ipython3",
   "version": "3.7.3"
  }
 },
 "nbformat": 4,
 "nbformat_minor": 4
}
