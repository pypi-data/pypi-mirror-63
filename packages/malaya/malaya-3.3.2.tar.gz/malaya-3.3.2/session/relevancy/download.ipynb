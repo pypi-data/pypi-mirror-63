{
 "cells": [
  {
   "cell_type": "code",
   "execution_count": 1,
   "metadata": {},
   "outputs": [
    {
     "name": "stdout",
     "output_type": "stream",
     "text": [
      "--2019-05-21 00:20:34--  https://github.com/huseinzol05/Malaya-Dataset/raw/master/synonym/synonym0.json\n",
      "Resolving github.com (github.com)... 13.229.188.59\n",
      "Connecting to github.com (github.com)|13.229.188.59|:443... connected.\n",
      "HTTP request sent, awaiting response... 302 Found\n",
      "Location: https://raw.githubusercontent.com/huseinzol05/Malaya-Dataset/master/synonym/synonym0.json [following]\n",
      "--2019-05-21 00:20:34--  https://raw.githubusercontent.com/huseinzol05/Malaya-Dataset/master/synonym/synonym0.json\n",
      "Resolving raw.githubusercontent.com (raw.githubusercontent.com)... 151.101.8.133\n",
      "Connecting to raw.githubusercontent.com (raw.githubusercontent.com)|151.101.8.133|:443... connected.\n",
      "HTTP request sent, awaiting response... 200 OK\n",
      "Length: 2431214 (2.3M) [text/plain]\n",
      "Saving to: ‘synonym0.json’\n",
      "\n",
      "synonym0.json       100%[===================>]   2.32M  3.87MB/s    in 0.6s    \n",
      "\n",
      "2019-05-21 00:20:36 (3.87 MB/s) - ‘synonym0.json’ saved [2431214/2431214]\n",
      "\n"
     ]
    }
   ],
   "source": [
    "!wget https://github.com/huseinzol05/Malaya-Dataset/raw/master/synonym/synonym0.json"
   ]
  },
  {
   "cell_type": "code",
   "execution_count": 2,
   "metadata": {},
   "outputs": [
    {
     "name": "stdout",
     "output_type": "stream",
     "text": [
      "--2019-05-21 00:20:39--  https://github.com/huseinzol05/Malaya-Dataset/raw/master/synonym/synonym1.json\n",
      "Resolving github.com (github.com)... 13.229.188.59\n",
      "Connecting to github.com (github.com)|13.229.188.59|:443... connected.\n",
      "HTTP request sent, awaiting response... 302 Found\n",
      "Location: https://raw.githubusercontent.com/huseinzol05/Malaya-Dataset/master/synonym/synonym1.json [following]\n",
      "--2019-05-21 00:20:40--  https://raw.githubusercontent.com/huseinzol05/Malaya-Dataset/master/synonym/synonym1.json\n",
      "Resolving raw.githubusercontent.com (raw.githubusercontent.com)... 151.101.8.133\n",
      "Connecting to raw.githubusercontent.com (raw.githubusercontent.com)|151.101.8.133|:443... connected.\n",
      "HTTP request sent, awaiting response... 200 OK\n",
      "Length: 2222435 (2.1M) [text/plain]\n",
      "Saving to: ‘synonym1.json’\n",
      "\n",
      "synonym1.json       100%[===================>]   2.12M  3.51MB/s    in 0.6s    \n",
      "\n",
      "2019-05-21 00:20:43 (3.51 MB/s) - ‘synonym1.json’ saved [2222435/2222435]\n",
      "\n"
     ]
    }
   ],
   "source": [
    "!wget https://github.com/huseinzol05/Malaya-Dataset/raw/master/synonym/synonym1.json"
   ]
  },
  {
   "cell_type": "code",
   "execution_count": 3,
   "metadata": {},
   "outputs": [
    {
     "name": "stdout",
     "output_type": "stream",
     "text": [
      "--2019-05-21 00:21:53--  https://github.com/huseinzol05/Malaya-Dataset/raw/master/fake-news/compressed-fake-news.zip\n",
      "Resolving github.com (github.com)... 52.74.223.119\n",
      "Connecting to github.com (github.com)|52.74.223.119|:443... connected.\n",
      "HTTP request sent, awaiting response... 302 Found\n",
      "Location: https://raw.githubusercontent.com/huseinzol05/Malaya-Dataset/master/fake-news/compressed-fake-news.zip [following]\n",
      "--2019-05-21 00:21:53--  https://raw.githubusercontent.com/huseinzol05/Malaya-Dataset/master/fake-news/compressed-fake-news.zip\n",
      "Resolving raw.githubusercontent.com (raw.githubusercontent.com)... 151.101.8.133\n",
      "Connecting to raw.githubusercontent.com (raw.githubusercontent.com)|151.101.8.133|:443... connected.\n",
      "HTTP request sent, awaiting response... 200 OK\n",
      "Length: 41719839 (40M) [application/zip]\n",
      "Saving to: ‘compressed-fake-news.zip’\n",
      "\n",
      "compressed-fake-new 100%[===================>]  39.79M  3.26MB/s    in 12s     \n",
      "\n",
      "2019-05-21 00:22:09 (3.38 MB/s) - ‘compressed-fake-news.zip’ saved [41719839/41719839]\n",
      "\n"
     ]
    }
   ],
   "source": [
    "!wget https://github.com/huseinzol05/Malaya-Dataset/raw/master/fake-news/compressed-fake-news.zip"
   ]
  },
  {
   "cell_type": "code",
   "execution_count": 4,
   "metadata": {},
   "outputs": [
    {
     "name": "stdout",
     "output_type": "stream",
     "text": [
      "Archive:  compressed-fake-news.zip\n",
      "   creating: positive/\n",
      "  inflating: positive/.DS_Store      \n",
      "   creating: __MACOSX/\n",
      "   creating: __MACOSX/positive/\n",
      "  inflating: __MACOSX/positive/._.DS_Store  \n",
      "  inflating: positive/clean-politifact_fake.json  \n",
      "  inflating: __MACOSX/positive/._clean-politifact_fake.json  \n",
      "  inflating: positive/clean-gossipcop_fake.json  \n",
      "  inflating: positive/positive-fake.json  \n",
      "  inflating: __MACOSX/positive/._positive-fake.json  \n",
      "   creating: negative/\n",
      "  inflating: negative/.DS_Store      \n",
      "   creating: __MACOSX/negative/\n",
      "  inflating: __MACOSX/negative/._.DS_Store  \n",
      "  inflating: negative/clean-gossipcop_real1.json  \n",
      "  inflating: negative/clean-politifact_real.json  \n",
      "  inflating: negative/1.json         \n",
      "  inflating: negative/2.json         \n",
      "  inflating: negative/clean-gossipcop_real2.json  \n",
      "  inflating: negative/clean-gossipcop_real3.json  \n"
     ]
    }
   ],
   "source": [
    "!unzip compressed-fake-news.zip"
   ]
  },
  {
   "cell_type": "code",
   "execution_count": null,
   "metadata": {},
   "outputs": [],
   "source": []
  }
 ],
 "metadata": {
  "kernelspec": {
   "display_name": "Python 3",
   "language": "python",
   "name": "python3"
  },
  "language_info": {
   "codemirror_mode": {
    "name": "ipython",
    "version": 3
   },
   "file_extension": ".py",
   "mimetype": "text/x-python",
   "name": "python",
   "nbconvert_exporter": "python",
   "pygments_lexer": "ipython3",
   "version": "3.6.8"
  }
 },
 "nbformat": 4,
 "nbformat_minor": 2
}
