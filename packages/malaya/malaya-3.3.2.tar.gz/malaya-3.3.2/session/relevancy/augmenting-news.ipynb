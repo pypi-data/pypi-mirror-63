{
 "cells": [
  {
   "cell_type": "code",
   "execution_count": 1,
   "metadata": {},
   "outputs": [],
   "source": [
    "import json\n",
    "import os\n",
    "import glob"
   ]
  },
  {
   "cell_type": "code",
   "execution_count": 2,
   "metadata": {},
   "outputs": [
    {
     "data": {
      "text/plain": [
       "['/home/husein/Malaya-Dataset/fake-news/negative/clean-gossipcop_real2.json',\n",
       " '/home/husein/Malaya-Dataset/fake-news/negative/clean-gossipcop_real3.json',\n",
       " '/home/husein/Malaya-Dataset/fake-news/negative/1.json',\n",
       " '/home/husein/Malaya-Dataset/fake-news/negative/clean-gossipcop_real1.json',\n",
       " '/home/husein/Malaya-Dataset/fake-news/negative/clean-politifact_real.json',\n",
       " '/home/husein/Malaya-Dataset/fake-news/negative/2.json']"
      ]
     },
     "execution_count": 2,
     "metadata": {},
     "output_type": "execute_result"
    }
   ],
   "source": [
    "negatives = glob.glob('/home/husein/Malaya-Dataset/fake-news/negative/*.json')\n",
    "positives = glob.glob('/home/husein/Malaya-Dataset/fake-news/positive/*.json')\n",
    "negatives"
   ]
  },
  {
   "cell_type": "code",
   "execution_count": 3,
   "metadata": {},
   "outputs": [],
   "source": [
    "texts, labels = [], []\n",
    "for negative in negatives:\n",
    "    with open(negative) as fopen:\n",
    "        x = json.load(fopen)\n",
    "    texts.extend(x)\n",
    "    labels.extend([1] * len(x))"
   ]
  },
  {
   "cell_type": "code",
   "execution_count": 4,
   "metadata": {},
   "outputs": [],
   "source": [
    "for positive in positives:\n",
    "    with open(positive) as fopen:\n",
    "        x = json.load(fopen)\n",
    "    texts.extend(x)\n",
    "    labels.extend([0] * len(x))"
   ]
  },
  {
   "cell_type": "code",
   "execution_count": 5,
   "metadata": {},
   "outputs": [],
   "source": [
    "import numpy as np\n",
    "import pandas as pd"
   ]
  },
  {
   "cell_type": "code",
   "execution_count": 6,
   "metadata": {},
   "outputs": [
    {
     "data": {
      "text/plain": [
       "(array([0, 1]), array([15191, 26832]))"
      ]
     },
     "execution_count": 6,
     "metadata": {},
     "output_type": "execute_result"
    }
   ],
   "source": [
    "np.unique(labels, return_counts = True)"
   ]
  },
  {
   "cell_type": "code",
   "execution_count": 7,
   "metadata": {},
   "outputs": [
    {
     "data": {
      "text/html": [
       "<div>\n",
       "<style scoped>\n",
       "    .dataframe tbody tr th:only-of-type {\n",
       "        vertical-align: middle;\n",
       "    }\n",
       "\n",
       "    .dataframe tbody tr th {\n",
       "        vertical-align: top;\n",
       "    }\n",
       "\n",
       "    .dataframe thead th {\n",
       "        text-align: right;\n",
       "    }\n",
       "</style>\n",
       "<table border=\"1\" class=\"dataframe\">\n",
       "  <thead>\n",
       "    <tr style=\"text-align: right;\">\n",
       "      <th></th>\n",
       "      <th>News</th>\n",
       "      <th>Label</th>\n",
       "    </tr>\n",
       "  </thead>\n",
       "  <tbody>\n",
       "    <tr>\n",
       "      <td>0</td>\n",
       "      <td>Produk Kod E Mengandungi Lemak Babi. Awas, jan...</td>\n",
       "      <td>Fake</td>\n",
       "    </tr>\n",
       "    <tr>\n",
       "      <td>1</td>\n",
       "      <td>Jabatan Kemajuan Islam Malaysia memperjelaskan...</td>\n",
       "      <td>Real</td>\n",
       "    </tr>\n",
       "    <tr>\n",
       "      <td>2</td>\n",
       "      <td>Roti Massimo Mengandungi DNA Babi. Roti produk...</td>\n",
       "      <td>Fake</td>\n",
       "    </tr>\n",
       "    <tr>\n",
       "      <td>3</td>\n",
       "      <td>Jabatan Kemajuan Islam Malaysia (JAKIM) melalu...</td>\n",
       "      <td>Real</td>\n",
       "    </tr>\n",
       "    <tr>\n",
       "      <td>4</td>\n",
       "      <td>Tiada Pembayaran Pencen Selepas Persaraan 2021...</td>\n",
       "      <td>Fake</td>\n",
       "    </tr>\n",
       "  </tbody>\n",
       "</table>\n",
       "</div>"
      ],
      "text/plain": [
       "                                                News Label\n",
       "0  Produk Kod E Mengandungi Lemak Babi. Awas, jan...  Fake\n",
       "1  Jabatan Kemajuan Islam Malaysia memperjelaskan...  Real\n",
       "2  Roti Massimo Mengandungi DNA Babi. Roti produk...  Fake\n",
       "3  Jabatan Kemajuan Islam Malaysia (JAKIM) melalu...  Real\n",
       "4  Tiada Pembayaran Pencen Selepas Persaraan 2021...  Fake"
      ]
     },
     "execution_count": 7,
     "metadata": {},
     "output_type": "execute_result"
    }
   ],
   "source": [
    "df = pd.read_csv('Malaya-Dataset/fake-news/malaysia-scraping-syazanihussin.csv').dropna()\n",
    "df.head()"
   ]
  },
  {
   "cell_type": "code",
   "execution_count": 8,
   "metadata": {},
   "outputs": [
    {
     "data": {
      "text/plain": [
       "((239, 2), (232, 2))"
      ]
     },
     "execution_count": 8,
     "metadata": {},
     "output_type": "execute_result"
    }
   ],
   "source": [
    "df_fake = df.loc[df['Label'] == 'Fake']\n",
    "df_real = df.loc[df['Label'] == 'Real']\n",
    "df_fake.shape, df_real.shape"
   ]
  },
  {
   "cell_type": "code",
   "execution_count": 9,
   "metadata": {},
   "outputs": [
    {
     "data": {
      "text/plain": [
       "(33618, 8405)"
      ]
     },
     "execution_count": 9,
     "metadata": {},
     "output_type": "execute_result"
    }
   ],
   "source": [
    "from sklearn.model_selection import train_test_split\n",
    "\n",
    "train_X, test_X, train_Y, test_Y = train_test_split(texts, labels, test_size = 0.2)\n",
    "len(train_X), len(test_X)"
   ]
  },
  {
   "cell_type": "code",
   "execution_count": 10,
   "metadata": {},
   "outputs": [],
   "source": [
    "train_X.extend(df_fake['News'].tolist())\n",
    "train_Y.extend([0] * len(df_fake['News'].tolist()))\n",
    "\n",
    "train_X.extend(df_real['News'].tolist())\n",
    "train_Y.extend([1] * len(df_real['News'].tolist()))"
   ]
  },
  {
   "cell_type": "code",
   "execution_count": 11,
   "metadata": {},
   "outputs": [
    {
     "data": {
      "text/plain": [
       "(34089, 34089)"
      ]
     },
     "execution_count": 11,
     "metadata": {},
     "output_type": "execute_result"
    }
   ],
   "source": [
    "len(train_X), len(train_Y)"
   ]
  },
  {
   "cell_type": "code",
   "execution_count": 12,
   "metadata": {},
   "outputs": [],
   "source": [
    "from sklearn.utils import shuffle\n",
    "\n",
    "train_X, train_Y = shuffle(train_X, train_Y)"
   ]
  },
  {
   "cell_type": "code",
   "execution_count": 13,
   "metadata": {},
   "outputs": [],
   "source": [
    "with open('Malaya-Dataset/synonym/synonym0.json') as fopen:\n",
    "    s = json.load(fopen)\n",
    "    \n",
    "with open('Malaya-Dataset/synonym/synonym1.json') as fopen:\n",
    "    s1 = json.load(fopen)"
   ]
  },
  {
   "cell_type": "code",
   "execution_count": 14,
   "metadata": {},
   "outputs": [],
   "source": [
    "synonyms = {}\n",
    "for l, r in (s + s1):\n",
    "    if l not in synonyms:\n",
    "        synonyms[l] = r + [l]\n",
    "    else:\n",
    "        synonyms[l].extend(r)\n",
    "synonyms = {k: list(set(v)) for k, v in synonyms.items()}"
   ]
  },
  {
   "cell_type": "code",
   "execution_count": 15,
   "metadata": {},
   "outputs": [],
   "source": [
    "import random\n",
    "\n",
    "def augmentation(s, maximum = 1.0):\n",
    "    s = s.split()\n",
    "    for i in range(int(len(s) * maximum)):\n",
    "        index = random.randint(0, len(s) - 1)\n",
    "        word = s[index]\n",
    "        sy = synonyms.get(word, [word])\n",
    "        sy = random.choice(sy)\n",
    "        s[index] = sy\n",
    "    return s"
   ]
  },
  {
   "cell_type": "code",
   "execution_count": 16,
   "metadata": {},
   "outputs": [
    {
     "data": {
      "text/plain": [
       "('mencetak seorang wanita iranian telah dijatuhi hukuman enam tahun penjara selepas pengawal revolusioner iran mencari rumahnya dan mendapati sebuah buku catatan yang mengandungi kisah fiksyen yang ditulisnya tentang seorang wanita yang dilontar hingga mati, menurut kajian eurasia. Golrokh ebrahimi iraee, 35, adalah isteri banduan politik sadashhi sadeghi, 36, yang menjalani hukuman penjara 19 tahun kerana menjadi aktivis hak asasi manusia. \"apabila unit perisikan pengawal revolusioner datang untuk menangkap suaminya, mereka menyerbu apartmen mereka tanpa waran dan mendapati draf cerita yang ditulis oleh ebrahimi iraee,\" artikel itu dinyatakan. \"salah satu draf yang dirampas adalah cerita mengenai wanita melontar hingga mati kerana perzinaan yang tidak pernah diterbitkan, tidak pernah dikemukakan kepada sesiapa pun,\" artikel itu dinyatakan. \"cerita itu menyusuli kisah seorang protagonis yang menonton filem mengenai pembasmian wanita di bawah undang-undang islam kerana berzina.',\n",
       " ['mencetak seorang wanita iranian telah dijatuhi undang-undang enam golongan penjara selepas pengawal revolusioner iran mencari rumahnya dan mendapati sebuah papan catatan yang memakai kisah fiksyen yang ditulisnya tentang seorang kak yang dilontar hingga mati, menurut pengajian eurasia. Golrokh ebrahimi iraee, 35, menipu isteri banduan sains politik sadashhi sadeghi, 36, yang menjalani undang-undang penjara 19 tahun kerana berjumlah aktivis milik asasi manusia. \"apabila satuan perisikan pengawal revolusioner datang untuk menahan suaminya, menjadikan menyerbu apartmen merancang tanpa waran dan mendapati pengeluaran cerita yang ditulis oleh ebrahimi iraee,\" fasal itu dinyatakan. \"salah satu teguk yang dirampas adalah ulasan menjumpai betina melontar hingga mati kerana mukah yang tidak pernah diterbitkan, tidak pernah dikemukakan kepada sesiapa pun,\" artikel itu dinyatakan. \"cerita itu menyusuli kisah seorang protagonis yang menonton selaput bersedih pencegahan betina di dasar undang islam kerana berzina.',\n",
       "  'menera seorang wanita iranian telah dijatuhi hukuman enam kelas penjara nanti pengelola revolusioner iran menanyakan rumahnya dan mendapati sebuah buku kepatuhan yang mengandungi ulasan fiksyen yang ditulisnya tentang seorang perempuan yang dilontar hingga mati, menurut penyelidikan eurasia. Golrokh ebrahimi iraee, 35, menyamai isteri penghuni sains politik sadashhi sadeghi, 36, yang menjalani hukuman sel 19 kelas kerana menjadi aktivis pemberian kuasa asasi manusia. \"apabila unit perisikan pengawas radikal datang untuk menangkap suaminya, mereka menyerbu apartmen menganggap tanpa waran dan mendapati lukisan rekaan yang ditulis oleh ebrahimi iraee,\" artikel itu dinyatakan. \"salah satu draf yang dirampas menyamai penceritaan mencakup wanita melontar hingga mati kerana perzinaan yang tidak dahulu diterbitkan, tidak telah dikemukakan kepada sesiapa pun,\" artikel itu dinyatakan. \"cerita itu menyusuli pedulikan seorang protagonis yang menonton wayang menjangkau pembasmian wanita di bawah undang-undang islam kerana berzina.',\n",
       "  'mengurai seorang betina iranian telah dijatuhi denda enam tahun penjara selepas pengawal revolusioner iran mencari rumahnya dan mendapati sebuah ketul catatan yang mengandungi kisah fiksyen yang ditulisnya tentang seorang kak yang dilontar hingga mati, menurut kajian eurasia. Golrokh ebrahimi iraee, 35, adalah pasangan banduan politik sadashhi sadeghi, 36, yang mengelilingi hukuman sel 19 tahun kerana membuat aktivis pemilikan asasi manusia. \"apabila unit perisikan pengawal keseluruhan datang untuk merasakan suaminya, menjadualkan menyerbu apartmen menganggap tanpa waran dan mendapati naskah laporan yang ditulis oleh ebrahimi iraee,\" artikel itu dinyatakan. \"salah satu teguk yang dirampas adalah cerita mengenai wanita melontar hingga mampus kerana zina yang belum dahulu diterbitkan, tidak pernah dikemukakan kepada siapa pun,\" artikel itu dinyatakan. \"cerita itu menyusuli laporan seorang protagonis yang menonton lapisan mengenai pencegahan betina di dasar undang-undang muslim kerana berzina.'])"
      ]
     },
     "execution_count": 16,
     "metadata": {},
     "output_type": "execute_result"
    }
   ],
   "source": [
    "aug = [' '.join(augmentation(x[0])) for _ in range(3)]\n",
    "aug = list(set(aug))\n",
    "x[0], aug"
   ]
  },
  {
   "cell_type": "code",
   "execution_count": 17,
   "metadata": {},
   "outputs": [
    {
     "name": "stderr",
     "output_type": "stream",
     "text": [
      "100%|██████████| 34089/34089 [01:45<00:00, 323.18it/s]\n"
     ]
    }
   ],
   "source": [
    "from tqdm import tqdm\n",
    "\n",
    "X, Y = [], []\n",
    "\n",
    "for i in tqdm(range(len(train_X))):\n",
    "    aug = [' '.join(augmentation(train_X[i])) for _ in range(3)]\n",
    "    aug.append(train_X[i])\n",
    "    aug = list(set(aug))\n",
    "    X.extend(aug)\n",
    "    Y.extend([train_Y[i]] * len(aug))"
   ]
  },
  {
   "cell_type": "code",
   "execution_count": 19,
   "metadata": {},
   "outputs": [
    {
     "data": {
      "text/plain": [
       "(135615, 135615)"
      ]
     },
     "execution_count": 19,
     "metadata": {},
     "output_type": "execute_result"
    }
   ],
   "source": [
    "len(X), len(Y)"
   ]
  },
  {
   "cell_type": "code",
   "execution_count": 20,
   "metadata": {},
   "outputs": [],
   "source": [
    "X, Y = shuffle(X, Y)"
   ]
  },
  {
   "cell_type": "code",
   "execution_count": 21,
   "metadata": {},
   "outputs": [],
   "source": [
    "import pickle\n",
    "\n",
    "with open('relevant-dataset.pkl', 'wb') as fopen:\n",
    "    pickle.dump({'train_X': X, 'train_Y': Y,\n",
    "                'test_X': test_X, 'test_Y': test_Y}, fopen)"
   ]
  },
  {
   "cell_type": "code",
   "execution_count": null,
   "metadata": {},
   "outputs": [],
   "source": []
  }
 ],
 "metadata": {
  "kernelspec": {
   "display_name": "Python 3",
   "language": "python",
   "name": "python3"
  },
  "language_info": {
   "codemirror_mode": {
    "name": "ipython",
    "version": 3
   },
   "file_extension": ".py",
   "mimetype": "text/x-python",
   "name": "python",
   "nbconvert_exporter": "python",
   "pygments_lexer": "ipython3",
   "version": "3.6.8"
  }
 },
 "nbformat": 4,
 "nbformat_minor": 2
}
