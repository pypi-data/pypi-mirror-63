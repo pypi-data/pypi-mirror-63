{
 "cells": [
  {
   "cell_type": "code",
   "execution_count": 1,
   "metadata": {},
   "outputs": [],
   "source": [
    "# !wget http://downloads.tatoeba.org/exports/sentences.tar.bz2\n",
    "# !bunzip2 sentences.tar.bz2\n",
    "# !tar xvf sentences.tar"
   ]
  },
  {
   "cell_type": "code",
   "execution_count": 2,
   "metadata": {},
   "outputs": [
    {
     "data": {
      "text/html": [
       "<div>\n",
       "<style scoped>\n",
       "    .dataframe tbody tr th:only-of-type {\n",
       "        vertical-align: middle;\n",
       "    }\n",
       "\n",
       "    .dataframe tbody tr th {\n",
       "        vertical-align: top;\n",
       "    }\n",
       "\n",
       "    .dataframe thead th {\n",
       "        text-align: right;\n",
       "    }\n",
       "</style>\n",
       "<table border=\"1\" class=\"dataframe\">\n",
       "  <thead>\n",
       "    <tr style=\"text-align: right;\">\n",
       "      <th></th>\n",
       "      <th>1</th>\n",
       "      <th>cmn</th>\n",
       "      <th>我們試試看！</th>\n",
       "    </tr>\n",
       "  </thead>\n",
       "  <tbody>\n",
       "    <tr>\n",
       "      <th>0</th>\n",
       "      <td>2</td>\n",
       "      <td>cmn</td>\n",
       "      <td>我该去睡觉了。</td>\n",
       "    </tr>\n",
       "    <tr>\n",
       "      <th>1</th>\n",
       "      <td>3</td>\n",
       "      <td>cmn</td>\n",
       "      <td>你在干什麼啊？</td>\n",
       "    </tr>\n",
       "    <tr>\n",
       "      <th>2</th>\n",
       "      <td>4</td>\n",
       "      <td>cmn</td>\n",
       "      <td>這是什麼啊？</td>\n",
       "    </tr>\n",
       "    <tr>\n",
       "      <th>3</th>\n",
       "      <td>5</td>\n",
       "      <td>cmn</td>\n",
       "      <td>今天是６月１８号，也是Muiriel的生日！</td>\n",
       "    </tr>\n",
       "    <tr>\n",
       "      <th>4</th>\n",
       "      <td>6</td>\n",
       "      <td>cmn</td>\n",
       "      <td>生日快乐，Muiriel！</td>\n",
       "    </tr>\n",
       "  </tbody>\n",
       "</table>\n",
       "</div>"
      ],
      "text/plain": [
       "   1  cmn                  我們試試看！\n",
       "0  2  cmn                 我该去睡觉了。\n",
       "1  3  cmn                 你在干什麼啊？\n",
       "2  4  cmn                  這是什麼啊？\n",
       "3  5  cmn  今天是６月１８号，也是Muiriel的生日！\n",
       "4  6  cmn           生日快乐，Muiriel！"
      ]
     },
     "execution_count": 2,
     "metadata": {},
     "output_type": "execute_result"
    }
   ],
   "source": [
    "import pandas as pd\n",
    "\n",
    "df = pd.read_csv('sentences.csv', sep = '\\t')\n",
    "df.head()"
   ]
  },
  {
   "cell_type": "code",
   "execution_count": 3,
   "metadata": {},
   "outputs": [],
   "source": [
    "eng = df.loc[df['cmn'] == 'eng']\n",
    "eng = eng.sample(n = 500000)\n",
    "eng = eng.iloc[:,-1].tolist()"
   ]
  },
  {
   "cell_type": "code",
   "execution_count": 4,
   "metadata": {},
   "outputs": [],
   "source": [
    "cmn = df.loc[df['cmn'] == 'cmn']\n",
    "cmn = cmn.iloc[:,-1].tolist()"
   ]
  },
  {
   "cell_type": "code",
   "execution_count": 5,
   "metadata": {},
   "outputs": [],
   "source": [
    "import re\n",
    "import cleaning\n",
    "from tqdm import tqdm\n",
    "\n",
    "def preprocessing(string):\n",
    "    string = re.sub(\n",
    "        'http\\S+|www.\\S+',\n",
    "        '',\n",
    "        ' '.join(\n",
    "            [i for i in string.split() if i.find('#') < 0 and i.find('@') < 0]\n",
    "        ),\n",
    "    )\n",
    "    \n",
    "    chars = ',.()!:\\'\"/;=-'\n",
    "    for c in chars:\n",
    "        string = string.replace(c, f' {c} ')\n",
    "        \n",
    "    string = re.sub(\n",
    "        u'[0-9!@#$%^&*()_\\-+{}|\\~`\\'\";:?/.>,<]',\n",
    "        ' ',\n",
    "        string,\n",
    "        flags = re.UNICODE,\n",
    "    )\n",
    "    string = re.sub(r'[ ]+', ' ', string).strip()\n",
    "    \n",
    "    return string.lower()\n",
    "\n",
    "def loop(strings):\n",
    "    for i in tqdm(range(len(strings))):\n",
    "        strings[i] = preprocessing(strings[i])\n",
    "    return strings"
   ]
  },
  {
   "cell_type": "code",
   "execution_count": 6,
   "metadata": {
    "scrolled": true
   },
   "outputs": [
    {
     "name": "stderr",
     "output_type": "stream",
     "text": [
      "100%|██████████| 31250/31250 [00:00<00:00, 68720.18it/s]\n",
      "100%|██████████| 31250/31250 [00:00<00:00, 65161.03it/s]\n",
      "100%|██████████| 31250/31250 [00:00<00:00, 67952.25it/s]\n",
      "100%|██████████| 31250/31250 [00:00<00:00, 61597.20it/s]\n",
      "100%|██████████| 31250/31250 [00:00<00:00, 63790.44it/s]\n",
      " 84%|████████▍ | 26250/31250 [00:00<00:00, 64412.25it/s]\n",
      "\n",
      "100%|██████████| 31250/31250 [00:00<00:00, 56553.45it/s]\n",
      "100%|██████████| 31250/31250 [00:00<00:00, 67175.00it/s]\n",
      "100%|██████████| 31250/31250 [00:00<00:00, 61307.99it/s]\n",
      "100%|██████████| 31250/31250 [00:00<00:00, 67666.30it/s]\n",
      "100%|██████████| 31250/31250 [00:00<00:00, 59015.12it/s]\n",
      "100%|██████████| 31250/31250 [00:00<00:00, 67078.61it/s]\n",
      "100%|██████████| 31250/31250 [00:00<00:00, 66392.40it/s]\n",
      "100%|██████████| 31250/31250 [00:00<00:00, 56988.22it/s]\n",
      "100%|██████████| 31250/31250 [00:00<00:00, 58814.03it/s]\n"
     ]
    }
   ],
   "source": [
    "eng = cleaning.multiprocessing(eng, loop)"
   ]
  },
  {
   "cell_type": "code",
   "execution_count": 7,
   "metadata": {},
   "outputs": [
    {
     "data": {
      "text/plain": [
       "['he stuck to the original plan',\n",
       " 'i ve been short of breath lately',\n",
       " 'tom gives to many charities',\n",
       " 'this is still my office right',\n",
       " 'i struck up an acquaintance with tom',\n",
       " 'together they had eight children',\n",
       " 'has tom come back already',\n",
       " 'sami was in love with a cheerleader',\n",
       " 'sami regrets his decision',\n",
       " 'it might ve taken longer if tom hadn t helped us']"
      ]
     },
     "execution_count": 7,
     "metadata": {},
     "output_type": "execute_result"
    }
   ],
   "source": [
    "eng[:10]"
   ]
  },
  {
   "cell_type": "code",
   "execution_count": 8,
   "metadata": {},
   "outputs": [],
   "source": [
    "import json\n",
    "\n",
    "with open('eng.json', 'w') as fopen:\n",
    "    json.dump(eng, fopen)"
   ]
  },
  {
   "cell_type": "code",
   "execution_count": 9,
   "metadata": {},
   "outputs": [
    {
     "name": "stderr",
     "output_type": "stream",
     "text": [
      "100%|██████████| 3823/3823 [00:00<00:00, 94857.60it/s]\n",
      "\n",
      "100%|██████████| 14/14 [00:00<00:00, 51105.53it/s]t/s]\n",
      "\n",
      "100%|██████████| 3823/3823 [00:00<00:00, 97647.69it/s]\n",
      "100%|██████████| 3823/3823 [00:00<00:00, 78636.39it/s]\n",
      "\n",
      "100%|██████████| 3823/3823 [00:00<00:00, 100199.49it/s]\n",
      "\n",
      "100%|██████████| 3823/3823 [00:00<00:00, 93587.01it/s]\n",
      "100%|██████████| 3823/3823 [00:00<00:00, 98831.54it/s]\n",
      "\n",
      "100%|██████████| 3823/3823 [00:00<00:00, 95200.58it/s]\n",
      "100%|██████████| 3823/3823 [00:00<00:00, 103996.63it/s]\n",
      "100%|██████████| 3823/3823 [00:00<00:00, 92974.91it/s]\n",
      "100%|██████████| 3823/3823 [00:00<00:00, 101283.66it/s]\n",
      "\n"
     ]
    }
   ],
   "source": [
    "cmn = cleaning.multiprocessing(cmn, loop)"
   ]
  },
  {
   "cell_type": "code",
   "execution_count": 10,
   "metadata": {
    "scrolled": true
   },
   "outputs": [
    {
     "data": {
      "text/plain": [
       "['我该去睡觉了。',\n",
       " '你在干什麼啊？',\n",
       " '這是什麼啊？',\n",
       " '今天是６月１８号，也是muiriel的生日！',\n",
       " '生日快乐，muiriel！',\n",
       " 'muiriel现在 岁了。',\n",
       " '密码是 muiriel 。',\n",
       " '我很快就會回來。',\n",
       " '我不知道。',\n",
       " '我不知道應該說什麼才好。',\n",
       " '這個永遠完不了了。',\n",
       " '我只是不知道應該說什麼而已……',\n",
       " '那是一隻有惡意的兔子。',\n",
       " '我以前在山里。',\n",
       " '那是一张近照吗？',\n",
       " '我不知道我有沒有時間。',\n",
       " '剛才我的麥克風沒起作用，不知道為什麼。',\n",
       " '到了最後，大家一定要靠自己學習。',\n",
       " '世界上的教育都讓我失望。',\n",
       " '选择什么是“对”或“错”是一项艰难的任务，我们却必须要完成它。',\n",
       " '這樣做的話什麼都不會改變的。',\n",
       " '這個要三十歐元。',\n",
       " '我一天賺一百歐元。',\n",
       " '也许我会马上放弃然后去睡一觉。',\n",
       " '那是不會發生的。',\n",
       " '我会尽量不打扰你复习。',\n",
       " '不要擔心。',\n",
       " '我很想你。',\n",
       " '我明天回來的時候會跟他們聯絡。',\n",
       " '我一直都比較喜歡神秘一點的人物。',\n",
       " '你應該去睡覺了吧。',\n",
       " '我要走了。',\n",
       " '我請他們再寄給我一張票。',\n",
       " '我不能活那種命。',\n",
       " '我曾經想過當個太空物理學家。',\n",
       " '我從來沒喜歡過生物學。',\n",
       " '可惜这是真的。',\n",
       " '大部份的人覺得我瘋了。',\n",
       " '不，我不是！你才是！',\n",
       " '那是我該說的話',\n",
       " '他在踢我！',\n",
       " '你肯定吗？',\n",
       " '那就表示有問題',\n",
       " '哦！有一隻蝴蝶！',\n",
       " '趕快',\n",
       " '如果我可以像那樣的話',\n",
       " '你是在跟我開玩笑吧？！',\n",
       " '我長大後想當國王。',\n",
       " '我好胖哦。',\n",
       " '那又怎樣',\n",
       " '我要把他射下來。',\n",
       " '那是因為妳是女生。',\n",
       " '我会不高兴，但我不会自杀。',\n",
       " '以前讀高中的時候﹐我每天早上六點起床。',\n",
       " '你問這個幹什麼',\n",
       " '你待了多久',\n",
       " '我不知道它是从哪里来的。',\n",
       " '這個不重要。',\n",
       " '哪裡有問題',\n",
       " '不要再把我当成“正常” 人',\n",
       " '所有被发明的都是真的。',\n",
       " '感到惊讶、感到惊奇就是明白的开始。',\n",
       " '宇宙毫无疑问是无限的。',\n",
       " '要变得完美，她就是少了一个缺点。',\n",
       " '然而，相反的理论往往也是真的。',\n",
       " '我们看东西不是看其实质，而是以我们的主观意识看它们的。',\n",
       " '世界就是一个疯子的囚笼。',\n",
       " '我叫jack。',\n",
       " '从来就没有徒劳的爱情。',\n",
       " '生活就是當你忙著進行你的計劃時總有其他的事情發生。',\n",
       " '没有欲望就等于拥有。',\n",
       " '聖誕節快樂！',\n",
       " '罗马不是一天建成的。',\n",
       " '你是从哪个国家来的？',\n",
       " '我已经看过这部电影了。',\n",
       " '在墨西哥，有很多平民窟。',\n",
       " '这间房间朝向很好。',\n",
       " '你知不知道他们是谁',\n",
       " '你骗人！',\n",
       " '他也会说法语。',\n",
       " '我会说法语。',\n",
       " '我收到了请帖。',\n",
       " '你住在哪里？',\n",
       " '你记不记得我们认识的那一天？',\n",
       " '他住在这里吗？',\n",
       " '火车站离这里不远。',\n",
       " '火车站在哪里',\n",
       " '正在下雹。',\n",
       " '我爱你。',\n",
       " '我喜欢旅行。',\n",
       " '我很期待去旅游',\n",
       " '我在旅行社工作',\n",
       " '我跟父母住在一起',\n",
       " '他没有孩子',\n",
       " '这是我的妈妈',\n",
       " '以后再讲。',\n",
       " '我真的不知道。',\n",
       " '人人都愿意相信美梦可以成真。',\n",
       " '十分感谢。',\n",
       " '我跟父母联络了一下。']"
      ]
     },
     "execution_count": 10,
     "metadata": {},
     "output_type": "execute_result"
    }
   ],
   "source": [
    "cmn[:100]"
   ]
  },
  {
   "cell_type": "code",
   "execution_count": 11,
   "metadata": {},
   "outputs": [],
   "source": [
    "import json\n",
    "\n",
    "with open('cmn.json', 'w') as fopen:\n",
    "    json.dump(cmn, fopen)"
   ]
  }
 ],
 "metadata": {
  "kernelspec": {
   "display_name": "Python 3",
   "language": "python",
   "name": "python3"
  },
  "language_info": {
   "codemirror_mode": {
    "name": "ipython",
    "version": 3
   },
   "file_extension": ".py",
   "mimetype": "text/x-python",
   "name": "python",
   "nbconvert_exporter": "python",
   "pygments_lexer": "ipython3",
   "version": "3.6.8"
  }
 },
 "nbformat": 4,
 "nbformat_minor": 2
}
