{
 "cells": [
  {
   "cell_type": "code",
   "execution_count": 1,
   "metadata": {},
   "outputs": [],
   "source": [
    "import json"
   ]
  },
  {
   "cell_type": "code",
   "execution_count": 3,
   "metadata": {},
   "outputs": [
    {
     "data": {
      "text/plain": [
       "695571"
      ]
     },
     "execution_count": 3,
     "metadata": {},
     "output_type": "execute_result"
    }
   ],
   "source": [
    "with open('../dumping-instagram-6-july-2019.json') as fopen:\n",
    "    instagram = json.load(fopen)\n",
    "    \n",
    "len(instagram)"
   ]
  },
  {
   "cell_type": "code",
   "execution_count": 4,
   "metadata": {},
   "outputs": [
    {
     "data": {
      "text/plain": [
       "6597867"
      ]
     },
     "execution_count": 4,
     "metadata": {},
     "output_type": "execute_result"
    }
   ],
   "source": [
    "with open('../dumping-twitter-6-july-2019.json') as fopen:\n",
    "    twitter = json.load(fopen)\n",
    "    \n",
    "len(twitter)"
   ]
  },
  {
   "cell_type": "code",
   "execution_count": 5,
   "metadata": {},
   "outputs": [],
   "source": [
    "import cleaning"
   ]
  },
  {
   "cell_type": "code",
   "execution_count": 6,
   "metadata": {},
   "outputs": [],
   "source": [
    "twitter = twitter + instagram"
   ]
  },
  {
   "cell_type": "code",
   "execution_count": 9,
   "metadata": {},
   "outputs": [],
   "source": [
    "import re\n",
    "from tqdm import tqdm\n",
    "\n",
    "def preprocessing(string):\n",
    "    string = re.sub(\n",
    "        'http\\S+|www.\\S+',\n",
    "        '',\n",
    "        ' '.join(\n",
    "            [i for i in string.split() if i.find('#') < 0 and i.find('@') < 0]\n",
    "        ),\n",
    "    )\n",
    "    \n",
    "    chars = ',.()!:\\'\"/;=-'\n",
    "    for c in chars:\n",
    "        string = string.replace(c, f' {c} ')\n",
    "        \n",
    "    string = re.sub(\n",
    "        u'[0-9!@#$%^&*()_\\-+{}|\\~`\\'\";:?/.>,<]',\n",
    "        ' ',\n",
    "        string,\n",
    "        flags = re.UNICODE,\n",
    "    )\n",
    "    string = re.sub(r'[ ]+', ' ', string).strip()\n",
    "    \n",
    "    return string.lower()\n",
    "\n",
    "def loop(strings):\n",
    "    for i in tqdm(range(len(strings))):\n",
    "        strings[i] = preprocessing(strings[i])\n",
    "    return strings"
   ]
  },
  {
   "cell_type": "code",
   "execution_count": 10,
   "metadata": {},
   "outputs": [
    {
     "name": "stderr",
     "output_type": "stream",
     "text": [
      "100%|██████████| 455839/455839 [00:08<00:00, 55979.98it/s]\n",
      "100%|██████████| 14/14 [00:00<00:00, 11732.32it/s]23it/s]]\n",
      "100%|██████████| 455839/455839 [00:08<00:00, 53670.61it/s]\n",
      "100%|██████████| 455839/455839 [00:08<00:00, 51695.50it/s]\n",
      "100%|██████████| 455839/455839 [00:08<00:00, 53214.71it/s]\n",
      "100%|██████████| 455839/455839 [00:08<00:00, 53148.60it/s]\n",
      " 98%|█████████▊| 447242/455839 [00:08<00:00, 56112.58it/s]\n",
      "100%|██████████| 455839/455839 [00:08<00:00, 55327.55it/s]\n",
      "100%|██████████| 455839/455839 [00:08<00:00, 52428.78it/s]\n",
      "100%|██████████| 455839/455839 [00:08<00:00, 53209.20it/s]\n",
      "100%|██████████| 455839/455839 [00:08<00:00, 55548.92it/s]\n",
      " 94%|█████████▍| 429177/455839 [00:08<00:00, 54150.20it/s]\n",
      "100%|██████████| 455839/455839 [00:08<00:00, 53523.96it/s]\n",
      "100%|██████████| 455839/455839 [00:08<00:00, 54085.73it/s]\n",
      "100%|██████████| 455839/455839 [00:08<00:00, 53299.14it/s]\n",
      "100%|██████████| 455839/455839 [00:20<00:00, 21995.08it/s]\n",
      "100%|██████████| 455839/455839 [00:32<00:00, 14181.86it/s]\n"
     ]
    },
    {
     "name": "stdout",
     "output_type": "stream",
     "text": [
      "CPU times: user 4.66 s, sys: 4.27 s, total: 8.92 s\n",
      "Wall time: 39.3 s\n"
     ]
    }
   ],
   "source": [
    "%%time\n",
    "\n",
    "twitter = cleaning.multiprocessing(twitter, loop)"
   ]
  },
  {
   "cell_type": "code",
   "execution_count": 11,
   "metadata": {},
   "outputs": [
    {
     "name": "stdout",
     "output_type": "stream",
     "text": [
      "CPU times: user 3.2 s, sys: 2.17 s, total: 5.37 s\n",
      "Wall time: 10.8 s\n"
     ]
    }
   ],
   "source": [
    "%%time\n",
    "\n",
    "temp_vocab = list(set(cleaning.multiprocessing(twitter, cleaning.unique_words)))"
   ]
  },
  {
   "cell_type": "code",
   "execution_count": 12,
   "metadata": {},
   "outputs": [
    {
     "name": "stdout",
     "output_type": "stream",
     "text": [
      "0\n",
      "CPU times: user 343 ms, sys: 874 ms, total: 1.22 s\n",
      "Wall time: 2.45 s\n"
     ]
    }
   ],
   "source": [
    "%%time\n",
    "temp_dict = cleaning.multiprocessing(temp_vocab, cleaning.duplicate_dots_marks_exclamations, list_mode = False)\n",
    "print(len(temp_dict))"
   ]
  },
  {
   "cell_type": "code",
   "execution_count": 13,
   "metadata": {},
   "outputs": [
    {
     "name": "stderr",
     "output_type": "stream",
     "text": [
      "100%|██████████| 455839/455839 [00:01<00:00, 249684.56it/s]\n",
      "100%|██████████| 455839/455839 [00:01<00:00, 251270.08it/s]\n",
      "100%|██████████| 455839/455839 [00:01<00:00, 244045.87it/s]\n",
      "100%|██████████| 455839/455839 [00:01<00:00, 248003.58it/s]\n",
      "100%|██████████| 455839/455839 [00:01<00:00, 252585.41it/s]\n",
      "100%|██████████| 455839/455839 [00:01<00:00, 249636.58it/s]\n",
      "100%|██████████| 455839/455839 [00:01<00:00, 245299.75it/s]\n",
      "100%|██████████| 455839/455839 [00:01<00:00, 242354.31it/s]\n",
      "100%|██████████| 455839/455839 [00:01<00:00, 250263.08it/s]\n",
      "100%|██████████| 14/14 [00:00<00:00, 16620.51it/s]6.32it/s]\n",
      "100%|██████████| 455839/455839 [00:01<00:00, 246815.88it/s]\n",
      " 59%|█████▉    | 267882/455839 [00:01<00:00, 244164.31it/s]\n",
      "100%|██████████| 455839/455839 [00:01<00:00, 249467.33it/s]\n",
      "100%|██████████| 455839/455839 [00:01<00:00, 247295.60it/s]\n",
      "100%|██████████| 455839/455839 [00:01<00:00, 244213.20it/s]\n",
      "100%|██████████| 455839/455839 [00:04<00:00, 93966.07it/s] \n",
      "100%|██████████| 455839/455839 [00:07<00:00, 58558.69it/s]\n"
     ]
    },
    {
     "name": "stdout",
     "output_type": "stream",
     "text": [
      "CPU times: user 4.11 s, sys: 3.58 s, total: 7.68 s\n",
      "Wall time: 14.7 s\n"
     ]
    }
   ],
   "source": [
    "%%time\n",
    "\n",
    "twitter = cleaning.multiprocessing_multiple(twitter, temp_dict, cleaning.string_dict_cleaning)"
   ]
  },
  {
   "cell_type": "code",
   "execution_count": 14,
   "metadata": {},
   "outputs": [
    {
     "name": "stdout",
     "output_type": "stream",
     "text": [
      "0\n",
      "CPU times: user 272 ms, sys: 941 ms, total: 1.21 s\n",
      "Wall time: 1.58 s\n"
     ]
    }
   ],
   "source": [
    "%%time\n",
    "temp_dict = cleaning.multiprocessing(temp_vocab, cleaning.remove_underscore, list_mode = False)\n",
    "print(len(temp_dict))"
   ]
  },
  {
   "cell_type": "code",
   "execution_count": 15,
   "metadata": {},
   "outputs": [
    {
     "name": "stderr",
     "output_type": "stream",
     "text": [
      "100%|██████████| 455839/455839 [00:01<00:00, 246473.07it/s]\n",
      "100%|██████████| 455839/455839 [00:01<00:00, 244523.48it/s]\n",
      "100%|██████████| 455839/455839 [00:01<00:00, 249540.62it/s]\n",
      "100%|██████████| 455839/455839 [00:01<00:00, 240421.30it/s]\n",
      "100%|██████████| 455839/455839 [00:01<00:00, 247885.80it/s]\n",
      "100%|██████████| 455839/455839 [00:01<00:00, 251756.98it/s]\n",
      "100%|██████████| 455839/455839 [00:01<00:00, 240456.83it/s]\n",
      "100%|██████████| 455839/455839 [00:01<00:00, 246540.13it/s]\n",
      "100%|██████████| 14/14 [00:00<00:00, 15671.27it/s]7.49it/s]\n",
      "100%|██████████| 455839/455839 [00:01<00:00, 245562.13it/s]\n",
      "100%|██████████| 455839/455839 [00:02<00:00, 211940.22it/s]\n",
      "100%|██████████| 455839/455839 [00:02<00:00, 208431.45it/s]\n",
      "100%|██████████| 455839/455839 [00:02<00:00, 207870.20it/s]\n",
      "100%|██████████| 455839/455839 [00:02<00:00, 208559.69it/s]\n",
      "100%|██████████| 455839/455839 [00:01<00:00, 246497.44it/s]\n",
      "100%|██████████| 455839/455839 [00:04<00:00, 94890.59it/s] \n",
      "100%|██████████| 455839/455839 [00:07<00:00, 59117.90it/s]\n"
     ]
    },
    {
     "name": "stdout",
     "output_type": "stream",
     "text": [
      "CPU times: user 4.38 s, sys: 3.66 s, total: 8.04 s\n",
      "Wall time: 15.5 s\n"
     ]
    }
   ],
   "source": [
    "%%time\n",
    "\n",
    "twitter = cleaning.multiprocessing_multiple(twitter, temp_dict, cleaning.string_dict_cleaning)"
   ]
  },
  {
   "cell_type": "code",
   "execution_count": 16,
   "metadata": {},
   "outputs": [
    {
     "name": "stdout",
     "output_type": "stream",
     "text": [
      "12\n",
      "CPU times: user 271 ms, sys: 999 ms, total: 1.27 s\n",
      "Wall time: 1.64 s\n"
     ]
    }
   ],
   "source": [
    "%%time\n",
    "temp_dict = cleaning.multiprocessing(temp_vocab, cleaning.isolate_spamchars, list_mode = False)\n",
    "print(len(temp_dict))"
   ]
  },
  {
   "cell_type": "code",
   "execution_count": 17,
   "metadata": {},
   "outputs": [
    {
     "name": "stderr",
     "output_type": "stream",
     "text": [
      "100%|██████████| 455839/455839 [00:01<00:00, 233730.26it/s]\n",
      "100%|██████████| 455839/455839 [00:01<00:00, 241294.80it/s]\n",
      "100%|██████████| 455839/455839 [00:01<00:00, 230811.28it/s]\n",
      "100%|██████████| 455839/455839 [00:01<00:00, 231183.48it/s]\n",
      "100%|██████████| 455839/455839 [00:01<00:00, 234122.29it/s]\n",
      "100%|██████████| 455839/455839 [00:01<00:00, 229777.28it/s]\n",
      "100%|██████████| 455839/455839 [00:01<00:00, 235123.03it/s]\n",
      "100%|██████████| 455839/455839 [00:01<00:00, 238677.53it/s]\n",
      "100%|██████████| 14/14 [00:00<00:00, 15891.81it/s]8.21it/s]\n",
      "100%|██████████| 455839/455839 [00:01<00:00, 234504.87it/s]\n",
      "100%|██████████| 455839/455839 [00:01<00:00, 233020.07it/s]\n",
      "100%|██████████| 455839/455839 [00:01<00:00, 241042.34it/s]\n",
      "100%|██████████| 455839/455839 [00:01<00:00, 238815.54it/s]\n",
      "100%|██████████| 455839/455839 [00:01<00:00, 238576.21it/s]\n",
      "100%|██████████| 455839/455839 [00:01<00:00, 233619.97it/s]\n",
      "100%|██████████| 455839/455839 [00:04<00:00, 91310.67it/s] \n",
      "100%|██████████| 455839/455839 [00:07<00:00, 58342.16it/s]\n"
     ]
    },
    {
     "name": "stdout",
     "output_type": "stream",
     "text": [
      "CPU times: user 4.08 s, sys: 3.35 s, total: 7.42 s\n",
      "Wall time: 14.4 s\n"
     ]
    }
   ],
   "source": [
    "%%time\n",
    "\n",
    "twitter = cleaning.multiprocessing_multiple(twitter, temp_dict, cleaning.string_dict_cleaning)"
   ]
  },
  {
   "cell_type": "code",
   "execution_count": 18,
   "metadata": {},
   "outputs": [
    {
     "name": "stdout",
     "output_type": "stream",
     "text": [
      "0\n",
      "CPU times: user 293 ms, sys: 1.01 s, total: 1.3 s\n",
      "Wall time: 1.49 s\n"
     ]
    }
   ],
   "source": [
    "%%time\n",
    "temp_dict = cleaning.multiprocessing(temp_vocab, cleaning.break_short_words, list_mode = False)\n",
    "print(len(temp_dict))"
   ]
  },
  {
   "cell_type": "code",
   "execution_count": 19,
   "metadata": {},
   "outputs": [
    {
     "name": "stderr",
     "output_type": "stream",
     "text": [
      "100%|██████████| 455839/455839 [00:01<00:00, 238264.72it/s]\n",
      "100%|██████████| 455839/455839 [00:01<00:00, 238930.26it/s]\n",
      "100%|██████████| 455839/455839 [00:01<00:00, 245471.87it/s]\n",
      "100%|██████████| 455839/455839 [00:01<00:00, 238193.48it/s]\n",
      "100%|██████████| 455839/455839 [00:01<00:00, 241218.18it/s]\n",
      "100%|██████████| 455839/455839 [00:01<00:00, 244326.83it/s]\n",
      "100%|██████████| 455839/455839 [00:01<00:00, 241164.72it/s]\n",
      "100%|██████████| 455839/455839 [00:01<00:00, 246171.02it/s]\n",
      "100%|██████████| 455839/455839 [00:01<00:00, 246002.32it/s]\n",
      "100%|██████████| 14/14 [00:00<00:00, 16517.65it/s]2.67it/s]\n",
      " 77%|███████▋  | 350372/455839 [00:01<00:00, 244478.14it/s]\n",
      "100%|██████████| 455839/455839 [00:01<00:00, 236409.71it/s]\n",
      "100%|██████████| 455839/455839 [00:01<00:00, 235822.99it/s]\n",
      "100%|██████████| 455839/455839 [00:01<00:00, 247127.79it/s]\n",
      "100%|██████████| 455839/455839 [00:01<00:00, 248757.32it/s]\n",
      "100%|██████████| 455839/455839 [00:04<00:00, 96278.72it/s] \n",
      "100%|██████████| 455839/455839 [00:07<00:00, 59905.23it/s]\n"
     ]
    },
    {
     "name": "stdout",
     "output_type": "stream",
     "text": [
      "CPU times: user 3.88 s, sys: 3.46 s, total: 7.34 s\n",
      "Wall time: 14.5 s\n"
     ]
    }
   ],
   "source": [
    "%%time\n",
    "\n",
    "twitter = cleaning.multiprocessing_multiple(twitter, temp_dict, cleaning.string_dict_cleaning)"
   ]
  },
  {
   "cell_type": "code",
   "execution_count": 20,
   "metadata": {},
   "outputs": [
    {
     "name": "stdout",
     "output_type": "stream",
     "text": [
      "0\n",
      "CPU times: user 262 ms, sys: 1.05 s, total: 1.31 s\n",
      "Wall time: 1.52 s\n"
     ]
    }
   ],
   "source": [
    "%%time\n",
    "temp_dict = cleaning.multiprocessing(temp_vocab, cleaning.break_long_words, list_mode = False)\n",
    "print(len(temp_dict))"
   ]
  },
  {
   "cell_type": "code",
   "execution_count": 21,
   "metadata": {},
   "outputs": [
    {
     "name": "stderr",
     "output_type": "stream",
     "text": [
      "100%|██████████| 455839/455839 [00:01<00:00, 240775.00it/s]\n",
      "100%|██████████| 455839/455839 [00:01<00:00, 245148.37it/s]\n",
      "100%|██████████| 455839/455839 [00:01<00:00, 242157.43it/s]\n",
      "100%|██████████| 455839/455839 [00:01<00:00, 249877.06it/s]\n",
      "100%|██████████| 455839/455839 [00:01<00:00, 243269.91it/s]\n",
      " 81%|████████▏ | 370546/455839 [00:01<00:00, 250943.29it/s]\n",
      "100%|██████████| 455839/455839 [00:01<00:00, 241423.44it/s]\n",
      "100%|██████████| 455839/455839 [00:01<00:00, 247637.52it/s]\n",
      "100%|██████████| 455839/455839 [00:01<00:00, 248700.88it/s]\n",
      "100%|██████████| 14/14 [00:00<00:00, 18832.67it/s]5.84it/s]\n",
      "100%|██████████| 455839/455839 [00:01<00:00, 249385.33it/s]\n",
      "100%|██████████| 455839/455839 [00:01<00:00, 250314.49it/s]\n",
      "100%|██████████| 455839/455839 [00:01<00:00, 235718.06it/s]\n",
      "100%|██████████| 455839/455839 [00:01<00:00, 245353.17it/s]\n",
      "100%|██████████| 455839/455839 [00:01<00:00, 248383.48it/s]\n",
      "100%|██████████| 455839/455839 [00:04<00:00, 95335.70it/s] \n",
      "100%|██████████| 455839/455839 [00:07<00:00, 61398.61it/s]\n"
     ]
    },
    {
     "name": "stdout",
     "output_type": "stream",
     "text": [
      "CPU times: user 4.02 s, sys: 3.33 s, total: 7.36 s\n",
      "Wall time: 14.4 s\n"
     ]
    }
   ],
   "source": [
    "%%time\n",
    "\n",
    "twitter = cleaning.multiprocessing_multiple(twitter, temp_dict, cleaning.string_dict_cleaning)"
   ]
  },
  {
   "cell_type": "code",
   "execution_count": 22,
   "metadata": {},
   "outputs": [
    {
     "name": "stdout",
     "output_type": "stream",
     "text": [
      "0\n",
      "CPU times: user 267 ms, sys: 1 s, total: 1.27 s\n",
      "Wall time: 1.46 s\n"
     ]
    }
   ],
   "source": [
    "%%time\n",
    "temp_dict = cleaning.multiprocessing(temp_vocab, cleaning.remove_ending_underscore, list_mode = False)\n",
    "print(len(temp_dict))"
   ]
  },
  {
   "cell_type": "code",
   "execution_count": 23,
   "metadata": {},
   "outputs": [
    {
     "name": "stderr",
     "output_type": "stream",
     "text": [
      "100%|██████████| 455839/455839 [00:01<00:00, 248461.14it/s]\n",
      "100%|██████████| 455839/455839 [00:01<00:00, 239587.22it/s]\n",
      "100%|██████████| 455839/455839 [00:01<00:00, 246853.92it/s]\n",
      "100%|██████████| 455839/455839 [00:01<00:00, 245287.70it/s]\n",
      " 26%|██▌       | 118419/455839 [00:00<00:01, 235858.09it/s]\n",
      "100%|██████████| 455839/455839 [00:01<00:00, 247002.95it/s]\n",
      "100%|██████████| 455839/455839 [00:01<00:00, 238605.42it/s]\n",
      "100%|██████████| 455839/455839 [00:01<00:00, 244930.48it/s]\n",
      "100%|██████████| 455839/455839 [00:01<00:00, 247396.36it/s]\n",
      "100%|██████████| 14/14 [00:00<00:00, 14650.76it/s]7.77it/s]\n",
      "100%|██████████| 455839/455839 [00:01<00:00, 244504.09it/s]\n",
      "100%|██████████| 455839/455839 [00:01<00:00, 244644.06it/s]\n",
      "100%|██████████| 455839/455839 [00:01<00:00, 240511.16it/s]\n",
      "100%|██████████| 455839/455839 [00:01<00:00, 243577.05it/s]\n",
      "100%|██████████| 455839/455839 [00:01<00:00, 245768.03it/s]\n",
      "100%|██████████| 455839/455839 [00:05<00:00, 87925.53it/s] \n",
      "100%|██████████| 455839/455839 [00:07<00:00, 59000.42it/s]\n"
     ]
    },
    {
     "name": "stdout",
     "output_type": "stream",
     "text": [
      "CPU times: user 4.11 s, sys: 3.16 s, total: 7.27 s\n",
      "Wall time: 14.5 s\n"
     ]
    }
   ],
   "source": [
    "%%time\n",
    "\n",
    "twitter = cleaning.multiprocessing_multiple(twitter, temp_dict, cleaning.string_dict_cleaning)"
   ]
  },
  {
   "cell_type": "code",
   "execution_count": 24,
   "metadata": {},
   "outputs": [
    {
     "name": "stdout",
     "output_type": "stream",
     "text": [
      "0\n",
      "CPU times: user 483 ms, sys: 1.01 s, total: 1.49 s\n",
      "Wall time: 1.64 s\n"
     ]
    }
   ],
   "source": [
    "%%time\n",
    "temp_dict = cleaning.multiprocessing(temp_vocab, cleaning.remove_starting_underscore, list_mode = False)\n",
    "print(len(temp_dict))"
   ]
  },
  {
   "cell_type": "code",
   "execution_count": 25,
   "metadata": {},
   "outputs": [
    {
     "name": "stderr",
     "output_type": "stream",
     "text": [
      "100%|██████████| 455839/455839 [00:01<00:00, 239293.11it/s]\n",
      "100%|██████████| 455839/455839 [00:01<00:00, 239944.01it/s]\n",
      " 26%|██▋       | 119990/455839 [00:00<00:01, 240286.71it/s]\n",
      "100%|██████████| 455839/455839 [00:01<00:00, 247352.13it/s]\n",
      "100%|██████████| 455839/455839 [00:01<00:00, 245057.63it/s]\n",
      "100%|██████████| 455839/455839 [00:01<00:00, 247052.97it/s]\n",
      "100%|██████████| 455839/455839 [00:01<00:00, 239366.63it/s]\n",
      "100%|██████████| 455839/455839 [00:01<00:00, 245268.13it/s]\n",
      "100%|██████████| 455839/455839 [00:01<00:00, 244379.61it/s]\n",
      "100%|██████████| 455839/455839 [00:01<00:00, 242899.69it/s]\n",
      " 27%|██▋       | 122147/455839 [00:00<00:01, 244339.39it/s]\n",
      " 32%|███▏      | 146760/455839 [00:00<00:01, 244872.68it/s]\n",
      "100%|██████████| 455839/455839 [00:01<00:00, 241180.35it/s]\n",
      "100%|██████████| 455839/455839 [00:01<00:00, 246934.62it/s]\n",
      "100%|██████████| 455839/455839 [00:01<00:00, 245069.28it/s]\n",
      "100%|██████████| 455839/455839 [00:04<00:00, 95645.58it/s] \n",
      "100%|██████████| 455839/455839 [00:07<00:00, 61220.12it/s]\n"
     ]
    },
    {
     "name": "stdout",
     "output_type": "stream",
     "text": [
      "CPU times: user 4.19 s, sys: 3.48 s, total: 7.67 s\n",
      "Wall time: 14.8 s\n"
     ]
    }
   ],
   "source": [
    "%%time\n",
    "\n",
    "twitter = cleaning.multiprocessing_multiple(twitter, temp_dict, cleaning.string_dict_cleaning)"
   ]
  },
  {
   "cell_type": "code",
   "execution_count": 26,
   "metadata": {},
   "outputs": [
    {
     "name": "stdout",
     "output_type": "stream",
     "text": [
      "6472\n",
      "CPU times: user 316 ms, sys: 969 ms, total: 1.28 s\n",
      "Wall time: 1.49 s\n"
     ]
    }
   ],
   "source": [
    "%%time\n",
    "temp_dict = cleaning.multiprocessing(temp_vocab, cleaning.end_punct, list_mode = False)\n",
    "print(len(temp_dict))"
   ]
  },
  {
   "cell_type": "code",
   "execution_count": 27,
   "metadata": {},
   "outputs": [
    {
     "name": "stderr",
     "output_type": "stream",
     "text": [
      "100%|██████████| 455839/455839 [00:01<00:00, 232266.57it/s]\n",
      "100%|██████████| 455839/455839 [00:01<00:00, 231469.24it/s]\n",
      "100%|██████████| 455839/455839 [00:01<00:00, 232642.48it/s]\n",
      "100%|██████████| 455839/455839 [00:01<00:00, 234219.26it/s]\n",
      "100%|██████████| 455839/455839 [00:01<00:00, 235645.81it/s]\n",
      "100%|██████████| 455839/455839 [00:02<00:00, 221596.71it/s]\n",
      "100%|██████████| 455839/455839 [00:01<00:00, 234803.14it/s]\n",
      "100%|██████████| 14/14 [00:00<00:00, 15188.89it/s]3.81it/s]\n",
      "100%|██████████| 455839/455839 [00:02<00:00, 220355.08it/s]\n",
      "100%|██████████| 455839/455839 [00:01<00:00, 233663.56it/s]\n",
      " 65%|██████▍   | 295506/455839 [00:01<00:00, 232815.74it/s]\n",
      "100%|██████████| 455839/455839 [00:01<00:00, 229520.64it/s]\n",
      "100%|██████████| 455839/455839 [00:01<00:00, 235178.15it/s]\n",
      "100%|██████████| 455839/455839 [00:01<00:00, 229193.00it/s]\n",
      "100%|██████████| 455839/455839 [00:01<00:00, 229903.13it/s]\n",
      "100%|██████████| 455839/455839 [00:05<00:00, 89664.69it/s] \n",
      "100%|██████████| 455839/455839 [00:07<00:00, 57131.13it/s]\n"
     ]
    },
    {
     "name": "stdout",
     "output_type": "stream",
     "text": [
      "CPU times: user 4.28 s, sys: 3.03 s, total: 7.31 s\n",
      "Wall time: 14.8 s\n"
     ]
    }
   ],
   "source": [
    "%%time\n",
    "\n",
    "twitter = cleaning.multiprocessing_multiple(twitter, temp_dict, cleaning.string_dict_cleaning)"
   ]
  },
  {
   "cell_type": "code",
   "execution_count": 28,
   "metadata": {},
   "outputs": [
    {
     "name": "stdout",
     "output_type": "stream",
     "text": [
      "6805\n",
      "CPU times: user 313 ms, sys: 1.02 s, total: 1.34 s\n",
      "Wall time: 1.51 s\n"
     ]
    }
   ],
   "source": [
    "%%time\n",
    "temp_dict = cleaning.multiprocessing(temp_vocab, cleaning.start_punct, list_mode = False)\n",
    "print(len(temp_dict))"
   ]
  },
  {
   "cell_type": "code",
   "execution_count": 29,
   "metadata": {},
   "outputs": [
    {
     "name": "stderr",
     "output_type": "stream",
     "text": [
      "100%|██████████| 455839/455839 [00:01<00:00, 229381.80it/s]\n",
      "100%|██████████| 455839/455839 [00:02<00:00, 224757.50it/s]\n",
      "100%|██████████| 455839/455839 [00:02<00:00, 221658.75it/s]\n",
      " 18%|█▊        | 82673/455839 [00:00<00:01, 195058.81it/s]]\n",
      "100%|██████████| 455839/455839 [00:01<00:00, 232164.98it/s]\n",
      "100%|██████████| 455839/455839 [00:02<00:00, 223875.41it/s]\n",
      "100%|██████████| 455839/455839 [00:01<00:00, 230631.28it/s]\n",
      "100%|██████████| 455839/455839 [00:01<00:00, 231227.43it/s]\n",
      "100%|██████████| 455839/455839 [00:01<00:00, 232424.66it/s]\n",
      "100%|██████████| 14/14 [00:00<00:00, 18258.79it/s].51it/s]]\n",
      "100%|██████████| 455839/455839 [00:02<00:00, 225890.75it/s]\n",
      "100%|██████████| 455839/455839 [00:01<00:00, 230678.17it/s]\n",
      "100%|██████████| 455839/455839 [00:01<00:00, 228421.92it/s]\n",
      "100%|██████████| 455839/455839 [00:01<00:00, 233689.15it/s]\n",
      "100%|██████████| 455839/455839 [00:01<00:00, 233288.76it/s]\n",
      "100%|██████████| 455839/455839 [00:05<00:00, 88261.06it/s] \n",
      "100%|██████████| 455839/455839 [00:08<00:00, 56388.80it/s]\n"
     ]
    },
    {
     "name": "stdout",
     "output_type": "stream",
     "text": [
      "CPU times: user 4.18 s, sys: 3.53 s, total: 7.71 s\n",
      "Wall time: 15.4 s\n"
     ]
    }
   ],
   "source": [
    "%%time\n",
    "\n",
    "twitter = cleaning.multiprocessing_multiple(twitter, temp_dict, cleaning.string_dict_cleaning)"
   ]
  },
  {
   "cell_type": "code",
   "execution_count": 30,
   "metadata": {},
   "outputs": [
    {
     "name": "stdout",
     "output_type": "stream",
     "text": [
      "0\n",
      "CPU times: user 277 ms, sys: 989 ms, total: 1.27 s\n",
      "Wall time: 1.57 s\n"
     ]
    }
   ],
   "source": [
    "%%time\n",
    "temp_dict = cleaning.multiprocessing(temp_vocab, cleaning.join_dashes, list_mode = False)\n",
    "print(len(temp_dict))"
   ]
  },
  {
   "cell_type": "code",
   "execution_count": 31,
   "metadata": {},
   "outputs": [
    {
     "name": "stderr",
     "output_type": "stream",
     "text": [
      "100%|██████████| 455839/455839 [00:01<00:00, 248166.08it/s]\n",
      "100%|██████████| 455839/455839 [00:01<00:00, 245905.82it/s]\n",
      "100%|██████████| 455839/455839 [00:01<00:00, 249078.41it/s]\n",
      "100%|██████████| 455839/455839 [00:01<00:00, 247904.41it/s]\n",
      "100%|██████████| 455839/455839 [00:01<00:00, 248929.33it/s]\n",
      "100%|██████████| 455839/455839 [00:01<00:00, 241871.52it/s]\n",
      "100%|██████████| 455839/455839 [00:01<00:00, 246334.07it/s]\n",
      "100%|██████████| 455839/455839 [00:01<00:00, 248650.78it/s]\n",
      "100%|██████████| 455839/455839 [00:01<00:00, 245804.15it/s]\n",
      "100%|██████████| 14/14 [00:00<00:00, 22946.56it/s]2.48it/s]\n",
      "100%|██████████| 455839/455839 [00:01<00:00, 249054.17it/s]\n",
      "  1%|▏         | 6080/455839 [00:00<00:07, 60780.64it/s]/s]\n",
      "100%|██████████| 455839/455839 [00:01<00:00, 249298.73it/s]\n",
      "100%|██████████| 455839/455839 [00:01<00:00, 232978.70it/s]\n",
      "100%|██████████| 455839/455839 [00:01<00:00, 244525.16it/s]\n",
      "100%|██████████| 455839/455839 [00:04<00:00, 95704.16it/s] \n",
      "100%|██████████| 455839/455839 [00:07<00:00, 61595.30it/s]\n"
     ]
    },
    {
     "name": "stdout",
     "output_type": "stream",
     "text": [
      "CPU times: user 4.03 s, sys: 3.17 s, total: 7.19 s\n",
      "Wall time: 14.1 s\n"
     ]
    }
   ],
   "source": [
    "%%time\n",
    "\n",
    "twitter = cleaning.multiprocessing_multiple(twitter, temp_dict, cleaning.string_dict_cleaning)"
   ]
  },
  {
   "cell_type": "code",
   "execution_count": 32,
   "metadata": {},
   "outputs": [],
   "source": [
    "twitter = [s.lower() for s in twitter]"
   ]
  },
  {
   "cell_type": "code",
   "execution_count": 33,
   "metadata": {},
   "outputs": [
    {
     "data": {
      "text/plain": [
       "['ternyata kl lg sdih bisa ngasilin makanan enak',\n",
       " 'abu kampret',\n",
       " 'bapa saya suka pake oppo saya sukanya nokia kaka saya sukanya samsung yg penting punya hape aja',\n",
       " 'ngelamar kasih cincin tp kok mukanya songong ya sedih gue liatnya',\n",
       " 'caption iki nggarai uwong males nikah min ya kali manusia arep punah ngunu neg gak nikah',\n",
       " 'pertanyaannya sederhana jika kami memang dukung prabowo ngapain selama kampanye kemarin capek dukung jokowi sampa',\n",
       " '',\n",
       " 'memiliki sedikit iman lebih berharga dari pada memiliki segudang emas',\n",
       " 'untuk mengamankan suara partai ahmad rofiq selaku sekjen partai perindo meminta kepada seluruh caleg dan struktur',\n",
       " 'dom jakpus sih bebas mau ketemuan or shopee',\n",
       " 'bisa dapet duit ini kaga punya mobil juga kan kaya gemer gemer ini kaga',\n",
       " 'on jadahnyaaa in sorry bad english hihuheheho',\n",
       " 'valentino rossi tidak setuju kompetisi motogp dimulai dari eropa',\n",
       " 'sis tak faham apa yang mungkin ini puncanya tu',\n",
       " 'martabak terang bulan martabak untuk yg asin gurih a k a martabak telor terang bulan untuk yg manis yg gw s',\n",
       " 'dia dah tua put dah nak plus dia tak start regularly kat man utd so mesti ka',\n",
       " 'sejarah susah',\n",
       " 'loop in nama dlm email pon boleh jd issue dah org email aku reply all jelaaa ade mase pulak aku nak tengok satu nama recipients',\n",
       " 'tak sakit pun tapi saja nak bau minyak freshcare sbb bau lavender',\n",
       " 'rosmah',\n",
       " 'bila kau tengah feeling lagu raya',\n",
       " 'kekasih bayangan',\n",
       " 'hidup ni jgn terlalu nk mendongak ke atas nanti jatuh padan muka kau',\n",
       " 'pak kim',\n",
       " 'di rumah ga liat pohon kelapa sama nanas kan apalagi pohon pisang',\n",
       " 'wkwk',\n",
       " 'kanan sja bu',\n",
       " 'tak pon sebelum masuk dapur bagi salam dulu kan molek gitu',\n",
       " 'hilang nyawaku aku tgk',\n",
       " 'masuk ke channel bang evan ke ni',\n",
       " 'yg minat saya pon bole lekk',\n",
       " 'yer lah sbb sombong mmg lah',\n",
       " 'nti aku tengok dulu tiket dari kl pukul berapa ada nahh',\n",
       " 'ni pukul berapa tah nak sampai ukm tetiba jalan tutup pulak kena lalu jalan jauh',\n",
       " 'tkpe hehe asalkan effort ada',\n",
       " 'kenapa kipas number pun sejuk kalau bilik aku sorang ni aku dah tutup',\n",
       " 'google cabut lisensi android huawei bagaimana nasib honor tekno',\n",
       " 'dari semalam tak tidur lagi ek ni kejap lagi jangan leceh nampak tilam bantal confirm nyenyak punya',\n",
       " 'tidur di ubin biar ga jatoh lg',\n",
       " 'guys tolong rt tweet ni sampai owner dia dapat phone ni tertinggal kat belakang teksi pakcik saya model oppo r s',\n",
       " 'jujur kacang ijo',\n",
       " 'sahur tengah malam kaya nya enak ya',\n",
       " 'jenis jenis orang stalking di media sosial pakai akun palsu pakai akun temannya sanak saudaranya handai tau',\n",
       " 'benersi ga buka sm yg minyak aka gorengan amp makan nasi tapi abis pudding setengah lingkaran makannya mi trs ishy',\n",
       " 'hahahahha bahaya bela kucing comel ni sebab nnti hilang kena curi',\n",
       " 'aku ada motor racing aku bawa ronda awek lu bonceng sedar sedar seluat tkde dah punca mat rempit takboleh rap',\n",
       " 'pak prabowo itu vibesnya kebun binatang banget ya peliharaannya kucing sukanya naek kuda kemana mana pake baju safari',\n",
       " 'nak happiness bkn pegih ngn laki lain happiness it s between u and me bedek uh kau ckp takda happiness ss sem',\n",
       " 'makan serabi enak pas lagi panas serabinya terbuat dari kelapa neng tasya aa ikhlas',\n",
       " 'siapapun orangnya meski dia ustadz bersorban dan berjubah putih klo sdh k',\n",
       " 'loh kenapa kan marga oppa juga lee pasti enak yaudah oppa jalan jalan dong biar bisa liat pemandangan',\n",
       " 'ada apa yaa mbak mbak plat ag inii',\n",
       " 'kanan',\n",
       " 'nak mee kari nak sate nak laksa nak bihun sup nakkkkk semuaaaaa',\n",
       " 'jadi lumba lumba',\n",
       " 'still sedihbgt kebayang kan betapa sedih lu gak tau gimana lu di waktu tahun tahun thn dan seteru',\n",
       " 'iyaaa gue di hima periode ditambah malamnya gue rapat atau latihan ukm jadi kalo mau nongkrong bisanya jam keatas',\n",
       " 'bangga manfaat dilan perputaran uang yg mendukung pertumbuhan ekonomi mikro makro mengurangi pengangguran',\n",
       " 'drpd lahir sampai sekarang aku asyik ngantuk je',\n",
       " 'pgn chatime xixi tp jauh',\n",
       " 'dah tak kasi lampu ijo loh tinggal pepet to cuk hwhw',\n",
       " 'kecewa',\n",
       " 'batok kelapa menjadi bara terbakar semua tidak tersisa wahai saudara seiman senegara saya ucapakan selamat puas',\n",
       " 'jy liner jgak ke',\n",
       " 'ada benda mcm kotor mcm air susu atas kereta mcm ada org campak mula ingat mcm taik burung tp lain mcm',\n",
       " 'air koroi',\n",
       " 'ilmu perpustakaan point kuliah ttg manajemen perpustakaan literasi informasi teknologi informasi',\n",
       " 'ajax spurs lah anti menstrim',\n",
       " 'abis telan biji durian kali',\n",
       " 'apaan rambut item',\n",
       " 'senin april kita memperingati hari bumi bumi kita saat ini lagi menjerit kesakitan karena dirusak untuk m',\n",
       " 'gaya hidup sihat delayed',\n",
       " 'lia pulang mereka semuanya pedo kecuali aku jangan mau',\n",
       " 'bangun lambat lepas tu jalan jem gile haihhhh so stressss',\n",
       " 'nice igstory harini dah tak nmpak org repost sudan meal project tu',\n",
       " 'gone apa gitu je laa sendu sorang',\n",
       " 'bukan pola pikir seorang profesor hukum tapi cara berpikir seorang pedagang cendol',\n",
       " 'sobatani sebagai upaya meningkatkan generasi petani kementan membuat terobosan dengan mengubah sekolah tinggi pen',\n",
       " 'beomgyu ngambilin confetti yang nyangkut di rambut jimin dong liat gini aja soft akutuh cha',\n",
       " 'eh hello bosan tu sbb kau xmenghayati hahaha',\n",
       " 'crash on lebuhraya damansara puchong putrajaya amp cyberjaya still delaying traffic m more than usual',\n",
       " 'waduuh kamu dengerinnya sambil minum',\n",
       " 'rasa rasanya kalo lg gapunya duit gini nemu duit recehan yang nyelip dikantong celana atau nemu duit kerincingan',\n",
       " 'anjing lagi having sex gitu kak',\n",
       " 'i m at csf computer exchange cx in cyberjaya selangor darul ehsan w',\n",
       " 'clip percutian yang menarik haruslah dipadankan dengan tempat rare dan istimewa berlatar belakangkan gunung santubong dan berhadapan dengan laut china selatan oh indahnya dunia jom follow instagram kami',\n",
       " 'alhamdulillah hari ni iftar nasi kerabu ayam madu kak yong n laksam buat kali terakhir sebab kak aini last da berju',\n",
       " 'saya udah sering banget ngadepin jalanan macet di jakarta tapi sejauh ini yg paling anjing sih semuanya',\n",
       " 'hi baby baru bangun baby emo',\n",
       " 'twitter please do ur magic ini pertama kali nyah gua ngajak jalan dia karna selama bertahun tahun dia kuliah di j',\n",
       " 'jum cuckoo bersama nabil ahmad',\n",
       " 'nikammy',\n",
       " 'resort datuk jhon gani kuala penyu boleh bawa keluarga santai saja tempatnya pantai nya bersih dan indah tenan',\n",
       " 'uni kenapa sistem masuk sekolah ke tingkat lanjutan terlalu susah skr in',\n",
       " 'krisis perlembagaan kedua bermula balik dgn orang sama dgn',\n",
       " 'bagi saya diusia an kata jahat bukan lagi sesederhana mainan yang dirampas atau buku pr yang dirobek teman j',\n",
       " 'lapor arah demak tersendat dari tambak lorok wib dan sekarang di terminal terboyo masih rendet',\n",
       " 'kph ujung tombak pendukung visi misi gubernur kalbar dengan mengoptimalkan tugas dan fungsi pokok kesatuan peman',\n",
       " 'aku sedih ni tak ada siapa nak hiburkan ke',\n",
       " 'gue baru bangun juga lagi males pergi mana rumah gue kek kapal pecah utg kaga main twitter tmn gue zwoakowka kalo ga udh diciduk']"
      ]
     },
     "execution_count": 33,
     "metadata": {},
     "output_type": "execute_result"
    }
   ],
   "source": [
    "twitter[:100]"
   ]
  },
  {
   "cell_type": "code",
   "execution_count": 34,
   "metadata": {},
   "outputs": [],
   "source": [
    "with open('ms-socialmedia.json', 'w') as fopen:\n",
    "    json.dump(twitter, fopen)"
   ]
  }
 ],
 "metadata": {
  "kernelspec": {
   "display_name": "Python 3",
   "language": "python",
   "name": "python3"
  },
  "language_info": {
   "codemirror_mode": {
    "name": "ipython",
    "version": 3
   },
   "file_extension": ".py",
   "mimetype": "text/x-python",
   "name": "python",
   "nbconvert_exporter": "python",
   "pygments_lexer": "ipython3",
   "version": "3.6.8"
  }
 },
 "nbformat": 4,
 "nbformat_minor": 2
}
