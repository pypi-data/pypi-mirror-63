{
 "cells": [
  {
   "cell_type": "code",
   "execution_count": 1,
   "metadata": {},
   "outputs": [],
   "source": [
    "# !wget https://huseinhouse-storage.s3-ap-southeast-1.amazonaws.com/bert-bahasa/singlish.txt"
   ]
  },
  {
   "cell_type": "code",
   "execution_count": 2,
   "metadata": {},
   "outputs": [
    {
     "data": {
      "text/plain": [
       "19870767"
      ]
     },
     "execution_count": 2,
     "metadata": {},
     "output_type": "execute_result"
    }
   ],
   "source": [
    "with open('singlish.txt') as fopen:\n",
    "    singlish = fopen.read().split('\\n')\n",
    "    \n",
    "len(singlish)"
   ]
  },
  {
   "cell_type": "code",
   "execution_count": 5,
   "metadata": {},
   "outputs": [],
   "source": [
    "import re\n",
    "from tqdm import tqdm\n",
    "import cleaning\n",
    "\n",
    "def preprocessing(string):\n",
    "    string = re.sub(\n",
    "        'http\\S+|www.\\S+',\n",
    "        '',\n",
    "        ' '.join(\n",
    "            [i for i in string.split() if i.find('#') < 0 and i.find('@') < 0]\n",
    "        ),\n",
    "    )\n",
    "    \n",
    "    chars = ',.()!:\\'\"/;=-'\n",
    "    for c in chars:\n",
    "        string = string.replace(c, f' {c} ')\n",
    "        \n",
    "    string = re.sub(\n",
    "        u'[0-9!@#$%^&*()_\\-+{}|\\~`\\'\";:?/.>,<]',\n",
    "        ' ',\n",
    "        string,\n",
    "        flags = re.UNICODE,\n",
    "    )\n",
    "    string = re.sub(r'[ ]+', ' ', string).strip()\n",
    "    \n",
    "    return string.lower()\n",
    "\n",
    "def loop(strings):\n",
    "    for i in tqdm(range(len(strings))):\n",
    "        strings[i] = preprocessing(strings[i])\n",
    "    return strings"
   ]
  },
  {
   "cell_type": "code",
   "execution_count": 6,
   "metadata": {
    "scrolled": true
   },
   "outputs": [
    {
     "name": "stderr",
     "output_type": "stream",
     "text": [
      "100%|██████████| 764260/764260 [00:13<00:00, 54632.36it/s]\n",
      "100%|██████████| 764260/764260 [00:14<00:00, 52108.56it/s]\n",
      "100%|██████████| 764260/764260 [00:13<00:00, 54603.65it/s]\n",
      " 45%|████▍     | 341694/764260 [00:08<00:13, 31410.70it/s]\n",
      " 91%|█████████▏| 699297/764260 [00:13<00:01, 35316.49it/s]\n",
      "100%|██████████| 764260/764260 [00:15<00:00, 49430.44it/s]\n",
      "100%|██████████| 764260/764260 [00:15<00:00, 49124.69it/s]\n",
      " 76%|███████▋  | 584657/764260 [00:13<00:03, 55762.75it/s]\n",
      "100%|██████████| 764260/764260 [00:15<00:00, 49494.04it/s]\n",
      "100%|██████████| 764260/764260 [00:16<00:00, 46258.68it/s]\n",
      " 74%|███████▍  | 565172/764260 [00:13<00:03, 53092.53it/s]\n",
      "100%|██████████| 764260/764260 [00:12<00:00, 59810.39it/s]\n",
      "100%|██████████| 764260/764260 [00:17<00:00, 43310.67it/s]\n",
      "100%|██████████| 764260/764260 [00:16<00:00, 45061.44it/s]\n",
      "100%|██████████| 764260/764260 [00:16<00:00, 45057.70it/s]\n",
      "100%|██████████| 764260/764260 [00:15<00:00, 49901.31it/s]\n",
      "100%|██████████| 764260/764260 [00:16<00:00, 45497.24it/s]\n",
      "100%|██████████| 764260/764260 [00:17<00:00, 44495.95it/s]\n",
      "100%|██████████| 7/7 [00:06<00:00,  1.01it/s]61409.19it/s]\n",
      "100%|██████████| 764260/764260 [00:15<00:00, 48359.81it/s]\n",
      " 84%|████████▍ | 642672/764260 [00:14<00:02, 59373.39it/s]\n",
      "100%|██████████| 764260/764260 [00:17<00:00, 43852.78it/s]\n",
      "100%|██████████| 764260/764260 [00:17<00:00, 44002.50it/s]\n",
      "100%|██████████| 764260/764260 [00:15<00:00, 48640.85it/s]\n",
      "100%|██████████| 764260/764260 [00:16<00:00, 45270.58it/s]\n",
      "100%|██████████| 764260/764260 [00:17<00:00, 43384.16it/s]\n",
      "100%|██████████| 764260/764260 [00:16<00:00, 47499.02it/s]\n"
     ]
    }
   ],
   "source": [
    "singlish = cleaning.multiprocessing(singlish, loop, cores = 26)"
   ]
  },
  {
   "cell_type": "code",
   "execution_count": 8,
   "metadata": {},
   "outputs": [],
   "source": [
    "manglish_vocab = {\n",
    "    'siasui', 'lah', 'chun', 'kapster', 'ah', 'leh', 'lansi', 'lan si', 'meh',\n",
    "    'stim', 'maluation', 'kantoi', 'seh', 'yam', 'hor', 'la', 'cha',\n",
    "    'tao', 'amoi', 'aiya', 'angmor', 'angpau', 'beng', 'chow', 'batam',\n",
    "    'liao', 'nian', 'buiji', 'hou', 'guo', 'jiang', 'chiu', 'buji',\n",
    "    'hao', 'kam', 'wan', 'yao', 'cao', 'ciao', 'jin', 'hoseh',\n",
    "    'jiak', 'ying', 'leybit', 'sibei', 'laobu', 'sia', 'cilok',\n",
    "    'cibai', 'cb', 'entao', 'gwai', 'kai', 'kongmong', 'kapcai',\n",
    "    'lanjiao', 'lancau', 'lalazai', 'momantai', 'paikia', 'paiseh',\n",
    "    'pokai', 'seow', 'sohai', 'sueh', 'tapau', 'wor', 'hor',\n",
    "    'terrer', 'chop', 'lansi', 'paiseh', 'syok', 'shiok',\n",
    "    'sibeh', 'kawkaw', 'abuden', 'mah', 'lor',\n",
    "}"
   ]
  },
  {
   "cell_type": "code",
   "execution_count": 9,
   "metadata": {},
   "outputs": [
    {
     "name": "stderr",
     "output_type": "stream",
     "text": [
      "100%|██████████| 19870767/19870767 [00:48<00:00, 406601.79it/s]\n"
     ]
    }
   ],
   "source": [
    "from tqdm import tqdm\n",
    "\n",
    "manglish = []\n",
    "for s in tqdm(singlish):\n",
    "    if len(set(s.split()) & manglish_vocab):\n",
    "        manglish.append(s)"
   ]
  },
  {
   "cell_type": "code",
   "execution_count": 10,
   "metadata": {},
   "outputs": [
    {
     "data": {
      "text/plain": [
       "(912682, 19870767)"
      ]
     },
     "execution_count": 10,
     "metadata": {},
     "output_type": "execute_result"
    }
   ],
   "source": [
    "len(manglish), len(singlish)"
   ]
  },
  {
   "cell_type": "code",
   "execution_count": 11,
   "metadata": {},
   "outputs": [],
   "source": [
    "import json\n",
    "\n",
    "with open('manglish.json', 'w') as fopen:\n",
    "    json.dump(manglish, fopen)"
   ]
  }
 ],
 "metadata": {
  "kernelspec": {
   "display_name": "Python 3",
   "language": "python",
   "name": "python3"
  },
  "language_info": {
   "codemirror_mode": {
    "name": "ipython",
    "version": 3
   },
   "file_extension": ".py",
   "mimetype": "text/x-python",
   "name": "python",
   "nbconvert_exporter": "python",
   "pygments_lexer": "ipython3",
   "version": "3.6.8"
  }
 },
 "nbformat": 4,
 "nbformat_minor": 2
}
