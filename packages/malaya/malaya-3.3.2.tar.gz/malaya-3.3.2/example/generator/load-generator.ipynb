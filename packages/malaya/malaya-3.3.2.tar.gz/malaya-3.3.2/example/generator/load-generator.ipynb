{
 "cells": [
  {
   "cell_type": "code",
   "execution_count": 1,
   "metadata": {},
   "outputs": [
    {
     "name": "stdout",
     "output_type": "stream",
     "text": [
      "CPU times: user 5.05 s, sys: 1.3 s, total: 6.35 s\n",
      "Wall time: 7.79 s\n"
     ]
    }
   ],
   "source": [
    "%%time\n",
    "import malaya"
   ]
  },
  {
   "cell_type": "markdown",
   "metadata": {},
   "source": [
    "## Wordvector augmentation\n",
    "\n",
    "Let say you have a very limited labelled corpus, and you want to add more, but labelling is very costly.\n",
    "\n",
    "So, text augmentation! You can use wordvector to replace words with similar semantics!\n",
    "\n",
    "```python\n",
    "def wordvector_augmentation(\n",
    "    string,\n",
    "    wordvector,\n",
    "    threshold = 0.5,\n",
    "    top_n = 5,\n",
    "    soft = False,\n",
    "    cleaning_function = None,\n",
    "):\n",
    "    \"\"\"\n",
    "    augmenting a string using wordvector.\n",
    "\n",
    "    Parameters\n",
    "    ----------\n",
    "    string: str\n",
    "    wordvector: object\n",
    "        wordvector interface object.\n",
    "    threshold: float, optional (default=0.5)\n",
    "        random selection for a word.\n",
    "    soft: bool, optional (default=False)\n",
    "        if True, a word not in the dictionary will be replaced with nearest jarowrinkler ratio.\n",
    "        if False, it will throw an exception if a word not in the dictionary.\n",
    "    top_n: int, (default=5)\n",
    "        number of nearest neighbors returned.\n",
    "    cleaning_function: function, (default=None)\n",
    "        function to clean text.\n",
    "\n",
    "    Returns\n",
    "    -------\n",
    "    result: list\n",
    "    \"\"\"\n",
    "```  "
   ]
  },
  {
   "cell_type": "code",
   "execution_count": 2,
   "metadata": {},
   "outputs": [],
   "source": [
    "string = 'saya suka makan ayam dan ikan'"
   ]
  },
  {
   "cell_type": "code",
   "execution_count": 3,
   "metadata": {},
   "outputs": [
    {
     "name": "stdout",
     "output_type": "stream",
     "text": [
      "WARNING:tensorflow:From /Users/huseinzolkepli/Documents/Malaya/malaya/wordvector.py:94: The name tf.placeholder is deprecated. Please use tf.compat.v1.placeholder instead.\n",
      "\n",
      "WARNING:tensorflow:From /Users/huseinzolkepli/Documents/Malaya/malaya/wordvector.py:105: The name tf.InteractiveSession is deprecated. Please use tf.compat.v1.InteractiveSession instead.\n",
      "\n"
     ]
    }
   ],
   "source": [
    "vocab_wiki, embedded_wiki = malaya.wordvector.load_wiki()\n",
    "word_vector_wiki = malaya.wordvector.load(embedded_wiki, vocab_wiki)"
   ]
  },
  {
   "cell_type": "code",
   "execution_count": 4,
   "metadata": {},
   "outputs": [
    {
     "data": {
      "text/plain": [
       "['saya suka makan ayam dan ikan',\n",
       " 'saya suka minum kambing dan ikan',\n",
       " 'saya suka tidur lembu dan ikan',\n",
       " 'saya suka mandi babi dan ikan',\n",
       " 'saya suka berehat daging dan ikan']"
      ]
     },
     "execution_count": 4,
     "metadata": {},
     "output_type": "execute_result"
    }
   ],
   "source": [
    "augmented = malaya.generator.wordvector_augmentation(string,\n",
    "                                  word_vector_wiki,\n",
    "                                  soft=True)\n",
    "augmented"
   ]
  },
  {
   "cell_type": "code",
   "execution_count": 5,
   "metadata": {},
   "outputs": [],
   "source": [
    "text = 'Perdana Menteri berkata, beliau perlu memperoleh maklumat terperinci berhubung isu berkenaan sebelum kerajaan dapat mengambil sebarang tindakan lanjut. Bagaimanapun, beliau yakin masalah itu dapat diselesaikan dan pentadbiran kerajaan boleh berfungsi dengan baik.'"
   ]
  },
  {
   "cell_type": "code",
   "execution_count": 6,
   "metadata": {},
   "outputs": [
    {
     "data": {
      "text/plain": [
       "['Perdana Menteri berkata , beliau perlu memperoleh maklumat terperinci berhubung isu berkenaan sebelum kerajaan dapat mengambil sebarang tindakan lanjut . Bagaimanapun , beliau yakin masalah itu dapat diselesaikan dan pentadbiran kerajaan boleh berfungsi dengan baik .',\n",
       " 'Perdana Menteri menyatakan , dia perlu memperoleh data terperinci berhubung persoalan berkenaan sebelum pemerintah dapat mendapat sebarang dakwaan lanjut . Bagaimanapun , beliau yakin gangguan itu dapat diselesaikan serta pentadbiran kerajaan dapat berfungsi dengan sempurna .',\n",
       " 'Perdana Menteri mengatakan , baginda perlu memperoleh bacaan terperinci berhubung prosedur berkenaan sebelum perlembagaan dapat menghabiskan sebarang kesalahan lanjut . Bagaimanapun , beliau yakin kelemahan itu dapat diselesaikan atau pentadbiran kerajaan harus berfungsi dengan kuat .',\n",
       " 'Perdana Menteri mendapati , mereka perlu memperoleh penjelasan terperinci berhubung artikel berkenaan sebelum kesultanan dapat mengubah sebarang perbuatan lanjut . Bagaimanapun , beliau yakin gejala itu dapat diselesaikan mahupun pentadbiran kerajaan perlu berfungsi dengan hebat .',\n",
       " 'Perdana Menteri mencadangkan , saya perlu memperoleh informasi terperinci berhubung kontroversi berkenaan sebelum pemerintahan dapat memakan sebarang gerakan lanjut . Bagaimanapun , beliau yakin risiko itu dapat diselesaikan tetapi pentadbiran kerajaan akan berfungsi dengan kukuh .']"
      ]
     },
     "execution_count": 6,
     "metadata": {},
     "output_type": "execute_result"
    }
   ],
   "source": [
    "augmented = malaya.generator.wordvector_augmentation(text,\n",
    "                                  word_vector_wiki,\n",
    "                                  soft=True)\n",
    "augmented"
   ]
  },
  {
   "cell_type": "markdown",
   "metadata": {},
   "source": [
    "## Transformer augmentation\n",
    "\n",
    "Problem with wordvector, it just replaced a word for near synonym without understood the whole sentence context, so, Transformer comes to the rescue!\n",
    "\n",
    "```python\n",
    "def transformer_augmentation(\n",
    "    string,\n",
    "    model,\n",
    "    threshold = 0.5,\n",
    "    top_p = 0.8,\n",
    "    top_k = 100,\n",
    "    temperature = 0.8,\n",
    "    top_n = 5,\n",
    "    cleaning_function = None,\n",
    "):\n",
    "\n",
    "    \"\"\"\n",
    "    augmenting a string using transformer + nucleus sampling / top-k sampling.\n",
    "\n",
    "    Parameters\n",
    "    ----------\n",
    "    string: str\n",
    "    model: object\n",
    "        transformer interface object. Right now only supported BERT.\n",
    "    threshold: float, optional (default=0.5)\n",
    "        random selection for a word.\n",
    "    top_p: float, optional (default=0.8)\n",
    "        cumulative sum of probabilities to sample a word. If top_n bigger than 0, the model will use nucleus sampling, else top-k sampling.\n",
    "    top_k: int, optional (default=100)\n",
    "        k for top-k sampling.\n",
    "    temperature: float, optional (default=0.8)\n",
    "        logits * temperature.\n",
    "    top_n: int, (default=5)\n",
    "        number of nearest neighbors returned.\n",
    "    cleaning_function: function, (default=None)\n",
    "        function to clean text.\n",
    "\n",
    "    Returns\n",
    "    -------\n",
    "    result: list\n",
    "    \"\"\"\n",
    "```    "
   ]
  },
  {
   "cell_type": "code",
   "execution_count": 7,
   "metadata": {},
   "outputs": [
    {
     "name": "stdout",
     "output_type": "stream",
     "text": [
      "WARNING:tensorflow:From /usr/local/lib/python3.7/site-packages/bert/modeling.py:93: The name tf.gfile.GFile is deprecated. Please use tf.io.gfile.GFile instead.\n",
      "\n",
      "WARNING:tensorflow:From /usr/local/lib/python3.7/site-packages/bert/modeling.py:171: The name tf.variable_scope is deprecated. Please use tf.compat.v1.variable_scope instead.\n",
      "\n",
      "WARNING:tensorflow:From /usr/local/lib/python3.7/site-packages/bert/modeling.py:409: The name tf.get_variable is deprecated. Please use tf.compat.v1.get_variable instead.\n",
      "\n",
      "WARNING:tensorflow:From /usr/local/lib/python3.7/site-packages/bert/modeling.py:490: The name tf.assert_less_equal is deprecated. Please use tf.compat.v1.assert_less_equal instead.\n",
      "\n",
      "WARNING:tensorflow:\n",
      "The TensorFlow contrib module will not be included in TensorFlow 2.0.\n",
      "For more information, please see:\n",
      "  * https://github.com/tensorflow/community/blob/master/rfcs/20180907-contrib-sunset.md\n",
      "  * https://github.com/tensorflow/addons\n",
      "  * https://github.com/tensorflow/io (for I/O related ops)\n",
      "If you depend on functionality not listed there, please file an issue.\n",
      "\n",
      "WARNING:tensorflow:From /usr/local/lib/python3.7/site-packages/bert/modeling.py:671: dense (from tensorflow.python.layers.core) is deprecated and will be removed in a future version.\n",
      "Instructions for updating:\n",
      "Use keras.layers.Dense instead.\n",
      "WARNING:tensorflow:From /usr/local/lib/python3.7/site-packages/tensorflow_core/python/layers/core.py:187: Layer.apply (from tensorflow.python.keras.engine.base_layer) is deprecated and will be removed in a future version.\n",
      "Instructions for updating:\n",
      "Please use `layer.__call__` method instead.\n",
      "WARNING:tensorflow:From /Users/huseinzolkepli/Documents/Malaya/malaya/_transformer/_sampling.py:26: where (from tensorflow.python.ops.array_ops) is deprecated and will be removed in a future version.\n",
      "Instructions for updating:\n",
      "Use tf.where in 2.0, which has the same broadcast rule as np.where\n",
      "WARNING:tensorflow:From /Users/huseinzolkepli/Documents/Malaya/malaya/_transformer/_bert.py:102: multinomial (from tensorflow.python.ops.random_ops) is deprecated and will be removed in a future version.\n",
      "Instructions for updating:\n",
      "Use `tf.random.categorical` instead.\n",
      "WARNING:tensorflow:From /Users/huseinzolkepli/Documents/Malaya/malaya/_transformer/_bert.py:106: The name tf.global_variables_initializer is deprecated. Please use tf.compat.v1.global_variables_initializer instead.\n",
      "\n",
      "WARNING:tensorflow:From /Users/huseinzolkepli/Documents/Malaya/malaya/_transformer/_bert.py:107: The name tf.get_collection is deprecated. Please use tf.compat.v1.get_collection instead.\n",
      "\n",
      "WARNING:tensorflow:From /Users/huseinzolkepli/Documents/Malaya/malaya/_transformer/_bert.py:108: The name tf.GraphKeys is deprecated. Please use tf.compat.v1.GraphKeys instead.\n",
      "\n",
      "WARNING:tensorflow:From /Users/huseinzolkepli/Documents/Malaya/malaya/_transformer/_bert.py:113: The name tf.train.Saver is deprecated. Please use tf.compat.v1.train.Saver instead.\n",
      "\n",
      "WARNING:tensorflow:From /Users/huseinzolkepli/Documents/Malaya/malaya/_transformer/_bert.py:115: The name tf.get_default_graph is deprecated. Please use tf.compat.v1.get_default_graph instead.\n",
      "\n",
      "INFO:tensorflow:Restoring parameters from /Users/huseinzolkepli/Malaya/bert-model/small/bert-small-v2/model.ckpt\n"
     ]
    }
   ],
   "source": [
    "model = malaya.transformer.load(model = 'bert', size = 'small')"
   ]
  },
  {
   "cell_type": "code",
   "execution_count": 8,
   "metadata": {
    "scrolled": true
   },
   "outputs": [
    {
     "data": {
      "text/plain": [
       "['Perdana Menteri berkata, kerajaan perlu memperoleh maklumat lanjut berhubung isu berkenaan supaya kerajaan dapat membuat sebarang tindakan lanjut. Bagaimanapun, beliau berharap masalah itu dapat diperbaiki dan pentadbiran kerajaan boleh berfungsi dengan baik.',\n",
       " 'Perdana Menteri berkata, kerajaan perlu memperoleh maklumat lanjut berhubung isu berkenaan supaya kerajaan dapat membuat sebarang tindakan lanjut. Bagaimanapun, beliau yakin masalah itu dapat diselesaikan dan pentadbiran kerajaan boleh berfungsi dengan baik.',\n",
       " 'Perdana Menteri berkata, kerajaan perlu memperoleh lebih lanjut berhubung isu berkenaan agar kerajaan dapat melakukan sebarang tindakan lanjut. Bagaimanapun, beliau berharap masalah itu dapat dipulihkan dan pentadbiran kerajaan boleh berfungsi dengan baik.',\n",
       " 'Perdana Menteri berkata, kerajaan perlu memperoleh maklumat lanjut berhubung isu berkenaan supaya kerajaan dapat melakukan sebarang tindakan lanjut. Bagaimanapun, beliau berharap masalah itu dapat diselesaikan dan pentadbiran kerajaan boleh berfungsi dengan baik.',\n",
       " 'Perdana Menteri berkata, kerajaan perlu memperoleh maklumat lanjut berhubung isu berkenaan supaya kerajaan dapat mengambil sebarang tindakan lanjut. Bagaimanapun, beliau yakin masalah ini dapat diselesaikan dan pentadbiran kerajaan boleh berfungsi dengan baik.']"
      ]
     },
     "execution_count": 8,
     "metadata": {},
     "output_type": "execute_result"
    }
   ],
   "source": [
    "augmented = malaya.generator.transformer_augmentation(text, model)\n",
    "augmented"
   ]
  },
  {
   "cell_type": "markdown",
   "metadata": {},
   "source": [
    "Base size give much better context! But beware, the model is quite big."
   ]
  },
  {
   "cell_type": "code",
   "execution_count": 9,
   "metadata": {},
   "outputs": [
    {
     "name": "stdout",
     "output_type": "stream",
     "text": [
      "INFO:tensorflow:Restoring parameters from /Users/huseinzolkepli/Malaya/bert-model/base/bert-base-v2/model.ckpt\n"
     ]
    }
   ],
   "source": [
    "model = malaya.transformer.load(model = 'bert', size = 'base')"
   ]
  },
  {
   "cell_type": "code",
   "execution_count": 10,
   "metadata": {},
   "outputs": [
    {
     "data": {
      "text/plain": [
       "['Perdana Menteri berkata, kerajaan sudah mendapatkan maklumat lanjut berhubung isu itu agar kerajaan tidak mengambil sebarang tindakan lanjut. Bagaimanapun, beliau berharap masalah itu dapat diselesaikan dan bagaimana kerajaan dapat diselesaikan dengan baik.',\n",
       " 'Perdana Menteri berkata, kerajaan akan memberikan maklumat lanjut berhubung isu itu supaya kerajaan tidak mengambil sebarang tindakan lanjut. Bagaimanapun, beliau yakin masalah itu dapat diselesaikan dan bagaimana kerajaan dapat diselesaikan dengan baik.',\n",
       " 'Perdana Menteri berkata, kerajaan sudah mendapatkan maklumat terperinci berhubung perkara itu agar kerajaan dapat mengambil sebarang tindakan lanjut. Bagaimanapun, beliau yakin masalah itu dapat diselesaikan dan memastikan kerajaan dapat diselesaikan dengan baik.',\n",
       " 'Perdana Menteri berkata, kerajaan akan mendapatkan maklumat lanjut berhubung isu berkenaan dan kerajaan dapat mengambil sebarang tindakan lanjut. Bagaimanapun, beliau berharap masalah berkenaan dapat diselesaikan dan memastikan kerajaan dapat diselesaikan dengan baik.',\n",
       " 'Perdana Menteri berkata, kerajaan belum memberikan maklumat terperinci berhubung isu itu dan kerajaan tidak mengambil sebarang tindakan lanjut. Bagaimanapun, beliau yakin masalah itu dapat diselesaikan dan berharap kerajaan dapat diselesaikan dengan baik.']"
      ]
     },
     "execution_count": 10,
     "metadata": {},
     "output_type": "execute_result"
    }
   ],
   "source": [
    "augmented = malaya.generator.transformer_augmentation(text, model)\n",
    "augmented"
   ]
  },
  {
   "cell_type": "code",
   "execution_count": null,
   "metadata": {},
   "outputs": [],
   "source": []
  }
 ],
 "metadata": {
  "kernelspec": {
   "display_name": "Python 3",
   "language": "python",
   "name": "python3"
  },
  "language_info": {
   "codemirror_mode": {
    "name": "ipython",
    "version": 3
   },
   "file_extension": ".py",
   "mimetype": "text/x-python",
   "name": "python",
   "nbconvert_exporter": "python",
   "pygments_lexer": "ipython3",
   "version": "3.7.5"
  }
 },
 "nbformat": 4,
 "nbformat_minor": 2
}
