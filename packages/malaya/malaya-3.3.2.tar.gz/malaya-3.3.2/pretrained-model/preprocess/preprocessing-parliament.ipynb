{
 "cells": [
  {
   "cell_type": "code",
   "execution_count": 1,
   "metadata": {},
   "outputs": [],
   "source": [
    "# !wget https://huseinhouse-data.s3-ap-southeast-1.amazonaws.com/Parl.+Replies_Verified-20191113T140600Z-001.zip"
   ]
  },
  {
   "cell_type": "code",
   "execution_count": 2,
   "metadata": {},
   "outputs": [],
   "source": [
    "# !wget https://huseinhouse-data.s3-ap-southeast-1.amazonaws.com/Parl.+Replies_Verified-20191113T140600Z-002.zip"
   ]
  },
  {
   "cell_type": "code",
   "execution_count": 3,
   "metadata": {},
   "outputs": [],
   "source": [
    "# !unzip Parl.+Replies_Verified-20191113T140600Z-001.zip"
   ]
  },
  {
   "cell_type": "code",
   "execution_count": 4,
   "metadata": {},
   "outputs": [],
   "source": [
    "# !unzip Parl.+Replies_Verified-20191113T140600Z-002.zip"
   ]
  },
  {
   "cell_type": "code",
   "execution_count": 1,
   "metadata": {},
   "outputs": [
    {
     "data": {
      "text/plain": [
       "304"
      ]
     },
     "execution_count": 1,
     "metadata": {},
     "output_type": "execute_result"
    }
   ],
   "source": [
    "from glob import glob\n",
    "\n",
    "pdfs = glob('Parl. Replies_Verified/**/*.pdf', recursive = True)\n",
    "len(pdfs)"
   ]
  },
  {
   "cell_type": "code",
   "execution_count": 2,
   "metadata": {},
   "outputs": [],
   "source": [
    "# !pip3 install tika --user"
   ]
  },
  {
   "cell_type": "code",
   "execution_count": 3,
   "metadata": {},
   "outputs": [],
   "source": [
    "# wget https://www-eu.apache.org/dist/tika/tika-server-1.22.jar\n",
    "# java -jar tika-server-1.22.jar --port 9997"
   ]
  },
  {
   "cell_type": "code",
   "execution_count": 4,
   "metadata": {},
   "outputs": [],
   "source": [
    "from tika import parser\n",
    "import tika\n",
    "tika.TikaClientOnly = True"
   ]
  },
  {
   "cell_type": "code",
   "execution_count": 8,
   "metadata": {},
   "outputs": [
    {
     "data": {
      "text/plain": [
       "True"
      ]
     },
     "execution_count": 8,
     "metadata": {},
     "output_type": "execute_result"
    }
   ],
   "source": [
    "'123'.isdigit()"
   ]
  },
  {
   "cell_type": "code",
   "execution_count": 5,
   "metadata": {},
   "outputs": [],
   "source": [
    "parsed = parser.from_file(pdfs[0], 'http://localhost:9997/')"
   ]
  },
  {
   "cell_type": "code",
   "execution_count": 19,
   "metadata": {},
   "outputs": [],
   "source": [
    "from unidecode import unidecode\n",
    "\n",
    "def cleaning(string):\n",
    "    string = [unidecode(s) for s in string]\n",
    "    string = [s.strip() for s in string if len(s) > 20 and 'tarikh' not in s.lower() and 'soalan no' not in s.lower()]\n",
    "    string = [s for s in string if not s.split()[0].isdigit() and '.soalan' not in s.lower() and 'jum ' not in s.lower()]\n",
    "    string = [s for s in string if not s[:3].isdigit() and not s[-3:].isdigit()]\n",
    "    return string"
   ]
  },
  {
   "cell_type": "code",
   "execution_count": 21,
   "metadata": {},
   "outputs": [
    {
     "data": {
      "text/plain": [
       "['Suruhanjaya Integriti Agensi Penguatkuasa dan prosiding Tatatertib terhadap',\n",
       " 'yang terlibat telah pun dimulakan.',\n",
       " 'PEMBERITAHUAN PERTANYAAN BAGI JAWAPAN LISAN',\n",
       " 'MESYUARAT KEDUA. DEWAN RAKYAT',\n",
       " 'PENGGAL KEEMPAT. PARLIMEN KETIGA BELAS',\n",
       " 'MAJLIS MESYUARAT DEWAN RAKYAT',\n",
       " 'DARIPADA : YB NURUL IZZAH BINTI ANWAR',\n",
       " 'Puan Nurul Izzah Binti Anwar [Lembah Pantai] minta MENTERI',\n",
       " 'PEMBANGUNAN WANITA, KELUARGA DAN MASYARAKAT',\n",
       " 'menyatakan apakah hasil kajian kerjasama pihak kementerian bersama',\n",
       " 'pihak PDRM berikutan lawatan ke NYPD untuk menggubal Akta',\n",
       " 'Pendaftaran Penjenayah Seksual.',\n",
       " \"JAWAPAN: YB DATO' SRI ROHANI ABDUL KARIM. MENTERI\",\n",
       " 'KEMENTERIAN PEMBANGUNAN WANITA. KELUARGA',\n",
       " 'Akta Pendaftaran Penjenayah dan Orang Yang Tidak Diingini 1969 (Akta',\n",
       " '7) iaitu Akta bagi mendaftar penjenayah termasuklah jenayah seksual',\n",
       " 'seperti yang termaktub dalam Jadual Pertama Akta tersebut masih berkuat',\n",
       " 'kuasa. Undang-undang ini adalah memadai bagi menangani isu',\n",
       " 'pendaftaran penjenayah seksual pada masa ini.',\n",
       " 'Namun demikian, Kementerian Pembangunan Wanita, Keluarga dan',\n",
       " 'Masyarakat (KPWKM) sebagai kementerian yang bertanggungjawab dalam',\n",
       " 'melindungi kanak-kanak di Malaysia, telah membentangkan Rang Undang-',\n",
       " 'Undang Kanak-Kanak (Pindaan) 2015 (RUUKK) dan telah diluluskan di',\n",
       " 'Parlimen yang mana memperluaskan kandungan Daftar yang termasuk',\n",
       " 'butir-butir orang yang disabitkan atas apa-apa kesalahan jenayah yang',\n",
       " 'melibatkan kanak-kanak sebaaai mangsa yang akan dikenali sebagai',\n",
       " 'Penambahbaikan ini diinspirasikan daripada lawatan kerja ke New York',\n",
       " 'pada September 2015 bersempena dengan United Nations General',\n",
       " 'Assembly yang mana saya selaku Timbalan Menteri Pembangunan',\n",
       " 'Wanita, Keluarga dan Masyarakat telah ditugaskan untuk mengetuai',\n",
       " 'delegasi KPWKM untuk menghadiri Mesyuarat Pemimpin Global Mengenai',\n",
       " 'Kesaksamaan Gender dan Pemerkasaan Wanita di NeW York, Amerika',\n",
       " 'Syarikat pada 27 September 2015. Dalam kesempatan itu, delegasi',\n",
       " 'KPWKM turut mengadakan lawatan kerja pada 28 hingga 29 September',\n",
       " 'melibatkan pihak PDRM.',\n",
       " 'Saya juga ingin menghuraikan bahawa Daftar Kanak-Kanak pada masa ini',\n",
       " 'mengandungi maklumat mengenai kanak-kanak yang memerlukan',\n",
       " 'perlindungan tetapi terhad kepada kanak-kanak yang diabaikan atau',\n",
       " 'dianiayai sahaja. Maklumat sedia ada digunakan oleh Jabatan Kebajikan',\n",
       " 'Masyarakat bagi melindungi kanak-kanak tersebut termasuk memberi',\n",
       " 'perkhidmatan yang bersesuaian kepada mereka seperti kaunseling dan',\n",
       " 'Kandungan daftar ditambah untuk mengandungi maklumat individu yang',\n",
       " 'disabitkan dengan kesalahan jenayah yang melibatkan kanak-kanak',\n",
       " 'sebagai mangsa. Dengan pindaan ini, bagi kes-kes jenayah contohnya kes',\n",
       " 'rogol yang melibatkan mangsa kanak-kanak, pihak Jabatan Kebajikan',\n",
       " 'Masyarakat akan menyimpan maklumat tentang mangsa dan pelaku.',\n",
       " 'Maklumat mengenai pesalah ini boleh diakses dengan kelulusan Ketua',\n",
       " 'Pengarah Jabatan Kebalikan Masyarakat hanya untuk saringan bagi pihak',\n",
       " 'yang berurusan atau mengendalikan kanak-kanak antaranya seperti',\n",
       " 'pemandu bas/van sekolah, pengusaha kantin sekolah, tukang kebun,',\n",
       " 'pengawal keselamatan sekolah, pengasuh dan pekerja pusat jagaan',\n",
       " 'Kementerian akan bekerjasama dengan pihak PDRM tentang pengurusan',\n",
       " 'dan pelaksanaan Daftar ini dari semasa ke semasa.',\n",
       " 'PEMBERITAHUAN PERTANYAAN',\n",
       " 'DEWAN RAKYAT, MALAYSIA',\n",
       " 'DARIPADA : Y.B. TUAN R. SIVARASA A/L K. RASIAH',\n",
       " 'Y.B. TUAN R. SIVARASA A/L K. RASIAH [ SUBANG ] minta',\n",
       " 'MENTERI KEWANGAN menyatakan apakah hasii dan status siasatan',\n",
       " 'terhadap isu pembayaran USD 700 juta daripada 1MDB yang tidak',\n",
       " 'sampai dalam akaun bank syarikat usahasama 1MDB PetroSaudi Ltd.',\n",
       " 'seperti bayaran USD 300 juta sebelum itu, tetapi dihantar kepada',\n",
       " 'akaun pihak ketiga No 11116073 di RBS Coutts Bank Ltd yang dimilik',\n",
       " 'oleh Good Star Limited yang dikawal oleh peniaga bernama Jho Low',\n",
       " 'tanpa pengetahuan dan kebenaran lembaga pengarah 1MDB.',\n",
       " 'Berdasarkan rekod syarikat 1MDB, Good Star Limited adalah',\n",
       " 'dimiliki oleh kumpulan PetroSaudi, pada masa pembayaran dana',\n",
       " 'tersebut dibuat oleh 1MDB. Semua pembayaran dana yang dibuat',\n",
       " 'oleh 1MDB adalah untuk memperoleh kepentingan sebanyak 40% di',\n",
       " 'dalam syarikat usahasama. Dana tersebut juga telah diakui diterima',\n",
       " 'oleh kumpulan PetroSaudi berdasarkan perjanjian-perjanjian yang',\n",
       " 'dimeterai pada masa pembayaran tersebut dibuat.',\n",
       " 'PEMBERITAHUAN PERTANYAAN DEWAN RAKYAT',\n",
       " 'PERTANYAAN : LISAN [ PERTANYAAN DI BAWAH PM.22(5) ]',\n",
       " 'DARIPADA YANG BERHORMAT PUAN TEO NIE CHING',\n",
       " 'YB Puan Teo Nie Ching [Kulai] minta PERDANA MENTERI menyatakan',\n",
       " 'pembelanjaan pengangkutan, penginapan, makanan dan segala kos yang',\n",
       " 'lain-lain untuk Perdana Menteri, Timbalan Perdana Menteri, Menteri-',\n",
       " 'Menteri, pegawai-pegawai yang terlibat untuk menghadiri mesyuarat',\n",
       " 'jemaah menteri di Kuching pada 4hb Mei, 2016.',\n",
       " \"JAW APAN: YB DATO' SRI AZALINA BINTI OTHMAN SAID.\",\n",
       " 'MENTERI DI JABATAN PERDANA MENTERI.',\n",
       " 'Untuk makluman Ahii Yang Berhormat, jumlah perbelanjaan yang terlibat',\n",
       " 'bagi mengurus setia Mesyuarat Jemaah Menteri di Kuching pada 4 Mei',\n",
       " 'Sekian, terima kasih.',\n",
       " 'PEMBERITAHUAN PERTANYAAN DEWAN RAKYAT',\n",
       " 'PERTANYAAN : LISAN [ PERTANYAAN DI BAWAH PM.22(5) ]',\n",
       " \"DARIPADA YANG BERHORMAT DATO' SERI DR WAN\",\n",
       " 'AZIZAH WAN ISMAIL [PERMATANG PAUH]',\n",
       " \"YB Dato' Seri Dr Wan Azizah Wan Ismail [Permatang Pauh] minta\",\n",
       " 'Perdana Menteri menyatakan berikutan dengan pelaksanaan dasar gaji',\n",
       " 'minima iaitu sebanyak RM1,200 yang akan berkuatkuasa pada 1 Julai',\n",
       " 'terhadap perlaksanaan dasar gaji minima yang diumumkan oleh Perdana',\n",
       " \"JAWAPAN: YB DATO' SRI AZALINA BINTI OTHMAN SAID.\",\n",
       " 'MENTERI DI JABATAN PERDANA MENTERI.',\n",
       " 'Untuk makluman Ahii Yang Berhormat, Kerajaan telah menetapkan bahawa',\n",
       " 'Permulaan Terendah RM1,200.00 sebulan dan pemberian faedah',\n",
       " 'pemindahan gaji bersamaan satu (1) Kenaikan Gaji Tahunan (KGT) adalah',\n",
       " 'pada 1 Julai 2016. Implikasi kewangan yang terlibat adalah berjumlah',\n",
       " 'RM1.4 bilion sebagaimana yang telah diumumkan melalui Ucapan Bajet',\n",
       " 'Sekian, terima kasih.']"
      ]
     },
     "execution_count": 21,
     "metadata": {},
     "output_type": "execute_result"
    }
   ],
   "source": [
    "cleaned = cleaning(parsed['content'].split('\\n'))\n",
    "cleaned[-100:]"
   ]
  },
  {
   "cell_type": "code",
   "execution_count": 11,
   "metadata": {},
   "outputs": [
    {
     "name": "stderr",
     "output_type": "stream",
     "text": [
      "100%|██████████| 304/304 [02:15<00:00,  2.24it/s]\n"
     ]
    }
   ],
   "source": [
    "from tqdm import tqdm\n",
    "\n",
    "texts = []\n",
    "\n",
    "for i in tqdm(range(len(pdfs))):\n",
    "    try:\n",
    "        pdf = pdfs[i]\n",
    "        parsed = parser.from_file(pdf, 'http://localhost:9997/')\n",
    "        cleaned = cleaning(parsed['content'].split('\\n'))\n",
    "        texts.extend(cleaned + [''])\n",
    "    except:\n",
    "        pass"
   ]
  },
  {
   "cell_type": "code",
   "execution_count": 12,
   "metadata": {},
   "outputs": [],
   "source": [
    "with open('parliament-text.txt', 'w') as fopen:\n",
    "    fopen.write('\\n'.join(texts))"
   ]
  },
  {
   "cell_type": "code",
   "execution_count": null,
   "metadata": {},
   "outputs": [],
   "source": []
  }
 ],
 "metadata": {
  "kernelspec": {
   "display_name": "Python 3",
   "language": "python",
   "name": "python3"
  },
  "language_info": {
   "codemirror_mode": {
    "name": "ipython",
    "version": 3
   },
   "file_extension": ".py",
   "mimetype": "text/x-python",
   "name": "python",
   "nbconvert_exporter": "python",
   "pygments_lexer": "ipython3",
   "version": "3.6.8"
  }
 },
 "nbformat": 4,
 "nbformat_minor": 2
}
