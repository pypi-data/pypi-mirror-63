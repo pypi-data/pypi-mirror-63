{
 "cells": [
  {
   "cell_type": "code",
   "execution_count": 1,
   "metadata": {},
   "outputs": [],
   "source": [
    "# !wget https://raw.githubusercontent.com/attardi/wikiextractor/master/WikiExtractor.py\n",
    "# !wget http://dumps.wikimedia.org/mswiki/latest/mswiki-latest-pages-articles.xml.bz2\n",
    "# !bzip2 -d mswiki-latest-pages-articles.xml.bz2\n",
    "# !python3 WikiExtractor.py --json mswiki-latest-pages-articles.xml"
   ]
  },
  {
   "cell_type": "code",
   "execution_count": 2,
   "metadata": {},
   "outputs": [
    {
     "data": {
      "text/plain": [
       "249"
      ]
     },
     "execution_count": 2,
     "metadata": {},
     "output_type": "execute_result"
    }
   ],
   "source": [
    "from glob import glob\n",
    "\n",
    "files = glob('text/*/*')\n",
    "len(files)"
   ]
  },
  {
   "cell_type": "code",
   "execution_count": 3,
   "metadata": {},
   "outputs": [],
   "source": [
    "import json\n",
    "\n",
    "with open(files[0]) as fopen:\n",
    "    x = fopen.readlines()"
   ]
  },
  {
   "cell_type": "code",
   "execution_count": 4,
   "metadata": {},
   "outputs": [],
   "source": [
    "import re\n",
    "from unidecode import unidecode\n",
    "\n",
    "alphabets = '([A-Za-z])'\n",
    "prefixes = (\n",
    "    '(Mr|St|Mrs|Ms|Dr|Prof|Capt|Cpt|Lt|Mt|Puan|puan|Tuan|tuan|sir|Sir)[.]'\n",
    ")\n",
    "suffixes = '(Inc|Ltd|Jr|Sr|Co)'\n",
    "starters = '(Mr|Mrs|Ms|Dr|He\\s|She\\s|It\\s|They\\s|Their\\s|Our\\s|We\\s|But\\s|However\\s|That\\s|This\\s|Wherever|Dia|Mereka|Tetapi|Kita|Itu|Ini|Dan|Kami)'\n",
    "acronyms = '([A-Z][.][A-Z][.](?:[A-Z][.])?)'\n",
    "websites = '[.](com|net|org|io|gov|me|edu|my)'\n",
    "another_websites = '(www|http|https)[.]'\n",
    "digits = '([0-9])'\n",
    "\n",
    "def cleaning(string):\n",
    "    string = unidecode(string)\n",
    "    string = re.sub(r'\\w+:\\/{2}[\\d\\w-]+(\\.[\\d\\w-]+)*(?:(?:\\/[^\\s/]*))*', '', string)\n",
    "    string = re.sub(r'[ ]+', ' ', string).strip().split()\n",
    "    string = [w for w in string if w[0] != '@']\n",
    "    return ' '.join(string)\n",
    "\n",
    "def split_into_sentences(text):\n",
    "    text = unidecode(text)\n",
    "    text = ' ' + text + '  '\n",
    "    text = text.replace('\\n', ' ')\n",
    "    text = re.sub(prefixes, '\\\\1<prd>', text)\n",
    "    text = re.sub(websites, '<prd>\\\\1', text)\n",
    "    text = re.sub(another_websites, '\\\\1<prd>', text)\n",
    "    if '...' in text:\n",
    "        text = text.replace('...', '<prd><prd><prd>')\n",
    "    if 'Ph.D' in text:\n",
    "        text = text.replace('Ph.D.', 'Ph<prd>D<prd>')\n",
    "    text = re.sub('\\s' + alphabets + '[.] ', ' \\\\1<prd> ', text)\n",
    "    text = re.sub(acronyms + ' ' + starters, '\\\\1<stop> \\\\2', text)\n",
    "    text = re.sub(\n",
    "        alphabets + '[.]' + alphabets + '[.]' + alphabets + '[.]',\n",
    "        '\\\\1<prd>\\\\2<prd>\\\\3<prd>',\n",
    "        text,\n",
    "    )\n",
    "    text = re.sub(\n",
    "        alphabets + '[.]' + alphabets + '[.]', '\\\\1<prd>\\\\2<prd>', text\n",
    "    )\n",
    "    text = re.sub(' ' + suffixes + '[.] ' + starters, ' \\\\1<stop> \\\\2', text)\n",
    "    text = re.sub(' ' + suffixes + '[.]', ' \\\\1<prd>', text)\n",
    "    text = re.sub(' ' + alphabets + '[.]', ' \\\\1<prd>', text)\n",
    "    text = re.sub(digits + '[.]' + digits, '\\\\1<prd>\\\\2', text)\n",
    "    if '”' in text:\n",
    "        text = text.replace('.”', '”.')\n",
    "    if '\"' in text:\n",
    "        text = text.replace('.\"', '\".')\n",
    "    if '!' in text:\n",
    "        text = text.replace('!\"', '\"!')\n",
    "    if '?' in text:\n",
    "        text = text.replace('?\"', '\"?')\n",
    "    text = text.replace('.', '.<stop>')\n",
    "    text = text.replace('?', '?<stop>')\n",
    "    text = text.replace('!', '!<stop>')\n",
    "    text = text.replace('<prd>', '.')\n",
    "    sentences = text.split('<stop>')\n",
    "    sentences = sentences[:-1]\n",
    "    sentences = [cleaning(s.strip()) for s in sentences if len(s) > 10]\n",
    "    return sentences"
   ]
  },
  {
   "cell_type": "code",
   "execution_count": 5,
   "metadata": {},
   "outputs": [
    {
     "data": {
      "text/plain": [
       "['Arif Shah Omar Shah Datuk Arif Shah Haji Omar Shah (lahir 2 November 1956) merupakan bekas Ahli Dewan Undangan Seberang Jaya, Pulau Pinang selama dua penggal berturut-turut sejak 1999.',\n",
       " 'Beliau dilahirkan pada dan merupakan anak ke-4 daripada keseluruhan 10 orang adik beradik.',\n",
       " 'Mengikut Jeff Ooi, penulis blog yang juga Ahli Parlimen Jelutong, beliau merupakan adik kepada Tan Sri Amin Shah Omar Shah, bekas seorang ahli perniagaan Malaysia yang suatu masa dulu terkenal dengan industri perkapalan.',\n",
       " 'Beliau digelar oleh masyarakat Cina setempat sebagai \"pek moh\" (Bai Mao ), bermaksud \"bulu putih\" dalam Bahasa Hokkien, kerana beliau penuh dengan rambut putih.',\n",
       " 'Datuk Arif Shah adalah merupakan anak keempat daripada 9 orang adik beradik.',\n",
       " 'Adik beradik terdiri daripada nama-nama berikut:- 1.',\n",
       " 'Puan Fadzilah Omar Shah 2.',\n",
       " 'Tan Sri Amin Shah Omar Shah 3.',\n",
       " \"Dato' Faridah Omar Shah 4.\",\n",
       " '\"Datuk Arif Shah Omar Shah PJK DMSM\" 5.',\n",
       " 'Datuk Azman Shah Omar Shah 6.',\n",
       " 'Tuan Azhar Shah Omar Shah 7.',\n",
       " 'Puan Fauziah Omar Shah 8.',\n",
       " 'Puan Faizah Omar Shah 9.',\n",
       " 'Tuan Haji Azlan Shah Omar Shah Arif Shah dikurniakan 5 orang anak hasil dari dua perkahwinan, perkahwinan pertamanya dengan Datin Aminah Wahab telah dikurniakan 3 orang anak iaitu Izwan Shah, Izham Naquiddin Shah, dan Nur Latifah.',\n",
       " 'Perkahwinan keduanya bersama Datin Latifah Asmawi pula telah dikurniakan 2 orang anak iaitu Izhar Shah, dan Izrin Shah.',\n",
       " 'Semua anaknya dihantar ke sekolah Cina agar bijak berbahasa Cina seperti dirinya.',\n",
       " 'Arif Shah boleh berbahasa bahasa Mandarin dan Hokkien disebabkan beliau mendapat pendidikan awal di SRJK(C) Hun Lian, Taiping, Negeri Perak dan disusuli dengan sambungan sekolah rendah di SRJK(C) Chong Hwa Wei Sin, Kuala Terengganu, Terengganu.',\n",
       " 'Beliau kemudian melanjutkan pelajaran ke SMJK(C) Chong Hwa Wei Sin, Kuala Terengganu dan diikuti sambungan pengajian di Chong Hwa High School, Gombak, Kuala Lumpur.',\n",
       " 'Kebolehannya berbahasa Mandarin dan Hokkien dijangka mampu memahami permasalahan masyarakat Cina dan boleh berkomunikasi dengan mereka.',\n",
       " 'Seterusnya beliau belajar di Federal Institute of Technology jurusan kejuruteraan awam.',\n",
       " 'Kemudian ke Graber International, California, Amerika Syarikat di dalam jurusan bahan binaan.',\n",
       " 'Arif Shah menceburi bidang industri pembinaan dan hartanah, selain pembuatan, perkhidmatan dan pengiklanan.',\n",
       " 'Arif Shah telah menceburkan diri dalam politik sejak tahun 1980-an.',\n",
       " 'Beliau merupakan wakil rakyat pertama di Pulau Pinang yang dianugerahkan sebagai wakil rakyat terbaik oleh sebuah pertubuhan bukan kerajaan (NGO) atas usaha beliau membantu dan memperjuangkan hak semua kaum di Malaysia umumnya dan di Seberang Jaya khasnya.',\n",
       " 'Pelbagai perubahan jelas dapat dilihat kerana sepanjang memegang jawatan ADUN Seberang Jaya, kawasan Seberang Jaya telah berjaya berubah dengan pantasnya dan sedikit demi sedikit menjadi sebuah bandar seperti bandar pusat di Pulau Pinang.',\n",
       " 'Semasa berada di kampus pengajian , Datuk Arif Shah pernah diberi kepercayaan untuk memegang jawatan sebagai Naib Pengerusi Persatuan Siswa Siswi FIT ( Federal Institute of Technology ).',\n",
       " 'Sebenarnya , minat terhadap politik telah mula membuak di hati sanubari beliau sejak zaman persekolahannya lagi melalui pendedahan ke majlis-majlis politik yang dihadiri oleh bondanya yang dikasihi dan abangnya yang pada satu ketika dahulu merupakan penggiat dan aktivis politik UMNO tanahair.',\n",
       " 'Dibekalkan dengan semangat serta minat beliau itu , maka beliau telah menjadi ahli UMNO sebelum UMNO Baru diwujudkan dan secara rasminya diterima menjadi ahli UMNO pada 13hb Januari 1989 dengan nombor keahlian 00483844.',\n",
       " 'Sejak dari tarikh itu, beliau telah bergiat dengan sangat aktif dalam bidang politik dan pernah melalui pelbagai zaman kebangkitan dan kejatuhan politik tanahair.',\n",
       " 'Sepanjang penglibatan dalam bidang politik , beliau telah diberikan amanah untuk memimpin beberapa sayap dan portfolio.',\n",
       " 'Antara jawatan-jawatan politik yang pernah disandang oleh beliau adalah : Di samping bergiat aktif dalam arena politik beliau juga turut terlibat di dalam kegiatan badan bukan kerajaan ( NGO ) .',\n",
       " 'Antara jawatan yang disandang oleh beliau ialah: 1.',\n",
       " 'Presiden Majlis Perpaduan dan Kebajikan Rakyat Negeri Pulau Pinang; 2.',\n",
       " 'Timbalan Pengerusi PEMADAM Daerah Seberang Perai Tengah; 3.',\n",
       " 'Ahli Lembaga Pengarah Koperasi Seberang Jaya Berhad; 4.',\n",
       " 'Penasihat Kelab Bell Belia Tamil Permatang Pauh; dan 5.',\n",
       " 'Penaung dan Penasihat kepada kepada banyak Pertubuhan NGO di Peringkat Negeri dan Pusat.',\n",
       " 'Naib Yang Di Pertua ( NYDP)- Persatuan Mencegah Dadah ( PEMADAM ) Kebangsaan 7.',\n",
       " 'Pengerusi Biro PPDa & Sahabat PEMADAM Kebangsaan 8.',\n",
       " \"Ahli Lembaga Amanah - Yayasan PEMADAM Kebangsaan Beliau pernah 'berguru' dengan Anwar Ibrahim ketika Anwar Ibrahim mengetuai UMNO Bahagian Permatang Pauh dari 1982 - 1998.\",\n",
       " 'Hubungan baik Arif Shah dengan Anwar Ibrahim tidak dapat dinafikan malah ada yang mengatakan bahawa Arif Shah ditawar untuk menyertai PKR kerana mereka adalah kawan baik dan hubungan ini telah diterjemahkan dalam kempen-kempen pilihanraya kecil P44-Permatang Pauh yang lalu dimana Anwar dan Arif mengambil inisiatif dan pendirian tidak menyerang peribadi masing-masing.',\n",
       " 'Untuk pengetahuan semua, pihak yang menyerang peribadi Anwar adalah pihak-pihak lain yang mempunyai agenda peribadi masing-masing.',\n",
       " 'Pada 2004 beliau memenangi kerusi ADUN Seberang Jaya dengan mendapat majoriti 4,464 undi mengalahkan calon PKR Dr Mansor Othman dengan majoriti undi sebanyak 4,464.',\n",
       " \"Beliau akan membawa buku catatan '555' bagi mencatat permasalahan rakyat di Seberang Jaya.\",\n",
       " 'Pusat khidmat masyarakatnya terletak di Seberang Jaya dan di Jalan Baru, Perai.',\n",
       " 'Laman web beliau di www.arifshah.com.',\n",
       " 'Sejak 2004, lebih 19,000 aduan telah beliau terima daripada penduduk Seberang Jaya.',\n",
       " 'Pada Pilihan Raya Umum Malaysia 2008, beliau mengalahkan calon dari Parti Keadilan Rakyat dengan majoriti yang kecil iaitu hanya sebanyak 533 undi.',\n",
       " 'Beliau mendapat 9,395 undi berbanding lawannya mendapat 8,862 undi.',\n",
       " 'Sebaik saja Wan Azizah Wan Ismail meletak jawatan sebagai Ahli Parlimen Permatang Pauh, UMNO mengalami kesukaran memilih calon yang sesuai untuk pilihanraya kecil ini.',\n",
       " 'Arif Shah merupakan salah satu calon yang disebut dalam khabar angin, namun tidak banyak orang mempercayainya kerana beliau pernah menjadi pengikut Anwar Ibrahim yang akan bertanding dalam pilihanraya kecil ini sebagai calon PKR.',\n",
       " 'Beliau menjadi calon menentang Datuk Seri Anwar Ibrahim bagi kerusi Permatang Pauh dalam Pilihan Raya Kecil Permatang Pauh 2008.',\n",
       " 'Presiden AKIM, Hanafi Mamat, 61 dari Kelantan turut bertanding.',\n",
       " \"Arif Shah digelar calon 'underdog' oleh Datuk Seri Najib Tun Razak.\",\n",
       " 'Akhirnya, beliau tewas di dalam pilihan raya kecil tersebut dengan majoriti undi sebanyak 15 671.',\n",
       " 'Arif Shah telah dikurniakan penganugerahan di atas jasa dan pengorbanan beliau selama berada dalam bidang politik.',\n",
       " 'Anugerah pertama beliau ialah Pingat Jasa Kebaktian (PJK) yang telah dikurniakan oleh TYTM Gabenor Negeri Pulau Pinang sekitar tahun 1990an.',\n",
       " 'Anugerah kedua yang diterima beliau pula ialah Darjah Mulia Seri Melaka (DMSM) yang membawa gelaran \"Datuk\" oleh TYTM Yang Dipertua Negeri Melaka pada tahun 2007.',\n",
       " 'Pada 15 Mac 2008 tunjuk perasaan telah diadakan di hadapan bangunan Komtar, Pulau Pinang.',\n",
       " 'Tunjuk perasaan itu disiarkan oleh TV3 dan RTM.',\n",
       " 'Mereka didalangi oleh pembangkang di Dewan Undangan Negeri Pulau Pinang.',\n",
       " 'Terdapat sebuah akhbar yang salah lapor bahawa Arif Shah turut hadir dalam perhimpunan ini, kerana dalam gambar menunjukkan lelaki berambut putih yang disangka Arif Shah, tetapi sebenarnya islah Datuk Musa Sheikh Fadzir.',\n",
       " 'Mereka membantah ura-ura Ketua Menteri Pulau Pinang , Lim Guan Eng untuk menghapuskan Dasar Ekonomi Baru dan diganti dengan Agenda Ekonomi Malaysia.']"
      ]
     },
     "execution_count": 5,
     "metadata": {},
     "output_type": "execute_result"
    }
   ],
   "source": [
    "split_into_sentences(json.loads(x[0])['text'].replace('<br>', ' '))"
   ]
  },
  {
   "cell_type": "code",
   "execution_count": 6,
   "metadata": {},
   "outputs": [
    {
     "name": "stderr",
     "output_type": "stream",
     "text": [
      "100%|██████████| 249/249 [01:52<00:00,  2.22it/s]\n"
     ]
    }
   ],
   "source": [
    "from tqdm import tqdm\n",
    "\n",
    "texts = []\n",
    "\n",
    "for i in tqdm(range(len(files))):\n",
    "    with open(files[i]) as fopen:\n",
    "        s = fopen.readlines()\n",
    "    \n",
    "    for i in s:\n",
    "        i = json.loads(i)\n",
    "        texts.extend([i['title']] + split_into_sentences(i['text'].replace('<br>', ' ')))\n",
    "        texts.append('')"
   ]
  },
  {
   "cell_type": "code",
   "execution_count": null,
   "metadata": {},
   "outputs": [],
   "source": [
    "with open('wiki-text.txt', 'w') as fopen:\n",
    "    fopen.write('\\n'.join(texts))"
   ]
  },
  {
   "cell_type": "code",
   "execution_count": null,
   "metadata": {},
   "outputs": [],
   "source": []
  }
 ],
 "metadata": {
  "kernelspec": {
   "display_name": "Python 3",
   "language": "python",
   "name": "python3"
  },
  "language_info": {
   "codemirror_mode": {
    "name": "ipython",
    "version": 3
   },
   "file_extension": ".py",
   "mimetype": "text/x-python",
   "name": "python",
   "nbconvert_exporter": "python",
   "pygments_lexer": "ipython3",
   "version": "3.6.8"
  }
 },
 "nbformat": 4,
 "nbformat_minor": 2
}
