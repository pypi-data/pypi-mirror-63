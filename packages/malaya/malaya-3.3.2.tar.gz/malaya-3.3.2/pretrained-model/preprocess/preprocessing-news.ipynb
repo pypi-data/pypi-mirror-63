{
 "cells": [
  {
   "cell_type": "code",
   "execution_count": 1,
   "metadata": {},
   "outputs": [],
   "source": [
    "# !wget https://huseinhouse-data.s3-ap-southeast-1.amazonaws.com/news.zip"
   ]
  },
  {
   "cell_type": "code",
   "execution_count": 2,
   "metadata": {},
   "outputs": [],
   "source": [
    "# !unzip news.zip"
   ]
  },
  {
   "cell_type": "code",
   "execution_count": 3,
   "metadata": {},
   "outputs": [
    {
     "data": {
      "text/plain": [
       "461"
      ]
     },
     "execution_count": 3,
     "metadata": {},
     "output_type": "execute_result"
    }
   ],
   "source": [
    "from glob import glob\n",
    "\n",
    "news = glob('news/*.json')\n",
    "len(news)"
   ]
  },
  {
   "cell_type": "code",
   "execution_count": 4,
   "metadata": {},
   "outputs": [],
   "source": [
    "import re\n",
    "from unidecode import unidecode\n",
    "\n",
    "alphabets = '([A-Za-z])'\n",
    "prefixes = (\n",
    "    '(Mr|St|Mrs|Ms|Dr|Prof|Capt|Cpt|Lt|Mt|Puan|puan|Tuan|tuan|sir|Sir)[.]'\n",
    ")\n",
    "suffixes = '(Inc|Ltd|Jr|Sr|Co)'\n",
    "starters = '(Mr|Mrs|Ms|Dr|He\\s|She\\s|It\\s|They\\s|Their\\s|Our\\s|We\\s|But\\s|However\\s|That\\s|This\\s|Wherever|Dia|Mereka|Tetapi|Kita|Itu|Ini|Dan|Kami)'\n",
    "acronyms = '([A-Z][.][A-Z][.](?:[A-Z][.])?)'\n",
    "websites = '[.](com|net|org|io|gov|me|edu|my)'\n",
    "another_websites = '(www|http|https)[.]'\n",
    "digits = '([0-9])'\n",
    "\n",
    "def cleaning(string):\n",
    "    string = unidecode(string)\n",
    "    string = re.sub(r'\\w+:\\/{2}[\\d\\w-]+(\\.[\\d\\w-]+)*(?:(?:\\/[^\\s/]*))*', '', string)\n",
    "    string = re.sub(r'[ ]+', ' ', string).strip().split()\n",
    "    string = [w for w in string if w[0] != '@']\n",
    "    return ' '.join(string)\n",
    "\n",
    "def split_into_sentences(text):\n",
    "    text = unidecode(text)\n",
    "    text = ' ' + text + '  '\n",
    "    text = text.replace('\\n', ' ')\n",
    "    text = re.sub(prefixes, '\\\\1<prd>', text)\n",
    "    text = re.sub(websites, '<prd>\\\\1', text)\n",
    "    text = re.sub(another_websites, '\\\\1<prd>', text)\n",
    "    if '...' in text:\n",
    "        text = text.replace('...', '<prd><prd><prd>')\n",
    "    if 'Ph.D' in text:\n",
    "        text = text.replace('Ph.D.', 'Ph<prd>D<prd>')\n",
    "    text = re.sub('\\s' + alphabets + '[.] ', ' \\\\1<prd> ', text)\n",
    "    text = re.sub(acronyms + ' ' + starters, '\\\\1<stop> \\\\2', text)\n",
    "    text = re.sub(\n",
    "        alphabets + '[.]' + alphabets + '[.]' + alphabets + '[.]',\n",
    "        '\\\\1<prd>\\\\2<prd>\\\\3<prd>',\n",
    "        text,\n",
    "    )\n",
    "    text = re.sub(\n",
    "        alphabets + '[.]' + alphabets + '[.]', '\\\\1<prd>\\\\2<prd>', text\n",
    "    )\n",
    "    text = re.sub(' ' + suffixes + '[.] ' + starters, ' \\\\1<stop> \\\\2', text)\n",
    "    text = re.sub(' ' + suffixes + '[.]', ' \\\\1<prd>', text)\n",
    "    text = re.sub(' ' + alphabets + '[.]', ' \\\\1<prd>', text)\n",
    "    text = re.sub(digits + '[.]' + digits, '\\\\1<prd>\\\\2', text)\n",
    "    if '”' in text:\n",
    "        text = text.replace('.”', '”.')\n",
    "    if '\"' in text:\n",
    "        text = text.replace('.\"', '\".')\n",
    "    if '!' in text:\n",
    "        text = text.replace('!\"', '\"!')\n",
    "    if '?' in text:\n",
    "        text = text.replace('?\"', '\"?')\n",
    "    text = text.replace('.', '.<stop>')\n",
    "    text = text.replace('?', '?<stop>')\n",
    "    text = text.replace('!', '!<stop>')\n",
    "    text = text.replace('<prd>', '.')\n",
    "    sentences = text.split('<stop>')\n",
    "    sentences = sentences[:-1]\n",
    "    sentences = [cleaning(s.strip()) for s in sentences if len(s) > 10]\n",
    "    return sentences"
   ]
  },
  {
   "cell_type": "code",
   "execution_count": 6,
   "metadata": {},
   "outputs": [
    {
     "data": {
      "text/plain": [
       "{'title': 'Lawatan Putera Mahkota Arab Saudi bincang pelaburan, ekonomi',\n",
       " 'url': 'https://www.bharian.com.my/berita/nasional/2019/02/530861/lawatan-putera-mahkota-arab-saudi-bincang-pelaburan-ekonomi',\n",
       " 'authors': ['Oleh Fahmy A Rosli'],\n",
       " 'top-image': 'https://assets.bharian.com.my/images/articles/bhlawat14-O_BHfield_image_listing_featured.var_1550138917.jpg',\n",
       " 'text': 'KUALA LUMPUR: Lawatan Putera Mahkota Arab Saudi, Mohammed bin Salman ke Malaysia pada Ahad ini terarah kepada pertemuan bagi membincangkan isu ekonomi dan pelaburan antara kedua-dua negara.\\n\\nMenteri Luar, Datuk Saifuddin Abdullah, berkata tujuan lawatan kerabat diraja Arab Saudi itu akan diperjelaskan oleh Kementerian Hal Ehwal Ekonomi.\\n\\n“Saya rasa elok perkara itu (lawatan Putera Mahkota Arab Saudi) dijelaskan sendiri oleh (Menteri Hal Ehwal Ekonomi) Datuk Seri Mohamed Azmin (Ali).\\n\\n“Selain saya (keluarkan kenyataan mengenai lawatan itu), kamu (pemberita) juga boleh ajukan soalan kepada Datuk Seri Mohamed Azmin.\\n\\n“Ia banyak berkisar ekonomi dan perniagaan,” katanya kepada pemberita selepas hadir di majlis meja bulat bersama belia di Institut Diplomasi dan Hubungan Luar Negeri, di sini, hari ini.\\n\\nLawatan Putera Mahkota Arab Saudi ke Malaysia akan berlangsung selama dua hari berakhir Isnin ini.',\n",
       " 'keyword': ['soalan',\n",
       "  'arab',\n",
       "  'lawatan',\n",
       "  'ehwal',\n",
       "  'tujuan',\n",
       "  'terarah',\n",
       "  'mahkota',\n",
       "  'saudi',\n",
       "  'mohamed',\n",
       "  'bincang',\n",
       "  'putera'],\n",
       " 'summary': 'KUALA LUMPUR: Lawatan Putera Mahkota Arab Saudi, Mohammed bin Salman ke Malaysia pada Ahad ini terarah kepada pertemuan bagi membincangkan isu ekonomi dan pelaburan antara kedua-dua negara.\\nMenteri Luar, Datuk Saifuddin Abdullah, berkata tujuan lawatan kerabat diraja Arab Saudi itu akan diperjelaskan oleh Kementerian Hal Ehwal Ekonomi.\\n“Saya rasa elok perkara itu (lawatan Putera Mahkota Arab Saudi) dijelaskan sendiri oleh (Menteri Hal Ehwal Ekonomi) Datuk Seri Mohamed Azmin (Ali).\\n“Selain saya (keluarkan kenyataan mengenai lawatan itu), kamu (pemberita) juga boleh ajukan soalan kepada Datuk Seri Mohamed Azmin.\\nLawatan Putera Mahkota Arab Saudi ke Malaysia akan berlangsung selama dua hari berakhir Isnin ini.',\n",
       " 'news': 'Berita Harian',\n",
       " 'date': '02-14-2019',\n",
       " 'language': 'INDONESIA'}"
      ]
     },
     "execution_count": 6,
     "metadata": {},
     "output_type": "execute_result"
    }
   ],
   "source": [
    "import json\n",
    "\n",
    "with open(news[0]) as fopen:\n",
    "    x = json.load(fopen)\n",
    "    \n",
    "x[0]"
   ]
  },
  {
   "cell_type": "code",
   "execution_count": 7,
   "metadata": {},
   "outputs": [
    {
     "data": {
      "text/plain": [
       "['KUALA LUMPUR: Lawatan Putera Mahkota Arab Saudi, Mohammed bin Salman ke Malaysia pada Ahad ini terarah kepada pertemuan bagi membincangkan isu ekonomi dan pelaburan antara kedua-dua negara.',\n",
       " 'Menteri Luar, Datuk Saifuddin Abdullah, berkata tujuan lawatan kerabat diraja Arab Saudi itu akan diperjelaskan oleh Kementerian Hal Ehwal Ekonomi.',\n",
       " '\"Saya rasa elok perkara itu (lawatan Putera Mahkota Arab Saudi) dijelaskan sendiri oleh (Menteri Hal Ehwal Ekonomi) Datuk Seri Mohamed Azmin (Ali).',\n",
       " '\"Selain saya (keluarkan kenyataan mengenai lawatan itu), kamu (pemberita) juga boleh ajukan soalan kepada Datuk Seri Mohamed Azmin.',\n",
       " '\"Ia banyak berkisar ekonomi dan perniagaan,\" katanya kepada pemberita selepas hadir di majlis meja bulat bersama belia di Institut Diplomasi dan Hubungan Luar Negeri, di sini, hari ini.',\n",
       " 'Lawatan Putera Mahkota Arab Saudi ke Malaysia akan berlangsung selama dua hari berakhir Isnin ini.']"
      ]
     },
     "execution_count": 7,
     "metadata": {},
     "output_type": "execute_result"
    }
   ],
   "source": [
    "split_into_sentences(x[0]['text'])"
   ]
  },
  {
   "cell_type": "code",
   "execution_count": 8,
   "metadata": {},
   "outputs": [
    {
     "name": "stderr",
     "output_type": "stream",
     "text": [
      "100%|██████████| 461/461 [01:36<00:00,  4.77it/s]\n"
     ]
    }
   ],
   "source": [
    "from tqdm import tqdm\n",
    "\n",
    "texts = []\n",
    "\n",
    "for n in tqdm(range(len(news))):\n",
    "    n = news[n]\n",
    "    with open(n) as fopen:\n",
    "        s = json.load(fopen)\n",
    "    \n",
    "    for i in s:\n",
    "        texts.extend([i['title']] + split_into_sentences(i['text']))\n",
    "        texts.append('')"
   ]
  },
  {
   "cell_type": "code",
   "execution_count": 9,
   "metadata": {},
   "outputs": [
    {
     "data": {
      "text/plain": [
       "1479303"
      ]
     },
     "execution_count": 9,
     "metadata": {},
     "output_type": "execute_result"
    }
   ],
   "source": [
    "len(texts)"
   ]
  },
  {
   "cell_type": "code",
   "execution_count": 10,
   "metadata": {},
   "outputs": [
    {
     "data": {
      "text/plain": [
       "['Lawatan Putera Mahkota Arab Saudi bincang pelaburan, ekonomi',\n",
       " 'KUALA LUMPUR: Lawatan Putera Mahkota Arab Saudi, Mohammed bin Salman ke Malaysia pada Ahad ini terarah kepada pertemuan bagi membincangkan isu ekonomi dan pelaburan antara kedua-dua negara.',\n",
       " 'Menteri Luar, Datuk Saifuddin Abdullah, berkata tujuan lawatan kerabat diraja Arab Saudi itu akan diperjelaskan oleh Kementerian Hal Ehwal Ekonomi.',\n",
       " '\"Saya rasa elok perkara itu (lawatan Putera Mahkota Arab Saudi) dijelaskan sendiri oleh (Menteri Hal Ehwal Ekonomi) Datuk Seri Mohamed Azmin (Ali).',\n",
       " '\"Selain saya (keluarkan kenyataan mengenai lawatan itu), kamu (pemberita) juga boleh ajukan soalan kepada Datuk Seri Mohamed Azmin.',\n",
       " '\"Ia banyak berkisar ekonomi dan perniagaan,\" katanya kepada pemberita selepas hadir di majlis meja bulat bersama belia di Institut Diplomasi dan Hubungan Luar Negeri, di sini, hari ini.',\n",
       " 'Lawatan Putera Mahkota Arab Saudi ke Malaysia akan berlangsung selama dua hari berakhir Isnin ini.',\n",
       " '',\n",
       " 'Isu halal dominasi lawatan Mujahid ke Jordan, Turki dan Bosnia',\n",
       " 'KUALA LUMPUR - Menteri di Jabatan Perdana Menteri, Datuk Seri Dr Mujahid Yusof Rawa hari ini mengakhiri lawatan kerja lapan hari ke Jordan, Turki dan Bosnia Herzegovina, lawatan yang bertujuan mengeratkan lagi hubungan dua hala dengan ketiga-tiga negara berkenaan.']"
      ]
     },
     "execution_count": 10,
     "metadata": {},
     "output_type": "execute_result"
    }
   ],
   "source": [
    "texts[:10]"
   ]
  },
  {
   "cell_type": "code",
   "execution_count": 11,
   "metadata": {},
   "outputs": [],
   "source": [
    "# !wget https://raw.githubusercontent.com/huseinzol05/Malaya-Dataset/master/news-30k/news-30k.json.zip"
   ]
  },
  {
   "cell_type": "code",
   "execution_count": 12,
   "metadata": {},
   "outputs": [],
   "source": [
    "# !unzip news-30k.json.zip"
   ]
  },
  {
   "cell_type": "code",
   "execution_count": 13,
   "metadata": {},
   "outputs": [
    {
     "data": {
      "text/plain": [
       "{'title': 'Ibu saudara Haziq terharu sokongan rakyat Malaysia',\n",
       " 'url': 'https://www.themalaysianinsight.com/bahasa/s/142491',\n",
       " 'news': 'themalaysianinsight',\n",
       " 'language': 'malay',\n",
       " 'top-image': 'https://www.themalaysianinsight.com/resources/stories_images/142491/perhimpunanan_solidarity_kedamaian_03__full.jpg',\n",
       " 'text': 'WARIS keluarga Allahyarham Muhammad Haziq Mohd Tarmizi, 17, yang terkorban dalam tragedi tembakan di Christchurch, New Zealand, pada 15 Mac lepas, melahirkan rasa terharu akan sokongan diberi rakyat Malaysia semasa perhimpunan Solidariti Kedamaian.\\n\\nZarina Shuib , ibu saudara Muhammad Haziq, memanjatkan kesyukuran kepada Allah SWT kerana berkesempatan menyertai rakyat Malaysia dalam perhimpunan itu di Kuala Lumpur hari ini.',\n",
       " 'date': '2019-03-23T03:52:02',\n",
       " 'date_utc': '2019-03-22T19:52:02'}"
      ]
     },
     "execution_count": 13,
     "metadata": {},
     "output_type": "execute_result"
    }
   ],
   "source": [
    "with open('news-30k.json') as fopen:\n",
    "    news = json.load(fopen)\n",
    "    \n",
    "news[0]"
   ]
  },
  {
   "cell_type": "code",
   "execution_count": 14,
   "metadata": {},
   "outputs": [
    {
     "name": "stderr",
     "output_type": "stream",
     "text": [
      "100%|██████████| 29855/29855 [00:26<00:00, 1138.11it/s]\n"
     ]
    }
   ],
   "source": [
    "for n in tqdm(range(len(news))):\n",
    "    n = news[n]\n",
    "    texts.extend([n['title']] + split_into_sentences(n['text']))\n",
    "    texts.append('')"
   ]
  },
  {
   "cell_type": "code",
   "execution_count": 15,
   "metadata": {},
   "outputs": [
    {
     "data": {
      "text/plain": [
       "['',\n",
       " 'Transaksi mata wang digital bernilai RM75 juta sebulan',\n",
       " ': Malaysia menyaksikan transaksi sebanyak RM75 juta sebulan diproses melalui platform mata wang digital, kata Bank Negara Malaysia (BNM).',\n",
       " 'Timbalan Gabenor, Abdul Rasheed Ghaffour berkata, nilai itu masih kecil berbanding dengan permodalan pasaran mata wang digital di seluruh dunia yang berjumlah AS$420 bilion (AS$1=RM4.07).',\n",
       " 'Bagaimanapun, beliau berkata, BNM mengambil langkah ke hadapan dengan merancang untuk memperkenalkan dasar obligasi pelaporan yang akan menjadikan mata wang digital lebih telus dan untuk mengelak penyalahgunaan mata wang digital untuk pengubahan wang haram dan pembiayaan keganasan awal tahun depan\".',\n",
       " 'Dengan adanya obligasi pelaporan itu akan menjadikan bursa mata wang digital sebagai institusi pelaporan di bawah Akta Pencegahan Pengubahan Wang Haram, Pencegahan Pembiayaan Keganasan dan Hasil Daripada Aktiviti Haram 2001 (AMLA),\" katanya kepada pemberita pada majlis taklimat di sini, hari ini.',\n",
       " 'Abdul Rasheed berkata, dasar yang dicadangkan itu juga akan membolehkan bank pusat mengumpul lebih banyak data dan pemahaman mengenai mata wang digital yang akan membantu BNM menentukan hala tuju masa depan\".',\n",
       " 'Maklumat yang kita lihat ialah jumlah urus niaga, penukaran mata wang digital kepada wang fiat serta mata wang digital ke mata wang digital yang lain,\" katanya.',\n",
       " 'Beliau berkata, BNM juga akan mengumpulkan maklumat mengenai nilai urus niaga, pembelian bersih dan transaksi jualan, tujuan urus niaga, kaedah pembayaran, bilangan akaun pelanggan dan nilai akaun pelanggan yang belum dijelaskan.',\n",
       " 'Menurutnya, dasar itu, apabila dikuat kuasa, akan memerlukan bursa mata wang digital untuk melaporkan secara bulanan kepada bank pusat dan kegagalan berbuat demikian akan mengakibatkan denda tidak melebihi RM1 juta.',\n",
       " 'Bagaimanapun, Abdul Rasheed berkata, BNM tidak berhasrat untuk mengharamkan penggunaan mata wang digital di Malaysia kerana tindakan itu akan membunuh inovasi dan kreativiti\".',\n",
       " 'Apa yang penting adalah untuk mewujudkan satu keseimbangan.',\n",
       " 'Kami mahu melihat inovasi dan kreativiti yang dapat memberi manfaat kepada pengguna dan negara sambil melindungi integriti sistem kewangan,\" katanya.',\n",
       " 'Ketika ditanya sama ada mata wang digital Bitcoin, kini berada dalam gelembung, beliau berkata, ciri-cirinya sama dengan gelembung harga\".',\n",
       " 'Jika anda lihat pada harga, adalah jelas ia sama seperti gelembung.',\n",
       " 'Berapa harganya apabila ia mula diterbitkan dan berapa harganya hari ini\".',\n",
       " 'Jika anda lihat kepada pelaburan lain, saya tidak fikir anda akan mendapat pulangan setinggi itu.',\n",
       " 'Semua yang mempunyai pulangan tinggi, mempunyai risiko tinggi.',\n",
       " 'Saya tidak akan tidak bersetuju dengan itu (Bitcoin dalam gelembung),\" tambahnya.',\n",
       " '']"
      ]
     },
     "execution_count": 15,
     "metadata": {},
     "output_type": "execute_result"
    }
   ],
   "source": [
    "texts[-20:]"
   ]
  },
  {
   "cell_type": "code",
   "execution_count": 16,
   "metadata": {},
   "outputs": [],
   "source": [
    "with open('news-text.txt', 'w') as fopen:\n",
    "    fopen.write('\\n'.join(texts))"
   ]
  }
 ],
 "metadata": {
  "kernelspec": {
   "display_name": "Python 3",
   "language": "python",
   "name": "python3"
  },
  "language_info": {
   "codemirror_mode": {
    "name": "ipython",
    "version": 3
   },
   "file_extension": ".py",
   "mimetype": "text/x-python",
   "name": "python",
   "nbconvert_exporter": "python",
   "pygments_lexer": "ipython3",
   "version": "3.6.8"
  }
 },
 "nbformat": 4,
 "nbformat_minor": 2
}
