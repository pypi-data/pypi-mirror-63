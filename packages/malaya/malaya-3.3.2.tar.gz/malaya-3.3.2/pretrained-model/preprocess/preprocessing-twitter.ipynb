{
 "cells": [
  {
   "cell_type": "code",
   "execution_count": 1,
   "metadata": {},
   "outputs": [],
   "source": [
    "# !pip3 install emoji bs4 unidecode gensim\n",
    "# !wget https://huseinhouse-storage.s3-ap-southeast-1.amazonaws.com/bert-bahasa/dumping-twitter-6-july-2019.json"
   ]
  },
  {
   "cell_type": "code",
   "execution_count": 2,
   "metadata": {},
   "outputs": [],
   "source": [
    "import cleaning"
   ]
  },
  {
   "cell_type": "code",
   "execution_count": 3,
   "metadata": {},
   "outputs": [
    {
     "data": {
      "text/plain": [
       "6597867"
      ]
     },
     "execution_count": 3,
     "metadata": {},
     "output_type": "execute_result"
    }
   ],
   "source": [
    "import json\n",
    "\n",
    "with open('dumping-twitter-6-july-2019.json') as fopen:\n",
    "    twitter = json.load(fopen)\n",
    "len(twitter)"
   ]
  },
  {
   "cell_type": "code",
   "execution_count": 4,
   "metadata": {},
   "outputs": [
    {
     "name": "stderr",
     "output_type": "stream",
     "text": [
      "100%|██████████| 412366/412366 [00:18<00:00, 22126.16it/s]\n",
      "100%|██████████| 412366/412366 [00:18<00:00, 22215.27it/s]\n",
      " 99%|█████████▉| 407790/412366 [00:18<00:00, 22228.87it/s]\n",
      "100%|██████████| 412366/412366 [00:18<00:00, 22302.61it/s]\n",
      "100%|██████████| 412366/412366 [00:18<00:00, 21747.06it/s]\n",
      "100%|██████████| 412366/412366 [00:18<00:00, 22056.26it/s]\n",
      "100%|██████████| 412366/412366 [00:18<00:00, 22038.86it/s]\n",
      "100%|██████████| 412366/412366 [00:18<00:00, 22047.54it/s]\n",
      "100%|██████████| 412366/412366 [00:18<00:00, 22108.45it/s]\n",
      "100%|██████████| 412366/412366 [00:18<00:00, 21851.54it/s]\n",
      "100%|██████████| 412366/412366 [00:18<00:00, 22246.09it/s]\n",
      "100%|██████████| 412366/412366 [00:18<00:00, 21846.60it/s]\n",
      "100%|██████████| 412366/412366 [00:18<00:00, 22058.15it/s]\n",
      "100%|██████████| 412366/412366 [00:18<00:00, 22149.39it/s]\n",
      "100%|██████████| 412366/412366 [00:18<00:00, 22159.40it/s]\n",
      "100%|██████████| 412366/412366 [00:18<00:00, 21949.32it/s]\n",
      "100%|██████████| 412366/412366 [00:18<00:00, 21843.93it/s]\n"
     ]
    },
    {
     "name": "stdout",
     "output_type": "stream",
     "text": [
      "CPU times: user 4.93 s, sys: 3.24 s, total: 8.18 s\n",
      "Wall time: 24.1 s\n"
     ]
    }
   ],
   "source": [
    "%%time\n",
    "\n",
    "twitter = cleaning.multiprocessing(twitter, cleaning.cleaning_strings)"
   ]
  },
  {
   "cell_type": "code",
   "execution_count": 5,
   "metadata": {},
   "outputs": [
    {
     "name": "stdout",
     "output_type": "stream",
     "text": [
      "CPU times: user 4.21 s, sys: 1.64 s, total: 5.85 s\n",
      "Wall time: 6.91 s\n"
     ]
    }
   ],
   "source": [
    "%%time\n",
    "\n",
    "temp_vocab = list(set(cleaning.multiprocessing(twitter, cleaning.unique_words)))"
   ]
  },
  {
   "cell_type": "code",
   "execution_count": 6,
   "metadata": {},
   "outputs": [
    {
     "name": "stdout",
     "output_type": "stream",
     "text": [
      "444580\n",
      "CPU times: user 2.53 s, sys: 638 ms, total: 3.16 s\n",
      "Wall time: 7.18 s\n"
     ]
    }
   ],
   "source": [
    "%%time\n",
    "temp_dict = cleaning.multiprocessing(temp_vocab, cleaning.duplicate_dots_marks_exclamations, list_mode = False)\n",
    "print(len(temp_dict))"
   ]
  },
  {
   "cell_type": "code",
   "execution_count": 7,
   "metadata": {},
   "outputs": [
    {
     "name": "stderr",
     "output_type": "stream",
     "text": [
      "100%|██████████| 412366/412366 [00:02<00:00, 198555.29it/s]\n",
      "100%|██████████| 412366/412366 [00:02<00:00, 197692.05it/s]\n",
      "100%|██████████| 412366/412366 [00:02<00:00, 198360.12it/s]\n",
      "100%|██████████| 412366/412366 [00:02<00:00, 198573.01it/s]\n",
      "100%|██████████| 412366/412366 [00:02<00:00, 196691.29it/s]\n",
      "100%|██████████| 412366/412366 [00:02<00:00, 194084.49it/s]\n",
      "100%|██████████| 412366/412366 [00:02<00:00, 196199.47it/s]\n",
      "100%|██████████| 412366/412366 [00:02<00:00, 195740.46it/s]\n",
      "100%|██████████| 412366/412366 [00:02<00:00, 190536.35it/s]\n",
      "100%|██████████| 412366/412366 [00:02<00:00, 196131.25it/s]\n",
      "100%|██████████| 412366/412366 [00:02<00:00, 189039.36it/s]\n",
      "100%|██████████| 11/11 [00:00<00:00, 57384.76it/s]0.01it/s]\n",
      "100%|██████████| 412366/412366 [00:02<00:00, 195551.91it/s]\n",
      "100%|██████████| 412366/412366 [00:02<00:00, 194863.57it/s]\n",
      "100%|██████████| 412366/412366 [00:02<00:00, 192668.45it/s]\n",
      "100%|██████████| 412366/412366 [00:02<00:00, 202377.17it/s]\n",
      "100%|██████████| 412366/412366 [00:02<00:00, 202731.24it/s]\n"
     ]
    },
    {
     "name": "stdout",
     "output_type": "stream",
     "text": [
      "CPU times: user 6.63 s, sys: 3.19 s, total: 9.82 s\n",
      "Wall time: 11.4 s\n"
     ]
    }
   ],
   "source": [
    "%%time\n",
    "\n",
    "twitter = cleaning.multiprocessing_multiple(twitter, temp_dict, cleaning.string_dict_cleaning)"
   ]
  },
  {
   "cell_type": "code",
   "execution_count": 8,
   "metadata": {},
   "outputs": [
    {
     "name": "stdout",
     "output_type": "stream",
     "text": [
      "498\n",
      "CPU times: user 916 ms, sys: 668 ms, total: 1.58 s\n",
      "Wall time: 2.17 s\n"
     ]
    }
   ],
   "source": [
    "%%time\n",
    "temp_dict = cleaning.multiprocessing(temp_vocab, cleaning.remove_underscore, list_mode = False)\n",
    "print(len(temp_dict))"
   ]
  },
  {
   "cell_type": "code",
   "execution_count": 9,
   "metadata": {},
   "outputs": [
    {
     "name": "stderr",
     "output_type": "stream",
     "text": [
      "100%|██████████| 412366/412366 [00:01<00:00, 226237.41it/s]\n",
      "100%|██████████| 412366/412366 [00:01<00:00, 224959.33it/s]\n",
      "100%|██████████| 412366/412366 [00:01<00:00, 223922.44it/s]\n",
      "100%|██████████| 412366/412366 [00:01<00:00, 225029.20it/s]\n",
      "100%|██████████| 412366/412366 [00:01<00:00, 220326.50it/s]\n",
      "100%|██████████| 412366/412366 [00:01<00:00, 223507.90it/s]\n",
      "100%|██████████| 11/11 [00:00<00:00, 30493.95it/s]8.77it/s]\n",
      "100%|██████████| 412366/412366 [00:01<00:00, 216395.22it/s]\n",
      "100%|██████████| 412366/412366 [00:01<00:00, 217418.34it/s]\n",
      "100%|██████████| 412366/412366 [00:01<00:00, 221819.88it/s]\n",
      " 32%|███▏      | 133926/412366 [00:00<00:01, 223992.10it/s]\n",
      "100%|██████████| 412366/412366 [00:01<00:00, 222821.35it/s]\n",
      "100%|██████████| 412366/412366 [00:01<00:00, 217959.74it/s]\n",
      "100%|██████████| 412366/412366 [00:01<00:00, 221039.90it/s]\n",
      "100%|██████████| 412366/412366 [00:01<00:00, 223633.32it/s]\n",
      "100%|██████████| 412366/412366 [00:01<00:00, 225007.33it/s]\n",
      "100%|██████████| 412366/412366 [00:01<00:00, 224569.60it/s]\n"
     ]
    },
    {
     "name": "stdout",
     "output_type": "stream",
     "text": [
      "CPU times: user 3.48 s, sys: 1.95 s, total: 5.44 s\n",
      "Wall time: 6.61 s\n"
     ]
    }
   ],
   "source": [
    "%%time\n",
    "\n",
    "twitter = cleaning.multiprocessing_multiple(twitter, temp_dict, cleaning.string_dict_cleaning)"
   ]
  },
  {
   "cell_type": "code",
   "execution_count": 10,
   "metadata": {},
   "outputs": [
    {
     "name": "stdout",
     "output_type": "stream",
     "text": [
      "282\n",
      "CPU times: user 805 ms, sys: 675 ms, total: 1.48 s\n",
      "Wall time: 2.11 s\n"
     ]
    }
   ],
   "source": [
    "%%time\n",
    "temp_dict = cleaning.multiprocessing(temp_vocab, cleaning.isolate_spamchars, list_mode = False)\n",
    "print(len(temp_dict))"
   ]
  },
  {
   "cell_type": "code",
   "execution_count": 11,
   "metadata": {},
   "outputs": [
    {
     "name": "stderr",
     "output_type": "stream",
     "text": [
      "100%|██████████| 412366/412366 [00:01<00:00, 221604.50it/s]\n",
      "100%|██████████| 412366/412366 [00:01<00:00, 222051.86it/s]\n",
      "100%|██████████| 412366/412366 [00:01<00:00, 214062.55it/s]\n",
      "100%|██████████| 412366/412366 [00:01<00:00, 221567.57it/s]\n",
      " 60%|█████▉    | 246391/412366 [00:01<00:00, 224866.79it/s]\n",
      "100%|██████████| 412366/412366 [00:01<00:00, 222891.19it/s]\n",
      "100%|██████████| 11/11 [00:00<00:00, 33240.16it/s]5.70it/s]\n",
      "100%|██████████| 412366/412366 [00:01<00:00, 212962.29it/s]\n",
      "100%|██████████| 412366/412366 [00:01<00:00, 222613.80it/s]\n",
      "100%|██████████| 412366/412366 [00:01<00:00, 219435.99it/s]\n",
      "100%|██████████| 412366/412366 [00:01<00:00, 224186.86it/s]\n",
      "100%|██████████| 412366/412366 [00:01<00:00, 214702.98it/s]\n",
      "100%|██████████| 412366/412366 [00:01<00:00, 217634.74it/s]\n",
      "100%|██████████| 412366/412366 [00:01<00:00, 219575.48it/s]\n",
      "100%|██████████| 412366/412366 [00:01<00:00, 220830.07it/s]\n",
      "100%|██████████| 412366/412366 [00:01<00:00, 221680.11it/s]\n",
      " 98%|█████████▊| 405635/412366 [00:01<00:00, 225449.49it/s]\n",
      "100%|██████████| 412366/412366 [00:01<00:00, 225184.15it/s]"
     ]
    },
    {
     "name": "stdout",
     "output_type": "stream",
     "text": [
      "CPU times: user 3.43 s, sys: 2.22 s, total: 5.65 s\n",
      "Wall time: 6.67 s\n"
     ]
    }
   ],
   "source": [
    "%%time\n",
    "\n",
    "twitter = cleaning.multiprocessing_multiple(twitter, temp_dict, cleaning.string_dict_cleaning)"
   ]
  },
  {
   "cell_type": "code",
   "execution_count": 12,
   "metadata": {},
   "outputs": [
    {
     "name": "stdout",
     "output_type": "stream",
     "text": [
      "65383\n",
      "CPU times: user 1.09 s, sys: 656 ms, total: 1.75 s\n",
      "Wall time: 1.94 s\n"
     ]
    }
   ],
   "source": [
    "%%time\n",
    "temp_dict = cleaning.multiprocessing(temp_vocab, cleaning.break_short_words, list_mode = False)\n",
    "print(len(temp_dict))"
   ]
  },
  {
   "cell_type": "code",
   "execution_count": 13,
   "metadata": {},
   "outputs": [
    {
     "name": "stderr",
     "output_type": "stream",
     "text": [
      "100%|██████████| 412366/412366 [00:02<00:00, 205731.22it/s]\n",
      "100%|██████████| 412366/412366 [00:02<00:00, 204483.84it/s]\n",
      "100%|██████████| 412366/412366 [00:02<00:00, 203899.05it/s]\n",
      "100%|██████████| 412366/412366 [00:02<00:00, 201832.79it/s]\n",
      "100%|██████████| 412366/412366 [00:02<00:00, 204083.22it/s]\n",
      "100%|██████████| 11/11 [00:00<00:00, 57171.43it/s]0.62it/s]\n",
      "100%|██████████| 412366/412366 [00:02<00:00, 198673.85it/s]\n",
      "100%|██████████| 412366/412366 [00:02<00:00, 202128.03it/s]\n",
      "100%|██████████| 412366/412366 [00:02<00:00, 200976.58it/s]\n",
      " 24%|██▍       | 99546/412366 [00:00<00:01, 197116.56it/s]]\n",
      "100%|██████████| 412366/412366 [00:02<00:00, 203613.93it/s]\n",
      "100%|██████████| 412366/412366 [00:02<00:00, 197628.73it/s]\n",
      " 84%|████████▍ | 347358/412366 [00:01<00:00, 207206.75it/s]\n",
      "100%|██████████| 412366/412366 [00:02<00:00, 202091.85it/s]\n",
      "100%|██████████| 412366/412366 [00:02<00:00, 204705.05it/s]\n",
      "100%|██████████| 412366/412366 [00:02<00:00, 203027.06it/s]\n",
      "100%|██████████| 412366/412366 [00:02<00:00, 205846.77it/s]\n"
     ]
    },
    {
     "name": "stdout",
     "output_type": "stream",
     "text": [
      "CPU times: user 3.81 s, sys: 2.02 s, total: 5.83 s\n",
      "Wall time: 7.2 s\n"
     ]
    }
   ],
   "source": [
    "%%time\n",
    "\n",
    "twitter = cleaning.multiprocessing_multiple(twitter, temp_dict, cleaning.string_dict_cleaning)"
   ]
  },
  {
   "cell_type": "code",
   "execution_count": 14,
   "metadata": {},
   "outputs": [
    {
     "name": "stdout",
     "output_type": "stream",
     "text": [
      "7513\n",
      "CPU times: user 863 ms, sys: 669 ms, total: 1.53 s\n",
      "Wall time: 1.72 s\n"
     ]
    }
   ],
   "source": [
    "%%time\n",
    "temp_dict = cleaning.multiprocessing(temp_vocab, cleaning.break_long_words, list_mode = False)\n",
    "print(len(temp_dict))"
   ]
  },
  {
   "cell_type": "code",
   "execution_count": 15,
   "metadata": {},
   "outputs": [
    {
     "name": "stderr",
     "output_type": "stream",
     "text": [
      " 24%|██▍       | 98520/412366 [00:00<00:01, 181144.83it/s]]\n",
      " 91%|█████████ | 373769/412366 [00:01<00:00, 220666.94it/s]\n",
      "100%|██████████| 11/11 [00:00<00:00, 58549.93it/s]6.98it/s]\n",
      "100%|██████████| 412366/412366 [00:01<00:00, 215295.54it/s]\n",
      "100%|██████████| 412366/412366 [00:01<00:00, 217620.75it/s]\n",
      "100%|██████████| 412366/412366 [00:01<00:00, 221887.72it/s]\n",
      " 57%|█████▋    | 236607/412366 [00:01<00:00, 193948.10it/s]\n",
      "100%|██████████| 412366/412366 [00:01<00:00, 217640.74it/s]\n",
      "100%|██████████| 412366/412366 [00:01<00:00, 220693.04it/s]\n",
      "100%|██████████| 412366/412366 [00:01<00:00, 218708.47it/s]\n",
      "100%|██████████| 412366/412366 [00:02<00:00, 203423.79it/s]\n",
      "100%|██████████| 412366/412366 [00:01<00:00, 211491.28it/s]\n",
      "100%|██████████| 412366/412366 [00:01<00:00, 220289.65it/s]\n",
      "100%|██████████| 412366/412366 [00:01<00:00, 218688.73it/s]\n",
      "100%|██████████| 412366/412366 [00:01<00:00, 222135.90it/s]\n",
      "100%|██████████| 412366/412366 [00:01<00:00, 219740.93it/s]\n",
      "100%|██████████| 412366/412366 [00:01<00:00, 223247.85it/s]\n"
     ]
    },
    {
     "name": "stdout",
     "output_type": "stream",
     "text": [
      "CPU times: user 3.3 s, sys: 1.91 s, total: 5.21 s\n",
      "Wall time: 6.17 s\n"
     ]
    }
   ],
   "source": [
    "%%time\n",
    "\n",
    "twitter = cleaning.multiprocessing_multiple(twitter, temp_dict, cleaning.string_dict_cleaning)"
   ]
  },
  {
   "cell_type": "code",
   "execution_count": 16,
   "metadata": {},
   "outputs": [
    {
     "name": "stdout",
     "output_type": "stream",
     "text": [
      "1675\n",
      "CPU times: user 843 ms, sys: 721 ms, total: 1.56 s\n",
      "Wall time: 1.72 s\n"
     ]
    }
   ],
   "source": [
    "%%time\n",
    "temp_dict = cleaning.multiprocessing(temp_vocab, cleaning.remove_ending_underscore, list_mode = False)\n",
    "print(len(temp_dict))"
   ]
  },
  {
   "cell_type": "code",
   "execution_count": 17,
   "metadata": {},
   "outputs": [
    {
     "name": "stderr",
     "output_type": "stream",
     "text": [
      "100%|██████████| 412366/412366 [00:01<00:00, 218687.76it/s]\n",
      " 32%|███▏      | 132313/412366 [00:00<00:01, 220889.02it/s]\n",
      "100%|██████████| 11/11 [00:00<00:00, 63201.84it/s].49it/s]]\n",
      "100%|██████████| 412366/412366 [00:01<00:00, 218679.57it/s]\n",
      "100%|██████████| 412366/412366 [00:01<00:00, 220934.36it/s]\n",
      "100%|██████████| 412366/412366 [00:01<00:00, 217471.21it/s]\n",
      "100%|██████████| 412366/412366 [00:01<00:00, 223508.96it/s]\n",
      "100%|██████████| 412366/412366 [00:01<00:00, 223944.91it/s]\n",
      "100%|██████████| 412366/412366 [00:01<00:00, 217815.42it/s]\n",
      "100%|██████████| 412366/412366 [00:01<00:00, 219006.09it/s]\n",
      "100%|██████████| 412366/412366 [00:01<00:00, 220812.03it/s]\n",
      "100%|██████████| 412366/412366 [00:01<00:00, 220190.97it/s]\n",
      "100%|██████████| 412366/412366 [00:01<00:00, 217202.29it/s]\n",
      "100%|██████████| 412366/412366 [00:02<00:00, 195786.24it/s]\n",
      "100%|██████████| 412366/412366 [00:02<00:00, 197322.84it/s]\n",
      "100%|██████████| 412366/412366 [00:02<00:00, 195103.54it/s]\n",
      "100%|██████████| 412366/412366 [00:02<00:00, 196040.62it/s]\n"
     ]
    },
    {
     "name": "stdout",
     "output_type": "stream",
     "text": [
      "CPU times: user 3.25 s, sys: 1.86 s, total: 5.11 s\n",
      "Wall time: 6.54 s\n"
     ]
    }
   ],
   "source": [
    "%%time\n",
    "\n",
    "twitter = cleaning.multiprocessing_multiple(twitter, temp_dict, cleaning.string_dict_cleaning)"
   ]
  },
  {
   "cell_type": "code",
   "execution_count": 18,
   "metadata": {},
   "outputs": [
    {
     "name": "stdout",
     "output_type": "stream",
     "text": [
      "942\n",
      "CPU times: user 1.03 s, sys: 690 ms, total: 1.72 s\n",
      "Wall time: 1.86 s\n"
     ]
    }
   ],
   "source": [
    "%%time\n",
    "temp_dict = cleaning.multiprocessing(temp_vocab, cleaning.remove_starting_underscore, list_mode = False)\n",
    "print(len(temp_dict))"
   ]
  },
  {
   "cell_type": "code",
   "execution_count": 19,
   "metadata": {},
   "outputs": [
    {
     "name": "stderr",
     "output_type": "stream",
     "text": [
      "100%|██████████| 412366/412366 [00:02<00:00, 206129.31it/s]\n",
      "100%|██████████| 412366/412366 [00:01<00:00, 210950.52it/s]\n",
      "100%|██████████| 412366/412366 [00:01<00:00, 218721.30it/s]\n",
      "100%|██████████| 11/11 [00:00<00:00, 60547.70it/s].30it/s]]\n",
      "100%|██████████| 412366/412366 [00:01<00:00, 222755.41it/s]\n",
      "100%|██████████| 412366/412366 [00:01<00:00, 218764.57it/s]\n",
      "100%|██████████| 412366/412366 [00:01<00:00, 212649.27it/s]\n",
      "100%|██████████| 412366/412366 [00:01<00:00, 216137.68it/s]\n",
      "100%|██████████| 412366/412366 [00:01<00:00, 220844.90it/s]\n",
      "100%|██████████| 412366/412366 [00:01<00:00, 215591.92it/s]\n",
      "100%|██████████| 412366/412366 [00:01<00:00, 224806.35it/s]\n",
      "100%|██████████| 412366/412366 [00:01<00:00, 222448.97it/s]\n",
      "100%|██████████| 412366/412366 [00:01<00:00, 218006.09it/s]\n",
      "100%|██████████| 412366/412366 [00:01<00:00, 222727.95it/s]\n",
      "100%|██████████| 412366/412366 [00:01<00:00, 223437.33it/s]\n",
      "100%|██████████| 412366/412366 [00:01<00:00, 215040.90it/s]\n",
      "100%|██████████| 412366/412366 [00:01<00:00, 219658.36it/s]\n"
     ]
    },
    {
     "name": "stdout",
     "output_type": "stream",
     "text": [
      "CPU times: user 3.39 s, sys: 1.9 s, total: 5.29 s\n",
      "Wall time: 6.41 s\n"
     ]
    }
   ],
   "source": [
    "%%time\n",
    "\n",
    "twitter = cleaning.multiprocessing_multiple(twitter, temp_dict, cleaning.string_dict_cleaning)"
   ]
  },
  {
   "cell_type": "code",
   "execution_count": 20,
   "metadata": {},
   "outputs": [
    {
     "name": "stdout",
     "output_type": "stream",
     "text": [
      "1042211\n",
      "CPU times: user 4.08 s, sys: 760 ms, total: 4.84 s\n",
      "Wall time: 4.99 s\n"
     ]
    }
   ],
   "source": [
    "%%time\n",
    "temp_dict = cleaning.multiprocessing(temp_vocab, cleaning.end_punct, list_mode = False)\n",
    "print(len(temp_dict))"
   ]
  },
  {
   "cell_type": "code",
   "execution_count": 21,
   "metadata": {},
   "outputs": [
    {
     "name": "stderr",
     "output_type": "stream",
     "text": [
      "100%|██████████| 412366/412366 [00:02<00:00, 182693.48it/s]\n",
      "100%|██████████| 412366/412366 [00:02<00:00, 179182.51it/s]\n",
      "100%|██████████| 412366/412366 [00:02<00:00, 180023.37it/s]\n",
      "100%|██████████| 412366/412366 [00:02<00:00, 176539.59it/s]\n",
      "100%|██████████| 412366/412366 [00:02<00:00, 178142.30it/s]\n",
      "100%|██████████| 412366/412366 [00:02<00:00, 178674.73it/s]\n",
      "100%|██████████| 412366/412366 [00:02<00:00, 172986.84it/s]\n",
      "100%|██████████| 412366/412366 [00:02<00:00, 178915.21it/s]\n",
      "100%|██████████| 412366/412366 [00:02<00:00, 177397.44it/s]\n",
      "100%|██████████| 412366/412366 [00:02<00:00, 179993.50it/s]\n",
      "100%|██████████| 412366/412366 [00:02<00:00, 179910.73it/s]\n",
      "100%|██████████| 412366/412366 [00:02<00:00, 179403.36it/s]\n",
      "100%|██████████| 412366/412366 [00:02<00:00, 179592.59it/s]\n",
      "100%|██████████| 11/11 [00:00<00:00, 53337.97it/s]8.61it/s]\n",
      "100%|██████████| 412366/412366 [00:02<00:00, 179678.41it/s]\n",
      "100%|██████████| 412366/412366 [00:02<00:00, 177822.79it/s]\n",
      "100%|██████████| 412366/412366 [00:02<00:00, 186866.55it/s]\n"
     ]
    },
    {
     "name": "stdout",
     "output_type": "stream",
     "text": [
      "CPU times: user 12.5 s, sys: 3.66 s, total: 16.1 s\n",
      "Wall time: 17.9 s\n"
     ]
    }
   ],
   "source": [
    "%%time\n",
    "\n",
    "twitter = cleaning.multiprocessing_multiple(twitter, temp_dict, cleaning.string_dict_cleaning)"
   ]
  },
  {
   "cell_type": "code",
   "execution_count": 22,
   "metadata": {},
   "outputs": [
    {
     "name": "stdout",
     "output_type": "stream",
     "text": [
      "356351\n",
      "CPU times: user 2 s, sys: 755 ms, total: 2.75 s\n",
      "Wall time: 2.9 s\n"
     ]
    }
   ],
   "source": [
    "%%time\n",
    "temp_dict = cleaning.multiprocessing(temp_vocab, cleaning.start_punct, list_mode = False)\n",
    "print(len(temp_dict))"
   ]
  },
  {
   "cell_type": "code",
   "execution_count": 23,
   "metadata": {},
   "outputs": [
    {
     "name": "stderr",
     "output_type": "stream",
     "text": [
      "100%|██████████| 412366/412366 [00:02<00:00, 189596.19it/s]\n",
      " 36%|███▌      | 146741/412366 [00:00<00:01, 182626.75it/s]\n",
      "100%|██████████| 412366/412366 [00:02<00:00, 184168.59it/s]\n",
      " 36%|███▌      | 148285/412366 [00:00<00:01, 186030.60it/s]\n",
      "100%|██████████| 412366/412366 [00:02<00:00, 187597.26it/s]\n",
      "100%|██████████| 412366/412366 [00:02<00:00, 184950.19it/s]\n",
      "100%|██████████| 412366/412366 [00:02<00:00, 185943.33it/s]\n",
      "100%|██████████| 412366/412366 [00:02<00:00, 185558.56it/s]\n",
      "100%|██████████| 412366/412366 [00:02<00:00, 181325.03it/s]\n",
      "100%|██████████| 412366/412366 [00:02<00:00, 186727.75it/s]\n",
      " 40%|████      | 166588/412366 [00:00<00:01, 184485.46it/s]\n",
      "100%|██████████| 412366/412366 [00:02<00:00, 182983.17it/s]\n",
      " 64%|██████▎   | 262436/412366 [00:01<00:00, 191303.94it/s]\n",
      "100%|██████████| 412366/412366 [00:02<00:00, 188916.83it/s]\n",
      "100%|██████████| 412366/412366 [00:02<00:00, 189963.70it/s]\n",
      "100%|██████████| 412366/412366 [00:02<00:00, 190610.41it/s]\n",
      "100%|██████████| 412366/412366 [00:02<00:00, 190683.43it/s]\n"
     ]
    },
    {
     "name": "stdout",
     "output_type": "stream",
     "text": [
      "CPU times: user 6.43 s, sys: 2.35 s, total: 8.78 s\n",
      "Wall time: 10.5 s\n"
     ]
    }
   ],
   "source": [
    "%%time\n",
    "\n",
    "twitter = cleaning.multiprocessing_multiple(twitter, temp_dict, cleaning.string_dict_cleaning)"
   ]
  },
  {
   "cell_type": "code",
   "execution_count": 24,
   "metadata": {},
   "outputs": [
    {
     "name": "stdout",
     "output_type": "stream",
     "text": [
      "1673\n",
      "CPU times: user 869 ms, sys: 722 ms, total: 1.59 s\n",
      "Wall time: 1.98 s\n"
     ]
    }
   ],
   "source": [
    "%%time\n",
    "temp_dict = cleaning.multiprocessing(temp_vocab, cleaning.join_dashes, list_mode = False)\n",
    "print(len(temp_dict))"
   ]
  },
  {
   "cell_type": "code",
   "execution_count": 25,
   "metadata": {},
   "outputs": [
    {
     "name": "stderr",
     "output_type": "stream",
     "text": [
      "100%|██████████| 412366/412366 [00:01<00:00, 207464.25it/s]\n",
      " 29%|██▉       | 118975/412366 [00:00<00:01, 199679.83it/s]\n",
      "100%|██████████| 11/11 [00:00<00:00, 51093.40it/s]8.49it/s]\n",
      "100%|██████████| 412366/412366 [00:02<00:00, 200205.67it/s]\n",
      "100%|██████████| 412366/412366 [00:02<00:00, 198365.76it/s]\n",
      "100%|██████████| 412366/412366 [00:01<00:00, 209317.42it/s]\n",
      "100%|██████████| 412366/412366 [00:01<00:00, 208686.21it/s]\n",
      "100%|██████████| 412366/412366 [00:01<00:00, 209665.14it/s]\n",
      "100%|██████████| 412366/412366 [00:02<00:00, 204922.85it/s]\n",
      "100%|██████████| 412366/412366 [00:01<00:00, 206452.27it/s]\n",
      "100%|██████████| 412366/412366 [00:02<00:00, 201435.65it/s]\n",
      "100%|██████████| 412366/412366 [00:01<00:00, 206732.72it/s]\n",
      "100%|██████████| 412366/412366 [00:02<00:00, 197339.84it/s]\n",
      "100%|██████████| 412366/412366 [00:02<00:00, 203990.74it/s]\n",
      "100%|██████████| 412366/412366 [00:02<00:00, 205800.89it/s]\n",
      "100%|██████████| 412366/412366 [00:02<00:00, 201834.11it/s]\n",
      "100%|██████████| 412366/412366 [00:01<00:00, 206579.93it/s]\n"
     ]
    },
    {
     "name": "stdout",
     "output_type": "stream",
     "text": [
      "CPU times: user 3.34 s, sys: 1.91 s, total: 5.25 s\n",
      "Wall time: 6.48 s\n"
     ]
    }
   ],
   "source": [
    "%%time\n",
    "\n",
    "twitter = cleaning.multiprocessing_multiple(twitter, temp_dict, cleaning.string_dict_cleaning)"
   ]
  },
  {
   "cell_type": "code",
   "execution_count": 26,
   "metadata": {},
   "outputs": [
    {
     "data": {
      "text/plain": [
       "['ternyata kl lg sdih bisa ngasilin makanan enak',\n",
       " 'Abu kampret . . .',\n",
       " 'Bapa saya suka pake Oppo . . . saya sukanya Nokia . . . Kaka saya sukanya Samsung . . . yg penting punya hape aja . . .',\n",
       " 'Ngelamar kasih cincin tp kok mukanya songong ya sedih gue liatnya',\n",
       " 'Caption iki nggarai uwong males nikah min , ya kali manusia arep punah ngunu neg gak nikah . . .',\n",
       " 'Pertanyaannya sederhana , jika kami memang dukung Prabowo ngapain selama kampanye kemarin capek2 dukung Jokowi sampa',\n",
       " '',\n",
       " 'Memiliki sedikit iman lebih berharga dari pada memiliki segudang emas ! # TweetDSAP',\n",
       " 'Untuk mengamankan suara partai , Ahmad Rofiq selaku Sekjen Partai Perindo meminta kepada seluruh caleg dan struktur',\n",
       " 'Dom jakpus sih , bebas mau ketemuan or shopee',\n",
       " 'Bisa dapet duit , ini kaga . Punya mobil juga kan kaya gemer gemer . Ini kaga',\n",
       " 'ON JADAHNYAAA * IN SORRY BAD ENGLISH HIHUHEHEHO',\n",
       " 'Valentino Rossi Tidak Setuju Kompetisi MotoGP Dimulai dari Eropa',\n",
       " 'Sis tak faham , apa yang mungkin ini puncanya tu ? ? ?',\n",
       " '\" Martabak Terang Bulan \" \" Martabak \" untuk yg asin / gurih a.k.a martabak telor \" Terang Bulan \" untuk yg manis ( yg gw s',\n",
       " 'Dia dah tua put , dah nak 31 . Plus dia tak start regularly kat man utd so mesti ka',\n",
       " 'sejarah susah',\n",
       " 'Loop in nama dlm email pon boleh jd issue . . . Dah org email aku reply all jelaaa . . . Ade mase pulak aku nak tengok satu2 nama recipients',\n",
       " 'tak sakit pun tapi saja nak bau minyak freshcare sbb bau lavender',\n",
       " 'ROSMAH',\n",
       " 'Bila kau tengah feeling lagu raya .',\n",
       " 'Kekasih bayangan .',\n",
       " 'Hidup ni jgn terlalu nk mendongak ke atas , nanti jatuh padan muka kau',\n",
       " 'Pak kim toloong . . . @BTS_twt # Persona #MAP OF THE SOUL PERSONA',\n",
       " 'Di rumah ga liat pohon kelapa sama nanas kan apalagi pohon pisang',\n",
       " 'wkwk',\n",
       " 'kanan sja bu',\n",
       " 'Tak pon sebelum masuk dapur bagi salam dulu . . . kan molek gitu . . .',\n",
       " 'Hilang nyawaku aku tgk',\n",
       " 'Masuk ke channel bang evan ke ni',\n",
       " 'yg minat saya pon bole lekk',\n",
       " 'yer lah sbb sombong mmg lah',\n",
       " 'nti aku tengok dulu tiket dari kl pukul berapa ada nahh',\n",
       " 'Ni pukul berapa tah nak sampai ukm . Tetiba jalan tutup pulak . Kena lalu jalan jauh . . .',\n",
       " 'Tkpe , hehe asalkan effort ada',\n",
       " 'Kenapa kipas number 3 pun sejuk . Kalau bilik aku sorang ni , aku dah tutup .',\n",
       " 'Google Cabut Lisensi Android Huawei , Bagaimana Nasib Honor ? - - Tekno',\n",
       " 'Dari semalam tak tidur lagi ek . Ni kejap lagi jangan leceh nampak tilam bantal confirm nyenyak punya',\n",
       " 'tidur di ubin . biar ga jatoh lg',\n",
       " 'Guys , tolong rt tweet ni sampai owner dia dapat . Phone ni tertinggal kat belakang teksi pakcik saya . Model Oppo R9s',\n",
       " 'Jujur kacang ijo ! ! !',\n",
       " 'Sahur tengah malam kaya nya enak ya . . .',\n",
       " 'Jenis-jenis orang stalking di media sosial : - Pakai akun palsu . - Pakai akun temannya , sanak saudaranya , handai tau',\n",
       " 'Benersi ga buka sm yg minyak2 aka gorengan &amp ; makan nasi . Tapi abis pudding setengah lingkaran , makannya mi trs ishy',\n",
       " 'Hahahahha bahaya bela kucing comel2 ni sebab nnti hilang kena curi',\n",
       " 'Aku ada motor racing , aku bawa ronda , awek lu bonceng , sedar sedar seluat tkde dah Punca mat rempit takboleh rap',\n",
       " 'Pak prabowo itu vibesnya kebun binatang banget ya Peliharaannya kucing , sukanya naek kuda , kemana-mana pake baju safari',\n",
       " \"Nak happiness bkn pegih ngn laki lain , happiness it's between u and me , bedek uh kau ckp takda happiness , ss sem\",\n",
       " 'Makan serabi enak pas lagi panas . . . Serabinya terbuat dari kelapa . . . neng Tasya aa ikhlas . . .',\n",
       " 'Siapapun orangnya meski dia ustadz bersorban dan berjubah putih , klo sdh k',\n",
       " 'loh kenapa ? kan marga oppa juga lee , pasti enak yaudah oppa jalan - jalan dong , biar bisa liat pemandangan',\n",
       " 'Ada apa yaa mbak mbak plat AG INII',\n",
       " 'kanan',\n",
       " 'Nak mee kari , nak sate , nak laksa , nak bihun sup nakkkkk semuaaaaa',\n",
       " 'jadi lumba lumba',\n",
       " '- STILL 17 - SEDIHBGT ! ! ! Kebayang kan betapa sedih lu gak tau gimana lu di waktu 18 tahun,19tahun 20thn dan seteru',\n",
       " '# Lilian Iyaaa , gue di Hima 2 periode ditambah malamnya gue rapat atau latihan ukm . Jadi kalo mau nongkrong bisanya jam 11 keatas .',\n",
       " 'Bangga manfaat \"DILAN \" perputaran uang yg mendukung pertumbuhan ekonomi mikro-makro,mengurangi pengangguran',\n",
       " 'drpd lahir sampai sekarang aku asyik ngantuk je',\n",
       " 'pgn chatime xixi tp jauh :(',\n",
       " 'Dah tak kasi lampu ijo loh . Tinggal pepet to cuk hwhw',\n",
       " 'kecewa . . .',\n",
       " 'Batok kelapa menjadi bara , Terbakar semua tidak tersisa . Wahai saudara seiman senegara , Saya ucapakan selamat puas',\n",
       " 'JY 91 Liner jgak ke ?',\n",
       " 'Ada benda mcm kotor mcm air susu atas kereta mcm ada org campak . Mula2 ingat mcm taik burung . Tp lain mcm',\n",
       " 'Air koroi',\n",
       " 'Ilmu perpustakaan . Point2 kuliah , ttg manajemen perpustakaan , literasi , informasi , teknologi informasi',\n",
       " 'Ajax spurs lah . Anti menstrim',\n",
       " 'abis telan biji durian kali',\n",
       " 'apaan rambut item . . .',\n",
       " 'Senin , 22 April 2019 kita memperingati hari Bumi . Bumi kita saat ini lagi menjerit kesakitan karena dirusak untuk m',\n",
       " 'Gaya hidup sihat delayed',\n",
       " 'Lia pulang , mereka semuanya pedo kecuali aku , jangan mau .',\n",
       " 'Bangun lambat . Lepas tu jalan jem gile . Haihhhh so stressss',\n",
       " 'Nice igstory harini , dah tak nmpak org repost sudan meal project tu',\n",
       " 'Gone apa ? Gitu je laa . Sendu sorang',\n",
       " 'Bukan pola pikir seorang profesor hukum tapi cara berpikir seorang pedagang cendol',\n",
       " 'SobaTani , sebagai upaya meningkatkan generasi petani , Kementan membuat terobosan dengan mengubah Sekolah Tinggi Pen',\n",
       " 'Beomgyu ngambilin confetti yang nyangkut di rambut Jimin dong * Liat gini aja soft akutuh - Cha',\n",
       " 'Eh hello bosan tu sbb kau xmenghayati hahaha',\n",
       " 'Crash on 29 Lebuhraya Damansara Puchong - Putrajaya &amp ; Cyberjaya # kltu still delaying traffic 10m more than usual',\n",
       " 'WADUUH KAMU DENGERINNYA SAMBIL MINUM ? ? ?',\n",
       " 'Rasa-rasanya kalo lg gapunya duit gini , nemu duit recehan yang nyelip2 dikantong celana atau nemu duit kerincingan',\n",
       " 'anjing lagi having sex gitu kak ?',\n",
       " \"I'm at CSF Computer Exchange 5 (CX5 ) - in Cyberjaya , Selangor Darul Ehsan w /\",\n",
       " '( Clip 1)Percutian yang menarik haruslah dipadankan dengan tempat rare dan istimewa ! Berlatar belakangkan Gunung Santubong dan berhadapan dengan Laut China Selatan oh indahnya dunia . Jom follow instagram kami :',\n",
       " 'Alhamdulillah hari ni iftar Nasi Kerabu Ayam Madu Kak Yong n Laksam buat kali terakhir sebab kak Aini last da berju',\n",
       " 'saya udah sering banget ngadepin jalanan macet di jakarta tapi sejauh ini yg paling anjing sih semuanya',\n",
       " 'Hi , Baby baru bangun Baby emo .',\n",
       " 'Twitter please do ur magic Ini pertama kali nyah gua ngajak jalan dia karna selama bertahun tahun dia kuliah di j',\n",
       " 'Jum CUCKOO bersama NABIL AHMAD',\n",
       " 'Nikammy',\n",
       " 'Resort Datuk Jhon Gani . . . kuala penyu . . . boleh bawa keluarga . . . santai saja tempatnya . . . pantai nya bersih dan indah . . . tenan',\n",
       " 'Uni kenapa sistem Masuk sekolah ke tingkat lanjutan terlalu susah skr in',\n",
       " 'Krisis perlembagaan kedua bermula balik dgn orang sama dgn',\n",
       " \"Bagi saya , diusia 20an kata 'jahat ' bukan lagi sesederhana mainan yang dirampas atau buku pr yang dirobek teman . J\",\n",
       " 'Lapor . . . arah demak tersendat dari tambak lorok 17.11 wib . . . dan sekarang di terminal terboyo masih rendet .',\n",
       " '* KPH UJUNG TOMBAK PENDUKUNG VISI MISI GUBERNUR KALBAR * Dengan mengoptimalkan tugas dan fungsi pokok kesatuan Peman',\n",
       " 'aku sedih ni tak ada siapa nak hiburkan ke ?',\n",
       " 'gue baru bangun juga lagi males pergi mana rumah gue kek kapal pecah utg kaga main twitter tmn gue zwoakowka kalo ga udh diciduk']"
      ]
     },
     "execution_count": 26,
     "metadata": {},
     "output_type": "execute_result"
    }
   ],
   "source": [
    "twitter[:100]"
   ]
  },
  {
   "cell_type": "code",
   "execution_count": 27,
   "metadata": {},
   "outputs": [],
   "source": [
    "def windows(string, each = 15):\n",
    "    string = string.split()\n",
    "    batch = []\n",
    "    for i in range(0, len(string), each):\n",
    "        index = min(len(string), i + each)\n",
    "        batch.append(' '.join(string[i: index]))\n",
    "    return batch"
   ]
  },
  {
   "cell_type": "code",
   "execution_count": 29,
   "metadata": {},
   "outputs": [
    {
     "name": "stderr",
     "output_type": "stream",
     "text": [
      "100%|██████████| 6597867/6597867 [00:19<00:00, 347197.99it/s]\n"
     ]
    }
   ],
   "source": [
    "from tqdm import tqdm\n",
    "\n",
    "texts = []\n",
    "\n",
    "for i in tqdm(range(len(twitter))):\n",
    "    windowed = windows(twitter[i]) + ['']\n",
    "    texts.extend(windowed)"
   ]
  },
  {
   "cell_type": "code",
   "execution_count": 30,
   "metadata": {},
   "outputs": [],
   "source": [
    "with open('dumping-twitter.txt', 'w') as fopen:\n",
    "    fopen.write('\\n'.join(texts))"
   ]
  },
  {
   "cell_type": "code",
   "execution_count": null,
   "metadata": {},
   "outputs": [],
   "source": []
  }
 ],
 "metadata": {
  "kernelspec": {
   "display_name": "Python 3",
   "language": "python",
   "name": "python3"
  },
  "language_info": {
   "codemirror_mode": {
    "name": "ipython",
    "version": 3
   },
   "file_extension": ".py",
   "mimetype": "text/x-python",
   "name": "python",
   "nbconvert_exporter": "python",
   "pygments_lexer": "ipython3",
   "version": "3.6.8"
  }
 },
 "nbformat": 4,
 "nbformat_minor": 2
}
