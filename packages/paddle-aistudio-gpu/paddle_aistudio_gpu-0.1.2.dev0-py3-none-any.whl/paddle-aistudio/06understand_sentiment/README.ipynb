{
  "cells": [
    {
      "cell_type": "markdown",
      "metadata": {},
      "source": [
        "\n",
        "\n",
        "# Sentiment Analysis\n",
        "\n",
        "The source code of this tutorial is in [book/understand_sentiment](https://github.com/PaddlePaddle/book/tree/develop/06.understand_sentiment). For new users, please refer to [Running This Book](https://github.com/PaddlePaddle/book/blob/develop/README.md#running-the-book) .\n",
        "\n",
        "## Background Introduction\n",
        "\n",
        "In natural language processing, sentiment analysis generally refers to judging the emotion expressed by a piece of text. Among them, a piece of text can be a sentence, a paragraph or a document. Emotional state can be two categories, such as (positive, negative), (happy, sad); or three categories, such as (positive, negative, neutral) and so on.The application scenarios of understanding sentiment are very broad, such as dividing the comments posted by users on shopping websites (Amazon, Tmall, Taobao, etc.), travel websites, and movie review websites into positive comments and negative comments; or in order to analyze the user's overall experience with a product, grab user reviews of the product, and perform sentiment analysis. Table 1 shows an example of understanding sentiment of movie reviews:\n",
        "\n",
        "| Movie Comments | Category |\n",
        "| -------- | ----- |\n",
        "|In Feng Xiaogang’s movies of the past few years, it is the best one | Positive |\n",
        "|Very bad feat, like a local TV series | Negative |\n",
        "|The round-lens lens is full of brilliance, and the tonal background is beautiful, but the plot is procrastinating, the accent is not good, and even though taking an effort but it is hard to focus on the show | Negative |\n",
        "|The plot could be scored 4 stars. In addition, the angle of the round lens plusing the scenery of Wuyuan is very much like the feeling of Chinese landscape painting. It satisfied me. | Positive |\n",
        "\n",
        "\u003cp align=\"center\"\u003eForm 1  Sentiment analysis of movie comments\u003c/p\u003e\n",
        "\n",
        "In natural language processing, sentiment is a typical problem of **text categorization**, which divides the text that needs to be sentiment analysis into its category. Text categorization involves two issues: text representation and classification methods. Before the emergence of the deep learning, the mainstream text representation methods are BOW (bag of words), topic models, etc.; the classification methods are SVM (support vector machine), LR (logistic regression) and so on.\n",
        "\n",
        "For a piece of text, BOW means that its word order, grammar and syntax are ignored, and this text is only treated as a collection of words, so the BOW method does not adequately represent the semantic information of the text. For example, the sentence \"This movie is awful\" and \"a boring, empty, non-connotative work\" have a high semantic similarity in sentiment analysis, but their BOW representation has a similarity of zero. Another example is that the BOW is very similar to the sentence \"an empty, work without connotations\" and \"a work that is not empty and has connotations\", but in fact they mean differently.\n",
        "\n",
        "The deep learning we are going to introduce in this chapter overcomes the above shortcomings of BOW representation. It maps text to low-dimensional semantic space based on word order, and performs text representation and classification in end-to-end mode. Its performance is significantly improved compared to the traditional method \\[[1](#References)\\].\n",
        "\n",
        "## Model Overview\n",
        "The text representation models used in this chapter are Convolutional Neural Networks and Recurrent Neural Networks and their extensions. These models are described below.\n",
        "\n",
        "### Introduction of Text Convolutional Neural Networks (CNN)\n",
        "\n",
        "We introduced the calculation process of the CNN model applied to text data in the [Recommended System](https://github.com/PaddlePaddle/book/tree/develop/05.recommender_system) section. Here is a simple review.\n",
        "\n",
        "For a CNN, first convolute input word vector sequence to generate a feature map, and then obtain the features of the whole sentence corresponding to the kernel by using a max pooling over time on the feature map. Finally, the splicing of all the features obtained is the fixed-length vector representation of the text. For the text classification problem, connecting it via softmax to construct a complete model. In actual applications, we use multiple convolution kernels to process sentences, and convolution kernels with the same window size are stacked to form a matrix, which can complete the operation more efficiently. In addition, we can also use the convolution kernel with different window sizes to process the sentence. Figure 3 in the [Recommend System](https://github.com/PaddlePaddle/book/tree/develop/05.recommender_system) section shows four convolution kernels, namely Figure 1 below, with different colors representing convolution kernel operations of different sizes.\n",
        "\n",
        "\u003cp align=\"center\"\u003e\n",
        "\u003cimg src=\"https://github.com/PaddlePaddle/book/blob/develop/05.recommender_system/image/text_cnn.png?raw=true\" width = \"80%\" align=\"center\"/\u003e\u003cbr/\u003e\n",
        "Figure 1. CNN text classification model\n",
        "\u003c/p\u003e\n",
        "\n",
        "For the general short text classification problem, the simple text convolution network described above can achieve a high accuracy rate \\[[1](#References)\\]. If you want a more abstract and advanced text feature representation, you can construct a deep text convolutional neural network\\[[2](#References), [3](#References)\\].\n",
        "\n",
        "### Recurrent Neural Network (RNN)\n",
        "\n",
        "RNN is a powerful tool for accurately modeling sequence data. In fact, the theoretical computational power of the RNN is perfected by Turing' \\[[4](#References)\\]. Natural language is a typical sequence data (word sequence). In recent years, RNN and its derivation (such as long short term memory\\[[5](#References)\\]) have been applied in many natural language fields, such as in language models, syntactic parsing, semantic role labeling (or general sequence labeling), semantic representation, graphic generation, dialogue, machine translation, etc., all perform well and even become the best at present.\n",
        "\n",
        "\u003cp align=\"center\"\u003e\n",
        "\u003cimg src=\"https://github.com/PaddlePaddle/book/blob/develop/06.understand_sentiment/image/rnn.png?raw=true\" width = \"60%\" align=\"center\"/\u003e\u003cbr /\u003e\n",
        "Figure 2. Schematic diagram of the RNN expanded by time\n",
        "\u003c/p\u003e\n",
        "\n",
        "The RNN expands as time is shown in Figure 2: at the time of $t$, the network reads the $t$th input $x_t$ (vector representation) and the state value of the hidden layer at the previous moment $h_{t- 1}$ (vector representation, $h_0$ is normally initialized to $0$ vector), and calculate the state value $h_t$ of the hidden layer at this moment. Repeat this step until all the inputs have been read. If the function is recorded as $f$, its formula can be expressed as:\n",
        "\n",
        "$$h_t=f(x_t,h_{t-1})=\\sigma(W_{xh}x_t+W_{hh}h_{t-1}+b_h)$$\n",
        "\n",
        "Where $W_{xh}$ is the matrix parameter of the input to the hidden layer, $W_{hh}$ is the matrix parameter of the hidden layer to the hidden layer, and $b_h$ is the bias vector parameter of the hidden layer, $\\sigma $ is the $sigmoid$ function.\n",
        "\n",
        "When dealing with natural language, the word (one-hot representation) is usually mapped to its word vector representation, and then used as the input $x_t$ for each moment of the recurrent neural network. In addition, other layers may be connected to the hidden layer of the RNN depending on actual needs. For example, you can connect the hidden layer output of a RNN to the input of the next RNN to build a deep or stacked RNN, or extract the hidden layer state at the last moment as a sentence representation and then implement a classification model, etc.\n",
        "\n",
        "### Long and Short Term Memory Network (LSTM)\n",
        "\n",
        "For longer sequence data, the gradient disappearance or explosion phenomenon is likely to occur during training RNN\\[[6](#References)\\]. To solve this problem, Hochreiter S, Schmidhuber J. (1997) proposed LSTM (long short term memory\\[[5](#References)\\]).\n",
        "\n",
        "Compared to a simple RNN, LSTM adds memory unit $c$, input gate $i$, forget gate $f$, and output gate $o$. The combination of these gates and memory units greatly enhances the ability of the recurrent neural network to process long sequence data. If the function \\is denoted as $F$, the formula is:\n",
        "\n",
        "$$ h_t=F(x_t,h_{t-1})$$\n",
        "\n",
        "$F$ It is a combination of the following formulas\\[[7](#References)\\]:\n",
        "$$ i_t = \\sigma{(W_{xi}x_t+W_{hi}h_{t-1}+W_{ci}c_{t-1}+b_i)} $$\n",
        "$$ f_t = \\sigma(W_{xf}x_t+W_{hf}h_{t-1}+W_{cf}c_{t-1}+b_f) $$\n",
        "$$ c_t = f_t\\odot c_{t-1}+i_t\\odot tanh(W_{xc}x_t+W_{hc}h_{t-1}+b_c) $$\n",
        "$$ o_t = \\sigma(W_{xo}x_t+W_{ho}h_{t-1}+W_{co}c_{t}+b_o) $$\n",
        "$$ h_t = o_t\\odot tanh(c_t) $$\n",
        "Where $i_t, f_t, c_t, o_t$ respectively represent the vector representation of the input gate, the forget gate, the memory unit and the output gate, the $W$ and $b$ with the angular label are the model parameters, and the $tanh$ is the hyperbolic tangent function. , $\\odot$ represents an elementwise multiplication operation. The input gate controls the intensity of the new input into the memory unit $c$, the forget gate controls the intensity of the memory unit to maintain the previous time value, and the output gate controls the intensity of the output memory unit. The three gates are calculated in a similar way, but with completely different parameters.They controll the memory unit $c$ in different ways, as shown in Figure 3:\n",
        "\n",
        "\u003cp align=\"center\"\u003e\n",
        "\u003cimg src=\"https://github.com/PaddlePaddle/book/blob/develop/06.understand_sentiment/image/lstm.png?raw=true\" width = \"65%\" align=\"center\"/\u003e\u003cbr /\u003e\n",
        "Figure 3. LSTM for time $t$ [7]\n",
        "\u003c/p\u003e\n",
        "\n",
        "LSTM enhances its ability to handle long-range dependencies by adding memory and control gates to RNN. A similar principle improvement is Gated Recurrent Unit (GRU)\\[[8](#References)\\], which is more concise in design. **These improvements are different, but their macro descriptions are the same as simple recurrent neural networks (as shown in Figure 2). That is, the hidden state changes according to the current input and the hidden state of the previous moment, and this process is continuous until the input is processed:**\n",
        "\n",
        "$$ h_t=Recurrent(x_t,h_{t-1})$$\n",
        "\n",
        "Among them, $Recurrent$ can represent a RNN, GRU or LSTM.\n",
        "\n",
        "\n",
        "\n",
        "\u003ca name=\"Stacked Bidirectional LSTM\"\u003e\u003c/a\u003e\n",
        "### Stacked Bidirectional LSTM\n",
        "\n",
        "For a normal directional RNN, $h_t$ contains the input information before the $t$ time, which is the above context information. Similarly, in order to get the following context information, we can use a RNN in the opposite direction (which will be processed in reverse order). Combined with the method of constructing deep-loop neural networks (deep neural networks often get more abstract and advanced feature representations), we can build a more powerful LSTM-based stack bidirectional recurrent neural network\\[[9](#References )\\] to model time series data.\n",
        "\n",
        "As shown in Figure 4 (taking three layers as an example), the odd-numbered LSTM is forward and the even-numbered LSTM is inverted. The higher-level LSTM uses the lower LSTM and all previous layers of information as input. The maximum pooling of the highest-level LSTM sequence in the time dimension can be used to obtain a fixed-length vector representation of the text (this representation fully fuses the contextual information and deeply abstracts of the text), and finally we connect the text representation to the softmax to build the classification model.\n",
        "\n",
        "\u003cp align=\"center\"\u003e\n",
        "\u003cimg src=\"https://github.com/PaddlePaddle/book/blob/develop/06.understand_sentiment/image/stacked_lstm.jpg?raw=true\" width=450\u003e\u003cbr/\u003e\n",
        "Figure 4. Stacked bidirectional LSTM for text categorization\n",
        "\u003c/p\u003e\n",
        "\n",
        "\n",
        "## Dataset Introduction\n",
        "\n",
        "We use the [IMDB sentiment analysis data set](http://ai.stanford.edu/%7Eamaas/data/sentiment/) as an example. The training and testing IMDB dataset contain 25,000 labeled movie reviews respectively. Among them, the score of the negative comment is less than or equal to 4, and the score of the positive comment is greater than or equal to 7, full score is 10.\n",
        "```text\n",
        "aclImdb\n",
        "|- test\n",
        "   |-- neg\n",
        "   |-- pos\n",
        "|- train\n",
        "   |-- neg\n",
        "   |-- pos\n",
        "```\n",
        "Paddle implements the automatic download and read the imdb dataset in `dataset/imdb.py`, and provides API for reading dictionary, training data, testing data, and so on.\n",
        "\n",
        "## Model Configuration\n",
        "\n",
        "In this example, we implement two text categorization algorithms based on the text convolutional neural network described in the [Recommender System](https://github.com/PaddlePaddle/book/tree/develop/05.recommender_system) section and [Stacked Bidirectional LSTM](#Stacked Bidirectional LSTM). We first import the packages we need to use and define global variables:\n",
        "\n"
      ]
    },
    {
      "cell_type": "code",
      "metadata": {
        "editable": true
      },
      "source": [
        "from __future__ import print_function\n",
        "import paddle\n",
        "import paddle.fluid as fluid\n",
        "import numpy as np\n",
        "import sys\n",
        "import math\n",
        "\n",
        "CLASS_DIM = 2 #Number of categories for sentiment analysis\n",
        "EMB_DIM = 128 #Dimensions of the word vector\n",
        "HID_DIM = 512 #Dimensions of hide layer\n",
        "STACKED_NUM = 3 #LSTM Layers of the bidirectional stack\n",
        "BATCH_SIZE = 128 #batch size\n",
        "\n"
      ],
      "outputs": [
        {
          "name": "stdout",
          "output_type": "stream",
          "text": [
            "\n"
          ]
        }
      ],
      "execution_count": 1
    },
    {
      "cell_type": "markdown",
      "metadata": {},
      "source": [
        "\n",
        "\n",
        "### Text Convolutional Neural Network\n",
        "We build the neural network `convolution_net`, the sample code is as follows.\n",
        "Note that `fluid.nets.sequence_conv_pool` contains both convolution and pooling layers.\n",
        "\n"
      ]
    },
    {
      "cell_type": "code",
      "metadata": {
        "editable": true
      },
      "source": [
        "#Textconvolution neural network\n",
        "def convolution_net(data, input_dim, class_dim, emb_dim, hid_dim):\n",
        "    emb = fluid.layers.embedding(\n",
        "        input=data, size=[input_dim, emb_dim], is_sparse=True)\n",
        "    conv_3 = fluid.nets.sequence_conv_pool(\n",
        "        input=emb,\n",
        "        num_filters=hid_dim,\n",
        "        filter_size=3,\n",
        "        act=\"tanh\",\n",
        "        pool_type=\"sqrt\")\n",
        "    conv_4 = fluid.nets.sequence_conv_pool(\n",
        "        input=emb,\n",
        "        num_filters=hid_dim,\n",
        "        filter_size=4,\n",
        "        act=\"tanh\",\n",
        "        pool_type=\"sqrt\")\n",
        "    prediction = fluid.layers.fc(\n",
        "        input=[conv_3, conv_4], size=class_dim, act=\"softmax\")\n",
        "    return prediction\n"
      ],
      "outputs": [
        {
          "name": "stdout",
          "output_type": "stream",
          "text": [
            "\n"
          ]
        }
      ],
      "execution_count": 1
    },
    {
      "cell_type": "markdown",
      "metadata": {},
      "source": [
        "\n",
        "The network input `input_dim` indicates the size of the dictionary, and `class_dim` indicates the number of categories. Here, we implement the convolution and pooling operations using the [`sequence_conv_pool`](https://github.com/PaddlePaddle/Paddle/blob/develop/python/paddle/fluid/nets.py) API.\n",
        "\n",
        "\u003ca name=\"Stack value bidirectional LSTM\"\u003e\u003c/a\u003e\n",
        "\n",
        "### Stacked bidirectional LSTM\n",
        "\n",
        "The code of the stack bidirectional LSTM `stacked_lstm_net` is as follows:\n",
        "\n"
      ]
    },
    {
      "cell_type": "code",
      "metadata": {
        "editable": true
      },
      "source": [
        "#Stack Bidirectional LSTM\n",
        "def stacked_lstm_net(data, input_dim, class_dim, emb_dim, hid_dim, stacked_num):\n",
        "\n",
        "    # Calculate word vectorvector\n",
        "    emb = fluid.layers.embedding(\n",
        "        input=data, size=[input_dim, emb_dim], is_sparse=True)\n",
        "\n",
        "    #First stack\n",
        "    #Fully connected layer\n",
        "    fc1 = fluid.layers.fc(input=emb, size=hid_dim)\n",
        "    #lstm layer\n",
        "    lstm1, cell1 = fluid.layers.dynamic_lstm(input=fc1, size=hid_dim)\n",
        "\n",
        "    inputs = [fc1, lstm1]\n",
        "\n",
        "    #All remaining stack structures\n",
        "    for i in range(2, stacked_num + 1):\n",
        "        fc = fluid.layers.fc(input=inputs, size=hid_dim)\n",
        "        lstm, cell = fluid.layers.dynamic_lstm(\n",
        "            input=fc, size=hid_dim, is_reverse=(i % 2) == 0)\n",
        "        inputs = [fc, lstm]\n",
        "\n",
        "    #pooling layer\n",
        "    pc_last = fluid.layers.sequence_pool(input=inputs[0], pool_type='max')\n",
        "    lstm_last = fluid.layers.sequence_pool(input=inputs[1], pool_type='max')\n",
        "\n",
        "    #Fully connected layer, softmax prediction\n",
        "    prediction = fluid.layers.fc(\n",
        "        input=[fc_last, lstm_last], size=class_dim, act='softmax')\n",
        "    return prediction\n"
      ],
      "outputs": [
        {
          "name": "stdout",
          "output_type": "stream",
          "text": [
            "\n"
          ]
        }
      ],
      "execution_count": 1
    },
    {
      "cell_type": "markdown",
      "metadata": {},
      "source": [
        "The above stacked bidirectional LSTM abstracts the advanced features and maps them to vectors of the same size as the number of classification. The 'softmax' activation function of the last fully connected layer is used to calculate the probability of a certain category.\n",
        "\n",
        "Again, here we can call any network structure of `convolution_net` or `stacked_lstm_net` for training and learning. Let's take `convolution_net` as an example.\n",
        "\n",
        "Next we define the prediction program (`inference_program`). We use `convolution_net` to predict the input of `fluid.layer.data`.\n",
        "\n"
      ]
    },
    {
      "cell_type": "code",
      "metadata": {
        "editable": true
      },
      "source": [
        "def inference_program(word_dict):\n",
        "    data = fluid.layers.data(\n",
        "        name=\"words\", shape=[1], dtype=\"int64\", lod_level=1)\n",
        "\n",
        "    dict_dim = len(word_dict)\n",
        "    net = convolution_net(data, dict_dim, CLASS_DIM, EMB_DIM, HID_DIM)\n",
        "    # net = stacked_lstm_net(data, dict_dim, CLASS_DIM, EMB_DIM, HID_DIM, STACKED_NUM)\n",
        "    return net\n"
      ],
      "outputs": [
        {
          "name": "stdout",
          "output_type": "stream",
          "text": [
            "\n"
          ]
        }
      ],
      "execution_count": 1
    },
    {
      "cell_type": "markdown",
      "metadata": {},
      "source": [
        "\n",
        "We define `training_program` here, which uses the result returned from `inference_program` to calculate the error. We also define the optimization function `optimizer_func`.\n",
        "\n",
        "Because it is supervised learning, the training set tags are also defined in `fluid.layers.data`. During training, cross-entropy is used as a loss function in `fluid.layer.cross_entropy`.\n",
        "\n",
        "During the testing, the classifier calculates the probability of each output. The first returned value is specified as cost.\n",
        "\n"
      ]
    },
    {
      "cell_type": "code",
      "metadata": {
        "editable": true
      },
      "source": [
        "def train_program(prediction):\n",
        "    label = fluid.layers.data(name=\"label\", shape=[1], dtype=\"int64\")\n",
        "    cost = fluid.layers.cross_entropy(input=prediction, label=label)\n",
        "    avg_cost = fluid.layers.mean(cost)\n",
        "    accuracy = fluid.layers.accuracy(input=prediction, label=label)\n",
        "    return [avg_cost, accuracy] #return average cost and accuracy acc\n",
        "\n",
        "#Optimization function\n",
        "def optimizer_func():\n",
        "    return fluid.optimizer.Adagrad(learning_rate=0.002)\n"
      ],
      "outputs": [
        {
          "name": "stdout",
          "output_type": "stream",
          "text": [
            "\n"
          ]
        }
      ],
      "execution_count": 1
    },
    {
      "cell_type": "markdown",
      "metadata": {},
      "source": [
        "\n",
        "## Training Model\n",
        "\n",
        "### Defining the training environment\n",
        "\n",
        "Define whether your training is on the CPU or GPU:\n",
        "\n",
        "\n"
      ]
    },
    {
      "cell_type": "code",
      "metadata": {
        "editable": true
      },
      "source": [
        "use_cuda = False #train on cpu\n",
        "place = fluid.CUDAPlace(0) if use_cuda else fluid.CPUPlace()\n"
      ],
      "outputs": [
        {
          "name": "stdout",
          "output_type": "stream",
          "text": [
            "\n"
          ]
        }
      ],
      "execution_count": 1
    },
    {
      "cell_type": "markdown",
      "metadata": {},
      "source": [
        "\n",
        "### Defining the data creator\n",
        "\n",
        "The next step is to define a data creator for training and testing. The creator reads in a data of size BATCH_SIZE. Paddle.dataset.imdb.word_dict will provide a size of BATCH_SIZE after each time shuffling, which is the cache size: buf_size.\n",
        "\n",
        "Note: It may take a few minutes to read the IMDB data, please be patient.\n",
        "\n"
      ]
    },
    {
      "cell_type": "code",
      "metadata": {
        "editable": true
      },
      "source": [
        "print(\"Loading IMDB word dict....\")\n",
        "word_dict = paddle.dataset.imdb.word_dict()\n",
        "\n",
        "print (\"Reading training data....\")\n",
        "train_reader = paddle.batch(\n",
        "    paddle.reader.shuffle(\n",
        "        paddle.dataset.imdb.train(word_dict), buf_size=25000),\n",
        "    batch_size=BATCH_SIZE)\n",
        "print(\"Reading testing data....\")\n",
        "test_reader = paddle.batch(\n",
        "    paddle.dataset.imdb.test(word_dict), batch_size=BATCH_SIZE)\n"
      ],
      "outputs": [
        {
          "name": "stdout",
          "output_type": "stream",
          "text": [
            "\n"
          ]
        }
      ],
      "execution_count": 1
    },
    {
      "cell_type": "markdown",
      "metadata": {},
      "source": [
        "Word_dict is a dictionary sequence, which is the correspondence between words and labels. You can see it specifically by running the next code:\n"
      ]
    },
    {
      "cell_type": "code",
      "metadata": {
        "editable": true
      },
      "source": [
        "word_dict\n"
      ],
      "outputs": [
        {
          "name": "stdout",
          "output_type": "stream",
          "text": [
            "\n"
          ]
        }
      ],
      "execution_count": 1
    },
    {
      "cell_type": "markdown",
      "metadata": {},
      "source": [
        "Each line is a correspondence such as ('limited': 1726), which indicates that the label corresponding to the word limited is 1726.\n",
        "\n",
        "### Construction Trainer\n",
        "The trainer requires a training program and a training optimization function.\n",
        "\n"
      ]
    },
    {
      "cell_type": "code",
      "metadata": {
        "editable": true
      },
      "source": [
        "exe = fluid.Executor(place)\n",
        "prediction = inference_program(word_dict)\n",
        "[avg_cost, accuracy] = train_program(prediction)#training program\n",
        "sgd_optimizer = optimizer_func()# training optimization function\n",
        "sgd_optimizer.minimize(avg_cost)\n"
      ],
      "outputs": [
        {
          "name": "stdout",
          "output_type": "stream",
          "text": [
            "\n"
          ]
        }
      ],
      "execution_count": 1
    },
    {
      "cell_type": "markdown",
      "metadata": {},
      "source": [
        "\n",
        "This function is used to calculate the result of the model on the test dataset.\n"
      ]
    },
    {
      "cell_type": "code",
      "metadata": {
        "editable": true
      },
      "source": [
        "def train_test(program, reader):\n",
        "    count = 0\n",
        "    feed_var_list = [\n",
        "        program.global_block().var(var_name) for var_name in feed_order\n",
        "    ]\n",
        "    feeder_test = fluid.DataFeeder(feed_list=feed_var_list, place=place)\n",
        "    test_exe = fluid.Executor(place)\n",
        "    accumulated = len([avg_cost, accuracy]) * [0]\n",
        "    for test_data in reader():\n",
        "        avg_cost_np = test_exe.run(\n",
        "            program=program,\n",
        "            feed=feeder_test.feed(test_data),\n",
        "            fetch_list=[avg_cost, accuracy])\n",
        "        accumulated = [\n",
        "            x[0] + x[1][0] for x in zip(accumulated, avg_cost_np)\n",
        "        ]\n",
        "        count += 1\n",
        "    return [x / count for x in accumulated]\n"
      ],
      "outputs": [
        {
          "name": "stdout",
          "output_type": "stream",
          "text": [
            "\n"
          ]
        }
      ],
      "execution_count": 1
    },
    {
      "cell_type": "markdown",
      "metadata": {},
      "source": [
        "\n",
        "### Providing data and building a main training loop\n",
        "\n",
        "`feed_order` is used to define the mapping relationship between each generated data and `fluid.layers.data`. For example, the data in the first column generated by `imdb.train` corresponds to the `words` feature.\n",
        "\n"
      ]
    },
    {
      "cell_type": "code",
      "metadata": {
        "editable": true
      },
      "source": [
        "# Specify the directory path to save the parameters\n",
        "params_dirname = \"understand_sentiment_conv.inference.model\"\n",
        "\n",
        "feed_order = ['words', 'label']\n",
        "pass_num = 1  #Number rounds of the training loop\n",
        "\n",
        "# Main loop part of the program\n",
        "def train_loop(main_program):\n",
        "    # Start the trainer built above\n",
        "    exe.run(fluid.default_startup_program())\n",
        "\n",
        "    feed_var_list_loop = [\n",
        "        main_program.global_block().var(var_name) for var_name in feed_order\n",
        "    ]\n",
        "    feeder = fluid.DataFeeder(\n",
        "        feed_list=feed_var_list_loop, place=place)\n",
        "\n",
        "    test_program = fluid.default_main_program().clone(for_test=True)\n",
        "\n",
        "    # Training loop\n",
        "    for epoch_id in range(pass_num):\n",
        "        for step_id, data in enumerate(train_reader()):\n",
        "            # Running trainer\n",
        "            metrics = exe.run(main_program,\n",
        "                              feed=feeder.feed(data),\n",
        "                              fetch_list=[avg_cost, accuracy])\n",
        "\n",
        "            # Testing Results\n",
        "            avg_cost_test, acc_test = train_test(test_program, test_reader)\n",
        "            print('Step {0}, Test Loss {1:0.2}, Acc {2:0.2}'.format(\n",
        "                step_id, avg_cost_test, acc_test))\n",
        "\n",
        "            print(\"Step {0}, Epoch {1} Metrics {2}\".format(\n",
        "                step_id, epoch_id, list(map(np.array,\n",
        "                                            metrics))))\n",
        "\n",
        "            if step_id == 30:\n",
        "                if params_dirname is not None:\n",
        "                    fluid.io.save_inference_model(params_dirname, [\"words\"],\n",
        "                                                  prediction, exe)# Save model\n",
        "                return\n"
      ],
      "outputs": [
        {
          "name": "stdout",
          "output_type": "stream",
          "text": [
            "\n"
          ]
        }
      ],
      "execution_count": 1
    },
    {
      "cell_type": "markdown",
      "metadata": {},
      "source": [
        "\n",
        "### Training process\n",
        "\n",
        "We print the output of each step in the main loop of the training, and we can observe the training situation.\n",
        "\n",
        "### Start training\n",
        "\n",
        "Finally, we start the training main loop to start training. The training time is longer. If you want to get the result faster, you can shorten the training time by adjusting the loss value range or the number of training steps at the cost of reducing the accuracy.\n",
        "\n"
      ]
    },
    {
      "cell_type": "code",
      "metadata": {
        "editable": true
      },
      "source": [
        "train_loop(fluid.default_main_program())\n"
      ],
      "outputs": [
        {
          "name": "stdout",
          "output_type": "stream",
          "text": [
            "\n"
          ]
        }
      ],
      "execution_count": 1
    },
    {
      "cell_type": "markdown",
      "metadata": {},
      "source": [
        "\n",
        "## Application Model\n",
        "\n",
        "### Building a predictor\n",
        "\n",
        "As the training process, we need to create a prediction process and use the trained models and parameters to make predictions. `params_dirname` is used to store the various parameters in the training process.\n",
        "\n"
      ]
    },
    {
      "cell_type": "code",
      "metadata": {
        "editable": true
      },
      "source": [
        "place = fluid.CUDAPlace(0) if use_cuda else fluid.CPUPlace()\n",
        "exe = fluid.Executor(place)\n",
        "inference_scope = fluid.core.Scope()\n"
      ],
      "outputs": [
        {
          "name": "stdout",
          "output_type": "stream",
          "text": [
            "\n"
          ]
        }
      ],
      "execution_count": 1
    },
    {
      "cell_type": "markdown",
      "metadata": {},
      "source": [
        "\n",
        "### Generating test input data\n",
        "\n",
        "In order to make predictions, we randomly select 3 comments. We correspond each word in the comment to the id in `word_dict`. If the word is not in the dictionary, set it to `unknown`.\n",
        "Then we use `create_lod_tensor` to create the tensor of the detail level. For a detailed explanation of this function, please refer to [API documentation](http://paddlepaddle.org/documentation/docs/en/1.2/user_guides/howto/basic_concept/lod_tensor.html).\n",
        "\n"
      ]
    },
    {
      "cell_type": "code",
      "metadata": {
        "editable": true
      },
      "source": [
        "reviews_str = [\n",
        "    'read the book forget the movie', 'this is a great movie', 'this is very bad'\n",
        "]\n",
        "reviews = [c.split() for c in reviews_str]\n",
        "\n",
        "UNK = word_dict['\u003cunk\u003e']\n",
        "lod = []\n",
        "for c in reviews:\n",
        "    lod.append([word_dict.get(words, UNK) for words in c])\n",
        "\n",
        "base_shape = [[len(c) for c in lod]]\n",
        "\n",
        "tensor_words = fluid.create_lod_tensor(lod, base_shape, place)\n"
      ],
      "outputs": [
        {
          "name": "stdout",
          "output_type": "stream",
          "text": [
            "\n"
          ]
        }
      ],
      "execution_count": 1
    },
    {
      "cell_type": "markdown",
      "metadata": {},
      "source": [
        "\n",
        "## Applying models and making predictions\n",
        "\n",
        "Now we can make positive or negative predictions for each comment.\n",
        "\n"
      ]
    },
    {
      "cell_type": "code",
      "metadata": {
        "editable": true
      },
      "source": [
        "with fluid.scope_guard(inference_scope):\n",
        "\n",
        "    [inferencer, feed_target_names,\n",
        "     fetch_targets] = fluid.io.load_inference_model(params_dirname, exe)\n",
        "\n",
        "    assert feed_target_names[0] == \"words\"\n",
        "    results = exe.run(inferencer,\n",
        "                      feed={feed_target_names[0]: tensor_words},\n",
        "                      fetch_list=fetch_targets,\n",
        "                      return_numpy=False)\n",
        "    np_data = np.array(results[0])\n",
        "    for i, r in enumerate(np_data):\n",
        "        print(\"Predict probability of \", r[0], \" to be positive and \", r[1],\n",
        "              \" to be negative for review \\'\", reviews_str[i], \"\\'\")\n",
        "\n"
      ],
      "outputs": [
        {
          "name": "stdout",
          "output_type": "stream",
          "text": [
            "\n"
          ]
        }
      ],
      "execution_count": 1
    },
    {
      "cell_type": "markdown",
      "metadata": {},
      "source": [
        "\n",
        "\n",
        "## Conclusion\n",
        "\n",
        "In this chapter, we take sentiment analysis as an example to introduce end-to-end short text classification using deep learning, and complete all relevant experiments using PaddlePaddle. At the same time, we briefly introduce two text processing models: convolutional neural networks and recurrent neural networks. In the following chapters, we will see the application of these two basic deep learning models on other tasks.\n",
        "\n",
        "\u003ca name=\"References\"\u003e\u003c/a\u003e\n",
        "\n",
        "## References\n",
        "\n",
        "1. Kim Y. [Convolutional neural networks for sentence classification](http://arxiv.org/pdf/1408.5882)[J]. arXiv preprint arXiv:1408.5882, 2014.\n",
        "2. Kalchbrenner N, Grefenstette E, Blunsom P. [A convolutional neural network for modelling sentences](http://arxiv.org/pdf/1404.2188.pdf?utm_medium=App.net\u0026utm_source=PourOver)[J]. arXiv preprint arXiv:1404.2188, 2014.\n",
        "3. Yann N. Dauphin, et al. [Language Modeling with Gated Convolutional Networks](https://arxiv.org/pdf/1612.08083v1.pdf)[J] arXiv preprint arXiv:1612.08083, 2016.\n",
        "4. Siegelmann H T, Sontag E D. [On the computational power of neural nets](http://research.cs.queensu.ca/home/akl/cisc879/papers/SELECTED_PAPERS_FROM_VARIOUS_SOURCES/05070215382317071.pdf)[C]//Proceedings of the fifth annual workshop on Computational learning theory. ACM, 1992: 440-449.\n",
        "5. Hochreiter S, Schmidhuber J. [Long short-term memory](http://web.eecs.utk.edu/~itamar/courses/ECE-692/Bobby_paper1.pdf)[J]. Neural computation, 1997, 9(8): 1735-1780.\n",
        "6. Bengio Y, Simard P, Frasconi P. [Learning long-term dependencies with gradient descent is difficult](http://www-dsi.ing.unifi.it/~paolo/ps/tnn-94-gradient.pdf)[J]. IEEE transactions on neural networks, 1994, 5(2): 157-166.\n",
        "7. Graves A. [Generating sequences with recurrent neural networks](http://arxiv.org/pdf/1308.0850)[J]. arXiv preprint arXiv:1308.0850, 2013.\n",
        "8. Cho K, Van Merriënboer B, Gulcehre C, et al. [Learning phrase representations using RNN encoder-decoder for statistical machine translation](http://arxiv.org/pdf/1406.1078)[J]. arXiv preprint arXiv:1406.1078, 2014.\n",
        "9. Zhou J, Xu W. [End-to-end learning of semantic role labeling using recurrent neural networks](http://www.aclweb.org/anthology/P/P15/P15-1109.pdf)[C]//Proceedings of the Annual Meeting of the Association for Computational Linguistics. 2015.\n",
        "\n",
        "\u003cbr/\u003e\n",
        "\u003ca rel=\"license\" href=\"http://creativecommons.org/licenses/by-sa/4.0/\"\u003e\u003cimg alt=\"知识共享许可协议\" style=\"border-width:0\" src=\"https://paddlepaddleimage.cdn.bcebos.com/bookimage/camo.png\" /\u003e\u003c/a\u003e\u003cbr /\u003e\u003cspan xmlns:dct=\"http://purl.org/dc/terms/\" href=\"http://purl.org/dc/dcmitype/Text\" property=\"dct:title\" rel=\"dct:type\"\u003eThis tutorial\u003c/span\u003e is contributed by \u003ca xmlns:cc=\"http://creativecommons.org/ns#\" href=\"http://book.paddlepaddle.org\" property=\"cc:attributionName\" rel=\"cc:attributionURL\"\u003ePaddlePaddle\u003c/a\u003e, and licensed under a \u003ca rel=\"license\" href=\"http://creativecommons.org/licenses/by-sa/4.0/\"\u003eCreative Commons Attribution-ShareAlike 4.0 International License\u003c/a\u003e.\n"
      ]
    }
  ],
  "metadata": {
    "kernelspec": {
      "display_name": "Python 3",
      "language": "python",
      "name": "python3"
    },
    "language_info": {
      "codemirror_mode": {
        "name": "ipython",
        "version": 3
      },
      "file_extension": ".py",
      "mimetype": "text/x-python",
      "name": "python",
      "nbconvert_exporter": "python",
      "pygments_lexer": "ipython3",
      "version": "3.6.0"
    }
  },
  "nbformat": 4,
  "nbformat_minor": 0
}
