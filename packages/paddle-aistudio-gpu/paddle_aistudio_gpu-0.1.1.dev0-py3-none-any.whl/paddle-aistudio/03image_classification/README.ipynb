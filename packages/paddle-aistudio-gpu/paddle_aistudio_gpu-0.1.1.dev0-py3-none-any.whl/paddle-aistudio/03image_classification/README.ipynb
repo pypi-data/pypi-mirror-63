{
  "cells": [
    {
      "cell_type": "markdown",
      "metadata": {},
      "source": [
        "Image Classification\n",
        "=======================\n",
        "\n",
        "The source code for this chapter is in [book/image_classification](https://github.com/PaddlePaddle/book/tree/develop/03.image_classification). For users new to book, check [Running This Book](https://github.com/PaddlePaddle/book/blob/develop/README.md#running-the-book) .\n",
        "\n",
        "## Background\n",
        "\n",
        "Compared with words, images provide information in a much more vivid, artistic, easy-to-understand manner. They are an important source for people to express and exchange ideas. In this chapter, we focus on one of the essential problems in image recognition -- image classification.\n",
        "\n",
        "Image classification is the task of distinguishing images in different categories based on their semantic meaning. It is a core problem in computer vision and is also the foundation of other higher level computer vision tasks such as object detection, image segmentation, object tracking, action recognition. Image classification has applications in many areas such as face recognition, intelligent video analysis in security systems, traffic scene recognition in transportation systems, content-based image retrieval and automatic photo indexing in Internet services, image classification in medicine industry.\n",
        "\n",
        "To classify an image we firstly encode the entire image using manual or learned features and then determine the category using a classifier. Thus, feature extraction plays an important role in image classification. Prior to deep learning the BoW(Bag of Words) model was the most widely used method for classifying an image. The BoW technique was introduced in Natural Language Processing where a training sentence is represented as a bag of words. In the context of image classification, the BoW model requires constructing a dictionary. The simplest BoW framework can be designed in three steps: **feature extraction**, **feature encoding** and **classifier design**.\n",
        "\n",
        "With Deep learning, image classification can be framed as a supervised or unsupervised learning problem that uses hierarchical features automatically without any need for manually crafted features from the image. In recent years, Convolution Neural Networks (CNNs) have made significant progress in image classification. CNNs use raw image pixels as input, extract low-level and high-level abstract features through convolution operations, and directly output the classification results from the model. This style of end-to-end learning has led to not only higher performance but also wider adoption in various applications.\n",
        "\n",
        "In this chapter, we introduce deep-learning-based image classification methods and explain how to train a CNN model using PaddlePaddle.\n",
        "\n",
        "## Result Demo\n",
        "\n",
        "Image Classification can be divided into general image classification and fine-grained image classification.\n",
        "\n",
        "\n",
        "Figure 1 shows the results of general image classification -- the trained model can correctly recognize the main objects in the images.\n",
        "\n",
        "\u003cp align=\"center\"\u003e\n",
        "\u003cimg src=\"https://github.com/PaddlePaddle/book/blob/develop/03.image_classification/image/dog_cat.png?raw=true\"  width=\"350\" \u003e\u003cbr/\u003e\n",
        "Figure 1. General image classification\n",
        "\u003c/p\u003e\n",
        "\n",
        "\n",
        "Figure 2 shows the results of a fine-grained image classifier. This task of flower recognition ought to correctly recognize of the flower's breed.\n",
        "\n",
        "\u003cp align=\"center\"\u003e\n",
        "\u003cimg src=\"https://github.com/PaddlePaddle/book/blob/develop/03.image_classification/image/flowers.png?raw=true\" width=\"400\" \u003e\u003cbr/\u003e\n",
        "Figure 2. Fine-grained image classification\n",
        "\u003c/p\u003e\n",
        "\n",
        "\n",
        "A qualified model should recognize objects of different categories correctly. The results of such a model should remain accurate in different perspectives, illumination conditions, object distortion or occlusion (we refer to these conditions as Image Disturbance).\n",
        "Figure 3 shows some images with various disturbances. A good model should classify these images correctly like humans.\n",
        "\n",
        "\u003cp align=\"center\"\u003e\n",
        "\u003cimg src=\"https://github.com/PaddlePaddle/book/blob/develop/03.image_classification/image/variations.png?raw=true\" width=\"550\" \u003e\u003cbr/\u003e\n",
        "Figure 3. Disturbed images  \u003ca src=\"#References\"\u003e[22]\u003c/a\u003e\n",
        "\u003c/p\u003e\n",
        "\n",
        "## Exploration of Models\n",
        "\n",
        "A large amount of researches in image classification are built upon benchmark datasets such as [PASCAL VOC](http://host.robots.ox.ac.uk/pascal/VOC/), [ImageNet](http://image-net.org/) etc. Many image classification algorithms are usually evaluated and compared based on these datasets. PASCAL VOC is a computer vision competition started in 2005, and ImageNet is a dataset holding Large Scale Visual Recognition Challenge (ILSVRC) started in 2010. In this chapter, we introduce some image classification models from the submissions to these competitions.\n",
        "\n",
        "\n",
        "Before 2012, traditional image classification was accomplished with the three steps described in the background section. A complete model construction usually involves the following stages: low-level feature extraction, feature encoding, spatial constraint or feature clustering, classifier design, model ensemble.\n",
        "\n",
        "  1). **Low-level feature extraction**: This step extracts large amounts of local features according to fixed strides and scales. Popular local features include Scale-Invariant Feature Transform (SIFT) \\[[1](#References)\\], Histogram of Oriented Gradient(HOG) \\[[2](#References)\\], Local Binary Pattern(LBP) \\[[3](#References)\\], etc. A common practice is to employ multiple feature descriptors in order to avoid missing a lot of information.\n",
        "\n",
        "  2). **Feature encoding**: Low-level features contain a large amount of redundancy and noise. In order to improve the robustness of features, it is necessary to employ a feature transformation to encode low-level features. This is called feature encoding. Common feature encoding methods include vector quantization  \\[[4](#References)\\], sparse coding  \\[[5](#References)\\], locality-constrained linear coding  \\[[6](#References)\\], Fisher vector encoding  \\[[7](#References)\\], etc.\n",
        "\n",
        "  3). **Spatial constraint**: Spatial constraint or feature clustering is usually adopted after feature encoding for extracting the maximum or average of each dimension in the spatial domain. Pyramid feature matching--a popular feature clustering method--divides an image uniformly into patches and performs feature clustering in each patch.\n",
        "\n",
        "  4). **Classification**: In the above steps an image can be described by a vector of fixed dimension. Then a classifier can be used to classify the image into categories. Common classifiers include Support Vector Machine(SVM), random forest etc. Kernel SVM is the most popular classifier and has achieved very good performance in traditional image classification tasks.\n",
        "\n",
        "This classic method has been used widely as image classification algorithm in PASCAL VOC  \\[[18](#References)\\]. [NEC Labs](http://www.nec-labs.com/) won the championship by employing SIFT and LBP features, two non-linear encoders and SVM in ILSVRC 2010  \\[[8](#References)\\].\n",
        "\n",
        "The CNN model--AlexNet proposed by Alex Krizhevsky et al. \\[[9](#References)\\], made a breakthrough in ILSVRC 2012. It dramatically outperformed classical methods and won the ILSVRC championship in 2012. This was also the first time that a deep learning method was adopted for large-scale image classification. Since AlexNet, a series of CNN models have been proposed that have advanced the state of the art steadily on Imagenet as shown in Figure 4. With deeper and more sophisticated architectures, Top-5 error rate is getting lower and lower (to around 3.5%). The error rate of human raters on the same Imagenet dataset is 5.1%, which means that the image classification capability of a deep learning model has surpassed human raters.\n",
        "\n",
        "\u003cp align=\"center\"\u003e\n",
        "\u003cimg src=\"https://github.com/PaddlePaddle/book/blob/develop/03.image_classification/image/ilsvrc.png?raw=true\" width=\"500\" \u003e\u003cbr/\u003e\n",
        "\n",
        "Figure 4. Top-5 error rates on ILSVRC image classification\n",
        "\u003c/p\u003e\n",
        "\n",
        "### CNN\n",
        "\n",
        "Traditional CNNs consist of convolution and fully-connected layers and use the softmax multi-category classifier with the cross-entropy loss function. Figure 5 shows a typical CNN. We first take look at the common components of a CNN.\n",
        "\n",
        "\u003cp align=\"center\"\u003e\n",
        "\u003cimg src=\"https://github.com/PaddlePaddle/book/blob/develop/03.image_classification/image/lenet.png?raw=true\"\u003e\u003cbr/\u003e\n",
        "Figure 5. A CNN example \u003ca src=\"#References\"\u003e[20]\u003c/a\u003e\n",
        "\u003c/p\u003e\n",
        "\n",
        "- convolutional layer: this layer uses the convolution operation to extract (low-level and high-level) features and to discover local correlation and spatial invariance.\n",
        "\n",
        "- pooling layer: this layer down-samples feature maps by extracting local max (max-pooling) or average (avg-pooling) value of each patch in the feature map. Down-sampling is a common operation in image processing and is used to filter out trivial high-frequency information.\n",
        "\n",
        "- fully-connected layer: this layer fully connects neurons between two adjacent layers.\n",
        "\n",
        "- non-linear activation: Convolutional and fully-connected layers are usually followed by some non-linear activation layers. Non-linearities enhance the expression capability of the network. Some examples of non-linear activation functions are Sigmoid, Tanh and ReLU. ReLU is the most commonly used activation function in CNN.\n",
        "\n",
        "- Dropout \\[[10](#References)\\]: At each training stage, individual nodes are dropped out of the network with a certain random probability. This improves the network's ability to generalize and avoids overfitting.\n",
        "\n",
        "Parameter updates at each layer during training causes input layer distributions to change and in turn requires hyper-parameters to be carefully tuned. In 2015, Sergey Ioffe and Christian Szegedy proposed a Batch Normalization (BN) algorithm \\[[14](#References)\\], which normalizes the features of each batch in a layer, and enables relatively stable distribution in each layer. Not only does BN algorithm act as a regularizer, but also eliminates the need for meticulous hyper-parameter design. Experiments demonstrate that BN algorithm accelerates the training convergence and has been widely used in further deeper models.\n",
        "\n",
        "In the following sections, we will take a tour through the following network architectures - VGG, GoogLeNet and ResNets.\n",
        "\n",
        "### VGG\n",
        "\n",
        "The Oxford Visual Geometry Group (VGG) proposed the VGG network in ILSVRC 2014 \\[[11](#References)\\]. This model is deeper and wider than previous neural architectures. Its major part is the five main groups of convolution operations. Adjacent convolution groups are connected via max-pooling layers to perform dimensionality reduction. Each group contains a series of 3x3 convolutional layers (i.e. kernels). The number of convolution kernels stays the same within the single group and increases from 64 in the first group to 512 in the last one. Double FC layers and a classifier layer will follow afterwards. The total number of learnable layers could be 11, 13, 16, or 19 depending on the number of convolutional layers in each group. Figure 6 illustrates a 16-layer VGG. The architecture of VGG is relatively simple and has been adopted by many papers such as the first one that surpassed human-level performance on ImageNet \\[[19](#References)\\].\n",
        "\n",
        "\u003cp align=\"center\"\u003e\n",
        "\u003cimg src=\"https://github.com/PaddlePaddle/book/blob/develop/03.image_classification/image/vgg16.png?raw=true\" width=\"750\" \u003e\u003cbr/\u003e\n",
        "Figure 6. VGG16 model for ImageNet\n",
        "\u003c/p\u003e\n",
        "\n",
        "### GoogLeNet\n",
        "\n",
        "GoogLeNet \\[[12](#References)\\] won the ILSVRC championship in 2014. GoogLeNet borrowed some ideas from the Network in Network(NIN) model \\[[13](#References)\\] and is built on the Inception blocks. Let us first familiarize ourselves with these concepts first.\n",
        "\n",
        "The two main characteristics of the NIN model are:\n",
        "\n",
        "1) A single-layer convolutional network is replaced with a Multi-Layer Perceptron Convolution (MLPconv). MLPconv is a tiny multi-layer convolutional network. It enhances non-linearity by adding several 1x1 convolutional layers after linear ones.\n",
        "\n",
        "2) In traditional CNNs, the last fewer layers are usually fully-connected with a large number of parameters. In contrast, the last convolution layer of NIN contains feature maps of the same size as the category dimension, and  NIN replaces fully-connected layers with global average pooling to fetch a vector of the same size as category dimension and classify them. This replacement of fully-connected layers significantly reduces the number of parameters.\n",
        "\n",
        "Figure 7 depicts two Inception blocks. Figure 7(a) is the simplest design. The output is a concatenation of features from three convolutional layers and one pooling layer. The disadvantage of this design is that the pooling layer does not change the number of channels and leads to an increased channel number of features after concatenation. After several such blocks, the number of channels and parameters become larger and larger and lead to higher computation complexity. To overcome this drawback, the Inception block in Figure 7(b) employs three 1x1 convolutional layers to perform dimensionality reduction, which, to put it simply, is to reduce the number of channels and simultaneously improve the non-linearity of the network.\n",
        "\n",
        "\u003cp align=\"center\"\u003e\n",
        "\u003cimg src=\"https://github.com/PaddlePaddle/book/blob/develop/03.image_classification/image/inception.png?raw=ture\" width=\"800\" \u003e\u003cbr/\u003e\n",
        "Figure 7. Inception block\n",
        "\u003c/p\u003e\n",
        "\n",
        "GoogLeNet comprises multiple stacked Inception blocks followed by an avg-pooling layer as in NIN instead of traditional fully connected layers. The difference between GoogLeNet and NIN is that GoogLeNet adds a fully connected layer after avg-pooling layer to output a vector of category size. Besides these two characteristics, the features from middle layers of a GoogLeNet are also very discriminative. Therefore, GoogeleNet inserts two auxiliary classifiers in the model for enhancing gradient and regularization when doing back-propagation. The loss function of the whole network is the weighted sum of these three classifiers.\n",
        "\n",
        "Figure 8 illustrates the neural architecture of a GoogLeNet which consists of 22 layers: it starts with three regular convolutional layers followed by three groups of sub-networks -- the first group contains two Inception blocks, the second group has five, and the third group has two again. Finally, It ends with an average pooling and a fully-connected layer.\n",
        "\n",
        "\u003cp align=\"center\"\u003e\n",
        "\u003cimg src=\"https://github.com/PaddlePaddle/book/blob/develop/03.image_classification/image/googlenet.jpeg?raw=true\" \u003e\u003cbr/\u003e\n",
        "Figure 8. GoogLeNet \u003ca src=\"#References\"\u003e[12]\u003c/a\u003e\n",
        "\u003c/p\u003e\n",
        "\n",
        "The model above is the first version of GoogLeNet or the so-called GoogelNet-v1. GoogLeNet-v2 \\[[14](#References)\\] introduced BN layer; GoogLeNet-v3 \\[[16](#References)\\] further split some convolutional layers, which increases non-linearity and network depth; GoogelNet-v4 \\[[17](#References)\\] is inspired by the design idea of ResNet which will be introduced in the next section. The evolution from v1 to v4 improved the accuracy rate consistently. The length of this article being limited, we will not scrutinize the neural architectures of v2 to v4.\n",
        "\n",
        "### ResNet\n",
        "\n",
        "Residual Network(ResNet) \\[[15](#References)\\] won the 2015 championship on three ImageNet competitions -- image classification, object localization, and object detection. The main challenge in training deeper networks is that accuracy degrades with network depth. The authors of ResNet proposed a residual learning approach to ease the training of deeper networks. Based on the design ideas of BN, small convolutional kernels, full convolutional network, ResNets reformulate the layers as residual blocks, with each block containing two branches, one directly connecting input to the output, the other performing two to three convolutions and calculating the residual function with reference to the layer's inputs. The output features of these two branches are then added up.\n",
        "\n",
        "Figure 9 illustrates the ResNet architecture. To the left is the basic building block, it consists of two 3x3 convolutional layers with the same size of output channels. To the right is a Bottleneck block. The bottleneck is a 1x1 convolutional layer used to reduce dimension (from 256 to 64 here). The following 1x1 convolutional layer is used to increase dimension from 64 to 256. Thus, the number of input and output channels of the middle 3x3 convolutional layer is relatively small (64-\u003e64 in this example).\n",
        "\n",
        "\u003cp align=\"center\"\u003e\n",
        "\u003cimg src=\"https://github.com/PaddlePaddle/book/blob/develop/03.image_classification/image/resnet_block.jpg?raw=true\" width=\"400\"\u003e\u003cbr/\u003e\n",
        "Figure 9. Residual block\n",
        "\u003c/p\u003e\n",
        "\n",
        "Figure 10 illustrates ResNets with 50, 101, 152 layers, respectively. All three networks use bottleneck blocks and their difference lies in the repetition time of residual blocks. ResNet converges very fast and can be trained with hundreds or thousands of layers.\n",
        "\n",
        "\u003cp align=\"center\"\u003e\n",
        "\u003cimg src=\"https://github.com/PaddlePaddle/book/blob/develop/03.image_classification/image/resnet.png?raw=true\"\u003e\u003cbr/\u003e\n",
        "Figure 10. ResNet model for ImageNet\n",
        "\u003c/p\u003e\n",
        "\n",
        "\n",
        "## Get Data Ready\n",
        "\n",
        "Common public benchmark datasets for image classification are [CIFAR](https://www.cs.toronto.edu/~kriz/cifar.html), [ImageNet](http://image-net.org/), [COCO](http://mscoco.org/), etc. Those used for fine-grained image classification are [CUB-200-2011](http://www.vision.caltech.edu/visipedia/CUB-200-2011.html), [Stanford Dog](http://vision.stanford.edu/aditya86/ImageNetDogs/), [Oxford-flowers](http://www.robots.ox.ac.uk/~vgg/data/flowers/), etc. Among these, the ImageNet dataset is the largest. Most research results are reported on ImageNet as mentioned in the \"Exploration of Models\" section. Since 2010, the ImageNet dataset has gone through some changes. The commonly used ImageNet-2012 dataset contains 1000 categories. There are 1,281,167 training images, ranging from 732 to 1200 images per category, and 50,000 validation images with 50 images per category in average.\n",
        "\n",
        "Since ImageNet is too large to be downloaded and trained efficiently, we use [CIFAR-10](https://www.cs.toronto.edu/~kriz/cifar.html) in this tutorial. The CIFAR-10 dataset consists of 60000 32x32 color images in 10 classes, with 6000 images per class. There are 50000 training images and 10000 test images. Figure 11 shows all the classes in CIFAR-10 as well as 10 images randomly sampled from each category.\n",
        "\n",
        "\u003cp align=\"center\"\u003e\n",
        "\u003cimg src=\"https://github.com/PaddlePaddle/book/blob/develop/03.image_classification/image/cifar.png?raw=true\" width=\"350\"\u003e\u003cbr/\u003e\n",
        "Figure 11. CIFAR10 dataset  \u003ca src=\"#References\"\u003e[21]\u003c/a\u003e\n",
        "\u003c/p\u003e\n",
        "\n",
        "The Paddle API invents 'Paddle.dataset.cifar' to automatically load the Cifar DataSet module.\n",
        "\n",
        "After running the command `python train.py`, training will start immediately. The following sections will explain `train.py` inside and out.\n",
        "\n",
        "## Model Configuration\n",
        "\n",
        "#### Initialize Paddle\n",
        "\n",
        "Let's start with importing the Paddle Fluid API package and the helper modules.\n",
        "\n"
      ]
    },
    {
      "cell_type": "code",
      "metadata": {
        "editable": true
      },
      "source": [
        "\n",
        "from __future__ import print_function\n",
        "import paddle\n",
        "import paddle.fluid as fluid\n",
        "import numpy\n",
        "import sys\n",
        "\n"
      ],
      "outputs": [
        {
          "name": "stdout",
          "output_type": "stream",
          "text": [
            "\n"
          ]
        }
      ],
      "execution_count": 1
    },
    {
      "cell_type": "markdown",
      "metadata": {},
      "source": [
        "\n",
        "Now we are going to walk you through the implementations of the VGG and ResNet.\n",
        "\n",
        "### VGG\n",
        "\n",
        "Let's start with the VGG model. Since the image size and amount of CIFAR10 are smaller than ImageNet, we tailor our model to fit CIFAR10 dataset. Convolution groups incorporate BN and dropout operations.\n",
        "\n",
        "The input to VGG core module is the data layer. `vgg_bn_drop` defines a 16-layer VGG network, with each convolutional layer followed by BN and dropout layers. Here is the definition in detail:\n",
        "\n"
      ]
    },
    {
      "cell_type": "code",
      "metadata": {
        "editable": true
      },
      "source": [
        "def vgg_bn_drop(input):\n",
        "    def conv_block(ipt, num_filter, groups, dropouts):\n",
        "        return fluid.nets.img_conv_group(\n",
        "            input=ipt,\n",
        "            pool_size=2,\n",
        "            pool_stride=2,\n",
        "            conv_num_filter=[num_filter] * groups,\n",
        "            conv_filter_size=3,\n",
        "            conv_act='relu',\n",
        "            conv_with_batchnorm=True,\n",
        "            conv_batchnorm_drop_rate=dropouts,\n",
        "            pool_type='max')\n",
        "\n",
        "    conv1 = conv_block(input, 64, 2, [0.3, 0])\n",
        "    conv2 = conv_block(conv1, 128, 2, [0.4, 0])\n",
        "    conv3 = conv_block(conv2, 256, 3, [0.4, 0.4, 0])\n",
        "    conv4 = conv_block(conv3, 512, 3, [0.4, 0.4, 0])\n",
        "    conv5 = conv_block(conv4, 512, 3, [0.4, 0.4, 0])\n",
        "\n",
        "    drop = fluid.layers.dropout(x=conv5, dropout_prob=0.5)\n",
        "    fc1 = fluid.layers.fc(input=drop, size=512, act=None)\n",
        "    bn = fluid.layers.batch_norm(input=fc1, act='relu')\n",
        "    drop2 = fluid.layers.dropout(x=bn, dropout_prob=0.5)\n",
        "    fc2 = fluid.layers.fc(input=drop2, size=512, act=None)\n",
        "    predict = fluid.layers.fc(input=fc2, size=10, act='softmax')\n",
        "    return predict\n"
      ],
      "outputs": [
        {
          "name": "stdout",
          "output_type": "stream",
          "text": [
            "\n"
          ]
        }
      ],
      "execution_count": 1
    },
    {
      "cell_type": "markdown",
      "metadata": {},
      "source": [
        "\n",
        "\n",
        "  1. Firstly, it defines a convolution block or conv_block. The default convolution kernel is 3x3, and the default pooling size is 2x2 with stride 2. Groups decide the number of consecutive convolution operations in each VGG block. Dropout specifies the probability to perform dropout operation. Function `img_conv_group` is predefined in `paddle.nets` consisting of a series of `Conv-\u003eBN-\u003eReLu-\u003eDropout` and a group of `Pooling` .\n",
        "\n",
        "  2. Five groups of convolutions. The first two groups perform two consecutive convolutions, while the last three groups perform three convolutions in sequence. The dropout rate of the last convolution in each group is set to 0, which means there is no dropout for this layer.\n",
        "\n",
        "  3. The last two layers are fully-connected layers of 512 dimensions.\n",
        "\n",
        "  4. The VGG network begins with extracting high-level features and then maps them to a vector of the same size as the category dimension. Finally, Softmax function is used for calculating the probability of classifying the image to each category.\n",
        "\n",
        "### ResNet\n",
        "\n",
        "The 1st, 3rd, and 4th step is identical to the counterparts in VGG, which are skipped hereby.\n",
        "We will explain the 2nd step at lengths, namely the core module of ResNet on CIFAR10.\n",
        "\n",
        "To start with, here are some basic functions used in `resnet_cifar10` ,and the network connection procedure is illustrated afterwards:\n",
        "\n",
        "  - `conv_bn_layer` : convolutional layer with BN.\n",
        "  - `shortcut` : the shortcut connection in a residual block. There are two kinds of shortcuts: 1x1 convolutions are used to increase dimensionality when in the residual block the number of channels in input feature and that in output feature are different; direct connection used otherwise.\n",
        "  - `basicblock` : a basic residual module as shown in the left of Figure 9, it consists of two sequential 3x3 convolutions and one \"shortcut\" branch.\n",
        "  - `layer_warp` : a group of residual modules consisting of several stacked blocks. In each group, the sliding window size of the first residual block could be different from the rest, in order to reduce the size of feature maps along horizontal and vertical directions.\n",
        "\n"
      ]
    },
    {
      "cell_type": "code",
      "metadata": {
        "editable": true
      },
      "source": [
        "def conv_bn_layer(input,\n",
        "                  ch_out,\n",
        "                  filter_size,\n",
        "                  stride,\n",
        "                  padding,\n",
        "                  act='relu',\n",
        "                  bias_attr=False):\n",
        "    tmp = fluid.layers.conv2d(\n",
        "        input=input,\n",
        "        filter_size=filter_size,\n",
        "        num_filters=ch_out,\n",
        "        stride=stride,\n",
        "        padding=padding,\n",
        "        act=None,\n",
        "        bias_attr=bias_attr)\n",
        "    return fluid.layers.batch_norm(input=tmp, act=act)\n",
        "\n",
        "\n",
        "def shortcut(input, ch_in, ch_out, stride):\n",
        "    if ch_in != ch_out:\n",
        "        return conv_bn_layer(input, ch_out, 1, stride, 0, None)\n",
        "    else:\n",
        "        return input\n",
        "\n",
        "\n",
        "def basicblock(input, ch_in, ch_out, stride):\n",
        "    tmp = conv_bn_layer(input, ch_out, 3, stride, 1)\n",
        "    tmp = conv_bn_layer(tmp, ch_out, 3, 1, 1, act=None, bias_attr=True)\n",
        "    short = shortcut(input, ch_in, ch_out, stride)\n",
        "    return fluid.layers.elementwise_add(x=tmp, y=short, act='relu')\n",
        "\n",
        "\n",
        "def layer_warp(block_func, input, ch_in, ch_out, count, stride):\n",
        "    tmp = block_func(input, ch_in, ch_out, stride)\n",
        "    for i in range(1, count):\n",
        "        tmp = block_func(tmp, ch_out, ch_out, 1)\n",
        "    return tmp\n"
      ],
      "outputs": [
        {
          "name": "stdout",
          "output_type": "stream",
          "text": [
            "\n"
          ]
        }
      ],
      "execution_count": 1
    },
    {
      "cell_type": "markdown",
      "metadata": {},
      "source": [
        "\n",
        "\n",
        "The following are the components of `resnet_cifar10`:\n",
        "\n",
        "1. The lowest level is `conv_bn_layer` , e.t. the convolution layer with BN.\n",
        "2. The next level is composed of three residual blocks, namely three `layer_warp`, each of which uses the left residual block in Figure 10.\n",
        "3. The last level is average pooling layer.\n",
        "\n",
        "Note: Except the first convolutional layer and the last fully-connected layer, the total number of layers with parameters in three `layer_warp` should be dividable by 6. In other words, the depth of `resnet_cifar10` should satisfy (depth-2)%6=0.\n",
        "\n"
      ]
    },
    {
      "cell_type": "code",
      "metadata": {
        "editable": true
      },
      "source": [
        "def resnet_cifar10(ipt, depth=32):\n",
        "    # depth should be one of 20, 32, 44, 56, 110, 1202\n",
        "    assert (depth - 2) % 6 == 0\n",
        "    n = (depth - 2) // 6\n",
        "    nStages = {16, 64, 128}\n",
        "    conv1 = conv_bn_layer(ipt, ch_out=16, filter_size=3, stride=1, padding=1)\n",
        "    res1 = layer_warp(basicblock, conv1, 16, 16, n, 1)\n",
        "    res2 = layer_warp(basicblock, res1, 16, 32, n, 2)\n",
        "    res3 = layer_warp(basicblock, res2, 32, 64, n, 2)\n",
        "    pool = fluid.layers.pool2d(\n",
        "        input=res3, pool_size=8, pool_type='avg', pool_stride=1)\n",
        "    predict = fluid.layers.fc(input=pool, size=10, act='softmax')\n",
        "    return predict\n"
      ],
      "outputs": [
        {
          "name": "stdout",
          "output_type": "stream",
          "text": [
            "\n"
          ]
        }
      ],
      "execution_count": 1
    },
    {
      "cell_type": "markdown",
      "metadata": {},
      "source": [
        "\n",
        "\n",
        "## Inference Program Configuration\n",
        "\n",
        "The input to the network is defined as `fluid.layers.data` , corresponding to image pixels in the context of image classification. The images in CIFAR10 are 32x32 coloured images with three channels. Therefore, the size of the input data is 3072 (3x32x32).\n",
        "\n"
      ]
    },
    {
      "cell_type": "code",
      "metadata": {
        "editable": true
      },
      "source": [
        "def inference_program():\n",
        "    # The image is 32 * 32 with RGB representation.\n",
        "    data_shape = [3, 32, 32]\n",
        "    images = fluid.layers.data(name='pixel', shape=data_shape, dtype='float32')\n",
        "\n",
        "    predict = resnet_cifar10(images, 32)\n",
        "    # predict = vgg_bn_drop(images) # un-comment to use vgg net\n",
        "    return predict\n"
      ],
      "outputs": [
        {
          "name": "stdout",
          "output_type": "stream",
          "text": [
            "\n"
          ]
        }
      ],
      "execution_count": 1
    },
    {
      "cell_type": "markdown",
      "metadata": {},
      "source": [
        "\n",
        "## Training Program Configuration\n",
        "Then we need to set up the the `train_program`. It takes the prediction from the inference_program first.\n",
        "During the training, it will calculate the `avg_loss` from the prediction.\n",
        "\n",
        "In the context of supervised learning, labels of training images are defined in `fluid.layers.data` as well. During training, the multi-class cross-entropy is used as the loss function and becomes the output of the network. During testing, the outputs are the probabilities calculated in the classifier.\n",
        "\n",
        "**NOTE:** A training program should return an array and the first returned argument has to be `avg_cost` .\n",
        "The trainer always uses it to calculate the gradients.\n",
        "\n"
      ]
    },
    {
      "cell_type": "code",
      "metadata": {
        "editable": true
      },
      "source": [
        "def train_program():\n",
        "    predict = inference_program()\n",
        "\n",
        "    label = fluid.layers.data(name='label', shape=[1], dtype='int64')\n",
        "    cost = fluid.layers.cross_entropy(input=predict, label=label)\n",
        "    avg_cost = fluid.layers.mean(cost)\n",
        "    accuracy = fluid.layers.accuracy(input=predict, label=label)\n",
        "    return [avg_cost, accuracy]\n"
      ],
      "outputs": [
        {
          "name": "stdout",
          "output_type": "stream",
          "text": [
            "\n"
          ]
        }
      ],
      "execution_count": 1
    },
    {
      "cell_type": "markdown",
      "metadata": {},
      "source": [
        "\n",
        "## Optimizer Function Configuration\n",
        "\n",
        "In the following `Adam` optimizer, `learning_rate` specifies the learning rate in the optimization procedure. It influences the convergence speed.\n",
        "\n"
      ]
    },
    {
      "cell_type": "code",
      "metadata": {
        "editable": true
      },
      "source": [
        "def optimizer_program():\n",
        "    return fluid.optimizer.Adam(learning_rate=0.001)\n"
      ],
      "outputs": [
        {
          "name": "stdout",
          "output_type": "stream",
          "text": [
            "\n"
          ]
        }
      ],
      "execution_count": 1
    },
    {
      "cell_type": "markdown",
      "metadata": {},
      "source": [
        "\n",
        "## Model Training\n",
        "\n",
        "\n",
        "### Data Feeders Configuration\n",
        "\n",
        "`cifar.train10()` generates one sample at a time as the input for training after completing shuffle and batch.\n",
        "\n"
      ]
    },
    {
      "cell_type": "code",
      "metadata": {
        "editable": true
      },
      "source": [
        "# Each batch will yield 128 images\n",
        "BATCH_SIZE = 128\n",
        "\n",
        "# Reader for training\n",
        "train_reader = paddle.batch(\n",
        "    paddle.reader.shuffle(paddle.dataset.cifar.train10(), buf_size=50000),\n",
        "    batch_size=BATCH_SIZE)\n",
        "\n",
        "# Reader for testing. A separated data set for testing.\n",
        "test_reader = paddle.batch(\n",
        "    paddle.dataset.cifar.test10(), batch_size=BATCH_SIZE)\n"
      ],
      "outputs": [
        {
          "name": "stdout",
          "output_type": "stream",
          "text": [
            "\n"
          ]
        }
      ],
      "execution_count": 1
    },
    {
      "cell_type": "markdown",
      "metadata": {},
      "source": [
        "\n",
        "\n",
        "### Implementation of the trainer program\n",
        "We need to develop a main_program for the training process. Similarly, we need to configure a test_program for the test program. It's also necessary to define the `place` of the training and use the optimizer `optimizer_program` previously defined .\n",
        "\n",
        "\n",
        "\n"
      ]
    },
    {
      "cell_type": "code",
      "metadata": {
        "editable": true
      },
      "source": [
        "use_cuda = False\n",
        "place = fluid.CUDAPlace(0) if use_cuda else fluid.CPUPlace()\n",
        "\n",
        "feed_order = ['pixel', 'label']\n",
        "\n",
        "main_program = fluid.default_main_program()\n",
        "star_program = fluid.default_startup_program()\n",
        "\n",
        "avg_cost, acc = train_program()\n",
        "\n",
        "# Test program\n",
        "test_program = main_program.clone(for_test=True)\n",
        "\n",
        "optimizer = optimizer_program()\n",
        "optimizer.minimize(avg_cost)\n",
        "\n",
        "exe = fluid.Executor(place)\n",
        "\n",
        "EPOCH_NUM = 2\n",
        "\n",
        "# For training test cost\n",
        "def train_test(program, reader):\n",
        "    count = 0\n",
        "    feed_var_list = [\n",
        "        program.global_block().var(var_name) for var_name in feed_order\n",
        "    ]\n",
        "    feeder_test = fluid.DataFeeder(\n",
        "        feed_list=feed_var_list, place=place)\n",
        "    test_exe = fluid.Executor(place)\n",
        "    accumulated = len([avg_cost, acc]) * [0]\n",
        "    for tid, test_data in enumerate(reader()):\n",
        "        avg_cost_np = test_exe.run(program=program,\n",
        "                                   feed=feeder_test.feed(test_data),\n",
        "                                   fetch_list=[avg_cost, acc])\n",
        "        accumulated = [x[0] + x[1][0] for x in zip(accumulated, avg_cost_np)]\n",
        "        count += 1\n",
        "    return [x / count for x in accumulated]\n"
      ],
      "outputs": [
        {
          "name": "stdout",
          "output_type": "stream",
          "text": [
            "\n"
          ]
        }
      ],
      "execution_count": 1
    },
    {
      "cell_type": "markdown",
      "metadata": {},
      "source": [
        "\n",
        "### The main loop of training and the outputs along the process\n",
        "\n",
        "In the next main training cycle, we will observe the training process or run test in good use of the outputs.\n",
        "\n",
        "You can also use `plot` to plot the process by calling back data:\n",
        "\n",
        "\n"
      ]
    },
    {
      "cell_type": "code",
      "metadata": {
        "editable": true
      },
      "source": [
        "params_dirname = \"image_classification_resnet.inference.model\"\n",
        "\n",
        "from paddle.utils.plot import Ploter\n",
        "\n",
        "train_prompt = \"Train cost\"\n",
        "test_prompt = \"Test cost\"\n",
        "plot_cost = Ploter(test_prompt,train_prompt)\n",
        "\n",
        "# main train loop.\n",
        "def train_loop():\n",
        "    feed_var_list_loop = [\n",
        "        main_program.global_block().var(var_name) for var_name in feed_order\n",
        "    ]\n",
        "    feeder = fluid.DataFeeder(\n",
        "        feed_list=feed_var_list_loop, place=place)\n",
        "    exe.run(star_program)\n",
        "\n",
        "    step = 0\n",
        "    for pass_id in range(EPOCH_NUM):\n",
        "        for step_id, data_train in enumerate(train_reader()):\n",
        "            avg_loss_value = exe.run(main_program,\n",
        "                                     feed=feeder.feed(data_train),\n",
        "                                     fetch_list=[avg_cost, acc])\n",
        "            if step % 1 == 0:\n",
        "                plot_cost.append(train_prompt, step, avg_loss_value[0])\n",
        "                plot_cost.plot()\n",
        "            step += 1\n",
        "\n",
        "        avg_cost_test, accuracy_test = train_test(test_program,\n",
        "                                                  reader=test_reader)\n",
        "        plot_cost.append(test_prompt, step, avg_cost_test)\n",
        "\n",
        "        # save parameters\n",
        "        if params_dirname is not None:\n",
        "            fluid.io.save_inference_model(params_dirname, [\"pixel\"],\n",
        "                                          [predict], exe)\n"
      ],
      "outputs": [
        {
          "name": "stdout",
          "output_type": "stream",
          "text": [
            "\n"
          ]
        }
      ],
      "execution_count": 1
    },
    {
      "cell_type": "markdown",
      "metadata": {},
      "source": [
        "\n",
        "### Training\n",
        "\n",
        "Training via `trainer_loop` function, here we only have 2 Epoch iterations. Generally we need to execute above a hundred Epoch in practice.\n",
        "\n",
        "**Note:** On CPU, each Epoch will take approximately 15 to 20 minutes. It may cost some time in this part. Please freely update the code and run test on GPU to accelerate training\n",
        "\n"
      ]
    },
    {
      "cell_type": "code",
      "metadata": {
        "editable": true
      },
      "source": [
        "train_loop()\n"
      ],
      "outputs": [
        {
          "name": "stdout",
          "output_type": "stream",
          "text": [
            "\n"
          ]
        }
      ],
      "execution_count": 1
    },
    {
      "cell_type": "markdown",
      "metadata": {},
      "source": [
        "\n",
        "An example of an epoch of training log is shown below. After 1 pass, the average Accuracy on the training set is 0.59 and the average Accuracy on the testing set is 0.6.\n",
        "\n",
        "```text\n",
        "Pass 0, Batch 0, Cost 3.869598, Acc 0.164062\n",
        "...................................................................................................\n",
        "Pass 100, Batch 0, Cost 1.481038, Acc 0.460938\n",
        "...................................................................................................\n",
        "Pass 200, Batch 0, Cost 1.340323, Acc 0.523438\n",
        "...................................................................................................\n",
        "Pass 300, Batch 0, Cost 1.223424, Acc 0.593750\n",
        "..........................................................................................\n",
        "Test with Pass 0, Loss 1.1, Acc 0.6\n",
        "```\n",
        "\n",
        "Figure 13 is a curve graph of the classification error rate of the training. After pass of 200 times, it almost converges, and finally the classification error rate on the test set is 8.54%.\n",
        "\n",
        "\u003cp align=\"center\"\u003e\n",
        "\u003cimg src=\"https://github.com/PaddlePaddle/book/blob/develop/03.image_classification/image/plot.png?raw=true\" width=\"400\" \u003e\u003cbr/\u003e\n",
        "Figure 13. Classification error rate of VGG model on the CIFAR10 data set\n",
        "\u003c/p\u003e\n",
        "\n",
        "## Model Application\n",
        "\n",
        "You can use a trained model to classify your images. The following program shows how to load a trained network and optimized parameters for inference.\n",
        "\n",
        "### Generate Input Data to infer\n",
        "\n",
        "`dog.png` is a picture of a puppy. We convert it to a `numpy` array to meet the `feeder` format.\n",
        "\n"
      ]
    },
    {
      "cell_type": "code",
      "metadata": {
        "editable": true
      },
      "source": [
        "# Prepare testing data.\n",
        "from PIL import Image\n",
        "import os\n",
        "\n",
        "def load_image(file):\n",
        "    im = Image.open(file)\n",
        "    im = im.resize((32, 32), Image.ANTIALIAS)\n",
        "\n",
        "    im = numpy.array(im).astype(numpy.float32)\n",
        "    # The storage order of the loaded image is W(width),\n",
        "    # H(height), C(channel). PaddlePaddle requires\n",
        "    # the CHW order, so transpose them.\n",
        "    im = im.transpose((2, 0, 1))  # CHW\n",
        "    im = im / 255.0\n",
        "\n",
        "    # Add one dimension to mimic the list format.\n",
        "    im = numpy.expand_dims(im, axis=0)\n",
        "    return im\n",
        "\n",
        "cur_dir = os.getcwd()\n",
        "img = load_image(cur_dir + '/image/dog.png')\n"
      ],
      "outputs": [
        {
          "name": "stdout",
          "output_type": "stream",
          "text": [
            "\n"
          ]
        }
      ],
      "execution_count": 1
    },
    {
      "cell_type": "markdown",
      "metadata": {},
      "source": [
        "\n",
        "### Inferencer Configuration and Inference\n",
        "\n",
        "Similar to the training process, a inferencer needs to build the corresponding process. We load the trained network and parameters from `params_dirname` .\n",
        "We can just insert the inference program defined previously.\n",
        "Now let's make our inference.\n",
        "\n",
        "\n",
        "\n"
      ]
    },
    {
      "cell_type": "code",
      "metadata": {
        "editable": true
      },
      "source": [
        "place = fluid.CUDAPlace(0) if use_cuda else fluid.CPUPlace()\n",
        "exe = fluid.Executor(place)\n",
        "inference_scope = fluid.core.Scope()\n",
        "\n",
        "with fluid.scope_guard(inference_scope):\n",
        "\n",
        "    [inference_program, feed_target_names,\n",
        "     fetch_targets] = fluid.io.load_inference_model(params_dirname, exe)\n",
        "\n",
        "\n",
        "\n",
        "        # Construct feed as a dictionary of {feed_target_name: feed_target_data}\n",
        "        # and results will contain a list of data corresponding to fetch_targets.\n",
        "    results = exe.run(inference_program,\n",
        "                      feed={feed_target_names[0]: img},\n",
        "                      fetch_list=fetch_targets)\n",
        "\n",
        "\n",
        "\n",
        "    # infer label\n",
        "    label_list = [\n",
        "        \"airplane\", \"automobile\", \"bird\", \"cat\", \"deer\", \"dog\", \"frog\", \"horse\",\n",
        "        \"ship\", \"truck\"\n",
        "    ]\n",
        "\n",
        "    print(\"infer results: %s\" % label_list[numpy.argmax(results[0])])\n"
      ],
      "outputs": [
        {
          "name": "stdout",
          "output_type": "stream",
          "text": [
            "\n"
          ]
        }
      ],
      "execution_count": 1
    },
    {
      "cell_type": "markdown",
      "metadata": {},
      "source": [
        "\n",
        "\n",
        "\n",
        "## Summary\n",
        "\n",
        "The traditional image classification method consists of multiple stages. The framework is a little complex. In contrast, the end-to-end CNN model can be implemented in one step, and the accuracy of classification is greatly improved. In this article, we first introduced three classic models, VGG, GoogLeNet and ResNet. Then we have introduced how to use PaddlePaddle to configure and train CNN models based on CIFAR10 dataset, especially VGG and ResNet models. Finally, we have guided you how to use PaddlePaddle's API interfaces to predict images and extract features. For other datasets such as ImageNet, the configuration and training process is the same, so you can embark on your adventure on your own.\n",
        "\n",
        "\u003ca name=\"References\"\u003e\u003c/a\u003e\n",
        "## References\n",
        "\n",
        "[1] D. G. Lowe, [Distinctive image features from scale-invariant keypoints](http://www.cs.ubc.ca/~lowe/papers/ijcv04.pdf). IJCV, 60(2):91-110, 2004.\n",
        "\n",
        "[2] N. Dalal, B. Triggs, [Histograms of Oriented Gradients for Human Detection](http://vision.stanford.edu/teaching/cs231b_spring1213/papers/CVPR05_DalalTriggs.pdf), Proc. IEEE Conf. Computer Vision and Pattern Recognition, 2005.\n",
        "\n",
        "[3] Ahonen, T., Hadid, A., and Pietikinen, M. (2006). [Face description with local binary patterns: Application to face recognition](http://ieeexplore.ieee.org/document/1717463/). PAMI, 28.\n",
        "\n",
        "[4] J. Sivic, A. Zisserman, [Video Google: A Text Retrieval Approach to Object Matching in Videos](http://www.robots.ox.ac.uk/~vgg/publications/papers/sivic03.pdf), Proc. Ninth Int'l Conf. Computer Vision, pp. 1470-1478, 2003.\n",
        "\n",
        "[5] B. Olshausen, D. Field, [Sparse Coding with an Overcomplete Basis Set: A Strategy Employed by V1?](http://redwood.psych.cornell.edu/papers/olshausen_field_1997.pdf), Vision Research, vol. 37, pp. 3311-3325, 1997.\n",
        "\n",
        "[6] Wang, J., Yang, J., Yu, K., Lv, F., Huang, T., and Gong, Y. (2010). [Locality-constrained Linear Coding for image classification](http://ieeexplore.ieee.org/abstract/document/5540018/). In CVPR.\n",
        "\n",
        "[7] Perronnin, F., Sánchez, J., \u0026 Mensink, T. (2010). [Improving the fisher kernel for large-scale image classification](http://dl.acm.org/citation.cfm?id=1888101). In ECCV (4).\n",
        "\n",
        "[8] Lin, Y., Lv, F., Cao, L., Zhu, S., Yang, M., Cour, T., Yu, K., and Huang, T. (2011). [Large-scale image clas- sification: Fast feature extraction and SVM training](http://ieeexplore.ieee.org/document/5995477/). In CVPR.\n",
        "\n",
        "[9] Krizhevsky, A., Sutskever, I., and Hinton, G. (2012). [ImageNet classification with deep convolutional neu- ral networks](http://www.cs.toronto.edu/~kriz/imagenet_classification_with_deep_convolutional.pdf). In NIPS.\n",
        "\n",
        "[10] G.E. Hinton, N. Srivastava, A. Krizhevsky, I. Sutskever, and R.R. Salakhutdinov. [Improving neural networks by preventing co-adaptation of feature detectors](https://arxiv.org/abs/1207.0580). arXiv preprint arXiv:1207.0580, 2012.\n",
        "\n",
        "[11] K. Chatfield, K. Simonyan, A. Vedaldi, A. Zisserman. [Return of the Devil in the Details: Delving Deep into Convolutional Nets](https://arxiv.org/abs/1405.3531). BMVC, 2014。\n",
        "\n",
        "[12] Szegedy, C., Liu, W., Jia, Y., Sermanet, P., Reed, S., Anguelov, D., Erhan, D., Vanhoucke, V., Rabinovich, A., [Going deeper with convolutions](https://arxiv.org/abs/1409.4842). In: CVPR. (2015)\n",
        "\n",
        "[13] Lin, M., Chen, Q., and Yan, S. [Network in network](https://arxiv.org/abs/1312.4400). In Proc. ICLR, 2014.\n",
        "\n",
        "[14] S. Ioffe and C. Szegedy. [Batch normalization: Accelerating deep network training by reducing internal covariate shift](https://arxiv.org/abs/1502.03167). In ICML, 2015.\n",
        "\n",
        "[15] K. He, X. Zhang, S. Ren, J. Sun. [Deep Residual Learning for Image Recognition](https://arxiv.org/abs/1512.03385). CVPR 2016.\n",
        "\n",
        "[16] Szegedy, C., Vanhoucke, V., Ioffe, S., Shlens, J., Wojna, Z. [Rethinking the incep-tion architecture for computer vision](https://arxiv.org/abs/1512.00567). In: CVPR. (2016).\n",
        "\n",
        "[17] Szegedy, C., Ioffe, S., Vanhoucke, V. [Inception-v4, inception-resnet and the impact of residual connections on learning](https://arxiv.org/abs/1602.07261). arXiv:1602.07261 (2016).\n",
        "\n",
        "[18] Everingham, M., Eslami, S. M. A., Van Gool, L., Williams, C. K. I., Winn, J. and Zisserman, A. [The Pascal Visual Object Classes Challenge: A Retrospective](http://link.springer.com/article/10.1007/s11263-014-0733-5). International Journal of Computer Vision, 111(1), 98-136, 2015.\n",
        "\n",
        "[19] He, K., Zhang, X., Ren, S., and Sun, J. [Delving Deep into Rectifiers: Surpassing Human-Level Performance on ImageNet Classification](https://arxiv.org/abs/1502.01852). ArXiv e-prints, February 2015.\n",
        "\n",
        "[20] http://deeplearning.net/tutorial/lenet.html\n",
        "\n",
        "[21] https://www.cs.toronto.edu/~kriz/cifar.html\n",
        "\n",
        "[22] http://cs231n.github.io/classification/\n",
        "\n",
        "\n",
        "\n",
        "\u003cbr/\u003e\n",
        "\u003ca rel=\"license\" href=\"http://creativecommons.org/licenses/by-sa/4.0/\"\u003e\u003cimg alt=\"知识共享许可协议\" style=\"border-width:0\" src=\"https://paddlepaddleimage.cdn.bcebos.com/bookimage/camo.png\" /\u003e\u003c/a\u003e\u003cbr /\u003e\u003cspan xmlns:dct=\"http://purl.org/dc/terms/\" href=\"http://purl.org/dc/dcmitype/Text\" property=\"dct:title\" rel=\"dct:type\"\u003eThis tutorial\u003c/span\u003e is contributed by \u003ca xmlns:cc=\"http://creativecommons.org/ns#\" href=\"http://book.paddlepaddle.org\" property=\"cc:attributionName\" rel=\"cc:attributionURL\"\u003ePaddlePaddle\u003c/a\u003e, and licensed under a \u003ca rel=\"license\" href=\"http://creativecommons.org/licenses/by-sa/4.0/\"\u003eCreative Commons Attribution-ShareAlike 4.0 International License\u003c/a\u003e.\n"
      ]
    }
  ],
  "metadata": {
    "kernelspec": {
      "display_name": "Python 3",
      "language": "python",
      "name": "python3"
    },
    "language_info": {
      "codemirror_mode": {
        "name": "ipython",
        "version": 3
      },
      "file_extension": ".py",
      "mimetype": "text/x-python",
      "name": "python",
      "nbconvert_exporter": "python",
      "pygments_lexer": "ipython3",
      "version": "3.6.0"
    }
  },
  "nbformat": 4,
  "nbformat_minor": 0
}
